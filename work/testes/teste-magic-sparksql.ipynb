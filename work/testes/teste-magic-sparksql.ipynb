{
 "cells": [
  {
   "cell_type": "markdown",
   "id": "2b8a3309-e68f-4043-9886-a62859258384",
   "metadata": {},
   "source": [
    "# Testanto os comandos Magic para Spark SQL\n",
    "\n",
    "Utilizando %sparksql para instruções em uma linha ou %%sparksql quando deseja-se utilizar mais linhas"
   ]
  },
  {
   "cell_type": "markdown",
   "id": "c24d5af4-b7c0-4370-8533-02a2fdcf3f6f",
   "metadata": {},
   "source": [
    "Seria necessário carregar a extensão do jupyter_sql_editor (se eu já não tivesse configurado no ipython_config.py)"
   ]
  },
  {
   "cell_type": "code",
   "execution_count": 1,
   "id": "0a063a1f-4418-42e8-98a8-f98bb5696b10",
   "metadata": {
    "tags": []
   },
   "outputs": [],
   "source": [
    "%load_ext jupyterlab_sql_editor.ipython_magic.sparksql"
   ]
  },
  {
   "cell_type": "markdown",
   "id": "06725871-2b7f-403f-86eb-d19b82163695",
   "metadata": {
    "tags": []
   },
   "source": [
    "Também é necessário criar uma spark session, chamada 'spark'\n",
    "para o comando %sparksql utilizá-la"
   ]
  },
  {
   "cell_type": "code",
   "execution_count": 1,
   "id": "a59c3536-b7d2-4c80-95c7-c280157ac75c",
   "metadata": {
    "tags": []
   },
   "outputs": [
    {
     "name": "stderr",
     "output_type": "stream",
     "text": [
      "Setting default log level to \"WARN\".\n",
      "To adjust logging level use sc.setLogLevel(newLevel). For SparkR, use setLogLevel(newLevel).\n"
     ]
    },
    {
     "name": "stdout",
     "output_type": "stream",
     "text": [
      "23/06/03 22:04:28 WARN NativeCodeLoader: Unable to load native-hadoop library for your platform... using builtin-java classes where applicable\n"
     ]
    },
    {
     "data": {
      "text/html": [
       "\n",
       "            <div>\n",
       "                <p><b>SparkSession - hive</b></p>\n",
       "                \n",
       "        <div>\n",
       "            <p><b>SparkContext</b></p>\n",
       "\n",
       "            <p><a href=\"http://4a58e4c4a878:4040\">Spark UI</a></p>\n",
       "\n",
       "            <dl>\n",
       "              <dt>Version</dt>\n",
       "                <dd><code>v3.3.2</code></dd>\n",
       "              <dt>Master</dt>\n",
       "                <dd><code>spark://spark-master:7077</code></dd>\n",
       "              <dt>AppName</dt>\n",
       "                <dd><code>Testando Spark SQL</code></dd>\n",
       "            </dl>\n",
       "        </div>\n",
       "        \n",
       "            </div>\n",
       "        "
      ],
      "text/plain": [
       "<pyspark.sql.session.SparkSession at 0x7f9c53367eb0>"
      ]
     },
     "execution_count": 1,
     "metadata": {},
     "output_type": "execute_result"
    }
   ],
   "source": [
    "from pyspark.sql import SparkSession\n",
    "from pyspark.sql.types import *\n",
    "\n",
    "if 'spark' in locals() or 'spark' in globals():\n",
    "    spark.stop()\n",
    "    \n",
    "spark = SparkSession\\\n",
    "    .builder\\\n",
    "    .appName(\"Testando Spark SQL\")\\\n",
    "    .getOrCreate()\n",
    "\n",
    "spark.sparkContext.setLogLevel(\"ERROR\")\n",
    "\n",
    "spark"
   ]
  },
  {
   "cell_type": "code",
   "execution_count": 2,
   "id": "7214d297-c417-4fc4-87ad-c191356ab803",
   "metadata": {
    "tags": []
   },
   "outputs": [
    {
     "name": "stderr",
     "output_type": "stream",
     "text": [
      "Hive Session ID = 9b655e70-e6a9-4066-9873-4e28937d0b69\n"
     ]
    },
    {
     "data": {
      "application/vnd.jupyter.widget-view+json": {
       "model_id": "786b714db78245c4bec0dce30a02221b",
       "version_major": 2,
       "version_minor": 0
      },
      "text/plain": [
       "SparkSchemaWidget(nodes=(Node(close_icon='angle-down', close_icon_style='danger', icon='project-diagram', icon…"
      ]
     },
     "metadata": {},
     "output_type": "display_data"
    },
    {
     "data": {
      "application/vnd.jupyter.widget-view+json": {
       "model_id": "2043210481b3498dbc5592d8f9ca9017",
       "version_major": 2,
       "version_minor": 0
      },
      "text/plain": [
       "Output()"
      ]
     },
     "metadata": {},
     "output_type": "display_data"
    },
    {
     "data": {
      "text/html": [
       "<table border='1'>\n",
       "<tr><th>namespace</th><th>tableName</th><th>isTemporary</th></tr>\n",
       "<tr><td>default</td><td>append_test_table</td><td>false</td></tr>\n",
       "<tr><td>default</td><td>exemplo</td><td>false</td></tr>\n",
       "<tr><td>default</td><td>table_stream</td><td>false</td></tr>\n",
       "<tr><td>default</td><td>tb_sales_final</td><td>false</td></tr>\n",
       "<tr><td>default</td><td>tb_sales_test</td><td>false</td></tr>\n",
       "</table>\n"
      ],
      "text/plain": [
       "<IPython.core.display.HTML object>"
      ]
     },
     "metadata": {},
     "output_type": "display_data"
    },
    {
     "data": {
      "text/plain": [
       "Execution time: 2.68 seconds"
      ]
     },
     "metadata": {},
     "output_type": "display_data"
    }
   ],
   "source": [
    "%sparksql SHOW TABLES IN default"
   ]
  },
  {
   "cell_type": "code",
   "execution_count": 3,
   "id": "1e2cce93-f105-41da-902a-5a8d6202ce1e",
   "metadata": {
    "tags": []
   },
   "outputs": [
    {
     "data": {
      "application/vnd.jupyter.widget-view+json": {
       "model_id": "123c71306a0147ba8bf4ef7586f6c5cf",
       "version_major": 2,
       "version_minor": 0
      },
      "text/plain": [
       "SparkSchemaWidget(nodes=(Node(close_icon='angle-down', close_icon_style='danger', icon='project-diagram', icon…"
      ]
     },
     "metadata": {},
     "output_type": "display_data"
    },
    {
     "data": {
      "application/vnd.jupyter.widget-view+json": {
       "model_id": "560b9027cf7d4f4680031708acc7befb",
       "version_major": 2,
       "version_minor": 0
      },
      "text/plain": [
       "Output()"
      ]
     },
     "metadata": {},
     "output_type": "display_data"
    },
    {
     "data": {
      "text/html": [
       "<table border='1'>\n",
       "<tr><th>Row ID</th><th>Order ID</th><th>Order Date</th><th>Ship Date</th><th>Ship Mode</th><th>Customer ID</th><th>Customer Name</th><th>Segment</th><th>Country</th><th>City</th><th>State</th><th>Postal Code</th><th>Region</th><th>Product ID</th><th>Category</th><th>Sub-Category</th><th>Product Name</th><th>Sales</th><th>Quantity</th><th>Discount</th><th>Profit</th><th>Year</th></tr>\n",
       "<tr><td>1</td><td>CA-2016-152156</td><td>2016-11-08</td><td>11/11/2016</td><td>Second Class</td><td>CG-12520</td><td>Claire Gute</td><td>Consumer</td><td>United States</td><td>Henderson</td><td>Kentucky</td><td>42420</td><td>South</td><td>FUR-BO-10001798</td><td>Furniture</td><td>Bookcases</td><td>Bush Somerset Collection Bookcase</td><td>261.96</td><td>2</td><td>0.0</td><td>41.9136</td><td>2016</td></tr>\n",
       "<tr><td>2</td><td>CA-2016-152156</td><td>2016-11-08</td><td>11/11/2016</td><td>Second Class</td><td>CG-12520</td><td>Claire Gute</td><td>Consumer</td><td>United States</td><td>Henderson</td><td>Kentucky</td><td>42420</td><td>South</td><td>FUR-CH-10000454</td><td>Furniture</td><td>Chairs</td><td>Hon Deluxe Fabric Upholstered Stacking Chairs, Rounded Back</td><td>731.94</td><td>3</td><td>0.0</td><td>219.582</td><td>2016</td></tr>\n",
       "<tr><td>3</td><td>CA-2016-138688</td><td>2016-06-12</td><td>6/16/2016</td><td>Second Class</td><td>DV-13045</td><td>Darrin Van Huff</td><td>Corporate</td><td>United States</td><td>Los Angeles</td><td>California</td><td>90036</td><td>West</td><td>OFF-LA-10000240</td><td>Office Supplies</td><td>Labels</td><td>Self-Adhesive Address Labels for Typewriters by Universal</td><td>14.62</td><td>2</td><td>0.0</td><td>6.8714</td><td>2016</td></tr>\n",
       "<tr><td>14</td><td>CA-2016-161389</td><td>2016-12-05</td><td>12/10/2016</td><td>Standard Class</td><td>IM-15070</td><td>Irene Maddox</td><td>Consumer</td><td>United States</td><td>Seattle</td><td>Washington</td><td>98103</td><td>West</td><td>OFF-BI-10003656</td><td>Office Supplies</td><td>Binders</td><td>Fellowes PB200 Plastic Comb Binding Machine</td><td>407.976</td><td>3</td><td>0.2</td><td>132.5922</td><td>2016</td></tr>\n",
       "<tr><td>22</td><td>CA-2016-137330</td><td>2016-12-09</td><td>12/13/2016</td><td>Standard Class</td><td>KB-16585</td><td>Ken Black</td><td>Corporate</td><td>United States</td><td>Fremont</td><td>Nebraska</td><td>68025</td><td>Central</td><td>OFF-AR-10000246</td><td>Office Supplies</td><td>Art</td><td>Newell 318</td><td>19.46</td><td>7</td><td>0.0</td><td>5.0596</td><td>2016</td></tr>\n",
       "</table>\n"
      ],
      "text/plain": [
       "<IPython.core.display.HTML object>"
      ]
     },
     "metadata": {},
     "output_type": "display_data"
    },
    {
     "data": {
      "text/plain": [
       "Execution time: 5.01 seconds"
      ]
     },
     "metadata": {},
     "output_type": "display_data"
    }
   ],
   "source": [
    "%%sparksql\n",
    "\n",
    "SELECT * \n",
    "FROM tb_sales_final\n",
    "LIMIT 5"
   ]
  },
  {
   "cell_type": "code",
   "execution_count": 4,
   "id": "e1f35a3b-ce06-43d7-951b-023590ee3b83",
   "metadata": {
    "tags": []
   },
   "outputs": [],
   "source": [
    "spark.stop()"
   ]
  }
 ],
 "metadata": {
  "kernelspec": {
   "display_name": "Python 3 (ipykernel)",
   "language": "python",
   "name": "python3"
  },
  "language_info": {
   "codemirror_mode": {
    "name": "ipython",
    "version": 3
   },
   "file_extension": ".py",
   "mimetype": "text/x-python",
   "name": "python",
   "nbconvert_exporter": "python",
   "pygments_lexer": "ipython3",
   "version": "3.10.6"
  }
 },
 "nbformat": 4,
 "nbformat_minor": 5
}
