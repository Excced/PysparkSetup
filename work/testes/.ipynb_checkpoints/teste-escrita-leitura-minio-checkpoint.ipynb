{
 "cells": [
  {
   "cell_type": "markdown",
   "id": "182d4aa5-6667-4b08-99b2-72a76ff40ba4",
   "metadata": {},
   "source": [
    "# MinIO\n",
    "\n",
    "MinIO é um sistema de Object Storage compatível com o S3. Em nossa arquitetura ele é disponibilizado de forma não-distribuida então funcionalidade que garantem alta disponibilidade, armazenamento redundante não estão disponíveis.\n",
    "\n",
    "MinIO pode ser utilizado com uma CLI (não disponível em nossa arquitetura) e através de uma [web-ui](http://localhost:9090/login)\n",
    "\n",
    "### Credenciais\n",
    "- User: admin\n",
    "- Password: password\n"
   ]
  },
  {
   "cell_type": "markdown",
   "id": "dbd2f898-0f61-48d7-8456-8523804adc4e",
   "metadata": {},
   "source": [
    "### Criando buckets\n",
    "\n",
    "Para o PySpark conseguir armazenar MANAGED TABLES é necessário criar um bucket para armazenar os dados das tabelas.\n",
    "No arquivo spark-defaults.conf, localizado no diretório $SPARK_HOME/conf/ estão algumas configurações padrões. \n",
    "\n",
    "Entre elas temos \n",
    "> spark.sql.warehouse.dir s3a://warehouse/\n",
    "\n",
    "Esse bucket não vem criado por padrão então é necessário criá-lo seguindo as instruções:\n",
    "\n",
    "- Acesse a [web-ui](http://localhost:9090/login) (usuario: _admin_ | senha: _password_)\n",
    "- Na barra lateral esquerda clique no botão _Buckets_\n",
    "- No lado direito clique em _Create Bucket +_\n",
    "- Defina o nome do bucket como _warehouse_ e em seguida em _Create Bucket_\n",
    "\n",
    "Repita as instruções para criar quantos bucket quiser.\n",
    "\n",
    "### Explorando buckets\n",
    "\n",
    "- Clique em _Object Browser_, você conseguirá acessar os buckets que foram criados e os prefixos/objetos.\n",
    "- Uma vez em um bucket é possivel também criar novos prefixos/subpastas clicando em _Create new path_"
   ]
  },
  {
   "cell_type": "markdown",
   "id": "448aea1f-ab3b-4daf-b21d-1984c2b85352",
   "metadata": {
    "tags": []
   },
   "source": [
    "# Experimento :: Leitura e escrita no MinIO com PySpark\n",
    "\n",
    "- Vamos utilizar um dataset do Kaggle [Data Science Salaries 2023](https://www.kaggle.com/datasets/arnabchaki/data-science-salaries-2023). Baixe, descompacte e reserve o ds_salaries.csv\n",
    "\n",
    "- Crie um bucket no MinIO chamado _my-bucket_ com os sub-paths _input_, _input/salaries_ e _output_\n",
    "\n",
    "> s3a://my-bucket/\n",
    "\n",
    "> s3a://my-bucket/input/\n",
    "\n",
    "> s3a://my-bucket/input/salaries\n",
    "\n",
    "> s3a://my-bucket/output\n",
    "\n",
    "Utilize o Object Brower para acessar o path _input/salaries_ e clique em Upload File e selecione o _ds_salaries.csv_"
   ]
  },
  {
   "cell_type": "markdown",
   "id": "1f9429c3-414e-4d3d-8d87-9ec2fb51b757",
   "metadata": {},
   "source": [
    "## Criação de Spark Session\n",
    "\n",
    "Configurações disponíveis no $SPARK_HOME/conf/spark-defaults.config"
   ]
  },
  {
   "cell_type": "code",
   "execution_count": 18,
   "id": "a5790b82-416c-4b4d-9c25-ba72864c560f",
   "metadata": {
    "collapsed": true,
    "jupyter": {
     "outputs_hidden": true
    },
    "tags": []
   },
   "outputs": [
    {
     "name": "stdout",
     "output_type": "stream",
     "text": [
      "# Licensed to the Apache Software Foundation (ASF) under one or more\n",
      "# contributor license agreements.  See the NOTICE file distributed with\n",
      "# this work for additional information regarding copyright ownership.\n",
      "# The ASF licenses this file to You under the Apache License, Version 2.0\n",
      "# (the \"License\"); you may not use this file except in compliance with\n",
      "# the License.  You may obtain a copy of the License at\n",
      "#\n",
      "#    http://www.apache.org/licenses/LICENSE-2.0\n",
      "#\n",
      "# Unless required by applicable law or agreed to in writing, software\n",
      "# distributed under the License is distributed on an \"AS IS\" BASIS,\n",
      "# WITHOUT WARRANTIES OR CONDITIONS OF ANY KIND, either express or implied.\n",
      "# See the License for the specific language governing permissions and\n",
      "# limitations under the License.\n",
      "#\n",
      "\n",
      "# Default system properties included when running spark-submit.\n",
      "# This is useful for setting default environmental settings.\n",
      "\n",
      "# Example:\n",
      "# spark.master                     spark://master:7077\n",
      "# spark.eventLog.enabled           true\n",
      "# spark.eventLog.dir               hdfs://namenode:8021/directory\n",
      "# spark.serializer                 org.apache.spark.serializer.KryoSerializer\n",
      "# spark.driver.memory              5g\n",
      "# spark.executor.extraJavaOptions  -XX:+PrintGCDetails -Dkey=value -Dnumbers=\"one two three\"\n",
      "\n",
      "# Configurações relativas ao MinIO e S3\n",
      "spark.hadoop.fs.s3a.endpoint                                   http://minio:9000\n",
      "spark.hadoop.fs.s3a.access.key                                 admin\n",
      "spark.hadoop.fs.s3a.secret.key                                 password\n",
      "spark.hadoop.fs.s3a.fast.upload                                true\n",
      "spark.hadoop.fs.s3a.path.style.access                          true\n",
      "spark.hadoop.fs.s3a.impl                                       org.apache.hadoop.fs.s3a.S3AFileSystem\n",
      "\n",
      "# Configurações relativas ao Hive Metastore\n",
      "\n",
      "spark.hadoop.javax.jdo.option.ConnectionDriverName             org.postgresql.Driver\n",
      "spark.hadoop.javax.jdo.option.ConnectionURL                    jdbc:postgresql://postgres:5432/metastore_db\n",
      "spark.hadoop.javax.jdo.option.ConnectionUserName               hive\n",
      "spark.hadoop.javax.jdo.option.ConnectionPassword               hive123\n",
      "\n",
      "spark.hadoop.datanucleus.schema.autoCreateAll                  true\n",
      "spark.hadoop.datanucleus.schema.autoCreateTables               true\n",
      "spark.hadoop.datanucleus.fixedDatastore                        false\n",
      "spark.hadoop.hive.metastore.schema.verification                false\n",
      "spark.hadoop.hive.metastore.schema.verification.record.version false\n",
      "\n",
      "#spark.hadoop.metastore.catalog.default                         hive\n",
      "#spark.sql.defaultCatalog                                       hive\n",
      "\n",
      "spark.sql.warehouse.dir                                        s3a://warehouse/\n",
      "spark.sql.catalogImplementation                                hive\n",
      "spark.sql.hive.metastore.version                               3.0.0\n",
      "spark.sql.hive.metastore.uris                                  thrift://hive-metastore:9083\n",
      "#spark.sql.hive.metastore.jars=builtin (only for metastore version 2.3.9)\n",
      "#spark.sql.hive.metastore.jars                                  maven \n",
      "spark.sql.hive.metastore.jars                                  /usr/local/lib/python3.10/dist-packages/pyspark/hms-3.0.0/jars/*\n",
      "spark.sql.files.ignoreMissingFiles                             true\n",
      "\n",
      "# Configurando Cluster\n",
      "spark.master                                                   spark://spark-master:7077\n",
      "spark.executor.instances                                       2\n",
      "\n",
      "# Configurando Delta\n",
      "#spark.jars.packages                                            io.delta:delta-core_2.13:2.2.0\n",
      "#spark.sql.extensions                                           io.delta.sql.DeltaSparkSessionExtension\n",
      "#spark.sql.catalog.spark_catalog                                org.apache.spark.sql.delta.catalog.DeltaCatalog\n",
      "#spark.delta.logStore.class                                     org.apache.spark.sql.delta.storage.S3SingleDriverLogStore\n",
      "\n",
      "# Configurando Logs\n",
      "#spark.eventLog.enabled                                         true\n",
      "#spark.eventLog.dir                                             s3a://logs/"
     ]
    }
   ],
   "source": [
    "# Executar para visualizar spark-defaults.conf\n",
    "#!cat $SPARK_HOME/conf/spark-defaults.conf"
   ]
  },
  {
   "cell_type": "code",
   "execution_count": 24,
   "id": "8c2f87da-1320-4289-bb64-e098e0383387",
   "metadata": {
    "tags": []
   },
   "outputs": [
    {
     "data": {
      "text/html": [
       "\n",
       "            <div>\n",
       "                <p><b>SparkSession - hive</b></p>\n",
       "                \n",
       "        <div>\n",
       "            <p><b>SparkContext</b></p>\n",
       "\n",
       "            <p><a href=\"http://5934efd1d760:4040\">Spark UI</a></p>\n",
       "\n",
       "            <dl>\n",
       "              <dt>Version</dt>\n",
       "                <dd><code>v3.3.2</code></dd>\n",
       "              <dt>Master</dt>\n",
       "                <dd><code>spark://spark-master:7077</code></dd>\n",
       "              <dt>AppName</dt>\n",
       "                <dd><code>Teste de Leitura e Escrita com Minio</code></dd>\n",
       "            </dl>\n",
       "        </div>\n",
       "        \n",
       "            </div>\n",
       "        "
      ],
      "text/plain": [
       "<pyspark.sql.session.SparkSession at 0x7f83fde2b310>"
      ]
     },
     "execution_count": 24,
     "metadata": {},
     "output_type": "execute_result"
    }
   ],
   "source": [
    "from pyspark.sql import SparkSession\n",
    "from pyspark.sql.types import StructType, StringType, IntegerType, DoubleType\n",
    "from pyspark.sql.functions import col\n",
    "\n",
    "spark = SparkSession\\\n",
    "    .builder\\\n",
    "    .appName(\"Teste de Leitura e Escrita com Minio\")\\\n",
    "    .getOrCreate()\n",
    "\n",
    "spark"
   ]
  },
  {
   "cell_type": "markdown",
   "id": "aa0cdd87-6ec2-4897-bac7-14f1cc28535b",
   "metadata": {},
   "source": [
    "\n",
    "Com a sessão criada podemos ter acesso as spark-ui da Spark Session, Spark Driver e Workers\n",
    "### [Spark Session](http://127.0.0.1:4040)  \n",
    "> ### [Spark Master](http://127.0.0.1:5050)  \n",
    ">> |-- [Spark Worker A](http://127.0.0.1:5051)  \n",
    ">> |-- [Spark Worker B](http://127.0.0.1:5052)"
   ]
  },
  {
   "cell_type": "markdown",
   "id": "983e38c6-2476-40f5-b422-e23d127aeddd",
   "metadata": {},
   "source": [
    "Com o arquivo do dataset de exemplo no diretório do MinIO conseguimos utilizar o Spark e construir um DataFrame dos dados"
   ]
  },
  {
   "cell_type": "code",
   "execution_count": 10,
   "id": "02c4eafd-e933-4b69-b76e-09443937f5a4",
   "metadata": {
    "tags": []
   },
   "outputs": [
    {
     "name": "stdout",
     "output_type": "stream",
     "text": [
      "root\n",
      " |-- work_year: integer (nullable = true)\n",
      " |-- experience_level: string (nullable = true)\n",
      " |-- employment_type: string (nullable = true)\n",
      " |-- job_title: string (nullable = true)\n",
      " |-- salary: double (nullable = true)\n",
      " |-- salary_currency: string (nullable = true)\n",
      " |-- salary_in_usd: double (nullable = true)\n",
      " |-- employee_residence: string (nullable = true)\n",
      " |-- remote_ratio: double (nullable = true)\n",
      " |-- company_location: string (nullable = true)\n",
      "\n",
      "+---------+----------------+---------------+--------------------+--------+---------------+-------------+------------------+------------+----------------+\n",
      "|work_year|experience_level|employment_type|           job_title|  salary|salary_currency|salary_in_usd|employee_residence|remote_ratio|company_location|\n",
      "+---------+----------------+---------------+--------------------+--------+---------------+-------------+------------------+------------+----------------+\n",
      "|     2023|              SE|             FT|Principal Data Sc...| 80000.0|            EUR|      85847.0|                ES|       100.0|              ES|\n",
      "|     2023|              MI|             CT|         ML Engineer| 30000.0|            USD|      30000.0|                US|       100.0|              US|\n",
      "|     2023|              MI|             CT|         ML Engineer| 25500.0|            USD|      25500.0|                US|       100.0|              US|\n",
      "|     2023|              SE|             FT|      Data Scientist|175000.0|            USD|     175000.0|                CA|       100.0|              CA|\n",
      "|     2023|              SE|             FT|      Data Scientist|120000.0|            USD|     120000.0|                CA|       100.0|              CA|\n",
      "+---------+----------------+---------------+--------------------+--------+---------------+-------------+------------------+------------+----------------+\n",
      "only showing top 5 rows\n",
      "\n"
     ]
    }
   ],
   "source": [
    "path = \"s3a://my-bucket/input/salaries/ds_salaries.csv\"\n",
    "\n",
    "# Definindo schema\n",
    "schema = StructType() \\\n",
    "    .add('work_year', IntegerType(), True)\\\n",
    "    .add('experience_level', StringType(), True)\\\n",
    "    .add('employment_type', StringType(), True)\\\n",
    "    .add('job_title', StringType(), True)\\\n",
    "    .add('salary', DoubleType(), True)\\\n",
    "    .add('salary_currency', StringType(), True)\\\n",
    "    .add('salary_in_usd', DoubleType(), True)\\\n",
    "    .add('employee_residence', StringType(), True)\\\n",
    "    .add('remote_ratio', DoubleType(), True)\\\n",
    "    .add('company_location', StringType(), True)\n",
    "\n",
    "# Lendo os dados\n",
    "df = spark.read.csv(path = path, schema = schema, header = True)\n",
    "\n",
    "# Schema do DataFrame\n",
    "df.printSchema()\n",
    "\n",
    "# Printando 5 linhas aleatórias\n",
    "df.show(5)"
   ]
  },
  {
   "cell_type": "markdown",
   "id": "55aade46-6c98-408e-ae7e-7d6be89a7447",
   "metadata": {},
   "source": [
    "Com o DataFrame em memória, vamos fazer algumas alterações, como filtrar pessoas que ganham em USD"
   ]
  },
  {
   "cell_type": "code",
   "execution_count": 12,
   "id": "3411b3b5-7843-4231-ae48-5dc69b5fd377",
   "metadata": {
    "tags": []
   },
   "outputs": [
    {
     "name": "stdout",
     "output_type": "stream",
     "text": [
      "+---------+----------------+---------------+-----------------+--------+---------------+-------------+------------------+------------+----------------+\n",
      "|work_year|experience_level|employment_type|        job_title|  salary|salary_currency|salary_in_usd|employee_residence|remote_ratio|company_location|\n",
      "+---------+----------------+---------------+-----------------+--------+---------------+-------------+------------------+------------+----------------+\n",
      "|     2023|              MI|             CT|      ML Engineer| 30000.0|            USD|      30000.0|                US|       100.0|              US|\n",
      "|     2023|              MI|             CT|      ML Engineer| 25500.0|            USD|      25500.0|                US|       100.0|              US|\n",
      "|     2023|              SE|             FT|   Data Scientist|175000.0|            USD|     175000.0|                CA|       100.0|              CA|\n",
      "|     2023|              SE|             FT|   Data Scientist|120000.0|            USD|     120000.0|                CA|       100.0|              CA|\n",
      "|     2023|              SE|             FT|Applied Scientist|222200.0|            USD|     222200.0|                US|         0.0|              US|\n",
      "+---------+----------------+---------------+-----------------+--------+---------------+-------------+------------------+------------+----------------+\n",
      "only showing top 5 rows\n",
      "\n"
     ]
    }
   ],
   "source": [
    "df.where(col('salary_currency') == 'USD').show(5)"
   ]
  },
  {
   "cell_type": "markdown",
   "id": "c9b087ce-6d97-4245-8d5b-788917b36c1a",
   "metadata": {},
   "source": [
    "E agora, vamos gravar de volta no ~s3~ MinIO, de forma particionada e sobrescrevendo qualquer dado que estiver nesse path."
   ]
  },
  {
   "cell_type": "code",
   "execution_count": 13,
   "id": "f2da1cf6-9997-46b0-a8e8-01c5056c1d7e",
   "metadata": {
    "tags": []
   },
   "outputs": [
    {
     "name": "stderr",
     "output_type": "stream",
     "text": [
      "                                                                                \r"
     ]
    }
   ],
   "source": [
    "df.write\\\n",
    "    .option(\"compression\", \"snappy\")\\\n",
    "    .mode('overwrite')\\\n",
    "    .partitionBy('employment_type')\\\n",
    "    .format('parquet')\\\n",
    "    .save(path = \"s3a://my-bucket/output/salaries_usd/\")"
   ]
  },
  {
   "cell_type": "markdown",
   "id": "4a7f103c-c02e-44c0-82bd-8b49725826cf",
   "metadata": {
    "tags": []
   },
   "source": [
    "Acesse a [web-ui](http://localhost:9090/login) do MinIO e verifique se ele gravou as partições corretamente."
   ]
  },
  {
   "cell_type": "code",
   "execution_count": 28,
   "id": "4f9d2a01-db6b-4f95-88d4-4b3e97a4aa00",
   "metadata": {
    "tags": []
   },
   "outputs": [],
   "source": [
    "spark.stop()"
   ]
  }
 ],
 "metadata": {
  "kernelspec": {
   "display_name": "Python 3 (ipykernel)",
   "language": "python",
   "name": "python3"
  },
  "language_info": {
   "codemirror_mode": {
    "name": "ipython",
    "version": 3
   },
   "file_extension": ".py",
   "mimetype": "text/x-python",
   "name": "python",
   "nbconvert_exporter": "python",
   "pygments_lexer": "ipython3",
   "version": "3.10.7"
  }
 },
 "nbformat": 4,
 "nbformat_minor": 5
}
