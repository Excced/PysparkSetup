{
 "cells": [
  {
   "cell_type": "markdown",
   "id": "a4145934-4b1b-4503-ab45-627900432f6d",
   "metadata": {},
   "source": [
    "## Importando bibliotecas"
   ]
  },
  {
   "cell_type": "code",
   "execution_count": 1,
   "id": "32cb6220-dea8-4847-8842-1a9c90ef2c46",
   "metadata": {
    "tags": []
   },
   "outputs": [],
   "source": [
    "import os\n",
    "from pyspark.sql import SparkSession\n",
    "from pyspark.sql.types import StructType, StringType, DoubleType, IntegerType, DateType\n",
    "from pyspark.sql.functions import to_date, col, year\n",
    "from pyspark import SparkConf, SparkContext"
   ]
  },
  {
   "cell_type": "markdown",
   "id": "fd7060c2-5947-4d18-8744-d036b843442d",
   "metadata": {},
   "source": [
    "## Criando a [Spark Session](http://127.0.0.1:4040/)\n",
    "\n",
    "### [spark-master](http://127.0.0.1:5050)\n",
    "\n",
    "#### • [spark-worker-a](http://127.0.0.1:5051)\n",
    "\n",
    "#### • [spark-worker-b](http://127.0.0.1:5052)\n",
    "\n",
    "\n",
    "spark\n",
    "Configurações padrão utilizadas no _spark-defaults.conf_ em $SPARK_HOME/conf/ "
   ]
  },
  {
   "cell_type": "code",
   "execution_count": 2,
   "id": "316c4753",
   "metadata": {
    "tags": []
   },
   "outputs": [
    {
     "name": "stderr",
     "output_type": "stream",
     "text": [
      "Setting default log level to \"WARN\".\n",
      "To adjust logging level use sc.setLogLevel(newLevel). For SparkR, use setLogLevel(newLevel).\n"
     ]
    },
    {
     "name": "stdout",
     "output_type": "stream",
     "text": [
      "23/05/02 13:44:42 WARN NativeCodeLoader: Unable to load native-hadoop library for your platform... using builtin-java classes where applicable\n",
      "23/05/02 13:44:44 WARN MetricsConfig: Cannot locate configuration: tried hadoop-metrics2-s3a-file-system.properties,hadoop-metrics2.properties\n"
     ]
    },
    {
     "data": {
      "text/html": [
       "\n",
       "            <div>\n",
       "                <p><b>SparkSession - hive</b></p>\n",
       "                \n",
       "        <div>\n",
       "            <p><b>SparkContext</b></p>\n",
       "\n",
       "            <p><a href=\"http://d72bdb0779d5:4040\">Spark UI</a></p>\n",
       "\n",
       "            <dl>\n",
       "              <dt>Version</dt>\n",
       "                <dd><code>v3.3.2</code></dd>\n",
       "              <dt>Master</dt>\n",
       "                <dd><code>spark://spark-master:7077</code></dd>\n",
       "              <dt>AppName</dt>\n",
       "                <dd><code>Teste de Leitura e Escrita com Minio</code></dd>\n",
       "            </dl>\n",
       "        </div>\n",
       "        \n",
       "            </div>\n",
       "        "
      ],
      "text/plain": [
       "<pyspark.sql.session.SparkSession at 0x7f7dc64dcfd0>"
      ]
     },
     "execution_count": 2,
     "metadata": {},
     "output_type": "execute_result"
    }
   ],
   "source": [
    "if 'spark' in locals() or 'spark' in globals():\n",
    "    spark.stop()\n",
    "    \n",
    "spark = SparkSession\\\n",
    "    .builder\\\n",
    "    .appName(\"Teste de Leitura e Escrita com Minio\")\\\n",
    "    .getOrCreate()\n",
    "\n",
    "spark"
   ]
  },
  {
   "cell_type": "markdown",
   "id": "931f86f3-36be-47ad-93e2-5a04e6fb6eef",
   "metadata": {},
   "source": [
    "## Teste de leitura de arquivo CSV\n",
    "\n",
    "[MinIO](http://127.0.0.1:9090/buckets)\n",
    "\n",
    "- Leitura do arquivo CSV em um bucket do minio\n",
    "- Criação de um DataFrame\n",
    "- Correção de Schema\n",
    "- Contagem de registros\n",
    "- Exibir schema do DataFrame"
   ]
  },
  {
   "cell_type": "code",
   "execution_count": 3,
   "id": "7a67b277",
   "metadata": {
    "tags": []
   },
   "outputs": [
    {
     "name": "stderr",
     "output_type": "stream",
     "text": [
      "[Stage 0:>                                                          (0 + 1) / 1]\r"
     ]
    },
    {
     "name": "stdout",
     "output_type": "stream",
     "text": [
      "9994 registros lidos\n"
     ]
    },
    {
     "name": "stderr",
     "output_type": "stream",
     "text": [
      "                                                                                \r"
     ]
    }
   ],
   "source": [
    "path = \"s3a://my-bucket/input/sample-data.csv\"\n",
    "\n",
    "schema = StructType() \\\n",
    "        .add(\"Row ID\", IntegerType(), True) \\\n",
    "        .add(\"Order ID\", StringType(), True) \\\n",
    "        .add(\"Order Date\", StringType(), True) \\\n",
    "        .add(\"Ship Date\", StringType(), True) \\\n",
    "        .add(\"Ship Mode\", StringType(), True) \\\n",
    "        .add(\"Customer ID\", StringType(), True) \\\n",
    "        .add(\"Customer Name\", StringType(), True) \\\n",
    "        .add(\"Segment\", StringType(), True) \\\n",
    "        .add(\"Country\", StringType(), True) \\\n",
    "        .add(\"City\", StringType(), True) \\\n",
    "        .add(\"State\", StringType(), True) \\\n",
    "        .add(\"Postal Code\", StringType(), True) \\\n",
    "        .add(\"Region\", StringType(), True) \\\n",
    "        .add(\"Product ID\", StringType(), True) \\\n",
    "        .add(\"Category\", StringType(), True) \\\n",
    "        .add(\"Sub-Category\", StringType(), True) \\\n",
    "        .add(\"Product Name\", StringType(), True) \\\n",
    "        .add(\"Sales\", DoubleType(), True) \\\n",
    "        .add(\"Quantity\", IntegerType(), True) \\\n",
    "        .add(\"Discount\", DoubleType(), True) \\\n",
    "        .add(\"Profit\", DoubleType(), True)\n",
    "\n",
    "df = spark.read.csv(path = path, schema = schema, header = True)\n",
    "\n",
    "print(f'{df.count()} registros lidos')"
   ]
  },
  {
   "cell_type": "markdown",
   "id": "247605c7-59fd-4ca8-99bd-0a7f31ee60bc",
   "metadata": {},
   "source": [
    "# Exibindo o Schema do DataFrame\n",
    "\n",
    "Verificando se os data types estão aderentes com o especificado"
   ]
  },
  {
   "cell_type": "code",
   "execution_count": 4,
   "id": "2d65bf82-2422-4d7b-bee2-601cc8b9ae6d",
   "metadata": {
    "tags": []
   },
   "outputs": [
    {
     "name": "stdout",
     "output_type": "stream",
     "text": [
      "root\n",
      " |-- Row ID: integer (nullable = true)\n",
      " |-- Order ID: string (nullable = true)\n",
      " |-- Order Date: string (nullable = true)\n",
      " |-- Ship Date: string (nullable = true)\n",
      " |-- Ship Mode: string (nullable = true)\n",
      " |-- Customer ID: string (nullable = true)\n",
      " |-- Customer Name: string (nullable = true)\n",
      " |-- Segment: string (nullable = true)\n",
      " |-- Country: string (nullable = true)\n",
      " |-- City: string (nullable = true)\n",
      " |-- State: string (nullable = true)\n",
      " |-- Postal Code: string (nullable = true)\n",
      " |-- Region: string (nullable = true)\n",
      " |-- Product ID: string (nullable = true)\n",
      " |-- Category: string (nullable = true)\n",
      " |-- Sub-Category: string (nullable = true)\n",
      " |-- Product Name: string (nullable = true)\n",
      " |-- Sales: double (nullable = true)\n",
      " |-- Quantity: integer (nullable = true)\n",
      " |-- Discount: double (nullable = true)\n",
      " |-- Profit: double (nullable = true)\n",
      "\n"
     ]
    }
   ],
   "source": [
    "df.printSchema()"
   ]
  },
  {
   "cell_type": "markdown",
   "id": "64997c92-3dba-46ea-b541-ba7d44af5ff1",
   "metadata": {},
   "source": [
    "## Exibindo parte do DataFrame"
   ]
  },
  {
   "cell_type": "code",
   "execution_count": 5,
   "id": "d856436e-9da2-4d79-8730-f5ecfd295cbd",
   "metadata": {
    "tags": []
   },
   "outputs": [
    {
     "name": "stderr",
     "output_type": "stream",
     "text": [
      "[Stage 3:>                                                          (0 + 1) / 1]\r"
     ]
    },
    {
     "name": "stdout",
     "output_type": "stream",
     "text": [
      "+------+--------------+----------+----------+--------------+-----------+------------------+-----------+-------------+---------------+--------------+-----------+-------+---------------+---------------+------------+--------------------+--------+--------+--------+--------+\n",
      "|Row ID|      Order ID|Order Date| Ship Date|     Ship Mode|Customer ID|     Customer Name|    Segment|      Country|           City|         State|Postal Code| Region|     Product ID|       Category|Sub-Category|        Product Name|   Sales|Quantity|Discount|  Profit|\n",
      "+------+--------------+----------+----------+--------------+-----------+------------------+-----------+-------------+---------------+--------------+-----------+-------+---------------+---------------+------------+--------------------+--------+--------+--------+--------+\n",
      "|     1|CA-2016-152156| 11/8/2016|11/11/2016|  Second Class|   CG-12520|       Claire Gute|   Consumer|United States|      Henderson|      Kentucky|      42420|  South|FUR-BO-10001798|      Furniture|   Bookcases|Bush Somerset Col...|  261.96|       2|     0.0| 41.9136|\n",
      "|     2|CA-2016-152156| 11/8/2016|11/11/2016|  Second Class|   CG-12520|       Claire Gute|   Consumer|United States|      Henderson|      Kentucky|      42420|  South|FUR-CH-10000454|      Furniture|      Chairs|Hon Deluxe Fabric...|  731.94|       3|     0.0| 219.582|\n",
      "|     3|CA-2016-138688| 6/12/2016| 6/16/2016|  Second Class|   DV-13045|   Darrin Van Huff|  Corporate|United States|    Los Angeles|    California|      90036|   West|OFF-LA-10000240|Office Supplies|      Labels|Self-Adhesive Add...|   14.62|       2|     0.0|  6.8714|\n",
      "|     4|US-2015-108966|10/11/2015|10/18/2015|Standard Class|   SO-20335|    Sean O'Donnell|   Consumer|United States|Fort Lauderdale|       Florida|      33311|  South|FUR-TA-10000577|      Furniture|      Tables|Bretford CR4500 S...|957.5775|       5|    0.45|-383.031|\n",
      "|     5|US-2015-108966|10/11/2015|10/18/2015|Standard Class|   SO-20335|    Sean O'Donnell|   Consumer|United States|Fort Lauderdale|       Florida|      33311|  South|OFF-ST-10000760|Office Supplies|     Storage|Eldon Fold 'N Rol...|  22.368|       2|     0.2|  2.5164|\n",
      "|     6|CA-2014-115812|  6/9/2014| 6/14/2014|Standard Class|   BH-11710|   Brosina Hoffman|   Consumer|United States|    Los Angeles|    California|      90032|   West|FUR-FU-10001487|      Furniture| Furnishings|Eldon Expressions...|   48.86|       7|     0.0| 14.1694|\n",
      "|     7|CA-2014-115812|  6/9/2014| 6/14/2014|Standard Class|   BH-11710|   Brosina Hoffman|   Consumer|United States|    Los Angeles|    California|      90032|   West|OFF-AR-10002833|Office Supplies|         Art|          Newell 322|    7.28|       4|     0.0|  1.9656|\n",
      "|     8|CA-2014-115812|  6/9/2014| 6/14/2014|Standard Class|   BH-11710|   Brosina Hoffman|   Consumer|United States|    Los Angeles|    California|      90032|   West|TEC-PH-10002275|     Technology|      Phones|Mitel 5320 IP Pho...| 907.152|       6|     0.2| 90.7152|\n",
      "|     9|CA-2014-115812|  6/9/2014| 6/14/2014|Standard Class|   BH-11710|   Brosina Hoffman|   Consumer|United States|    Los Angeles|    California|      90032|   West|OFF-BI-10003910|Office Supplies|     Binders|DXL Angle-View Bi...|  18.504|       3|     0.2|  5.7825|\n",
      "|    10|CA-2014-115812|  6/9/2014| 6/14/2014|Standard Class|   BH-11710|   Brosina Hoffman|   Consumer|United States|    Los Angeles|    California|      90032|   West|OFF-AP-10002892|Office Supplies|  Appliances|Belkin F5C206VTEL...|   114.9|       5|     0.0|   34.47|\n",
      "|    11|CA-2014-115812|  6/9/2014| 6/14/2014|Standard Class|   BH-11710|   Brosina Hoffman|   Consumer|United States|    Los Angeles|    California|      90032|   West|FUR-TA-10001539|      Furniture|      Tables|Chromcraft Rectan...|1706.184|       9|     0.2| 85.3092|\n",
      "|    12|CA-2014-115812|  6/9/2014| 6/14/2014|Standard Class|   BH-11710|   Brosina Hoffman|   Consumer|United States|    Los Angeles|    California|      90032|   West|TEC-PH-10002033|     Technology|      Phones|Konftel 250 Confe...| 911.424|       4|     0.2| 68.3568|\n",
      "|    13|CA-2017-114412| 4/15/2017| 4/20/2017|Standard Class|   AA-10480|      Andrew Allen|   Consumer|United States|        Concord|North Carolina|      28027|  South|OFF-PA-10002365|Office Supplies|       Paper|          Xerox 1967|  15.552|       3|     0.2|  5.4432|\n",
      "|    14|CA-2016-161389| 12/5/2016|12/10/2016|Standard Class|   IM-15070|      Irene Maddox|   Consumer|United States|        Seattle|    Washington|      98103|   West|OFF-BI-10003656|Office Supplies|     Binders|Fellowes PB200 Pl...| 407.976|       3|     0.2|132.5922|\n",
      "|    15|US-2015-118983|11/22/2015|11/26/2015|Standard Class|   HP-14815|     Harold Pawlan|Home Office|United States|     Fort Worth|         Texas|      76106|Central|OFF-AP-10002311|Office Supplies|  Appliances|Holmes Replacemen...|   68.81|       5|     0.8|-123.858|\n",
      "|    16|US-2015-118983|11/22/2015|11/26/2015|Standard Class|   HP-14815|     Harold Pawlan|Home Office|United States|     Fort Worth|         Texas|      76106|Central|OFF-BI-10000756|Office Supplies|     Binders|Storex DuraTech R...|   2.544|       3|     0.8|  -3.816|\n",
      "|    17|CA-2014-105893|11/11/2014|11/18/2014|Standard Class|   PK-19075|         Pete Kriz|   Consumer|United States|        Madison|     Wisconsin|      53711|Central|OFF-ST-10004186|Office Supplies|     Storage|\"Stur-D-Stor Shel...|  665.88|       6|     0.0| 13.3176|\n",
      "|    18|CA-2014-167164| 5/13/2014| 5/15/2014|  Second Class|   AG-10270|   Alejandro Grove|   Consumer|United States|    West Jordan|          Utah|      84084|   West|OFF-ST-10000107|Office Supplies|     Storage|Fellowes Super St...|    55.5|       2|     0.0|    9.99|\n",
      "|    19|CA-2014-143336| 8/27/2014|  9/1/2014|  Second Class|   ZD-21925|Zuschuss Donatelli|   Consumer|United States|  San Francisco|    California|      94109|   West|OFF-AR-10003056|Office Supplies|         Art|          Newell 341|    8.56|       2|     0.0|  2.4824|\n",
      "|    20|CA-2014-143336| 8/27/2014|  9/1/2014|  Second Class|   ZD-21925|Zuschuss Donatelli|   Consumer|United States|  San Francisco|    California|      94109|   West|TEC-PH-10001949|     Technology|      Phones|Cisco SPA 501G IP...|  213.48|       3|     0.2|  16.011|\n",
      "+------+--------------+----------+----------+--------------+-----------+------------------+-----------+-------------+---------------+--------------+-----------+-------+---------------+---------------+------------+--------------------+--------+--------+--------+--------+\n",
      "only showing top 20 rows\n",
      "\n"
     ]
    },
    {
     "name": "stderr",
     "output_type": "stream",
     "text": [
      "                                                                                \r"
     ]
    }
   ],
   "source": [
    "df.show()"
   ]
  },
  {
   "cell_type": "code",
   "execution_count": 6,
   "id": "292e7227-cd7b-4697-b5cb-246ceaecf863",
   "metadata": {
    "tags": []
   },
   "outputs": [],
   "source": [
    "df = df.limit(10)"
   ]
  },
  {
   "cell_type": "code",
   "execution_count": 7,
   "id": "972841b5-743e-4a48-baf3-df0300b6f9e8",
   "metadata": {
    "tags": []
   },
   "outputs": [
    {
     "name": "stdout",
     "output_type": "stream",
     "text": [
      "+------+--------------+----------+----------+--------------+-----------+---------------+---------+-------------+---------------+----------+-----------+------+---------------+---------------+------------+--------------------+--------+--------+--------+--------+\n",
      "|Row ID|      Order ID|Order Date| Ship Date|     Ship Mode|Customer ID|  Customer Name|  Segment|      Country|           City|     State|Postal Code|Region|     Product ID|       Category|Sub-Category|        Product Name|   Sales|Quantity|Discount|  Profit|\n",
      "+------+--------------+----------+----------+--------------+-----------+---------------+---------+-------------+---------------+----------+-----------+------+---------------+---------------+------------+--------------------+--------+--------+--------+--------+\n",
      "|     1|CA-2016-152156| 11/8/2016|11/11/2016|  Second Class|   CG-12520|    Claire Gute| Consumer|United States|      Henderson|  Kentucky|      42420| South|FUR-BO-10001798|      Furniture|   Bookcases|Bush Somerset Col...|  261.96|       2|     0.0| 41.9136|\n",
      "|     2|CA-2016-152156| 11/8/2016|11/11/2016|  Second Class|   CG-12520|    Claire Gute| Consumer|United States|      Henderson|  Kentucky|      42420| South|FUR-CH-10000454|      Furniture|      Chairs|Hon Deluxe Fabric...|  731.94|       3|     0.0| 219.582|\n",
      "|     3|CA-2016-138688| 6/12/2016| 6/16/2016|  Second Class|   DV-13045|Darrin Van Huff|Corporate|United States|    Los Angeles|California|      90036|  West|OFF-LA-10000240|Office Supplies|      Labels|Self-Adhesive Add...|   14.62|       2|     0.0|  6.8714|\n",
      "|     4|US-2015-108966|10/11/2015|10/18/2015|Standard Class|   SO-20335| Sean O'Donnell| Consumer|United States|Fort Lauderdale|   Florida|      33311| South|FUR-TA-10000577|      Furniture|      Tables|Bretford CR4500 S...|957.5775|       5|    0.45|-383.031|\n",
      "|     5|US-2015-108966|10/11/2015|10/18/2015|Standard Class|   SO-20335| Sean O'Donnell| Consumer|United States|Fort Lauderdale|   Florida|      33311| South|OFF-ST-10000760|Office Supplies|     Storage|Eldon Fold 'N Rol...|  22.368|       2|     0.2|  2.5164|\n",
      "|     6|CA-2014-115812|  6/9/2014| 6/14/2014|Standard Class|   BH-11710|Brosina Hoffman| Consumer|United States|    Los Angeles|California|      90032|  West|FUR-FU-10001487|      Furniture| Furnishings|Eldon Expressions...|   48.86|       7|     0.0| 14.1694|\n",
      "|     7|CA-2014-115812|  6/9/2014| 6/14/2014|Standard Class|   BH-11710|Brosina Hoffman| Consumer|United States|    Los Angeles|California|      90032|  West|OFF-AR-10002833|Office Supplies|         Art|          Newell 322|    7.28|       4|     0.0|  1.9656|\n",
      "|     8|CA-2014-115812|  6/9/2014| 6/14/2014|Standard Class|   BH-11710|Brosina Hoffman| Consumer|United States|    Los Angeles|California|      90032|  West|TEC-PH-10002275|     Technology|      Phones|Mitel 5320 IP Pho...| 907.152|       6|     0.2| 90.7152|\n",
      "|     9|CA-2014-115812|  6/9/2014| 6/14/2014|Standard Class|   BH-11710|Brosina Hoffman| Consumer|United States|    Los Angeles|California|      90032|  West|OFF-BI-10003910|Office Supplies|     Binders|DXL Angle-View Bi...|  18.504|       3|     0.2|  5.7825|\n",
      "|    10|CA-2014-115812|  6/9/2014| 6/14/2014|Standard Class|   BH-11710|Brosina Hoffman| Consumer|United States|    Los Angeles|California|      90032|  West|OFF-AP-10002892|Office Supplies|  Appliances|Belkin F5C206VTEL...|   114.9|       5|     0.0|   34.47|\n",
      "+------+--------------+----------+----------+--------------+-----------+---------------+---------+-------------+---------------+----------+-----------+------+---------------+---------------+------------+--------------------+--------+--------+--------+--------+\n",
      "\n"
     ]
    }
   ],
   "source": [
    "df.show()"
   ]
  },
  {
   "cell_type": "markdown",
   "id": "e8e1ff73-24b0-4fff-99cf-f150cf5d08ab",
   "metadata": {},
   "source": [
    "## Realizando operações de agregação simples\n",
    "\n",
    "Soma de 'Sales' agrupado por 'Region' e 'Category'"
   ]
  },
  {
   "cell_type": "code",
   "execution_count": 8,
   "id": "401626a9",
   "metadata": {
    "tags": []
   },
   "outputs": [
    {
     "name": "stdout",
     "output_type": "stream",
     "text": [
      "+------+---------------+----------+\n",
      "|Region|       Category|TotalSales|\n",
      "+------+---------------+----------+\n",
      "| South|      Furniture| 1951.4775|\n",
      "| South|Office Supplies|    22.368|\n",
      "|  West|      Furniture|     48.86|\n",
      "|  West|Office Supplies|   155.304|\n",
      "|  West|     Technology|   907.152|\n",
      "+------+---------------+----------+\n",
      "\n"
     ]
    }
   ],
   "source": [
    "df = df.groupBy(['Region','Category'])\\\n",
    "    .sum('Sales')\\\n",
    "    .orderBy(['Region', 'Category'])\\\n",
    "    .withColumnRenamed('sum(Sales)', 'TotalSales')\n",
    "df.show()"
   ]
  },
  {
   "cell_type": "markdown",
   "id": "dd0d6cea-c852-472b-9aad-9bc1f77d36fb",
   "metadata": {},
   "source": [
    "## Realizando operações com SQL\n",
    "\n",
    "Recortar o DataFrame onde 'Region' = _'South'_"
   ]
  },
  {
   "cell_type": "code",
   "execution_count": 9,
   "id": "6961616a-67d6-475d-849d-c72080dc656e",
   "metadata": {
    "tags": []
   },
   "outputs": [
    {
     "name": "stdout",
     "output_type": "stream",
     "text": [
      "+------+---------------+----------+\n",
      "|Region|       Category|TotalSales|\n",
      "+------+---------------+----------+\n",
      "| South|      Furniture| 1951.4775|\n",
      "| South|Office Supplies|    22.368|\n",
      "+------+---------------+----------+\n",
      "\n"
     ]
    }
   ],
   "source": [
    "df.createOrReplaceTempView(\"ALL_REGIONS_SALES\")\n",
    "\n",
    "query = \\\n",
    "'''\n",
    "SELECT *\n",
    "FROM ALL_REGIONS_SALES\n",
    "WHERE Region = 'South'\n",
    "'''\n",
    "queryResults = spark.sql(sqlQuery = query)\n",
    "queryResults.show()"
   ]
  },
  {
   "cell_type": "markdown",
   "id": "7dbf3a4b-44a0-443c-bd1d-42a4d1824ca5",
   "metadata": {},
   "source": [
    "## Realizando escrita do DataFrame no Minio\n",
    "\n",
    "Escrito em formato Parquet, particionado por 'Region' e de forma idepotente"
   ]
  },
  {
   "cell_type": "code",
   "execution_count": 10,
   "id": "7a26e46b",
   "metadata": {
    "tags": []
   },
   "outputs": [
    {
     "name": "stderr",
     "output_type": "stream",
     "text": [
      "                                                                                \r"
     ]
    }
   ],
   "source": [
    "df.write.option(\"compression\", \"snappy\")\\\n",
    "    .mode('overwrite')\\\n",
    "    .partitionBy('Region')\\\n",
    "    .format('parquet')\\\n",
    "    .save(path = \"s3a://my-bucket/output/exemplo_1/\")"
   ]
  },
  {
   "cell_type": "markdown",
   "id": "6fd64fcc-c4af-4231-a43e-ade9669dd88f",
   "metadata": {},
   "source": [
    "## Lendo o arquivo Parquet escrito\n",
    "\n",
    "Exibindo o schema e a tabela"
   ]
  },
  {
   "cell_type": "code",
   "execution_count": 11,
   "id": "e9df8bd3-c263-47f4-8fb4-64416aec6bd3",
   "metadata": {
    "tags": []
   },
   "outputs": [
    {
     "name": "stdout",
     "output_type": "stream",
     "text": [
      "root\n",
      " |-- Category: string (nullable = true)\n",
      " |-- TotalSales: double (nullable = true)\n",
      " |-- Region: string (nullable = true)\n",
      "\n"
     ]
    }
   ],
   "source": [
    "new_df = spark.read.parquet(\"s3a://my-bucket/output/exemplo_1/\")\n",
    "new_df.printSchema()"
   ]
  },
  {
   "cell_type": "code",
   "execution_count": 12,
   "id": "0fd1df97-db43-4135-ade7-f9857b4d9e24",
   "metadata": {
    "tags": []
   },
   "outputs": [
    {
     "name": "stdout",
     "output_type": "stream",
     "text": [
      "+---------------+----------+------+\n",
      "|       Category|TotalSales|Region|\n",
      "+---------------+----------+------+\n",
      "|      Furniture|     48.86|  West|\n",
      "|Office Supplies|   155.304|  West|\n",
      "|     Technology|   907.152|  West|\n",
      "|      Furniture| 1951.4775| South|\n",
      "|Office Supplies|    22.368| South|\n",
      "+---------------+----------+------+\n",
      "\n"
     ]
    },
    {
     "name": "stderr",
     "output_type": "stream",
     "text": [
      "                                                                                \r"
     ]
    }
   ],
   "source": [
    "new_df.show()"
   ]
  },
  {
   "cell_type": "code",
   "execution_count": 13,
   "id": "d6e4b650-ae57-4145-97f0-be00cdcf893c",
   "metadata": {
    "tags": []
   },
   "outputs": [],
   "source": [
    "path = \"s3a://my-bucket/input/sample-data.csv\"\n",
    "\n",
    "schema = StructType() \\\n",
    "        .add(\"Row ID\", IntegerType(), True) \\\n",
    "        .add(\"Order ID\", StringType(), True) \\\n",
    "        .add(\"Order Date\", StringType(), True) \\\n",
    "        .add(\"Ship Date\", StringType(), True) \\\n",
    "        .add(\"Ship Mode\", StringType(), True) \\\n",
    "        .add(\"Customer ID\", StringType(), True) \\\n",
    "        .add(\"Customer Name\", StringType(), True) \\\n",
    "        .add(\"Segment\", StringType(), True) \\\n",
    "        .add(\"Country\", StringType(), True) \\\n",
    "        .add(\"City\", StringType(), True) \\\n",
    "        .add(\"State\", StringType(), True) \\\n",
    "        .add(\"Postal Code\", StringType(), True) \\\n",
    "        .add(\"Region\", StringType(), True) \\\n",
    "        .add(\"Product ID\", StringType(), True) \\\n",
    "        .add(\"Category\", StringType(), True) \\\n",
    "        .add(\"Sub-Category\", StringType(), True) \\\n",
    "        .add(\"Product Name\", StringType(), True) \\\n",
    "        .add(\"Sales\", DoubleType(), True) \\\n",
    "        .add(\"Quantity\", IntegerType(), True) \\\n",
    "        .add(\"Discount\", DoubleType(), True) \\\n",
    "        .add(\"Profit\", DoubleType(), True)\n",
    "\n",
    "df = spark.read.csv(path = path, schema = schema, header = True)"
   ]
  },
  {
   "cell_type": "code",
   "execution_count": 14,
   "id": "4284d9bb-7870-49d6-bdbe-8a91e0782b21",
   "metadata": {
    "tags": []
   },
   "outputs": [
    {
     "name": "stdout",
     "output_type": "stream",
     "text": [
      "+------+--------------+----------+----------+--------------+-----------+------------------+-----------+-------------+---------------+--------------+-----------+-------+---------------+---------------+------------+--------------------+--------+--------+--------+--------+\n",
      "|Row ID|      Order ID|Order Date| Ship Date|     Ship Mode|Customer ID|     Customer Name|    Segment|      Country|           City|         State|Postal Code| Region|     Product ID|       Category|Sub-Category|        Product Name|   Sales|Quantity|Discount|  Profit|\n",
      "+------+--------------+----------+----------+--------------+-----------+------------------+-----------+-------------+---------------+--------------+-----------+-------+---------------+---------------+------------+--------------------+--------+--------+--------+--------+\n",
      "|     1|CA-2016-152156| 11/8/2016|11/11/2016|  Second Class|   CG-12520|       Claire Gute|   Consumer|United States|      Henderson|      Kentucky|      42420|  South|FUR-BO-10001798|      Furniture|   Bookcases|Bush Somerset Col...|  261.96|       2|     0.0| 41.9136|\n",
      "|     2|CA-2016-152156| 11/8/2016|11/11/2016|  Second Class|   CG-12520|       Claire Gute|   Consumer|United States|      Henderson|      Kentucky|      42420|  South|FUR-CH-10000454|      Furniture|      Chairs|Hon Deluxe Fabric...|  731.94|       3|     0.0| 219.582|\n",
      "|     3|CA-2016-138688| 6/12/2016| 6/16/2016|  Second Class|   DV-13045|   Darrin Van Huff|  Corporate|United States|    Los Angeles|    California|      90036|   West|OFF-LA-10000240|Office Supplies|      Labels|Self-Adhesive Add...|   14.62|       2|     0.0|  6.8714|\n",
      "|     4|US-2015-108966|10/11/2015|10/18/2015|Standard Class|   SO-20335|    Sean O'Donnell|   Consumer|United States|Fort Lauderdale|       Florida|      33311|  South|FUR-TA-10000577|      Furniture|      Tables|Bretford CR4500 S...|957.5775|       5|    0.45|-383.031|\n",
      "|     5|US-2015-108966|10/11/2015|10/18/2015|Standard Class|   SO-20335|    Sean O'Donnell|   Consumer|United States|Fort Lauderdale|       Florida|      33311|  South|OFF-ST-10000760|Office Supplies|     Storage|Eldon Fold 'N Rol...|  22.368|       2|     0.2|  2.5164|\n",
      "|     6|CA-2014-115812|  6/9/2014| 6/14/2014|Standard Class|   BH-11710|   Brosina Hoffman|   Consumer|United States|    Los Angeles|    California|      90032|   West|FUR-FU-10001487|      Furniture| Furnishings|Eldon Expressions...|   48.86|       7|     0.0| 14.1694|\n",
      "|     7|CA-2014-115812|  6/9/2014| 6/14/2014|Standard Class|   BH-11710|   Brosina Hoffman|   Consumer|United States|    Los Angeles|    California|      90032|   West|OFF-AR-10002833|Office Supplies|         Art|          Newell 322|    7.28|       4|     0.0|  1.9656|\n",
      "|     8|CA-2014-115812|  6/9/2014| 6/14/2014|Standard Class|   BH-11710|   Brosina Hoffman|   Consumer|United States|    Los Angeles|    California|      90032|   West|TEC-PH-10002275|     Technology|      Phones|Mitel 5320 IP Pho...| 907.152|       6|     0.2| 90.7152|\n",
      "|     9|CA-2014-115812|  6/9/2014| 6/14/2014|Standard Class|   BH-11710|   Brosina Hoffman|   Consumer|United States|    Los Angeles|    California|      90032|   West|OFF-BI-10003910|Office Supplies|     Binders|DXL Angle-View Bi...|  18.504|       3|     0.2|  5.7825|\n",
      "|    10|CA-2014-115812|  6/9/2014| 6/14/2014|Standard Class|   BH-11710|   Brosina Hoffman|   Consumer|United States|    Los Angeles|    California|      90032|   West|OFF-AP-10002892|Office Supplies|  Appliances|Belkin F5C206VTEL...|   114.9|       5|     0.0|   34.47|\n",
      "|    11|CA-2014-115812|  6/9/2014| 6/14/2014|Standard Class|   BH-11710|   Brosina Hoffman|   Consumer|United States|    Los Angeles|    California|      90032|   West|FUR-TA-10001539|      Furniture|      Tables|Chromcraft Rectan...|1706.184|       9|     0.2| 85.3092|\n",
      "|    12|CA-2014-115812|  6/9/2014| 6/14/2014|Standard Class|   BH-11710|   Brosina Hoffman|   Consumer|United States|    Los Angeles|    California|      90032|   West|TEC-PH-10002033|     Technology|      Phones|Konftel 250 Confe...| 911.424|       4|     0.2| 68.3568|\n",
      "|    13|CA-2017-114412| 4/15/2017| 4/20/2017|Standard Class|   AA-10480|      Andrew Allen|   Consumer|United States|        Concord|North Carolina|      28027|  South|OFF-PA-10002365|Office Supplies|       Paper|          Xerox 1967|  15.552|       3|     0.2|  5.4432|\n",
      "|    14|CA-2016-161389| 12/5/2016|12/10/2016|Standard Class|   IM-15070|      Irene Maddox|   Consumer|United States|        Seattle|    Washington|      98103|   West|OFF-BI-10003656|Office Supplies|     Binders|Fellowes PB200 Pl...| 407.976|       3|     0.2|132.5922|\n",
      "|    15|US-2015-118983|11/22/2015|11/26/2015|Standard Class|   HP-14815|     Harold Pawlan|Home Office|United States|     Fort Worth|         Texas|      76106|Central|OFF-AP-10002311|Office Supplies|  Appliances|Holmes Replacemen...|   68.81|       5|     0.8|-123.858|\n",
      "|    16|US-2015-118983|11/22/2015|11/26/2015|Standard Class|   HP-14815|     Harold Pawlan|Home Office|United States|     Fort Worth|         Texas|      76106|Central|OFF-BI-10000756|Office Supplies|     Binders|Storex DuraTech R...|   2.544|       3|     0.8|  -3.816|\n",
      "|    17|CA-2014-105893|11/11/2014|11/18/2014|Standard Class|   PK-19075|         Pete Kriz|   Consumer|United States|        Madison|     Wisconsin|      53711|Central|OFF-ST-10004186|Office Supplies|     Storage|\"Stur-D-Stor Shel...|  665.88|       6|     0.0| 13.3176|\n",
      "|    18|CA-2014-167164| 5/13/2014| 5/15/2014|  Second Class|   AG-10270|   Alejandro Grove|   Consumer|United States|    West Jordan|          Utah|      84084|   West|OFF-ST-10000107|Office Supplies|     Storage|Fellowes Super St...|    55.5|       2|     0.0|    9.99|\n",
      "|    19|CA-2014-143336| 8/27/2014|  9/1/2014|  Second Class|   ZD-21925|Zuschuss Donatelli|   Consumer|United States|  San Francisco|    California|      94109|   West|OFF-AR-10003056|Office Supplies|         Art|          Newell 341|    8.56|       2|     0.0|  2.4824|\n",
      "|    20|CA-2014-143336| 8/27/2014|  9/1/2014|  Second Class|   ZD-21925|Zuschuss Donatelli|   Consumer|United States|  San Francisco|    California|      94109|   West|TEC-PH-10001949|     Technology|      Phones|Cisco SPA 501G IP...|  213.48|       3|     0.2|  16.011|\n",
      "+------+--------------+----------+----------+--------------+-----------+------------------+-----------+-------------+---------------+--------------+-----------+-------+---------------+---------------+------------+--------------------+--------+--------+--------+--------+\n",
      "only showing top 20 rows\n",
      "\n"
     ]
    }
   ],
   "source": [
    "df.show()"
   ]
  },
  {
   "cell_type": "code",
   "execution_count": 15,
   "id": "41dc2fb7-1ea1-44d9-ac7c-3e3c75836812",
   "metadata": {
    "tags": []
   },
   "outputs": [
    {
     "name": "stdout",
     "output_type": "stream",
     "text": [
      "+------+--------------+----------+----------+--------------+-----------+------------------+-----------+-------------+---------------+--------------+-----------+-------+---------------+---------------+------------+--------------------+--------+--------+--------+--------+----+\n",
      "|Row ID|      Order ID|Order Date| Ship Date|     Ship Mode|Customer ID|     Customer Name|    Segment|      Country|           City|         State|Postal Code| Region|     Product ID|       Category|Sub-Category|        Product Name|   Sales|Quantity|Discount|  Profit|Year|\n",
      "+------+--------------+----------+----------+--------------+-----------+------------------+-----------+-------------+---------------+--------------+-----------+-------+---------------+---------------+------------+--------------------+--------+--------+--------+--------+----+\n",
      "|     1|CA-2016-152156|2016-11-08|11/11/2016|  Second Class|   CG-12520|       Claire Gute|   Consumer|United States|      Henderson|      Kentucky|      42420|  South|FUR-BO-10001798|      Furniture|   Bookcases|Bush Somerset Col...|  261.96|       2|     0.0| 41.9136|2016|\n",
      "|     2|CA-2016-152156|2016-11-08|11/11/2016|  Second Class|   CG-12520|       Claire Gute|   Consumer|United States|      Henderson|      Kentucky|      42420|  South|FUR-CH-10000454|      Furniture|      Chairs|Hon Deluxe Fabric...|  731.94|       3|     0.0| 219.582|2016|\n",
      "|     3|CA-2016-138688|2016-06-12| 6/16/2016|  Second Class|   DV-13045|   Darrin Van Huff|  Corporate|United States|    Los Angeles|    California|      90036|   West|OFF-LA-10000240|Office Supplies|      Labels|Self-Adhesive Add...|   14.62|       2|     0.0|  6.8714|2016|\n",
      "|     4|US-2015-108966|2015-10-11|10/18/2015|Standard Class|   SO-20335|    Sean O'Donnell|   Consumer|United States|Fort Lauderdale|       Florida|      33311|  South|FUR-TA-10000577|      Furniture|      Tables|Bretford CR4500 S...|957.5775|       5|    0.45|-383.031|2015|\n",
      "|     5|US-2015-108966|2015-10-11|10/18/2015|Standard Class|   SO-20335|    Sean O'Donnell|   Consumer|United States|Fort Lauderdale|       Florida|      33311|  South|OFF-ST-10000760|Office Supplies|     Storage|Eldon Fold 'N Rol...|  22.368|       2|     0.2|  2.5164|2015|\n",
      "|     6|CA-2014-115812|2014-06-09| 6/14/2014|Standard Class|   BH-11710|   Brosina Hoffman|   Consumer|United States|    Los Angeles|    California|      90032|   West|FUR-FU-10001487|      Furniture| Furnishings|Eldon Expressions...|   48.86|       7|     0.0| 14.1694|2014|\n",
      "|     7|CA-2014-115812|2014-06-09| 6/14/2014|Standard Class|   BH-11710|   Brosina Hoffman|   Consumer|United States|    Los Angeles|    California|      90032|   West|OFF-AR-10002833|Office Supplies|         Art|          Newell 322|    7.28|       4|     0.0|  1.9656|2014|\n",
      "|     8|CA-2014-115812|2014-06-09| 6/14/2014|Standard Class|   BH-11710|   Brosina Hoffman|   Consumer|United States|    Los Angeles|    California|      90032|   West|TEC-PH-10002275|     Technology|      Phones|Mitel 5320 IP Pho...| 907.152|       6|     0.2| 90.7152|2014|\n",
      "|     9|CA-2014-115812|2014-06-09| 6/14/2014|Standard Class|   BH-11710|   Brosina Hoffman|   Consumer|United States|    Los Angeles|    California|      90032|   West|OFF-BI-10003910|Office Supplies|     Binders|DXL Angle-View Bi...|  18.504|       3|     0.2|  5.7825|2014|\n",
      "|    10|CA-2014-115812|2014-06-09| 6/14/2014|Standard Class|   BH-11710|   Brosina Hoffman|   Consumer|United States|    Los Angeles|    California|      90032|   West|OFF-AP-10002892|Office Supplies|  Appliances|Belkin F5C206VTEL...|   114.9|       5|     0.0|   34.47|2014|\n",
      "|    11|CA-2014-115812|2014-06-09| 6/14/2014|Standard Class|   BH-11710|   Brosina Hoffman|   Consumer|United States|    Los Angeles|    California|      90032|   West|FUR-TA-10001539|      Furniture|      Tables|Chromcraft Rectan...|1706.184|       9|     0.2| 85.3092|2014|\n",
      "|    12|CA-2014-115812|2014-06-09| 6/14/2014|Standard Class|   BH-11710|   Brosina Hoffman|   Consumer|United States|    Los Angeles|    California|      90032|   West|TEC-PH-10002033|     Technology|      Phones|Konftel 250 Confe...| 911.424|       4|     0.2| 68.3568|2014|\n",
      "|    13|CA-2017-114412|2017-04-15| 4/20/2017|Standard Class|   AA-10480|      Andrew Allen|   Consumer|United States|        Concord|North Carolina|      28027|  South|OFF-PA-10002365|Office Supplies|       Paper|          Xerox 1967|  15.552|       3|     0.2|  5.4432|2017|\n",
      "|    14|CA-2016-161389|2016-12-05|12/10/2016|Standard Class|   IM-15070|      Irene Maddox|   Consumer|United States|        Seattle|    Washington|      98103|   West|OFF-BI-10003656|Office Supplies|     Binders|Fellowes PB200 Pl...| 407.976|       3|     0.2|132.5922|2016|\n",
      "|    15|US-2015-118983|2015-11-22|11/26/2015|Standard Class|   HP-14815|     Harold Pawlan|Home Office|United States|     Fort Worth|         Texas|      76106|Central|OFF-AP-10002311|Office Supplies|  Appliances|Holmes Replacemen...|   68.81|       5|     0.8|-123.858|2015|\n",
      "|    16|US-2015-118983|2015-11-22|11/26/2015|Standard Class|   HP-14815|     Harold Pawlan|Home Office|United States|     Fort Worth|         Texas|      76106|Central|OFF-BI-10000756|Office Supplies|     Binders|Storex DuraTech R...|   2.544|       3|     0.8|  -3.816|2015|\n",
      "|    17|CA-2014-105893|2014-11-11|11/18/2014|Standard Class|   PK-19075|         Pete Kriz|   Consumer|United States|        Madison|     Wisconsin|      53711|Central|OFF-ST-10004186|Office Supplies|     Storage|\"Stur-D-Stor Shel...|  665.88|       6|     0.0| 13.3176|2014|\n",
      "|    18|CA-2014-167164|2014-05-13| 5/15/2014|  Second Class|   AG-10270|   Alejandro Grove|   Consumer|United States|    West Jordan|          Utah|      84084|   West|OFF-ST-10000107|Office Supplies|     Storage|Fellowes Super St...|    55.5|       2|     0.0|    9.99|2014|\n",
      "|    19|CA-2014-143336|2014-08-27|  9/1/2014|  Second Class|   ZD-21925|Zuschuss Donatelli|   Consumer|United States|  San Francisco|    California|      94109|   West|OFF-AR-10003056|Office Supplies|         Art|          Newell 341|    8.56|       2|     0.0|  2.4824|2014|\n",
      "|    20|CA-2014-143336|2014-08-27|  9/1/2014|  Second Class|   ZD-21925|Zuschuss Donatelli|   Consumer|United States|  San Francisco|    California|      94109|   West|TEC-PH-10001949|     Technology|      Phones|Cisco SPA 501G IP...|  213.48|       3|     0.2|  16.011|2014|\n",
      "+------+--------------+----------+----------+--------------+-----------+------------------+-----------+-------------+---------------+--------------+-----------+-------+---------------+---------------+------------+--------------------+--------+--------+--------+--------+----+\n",
      "only showing top 20 rows\n",
      "\n"
     ]
    }
   ],
   "source": [
    "df = df.withColumn(\"Order Date\", to_date(col(\"Order Date\"),\"M/d/yyyy\"))\n",
    "df = df.withColumn(\"Year\", year(col(\"Order Date\")))\n",
    "df.show()"
   ]
  },
  {
   "cell_type": "code",
   "execution_count": 16,
   "id": "a836202c-f398-42c5-933b-ae506935adec",
   "metadata": {
    "tags": []
   },
   "outputs": [
    {
     "name": "stderr",
     "output_type": "stream",
     "text": [
      "Hive Session ID = c74f2d61-93f0-49d4-aa84-9a1500ef63e8\n"
     ]
    },
    {
     "name": "stdout",
     "output_type": "stream",
     "text": [
      "13:45:07.370 [Thread-3] ERROR org.apache.hadoop.hive.metastore.utils.FileUtils - Failed to delete s3a://warehouse/tb_sales_final\n"
     ]
    },
    {
     "name": "stderr",
     "output_type": "stream",
     "text": [
      "                                                                                \r"
     ]
    }
   ],
   "source": [
    "df.write.format('parquet').mode('overwrite').partitionBy(\"Year\").saveAsTable(\"tb_sales_final\")"
   ]
  },
  {
   "cell_type": "code",
   "execution_count": 17,
   "id": "aafa8c08-7037-436b-91ba-244bf5a080f8",
   "metadata": {
    "tags": []
   },
   "outputs": [
    {
     "name": "stdout",
     "output_type": "stream",
     "text": [
      "+---------+\n",
      "|partition|\n",
      "+---------+\n",
      "|Year=2014|\n",
      "|Year=2015|\n",
      "|Year=2016|\n",
      "|Year=2017|\n",
      "+---------+\n",
      "\n",
      "+------+--------------+----------+----------+--------------+-----------+------------------+-----------+-------------+-------------+--------------+-----------+-------+---------------+---------------+------------+--------------------+-------+--------+--------+--------+----+\n",
      "|Row ID|      Order ID|Order Date| Ship Date|     Ship Mode|Customer ID|     Customer Name|    Segment|      Country|         City|         State|Postal Code| Region|     Product ID|       Category|Sub-Category|        Product Name|  Sales|Quantity|Discount|  Profit|Year|\n",
      "+------+--------------+----------+----------+--------------+-----------+------------------+-----------+-------------+-------------+--------------+-----------+-------+---------------+---------------+------------+--------------------+-------+--------+--------+--------+----+\n",
      "|    13|CA-2017-114412|2017-04-15| 4/20/2017|Standard Class|   AA-10480|      Andrew Allen|   Consumer|United States|      Concord|North Carolina|      28027|  South|OFF-PA-10002365|Office Supplies|       Paper|          Xerox 1967| 15.552|       3|     0.2|  5.4432|2017|\n",
      "|    24|US-2017-156909|2017-07-16| 7/18/2017|  Second Class|   SF-20065|   Sandra Flanagan|   Consumer|United States| Philadelphia|  Pennsylvania|      19140|   East|FUR-CH-10002774|      Furniture|      Chairs|Global Deluxe Sta...| 71.372|       2|     0.3| -1.0196|2017|\n",
      "|    35|CA-2017-107727|2017-10-19|10/23/2017|  Second Class|   MA-17560|      Matt Abelman|Home Office|United States|      Houston|         Texas|      77095|Central|OFF-PA-10000249|Office Supplies|       Paper|   Easy-staple paper| 29.472|       3|     0.2|  9.9468|2017|\n",
      "|    42|CA-2017-120999|2017-09-10| 9/15/2017|Standard Class|   LC-16930|    Linda Cazamias|  Corporate|United States|   Naperville|      Illinois|      60540|Central|TEC-PH-10004093|     Technology|      Phones|  Panasonic Kx-TS550|147.168|       4|     0.2| 16.5564|2017|\n",
      "|    44|CA-2017-139619|2017-09-19| 9/23/2017|Standard Class|   ES-14080|        Erin Smith|  Corporate|United States|    Melbourne|       Florida|      32935|  South|OFF-ST-10003282|Office Supplies|     Storage|Advantus 10-Drawe...| 95.616|       2|     0.2|  9.5616|2017|\n",
      "|    72|CA-2017-114440|2017-09-14| 9/17/2017|  Second Class|   TB-21520|   Tracy Blumstein|   Consumer|United States|      Jackson|      Michigan|      49201|Central|OFF-PA-10004675|Office Supplies|       Paper|\"Telephone Messag...|  19.05|       3|     0.0|   8.763|2017|\n",
      "|    76|US-2017-118038|2017-12-09|12/11/2017|   First Class|   KB-16600|       Ken Brennan|  Corporate|United States|      Houston|         Texas|      77041|Central|OFF-BI-10004182|Office Supplies|     Binders|     Economy Binders|  1.248|       3|     0.8| -1.9344|2017|\n",
      "|    77|US-2017-118038|2017-12-09|12/11/2017|   First Class|   KB-16600|       Ken Brennan|  Corporate|United States|      Houston|         Texas|      77041|Central|FUR-FU-10000260|      Furniture| Furnishings|\"6\"\" Cubicle Wall...|   null|    null|     3.0|     0.6|2017|\n",
      "|    78|US-2017-118038|2017-12-09|12/11/2017|   First Class|   KB-16600|       Ken Brennan|  Corporate|United States|      Houston|         Texas|      77041|Central|OFF-ST-10000615|Office Supplies|     Storage|SimpliFile Person...|  27.24|       3|     0.2|   2.724|2017|\n",
      "|    85|US-2017-119662|2017-11-13|11/16/2017|   First Class|   CS-12400|Christopher Schild|Home Office|United States|      Chicago|      Illinois|      60623|Central|OFF-ST-10003656|Office Supplies|     Storage|Safco Industrial ...|230.376|       3|     0.2|-48.9549|2017|\n",
      "|    86|CA-2017-140088|2017-05-28| 5/30/2017|  Second Class|   PO-18865| Patrick O'Donnell|   Consumer|United States|     Columbia|South Carolina|      29203|  South|FUR-CH-10000863|      Furniture|      Chairs|Novimex Swivel Fa...| 301.96|       2|     0.0| 33.2156|2017|\n",
      "|    87|CA-2017-155558|2017-10-26| 11/2/2017|Standard Class|   PG-18895|     Paul Gonzalez|   Consumer|United States|    Rochester|     Minnesota|      55901|Central|TEC-AC-10001998|     Technology| Accessories|Logitech�LS21 Spe...|  19.99|       1|     0.0|  6.7966|2017|\n",
      "|    88|CA-2017-155558|2017-10-26| 11/2/2017|Standard Class|   PG-18895|     Paul Gonzalez|   Consumer|United States|    Rochester|     Minnesota|      55901|Central|OFF-LA-10000134|Office Supplies|      Labels|           Avery 511|   6.16|       2|     0.0|  2.9568|2017|\n",
      "|    96|US-2017-109484|2017-11-06|11/12/2017|Standard Class|   RB-19705|      Roger Barcio|Home Office|United States|     Portland|        Oregon|      97206|   West|OFF-BI-10004738|Office Supplies|     Binders|Flexible Leather-...|  5.682|       1|     0.7|  -3.788|2017|\n",
      "|    97|CA-2017-161018|2017-11-09|11/11/2017|  Second Class|   PN-18775|    Parhena Norris|Home Office|United States|New York City|      New York|      10009|   East|FUR-FU-10000629|      Furniture| Furnishings|9-3/4 Diameter Ro...|  96.53|       7|     0.0| 40.5426|2017|\n",
      "|    98|CA-2017-157833|2017-06-17| 6/20/2017|   First Class|   KD-16345|  Katherine Ducich|   Consumer|United States|San Francisco|    California|      94122|   West|OFF-BI-10001721|Office Supplies|     Binders|Trimflex Flexible...| 51.312|       3|     0.2| 17.9592|2017|\n",
      "|   107|CA-2017-119004|2017-11-23|11/28/2017|Standard Class|   JM-15250|      Janet Martin|   Consumer|United States|    Charlotte|North Carolina|      28205|  South|TEC-AC-10003499|     Technology| Accessories|Memorex Mini Trav...| 74.112|       8|     0.2| 17.6016|2017|\n",
      "|   108|CA-2017-119004|2017-11-23|11/28/2017|Standard Class|   JM-15250|      Janet Martin|   Consumer|United States|    Charlotte|North Carolina|      28205|  South|TEC-PH-10002844|     Technology|      Phones|Speck Products Ca...| 27.992|       1|     0.2|  2.0994|2017|\n",
      "|   109|CA-2017-119004|2017-11-23|11/28/2017|Standard Class|   JM-15250|      Janet Martin|   Consumer|United States|    Charlotte|North Carolina|      28205|  South|OFF-AR-10000390|Office Supplies|         Art| Newell Chalk Holder|  3.304|       1|     0.2|  1.0738|2017|\n",
      "|   111|CA-2017-146780|2017-12-25|12/30/2017|Standard Class|   CV-12805|     Cynthia Voltz|  Corporate|United States|New York City|      New York|      10035|   East|FUR-FU-10001934|      Furniture| Furnishings|Magnifier Swing A...|  41.96|       2|     0.0| 10.9096|2017|\n",
      "+------+--------------+----------+----------+--------------+-----------+------------------+-----------+-------------+-------------+--------------+-----------+-------+---------------+---------------+------------+--------------------+-------+--------+--------+--------+----+\n",
      "only showing top 20 rows\n",
      "\n"
     ]
    }
   ],
   "source": [
    "spark.sql(\"SHOW PARTITIONS default.tb_sales_final\").show()\n",
    "spark.sql(\"SELECT * FROM default.tb_sales_final\").show()"
   ]
  },
  {
   "cell_type": "code",
   "execution_count": 18,
   "id": "7b3ca367-d44d-4dac-8121-3167ebcc39ad",
   "metadata": {
    "tags": []
   },
   "outputs": [
    {
     "name": "stdout",
     "output_type": "stream",
     "text": [
      "+---------+-----------------+-----------+\n",
      "|namespace|        tableName|isTemporary|\n",
      "+---------+-----------------+-----------+\n",
      "|  default|append_test_table|      false|\n",
      "|  default|          exemplo|      false|\n",
      "|  default|   tb_sales_final|      false|\n",
      "|  default|    tb_sales_test|      false|\n",
      "|  default|    tbl_employees|      false|\n",
      "|         |all_regions_sales|       true|\n",
      "+---------+-----------------+-----------+\n",
      "\n"
     ]
    }
   ],
   "source": [
    "spark.sql(\"SHOW TABLES IN default\").show()"
   ]
  },
  {
   "cell_type": "code",
   "execution_count": 19,
   "id": "7fbde5a7-d735-4d22-b1ca-a7e794a2d93a",
   "metadata": {
    "tags": []
   },
   "outputs": [],
   "source": [
    "spark.stop()"
   ]
  }
 ],
 "metadata": {
  "kernelspec": {
   "display_name": "Python 3 (ipykernel)",
   "language": "python",
   "name": "python3"
  },
  "language_info": {
   "codemirror_mode": {
    "name": "ipython",
    "version": 3
   },
   "file_extension": ".py",
   "mimetype": "text/x-python",
   "name": "python",
   "nbconvert_exporter": "python",
   "pygments_lexer": "ipython3",
   "version": "3.10.7"
  }
 },
 "nbformat": 4,
 "nbformat_minor": 5
}
