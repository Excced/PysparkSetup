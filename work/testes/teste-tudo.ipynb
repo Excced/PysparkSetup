{
 "cells": [
  {
   "cell_type": "code",
   "execution_count": 12,
   "id": "2d51d05b-c02a-4eff-bc93-1ae5a5c3da88",
   "metadata": {
    "tags": []
   },
   "outputs": [
    {
     "data": {
      "text/html": [
       "\n",
       "            <div>\n",
       "                <p><b>SparkSession - hive</b></p>\n",
       "                \n",
       "        <div>\n",
       "            <p><b>SparkContext</b></p>\n",
       "\n",
       "            <p><a href=\"http://572ef96e8668:4040\">Spark UI</a></p>\n",
       "\n",
       "            <dl>\n",
       "              <dt>Version</dt>\n",
       "                <dd><code>v3.3.2</code></dd>\n",
       "              <dt>Master</dt>\n",
       "                <dd><code>spark://spark-master:7077</code></dd>\n",
       "              <dt>AppName</dt>\n",
       "                <dd><code>Testando</code></dd>\n",
       "            </dl>\n",
       "        </div>\n",
       "        \n",
       "            </div>\n",
       "        "
      ],
      "text/plain": [
       "<pyspark.sql.session.SparkSession at 0x7f1e3f7974f0>"
      ]
     },
     "execution_count": 12,
     "metadata": {},
     "output_type": "execute_result"
    }
   ],
   "source": [
    "from pyspark.sql import SparkSession\n",
    "from pyspark.sql.types import *\n",
    "\n",
    "if 'spark' in locals() or 'spark' in globals():\n",
    "    spark.stop()\n",
    "    \n",
    "spark = SparkSession\\\n",
    "    .builder\\\n",
    "    .appName(\"Testando\")\\\n",
    "    .getOrCreate()\n",
    "\n",
    "spark.sparkContext.setLogLevel(\"ERROR\")\n",
    "\n",
    "spark"
   ]
  },
  {
   "cell_type": "markdown",
   "id": "6989ee20-a604-4a15-8f81-6dc831b7d704",
   "metadata": {},
   "source": [
    "# PySpark 3.3.2\n",
    "### [Spark Session](http://127.0.0.1:4040)  \n",
    "> ### [Spark Master](http://127.0.0.1:5050)  \n",
    ">> |-- [Spark Worker A](http://127.0.0.1:5051)  \n",
    ">> |-- [Spark Worker B](http://127.0.0.1:5052)\n",
    "\n",
    "# Object Storage - [MinIO](http://127.0.0.1:9090/buckets)\n",
    "usuário: `admin`  \n",
    "senha: `password`"
   ]
  },
  {
   "cell_type": "markdown",
   "id": "d55129b5-9d1a-4dc5-a98e-62d308f4bcea",
   "metadata": {},
   "source": [
    "- PySpark + MinIO\n",
    "- PySPark + MinIO + Hive Metastore"
   ]
  },
  {
   "cell_type": "code",
   "execution_count": 17,
   "id": "6c58ca10-440c-4b21-a7de-985b5c0b53e4",
   "metadata": {
    "tags": []
   },
   "outputs": [
    {
     "name": "stdout",
     "output_type": "stream",
     "text": [
      "9994 registros lidos\n",
      "root\n",
      " |-- Row ID: integer (nullable = true)\n",
      " |-- Order ID: string (nullable = true)\n",
      " |-- Order Date: string (nullable = true)\n",
      " |-- Ship Date: string (nullable = true)\n",
      " |-- Ship Mode: string (nullable = true)\n",
      " |-- Customer ID: string (nullable = true)\n",
      " |-- Customer Name: string (nullable = true)\n",
      " |-- Segment: string (nullable = true)\n",
      " |-- Country: string (nullable = true)\n",
      " |-- City: string (nullable = true)\n",
      " |-- State: string (nullable = true)\n",
      " |-- Postal Code: string (nullable = true)\n",
      " |-- Region: string (nullable = true)\n",
      " |-- Product ID: string (nullable = true)\n",
      " |-- Category: string (nullable = true)\n",
      " |-- Sub-Category: string (nullable = true)\n",
      " |-- Product Name: string (nullable = true)\n",
      " |-- Sales: double (nullable = true)\n",
      " |-- Quantity: integer (nullable = true)\n",
      " |-- Discount: double (nullable = true)\n",
      " |-- Profit: double (nullable = true)\n",
      "\n",
      "+------+--------------+----------+----------+--------------+-----------+---------------+---------+-------------+---------------+----------+-----------+------+---------------+---------------+------------+--------------------+--------+--------+--------+--------+\n",
      "|Row ID|      Order ID|Order Date| Ship Date|     Ship Mode|Customer ID|  Customer Name|  Segment|      Country|           City|     State|Postal Code|Region|     Product ID|       Category|Sub-Category|        Product Name|   Sales|Quantity|Discount|  Profit|\n",
      "+------+--------------+----------+----------+--------------+-----------+---------------+---------+-------------+---------------+----------+-----------+------+---------------+---------------+------------+--------------------+--------+--------+--------+--------+\n",
      "|     1|CA-2016-152156| 11/8/2016|11/11/2016|  Second Class|   CG-12520|    Claire Gute| Consumer|United States|      Henderson|  Kentucky|      42420| South|FUR-BO-10001798|      Furniture|   Bookcases|Bush Somerset Col...|  261.96|       2|     0.0| 41.9136|\n",
      "|     2|CA-2016-152156| 11/8/2016|11/11/2016|  Second Class|   CG-12520|    Claire Gute| Consumer|United States|      Henderson|  Kentucky|      42420| South|FUR-CH-10000454|      Furniture|      Chairs|Hon Deluxe Fabric...|  731.94|       3|     0.0| 219.582|\n",
      "|     3|CA-2016-138688| 6/12/2016| 6/16/2016|  Second Class|   DV-13045|Darrin Van Huff|Corporate|United States|    Los Angeles|California|      90036|  West|OFF-LA-10000240|Office Supplies|      Labels|Self-Adhesive Add...|   14.62|       2|     0.0|  6.8714|\n",
      "|     4|US-2015-108966|10/11/2015|10/18/2015|Standard Class|   SO-20335| Sean O'Donnell| Consumer|United States|Fort Lauderdale|   Florida|      33311| South|FUR-TA-10000577|      Furniture|      Tables|Bretford CR4500 S...|957.5775|       5|    0.45|-383.031|\n",
      "|     5|US-2015-108966|10/11/2015|10/18/2015|Standard Class|   SO-20335| Sean O'Donnell| Consumer|United States|Fort Lauderdale|   Florida|      33311| South|OFF-ST-10000760|Office Supplies|     Storage|Eldon Fold 'N Rol...|  22.368|       2|     0.2|  2.5164|\n",
      "+------+--------------+----------+----------+--------------+-----------+---------------+---------+-------------+---------------+----------+-----------+------+---------------+---------------+------------+--------------------+--------+--------+--------+--------+\n",
      "only showing top 5 rows\n",
      "\n"
     ]
    }
   ],
   "source": [
    "path = \"s3a://my-bucket/input/sample-data.csv\"\n",
    "\n",
    "schema = StructType() \\\n",
    "        .add(\"Row ID\", IntegerType(), True) \\\n",
    "        .add(\"Order ID\", StringType(), True) \\\n",
    "        .add(\"Order Date\", StringType(), True) \\\n",
    "        .add(\"Ship Date\", StringType(), True) \\\n",
    "        .add(\"Ship Mode\", StringType(), True) \\\n",
    "        .add(\"Customer ID\", StringType(), True) \\\n",
    "        .add(\"Customer Name\", StringType(), True) \\\n",
    "        .add(\"Segment\", StringType(), True) \\\n",
    "        .add(\"Country\", StringType(), True) \\\n",
    "        .add(\"City\", StringType(), True) \\\n",
    "        .add(\"State\", StringType(), True) \\\n",
    "        .add(\"Postal Code\", StringType(), True) \\\n",
    "        .add(\"Region\", StringType(), True) \\\n",
    "        .add(\"Product ID\", StringType(), True) \\\n",
    "        .add(\"Category\", StringType(), True) \\\n",
    "        .add(\"Sub-Category\", StringType(), True) \\\n",
    "        .add(\"Product Name\", StringType(), True) \\\n",
    "        .add(\"Sales\", DoubleType(), True) \\\n",
    "        .add(\"Quantity\", IntegerType(), True) \\\n",
    "        .add(\"Discount\", DoubleType(), True) \\\n",
    "        .add(\"Profit\", DoubleType(), True)\n",
    "\n",
    "df = spark.read.csv(path = path, schema = schema, header = True)\n",
    "\n",
    "print(f'{df.count()} registros lidos')\n",
    "df.printSchema()\n",
    "df.show(5)"
   ]
  },
  {
   "cell_type": "markdown",
   "id": "3c176cba-6926-4ab2-aa64-cfc9ebd443e4",
   "metadata": {},
   "source": []
  },
  {
   "cell_type": "code",
   "execution_count": 18,
   "id": "8ed63000-7c64-40de-981e-c76131ec2767",
   "metadata": {
    "tags": []
   },
   "outputs": [
    {
     "name": "stdout",
     "output_type": "stream",
     "text": [
      "+-------+---------------+------------------+\n",
      "| Region|       Category|        TotalSales|\n",
      "+-------+---------------+------------------+\n",
      "|Central|      Furniture|162783.14380000005|\n",
      "|Central|Office Supplies|164616.19700000016|\n",
      "|Central|     Technology| 170401.5319999999|\n",
      "|   East|      Furniture|205540.34800000011|\n",
      "|   East|Office Supplies|201781.62299999985|\n",
      "|   East|     Technology|264872.08300000033|\n",
      "|  South|      Furniture| 116273.1360000001|\n",
      "|  South|Office Supplies|123979.92499999993|\n",
      "|  South|     Technology|148730.52399999992|\n",
      "|   West|      Furniture|248450.23350000026|\n",
      "|   West|Office Supplies|213125.18300000002|\n",
      "|   West|     Technology|251895.92799999993|\n",
      "+-------+---------------+------------------+\n",
      "\n"
     ]
    }
   ],
   "source": [
    "df = df.groupBy(['Region','Category'])\\\n",
    "    .sum('Sales')\\\n",
    "    .orderBy(['Region', 'Category'])\\\n",
    "    .withColumnRenamed('sum(Sales)', 'TotalSales')\n",
    "df.show()"
   ]
  },
  {
   "cell_type": "code",
   "execution_count": 19,
   "id": "fab01f1e-bc24-4c3f-9f1a-87642d6b5356",
   "metadata": {
    "tags": []
   },
   "outputs": [
    {
     "name": "stdout",
     "output_type": "stream",
     "text": [
      "+------+---------------+------------------+\n",
      "|Region|       Category|        TotalSales|\n",
      "+------+---------------+------------------+\n",
      "| South|      Furniture| 116273.1360000001|\n",
      "| South|Office Supplies|123979.92499999993|\n",
      "| South|     Technology|148730.52399999992|\n",
      "+------+---------------+------------------+\n",
      "\n"
     ]
    }
   ],
   "source": [
    "df.createOrReplaceTempView(\"all_regions_total_sales\")\n",
    "\n",
    "query = \\\n",
    "\"\"\"\n",
    "SELECT *\n",
    "FROM all_regions_total_sales\n",
    "WHERE Region = 'South'\n",
    "\"\"\"\n",
    "\n",
    "queryResults = spark.sql(sqlQuery = query)\n",
    "queryResults.show()"
   ]
  },
  {
   "cell_type": "code",
   "execution_count": null,
   "id": "ac6da1f4-b09d-45b0-a097-4a146996b3de",
   "metadata": {},
   "outputs": [],
   "source": [
    "df.write.option(\"compression\", \"snappy\")\\\n",
    "    .mode('overwrite')\\\n",
    "    .partitionBy('Region')\\\n",
    "    .format('parquet')\\\n",
    "    .save(path = \"s3a://my-bucket/output/exemplo_1/\")"
   ]
  }
 ],
 "metadata": {
  "kernelspec": {
   "display_name": "Python 3 (ipykernel)",
   "language": "python",
   "name": "python3"
  },
  "language_info": {
   "codemirror_mode": {
    "name": "ipython",
    "version": 3
   },
   "file_extension": ".py",
   "mimetype": "text/x-python",
   "name": "python",
   "nbconvert_exporter": "python",
   "pygments_lexer": "ipython3",
   "version": "3.10.12"
  }
 },
 "nbformat": 4,
 "nbformat_minor": 5
}
