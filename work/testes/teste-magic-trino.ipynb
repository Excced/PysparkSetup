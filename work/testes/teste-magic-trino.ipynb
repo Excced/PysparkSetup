{
 "cells": [
  {
   "cell_type": "markdown",
   "id": "b1fac34f-45e3-4f28-8a42-4430acb660bd",
   "metadata": {},
   "source": [
    "# Testanto os comandos Magic para utilizar o Trino\n",
    "\n",
    "Utilizando %trino para instruções em uma linha ou %%trino quando deseja-se utilizar mais linhas"
   ]
  },
  {
   "cell_type": "markdown",
   "id": "03e5738d-e189-46db-9584-f5b0177c674e",
   "metadata": {
    "tags": []
   },
   "source": [
    "É necessário carregar a extensão do jupyter_sql_editor"
   ]
  },
  {
   "cell_type": "code",
   "execution_count": 3,
   "id": "a74dbc69-5bd7-45a1-b2d6-29c1614a39ff",
   "metadata": {
    "tags": []
   },
   "outputs": [],
   "source": [
    "%load_ext jupyterlab_sql_editor.ipython_magic.trino"
   ]
  },
  {
   "cell_type": "markdown",
   "id": "f67952cb-db44-46b2-bffd-3669842f660f",
   "metadata": {},
   "source": [
    "Utilizar o comando para atualizar todos os catálogos"
   ]
  },
  {
   "cell_type": "code",
   "execution_count": 6,
   "id": "9b250002-57d6-4d34-9b91-538b6c929c38",
   "metadata": {
    "tags": []
   },
   "outputs": [
    {
     "name": "stdout",
     "output_type": "stream",
     "text": [
      "Exporting functions: [########################################] 100.0%\n",
      "Schema file updated: /tmp/trinodb.schema.json\n"
     ]
    }
   ],
   "source": [
    "%trino --refresh all"
   ]
  },
  {
   "cell_type": "code",
   "execution_count": 5,
   "id": "3ad85bca-cab5-42fd-a8fb-472c3c10a226",
   "metadata": {
    "tags": []
   },
   "outputs": [
    {
     "data": {
      "text/html": [
       "<table><table border='1'>\n",
       "<tr><th>Catalog</th></tr>\n",
       "<tr><td>delta</td></tr>\n",
       "<tr><td>hive</td></tr>\n",
       "<tr><td>jmx</td></tr>\n",
       "<tr><td>memory</td></tr>\n",
       "<tr><td>system</td></tr>\n",
       "<tr><td>tpcds</td></tr>\n",
       "<tr><td>tpch</td></tr>\n",
       "</table>\n",
       "</table>"
      ],
      "text/plain": [
       "<IPython.core.display.HTML object>"
      ]
     },
     "metadata": {},
     "output_type": "display_data"
    }
   ],
   "source": [
    "%%trino --raw\n",
    "\n",
    "SHOW CATALOGS"
   ]
  },
  {
   "cell_type": "code",
   "execution_count": 7,
   "id": "41cc0ea3-b691-4c1d-94f0-a78502b03064",
   "metadata": {
    "tags": []
   },
   "outputs": [
    {
     "data": {
      "text/html": [
       "<table><table border='1'>\n",
       "<tr><th>Table</th></tr>\n",
       "<tr><td>append_test_table</td></tr>\n",
       "<tr><td>exemplo</td></tr>\n",
       "<tr><td>table_stream</td></tr>\n",
       "<tr><td>tb_sales_final</td></tr>\n",
       "<tr><td>tb_sales_test</td></tr>\n",
       "</table>\n",
       "</table>"
      ],
      "text/plain": [
       "<IPython.core.display.HTML object>"
      ]
     },
     "metadata": {},
     "output_type": "display_data"
    }
   ],
   "source": [
    "%%trino --raw\n",
    "\n",
    "SHOW TABLES IN hive.default"
   ]
  },
  {
   "cell_type": "code",
   "execution_count": 8,
   "id": "13768dee-fb1c-4dea-a63d-8aca4c3c8e9c",
   "metadata": {
    "tags": []
   },
   "outputs": [
    {
     "data": {
      "text/html": [
       "<table><table border='1'>\n",
       "<tr><th>transaction-ts</th><th>transaction-id</th><th>product-id</th></tr>\n",
       "<tr><td>2023-05-03 17:49:45</td><td>141f8cd7-99d5-4641-ad0d-1c6b6c64c8c3</td><td>146</td></tr>\n",
       "<tr><td>2023-05-03 17:50:55</td><td>3ba1a00b-94e6-4ebf-ab19-d3572186f385</td><td>498</td></tr>\n",
       "<tr><td>2023-05-03 17:51:40</td><td>2a3bf929-78a4-483f-975b-8e5ecf69ed06</td><td>357</td></tr>\n",
       "<tr><td>2023-05-03 17:52:45</td><td>950f6cb9-b222-4097-961a-3cbdc584c9c4</td><td>645</td></tr>\n",
       "<tr><td>2023-05-03 17:50:35</td><td>c38b5fa8-fd3a-429f-9e01-3d6f74aef3da</td><td>683</td></tr>\n",
       "<tr><td>2023-05-03 17:52:25</td><td>d61a3a77-2383-420f-846a-ea4a4de803e5</td><td>221</td></tr>\n",
       "<tr><td>2023-05-03 17:52:45</td><td>49921717-81e4-4a5e-ad4f-6085a02b8045</td><td>360</td></tr>\n",
       "<tr><td>2023-05-03 17:52:45</td><td>fecf9b4c-6ef7-4e30-bea5-d64c71cc4de8</td><td>821</td></tr>\n",
       "<tr><td>2023-05-03 17:57:10</td><td>9974faa7-0f24-4a53-af96-3ef16bdd991f</td><td>657</td></tr>\n",
       "<tr><td>2023-05-03 17:54:25</td><td>b4b8c0ab-c115-47dd-82a2-5f8b21a93ac2</td><td>538</td></tr>\n",
       "</table>\n",
       "</table>"
      ],
      "text/plain": [
       "<IPython.core.display.HTML object>"
      ]
     },
     "metadata": {},
     "output_type": "display_data"
    }
   ],
   "source": [
    "%%trino --raw\n",
    "\n",
    "SELECT * \n",
    "FROM hive.default.table_stream \n",
    "LIMIT 10"
   ]
  }
 ],
 "metadata": {
  "kernelspec": {
   "display_name": "Python 3 (ipykernel)",
   "language": "python",
   "name": "python3"
  },
  "language_info": {
   "codemirror_mode": {
    "name": "ipython",
    "version": 3
   },
   "file_extension": ".py",
   "mimetype": "text/x-python",
   "name": "python",
   "nbconvert_exporter": "python",
   "pygments_lexer": "ipython3",
   "version": "3.10.7"
  }
 },
 "nbformat": 4,
 "nbformat_minor": 5
}
