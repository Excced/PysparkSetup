{
 "cells": [
  {
   "cell_type": "markdown",
   "id": "b1fac34f-45e3-4f28-8a42-4430acb660bd",
   "metadata": {},
   "source": [
    "# Testanto os comandos Magic para utilizar o Trino\n",
    "\n",
    "Utilizando %trino para instruções em uma linha ou %%trino quando deseja-se utilizar mais linhas"
   ]
  },
  {
   "cell_type": "markdown",
   "id": "03e5738d-e189-46db-9584-f5b0177c674e",
   "metadata": {
    "tags": []
   },
   "source": [
    "Seria necessário carregar a extensão do jupyter_sql_editor (se eu já não tivesse configurado no ipython_config.py)"
   ]
  },
  {
   "cell_type": "code",
   "execution_count": 3,
   "id": "a74dbc69-5bd7-45a1-b2d6-29c1614a39ff",
   "metadata": {
    "tags": []
   },
   "outputs": [],
   "source": [
    "%load_ext jupyterlab_sql_editor.ipython_magic.trino"
   ]
  },
  {
   "cell_type": "markdown",
   "id": "f67952cb-db44-46b2-bffd-3669842f660f",
   "metadata": {},
   "source": [
    "Utilizar o comando para atualizar todos os catálogos"
   ]
  },
  {
   "cell_type": "code",
   "execution_count": 2,
   "id": "9b250002-57d6-4d34-9b91-538b6c929c38",
   "metadata": {
    "tags": []
   },
   "outputs": [
    {
     "name": "stdout",
     "output_type": "stream",
     "text": [
      "Exporting functions: [########################################] 100.0%\n",
      "Schema file updated: /tmp/trinodb.schema.json\n"
     ]
    }
   ],
   "source": [
    "%trino --refresh all"
   ]
  },
  {
   "cell_type": "code",
   "execution_count": 1,
   "id": "3ad85bca-cab5-42fd-a8fb-472c3c10a226",
   "metadata": {
    "tags": []
   },
   "outputs": [
    {
     "data": {
      "text/html": [
       "<table><table border='1'>\n",
       "<tr><th>Catalog</th></tr>\n",
       "<tr><td>delta</td></tr>\n",
       "<tr><td>hive</td></tr>\n",
       "<tr><td>jmx</td></tr>\n",
       "<tr><td>memory</td></tr>\n",
       "<tr><td>system</td></tr>\n",
       "<tr><td>tpcds</td></tr>\n",
       "<tr><td>tpch</td></tr>\n",
       "</table>\n",
       "</table>"
      ],
      "text/plain": [
       "<IPython.core.display.HTML object>"
      ]
     },
     "metadata": {},
     "output_type": "display_data"
    }
   ],
   "source": [
    "%%trino --raw\n",
    "\n",
    "SHOW CATALOGS"
   ]
  },
  {
   "cell_type": "code",
   "execution_count": 3,
   "id": "41cc0ea3-b691-4c1d-94f0-a78502b03064",
   "metadata": {
    "tags": []
   },
   "outputs": [
    {
     "data": {
      "text/html": [
       "<table><table border='1'>\n",
       "<tr><th>Table</th></tr>\n",
       "<tr><td>append_test_table</td></tr>\n",
       "<tr><td>exemplo</td></tr>\n",
       "<tr><td>table_stream</td></tr>\n",
       "<tr><td>tb_sales_final</td></tr>\n",
       "<tr><td>tb_sales_test</td></tr>\n",
       "</table>\n",
       "</table>"
      ],
      "text/plain": [
       "<IPython.core.display.HTML object>"
      ]
     },
     "metadata": {},
     "output_type": "display_data"
    }
   ],
   "source": [
    "%%trino --raw\n",
    "\n",
    "SHOW TABLES IN hive.default"
   ]
  },
  {
   "cell_type": "code",
   "execution_count": 7,
   "id": "13768dee-fb1c-4dea-a63d-8aca4c3c8e9c",
   "metadata": {
    "tags": []
   },
   "outputs": [
    {
     "data": {
      "text/html": [
       "<table><table border='1'>\n",
       "<tr><th>transaction-ts</th><th>transaction-id</th><th>product-id</th></tr>\n",
       "<tr><td>2023-05-03 17:58:25</td><td>f295d783-c127-4eec-8894-16148ed82bc6</td><td>225</td></tr>\n",
       "<tr><td>2023-05-03 17:57:40</td><td>1395cc06-0607-4b4e-8fc3-2051b04a9d2b</td><td>732</td></tr>\n",
       "<tr><td>2023-05-03 17:15:50</td><td>bbceff17-dd8a-4322-aa4e-f652f47cd633</td><td>590</td></tr>\n",
       "<tr><td>2023-05-03 17:15:50</td><td>1499872c-ee33-444f-ab0e-a0893d83d214</td><td>30</td></tr>\n",
       "<tr><td>2023-05-03 17:15:50</td><td>84597b19-9b28-48dd-9c1b-22713df363de</td><td>899</td></tr>\n",
       "<tr><td>2023-05-03 17:15:50</td><td>7805c1e8-cdeb-4afc-84f6-711014a19c3f</td><td>277</td></tr>\n",
       "<tr><td>2023-05-03 17:58:25</td><td>5279ccc9-2091-4278-8238-3e7f6641bbcf</td><td>170</td></tr>\n",
       "<tr><td>2023-05-03 17:58:25</td><td>75e80eb5-ced9-40ed-911e-89b7951b7732</td><td>983</td></tr>\n",
       "<tr><td>2023-05-03 17:58:25</td><td>b22b697e-a4b0-4c82-88c4-90d64d017ddd</td><td>814</td></tr>\n",
       "<tr><td>2023-05-03 17:58:25</td><td>2492983c-62c6-481d-ba04-d9bfe5b68ba3</td><td>526</td></tr>\n",
       "</table>\n",
       "</table>"
      ],
      "text/plain": [
       "<IPython.core.display.HTML object>"
      ]
     },
     "metadata": {},
     "output_type": "display_data"
    }
   ],
   "source": [
    "%%trino --raw\n",
    "\n",
    "SELECT * \n",
    "FROM hive.default.table_stream \n",
    "LIMIT 10"
   ]
  },
  {
   "cell_type": "code",
   "execution_count": 8,
   "id": "d5d89e11-8c1c-4ef9-a12e-2eaa2f48e1d9",
   "metadata": {
    "tags": []
   },
   "outputs": [
    {
     "name": "stdout",
     "output_type": "stream",
     "text": [
      "Only showing top 20 row(s)\n"
     ]
    },
    {
     "data": {
      "text/html": [
       "<table><table border='1'>\n",
       "<tr><th>transaction-ts</th><th>transaction-id</th><th>product-id</th></tr>\n",
       "<tr><td>2023-05-03 17:58:00</td><td>473da94a-465c-4d77-b2aa-f9b0438e478d</td><td>965</td></tr>\n",
       "<tr><td>2023-05-03 17:58:00</td><td>606c6205-8811-43b4-9ada-138132a0110b</td><td>105</td></tr>\n",
       "<tr><td>2023-05-03 17:58:00</td><td>3348d116-2e34-47ba-8b43-af19ea473848</td><td>405</td></tr>\n",
       "<tr><td>2023-05-03 17:58:00</td><td>47e9c95b-e28c-4e4b-a4aa-c21f8db06e4a</td><td>325</td></tr>\n",
       "<tr><td>2023-05-03 17:58:00</td><td>501224bf-b6a7-4399-9145-dc5c678f4112</td><td>236</td></tr>\n",
       "<tr><td>2023-05-03 17:58:00</td><td>55e85544-a238-4458-a4cc-4cdffaf6e593</td><td>210</td></tr>\n",
       "<tr><td>2023-05-03 17:58:00</td><td>69021550-3ef5-43cd-a928-0a358f04d11c</td><td>140</td></tr>\n",
       "<tr><td>2023-05-03 17:58:00</td><td>f3dcf54a-6321-4fc0-8649-d31b18b56ee7</td><td>690</td></tr>\n",
       "<tr><td>2023-05-03 17:58:00</td><td>aa29d574-2680-4588-8b7e-b3655b986f02</td><td>474</td></tr>\n",
       "<tr><td>2023-05-03 17:58:00</td><td>8727583f-fd1e-4259-9805-25174a3b62f6</td><td>499</td></tr>\n",
       "<tr><td>2023-05-03 17:58:00</td><td>9328e07a-60eb-4c59-8570-a3f1cc43eeb2</td><td>920</td></tr>\n",
       "<tr><td>2023-05-03 17:58:00</td><td>943058e0-5647-4dea-b21e-59fd40b6efd5</td><td>595</td></tr>\n",
       "<tr><td>2023-05-03 17:58:00</td><td>57c8a22d-ef1a-4200-be9b-16611ee7277b</td><td>842</td></tr>\n",
       "<tr><td>2023-05-03 17:58:00</td><td>ecd905be-4372-4f87-aa9a-1d03da20c0a1</td><td>486</td></tr>\n",
       "<tr><td>2023-05-03 17:58:00</td><td>199217f8-d6d8-4bdc-8c33-3ef37ef97fe4</td><td>45</td></tr>\n",
       "<tr><td>2023-05-03 17:58:00</td><td>180799ee-1749-445c-9d65-5dd0169945a8</td><td>583</td></tr>\n",
       "<tr><td>2023-05-03 17:58:00</td><td>0d548f32-b251-4d2e-9145-6ffcf96609ed</td><td>293</td></tr>\n",
       "<tr><td>2023-05-03 17:58:00</td><td>e70f9fae-3607-4272-a058-dd48b75fb47b</td><td>11</td></tr>\n",
       "<tr><td>2023-05-03 17:58:00</td><td>8a3522f6-0de8-43df-bd8d-ab8d65da8804</td><td>977</td></tr>\n",
       "<tr><td>2023-05-03 17:58:00</td><td>f42241ec-7e2d-48af-97d0-b99f85739eec</td><td>373</td></tr>\n",
       "</table>\n",
       "</table>"
      ],
      "text/plain": [
       "<IPython.core.display.HTML object>"
      ]
     },
     "metadata": {},
     "output_type": "display_data"
    }
   ],
   "source": [
    "%%trino --raw\n",
    "\n",
    "SELECT transaction-id FROM hive.default.table_stream"
   ]
  },
  {
   "cell_type": "markdown",
   "id": "1a929e66-b848-421d-bc16-51c4463d4b22",
   "metadata": {},
   "source": [
    "# SEM TER QUE CRIAR UMA SESSÃO SPARK!!"
   ]
  }
 ],
 "metadata": {
  "kernelspec": {
   "display_name": "Python 3 (ipykernel)",
   "language": "python",
   "name": "python3"
  },
  "language_info": {
   "codemirror_mode": {
    "name": "ipython",
    "version": 3
   },
   "file_extension": ".py",
   "mimetype": "text/x-python",
   "name": "python",
   "nbconvert_exporter": "python",
   "pygments_lexer": "ipython3",
   "version": "3.10.6"
  }
 },
 "nbformat": 4,
 "nbformat_minor": 5
}
