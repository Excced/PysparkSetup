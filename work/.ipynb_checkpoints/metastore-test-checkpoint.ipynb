{
 "cells": [
  {
   "cell_type": "code",
   "execution_count": 11,
   "id": "c2bd73aa-5dd8-426c-94fc-e674ff99688e",
   "metadata": {},
   "outputs": [],
   "source": [
    "import os\n",
    "from pyspark.sql import SparkSession\n",
    "from pyspark.sql.types import StructType, StringType, DoubleType, IntegerType\n",
    "from pyspark import SparkConf, SparkContext"
   ]
  },
  {
   "cell_type": "markdown",
   "id": "0f3b8b49-1c02-4f28-9d18-1b06558ec3fb",
   "metadata": {},
   "source": [
    "## Criando a [Spark Session](http://127.0.0.1:4040/)\n",
    "Configurações padrão utilizadas no _spark-defaults.conf_ em $SPARK_HOME/conf/ "
   ]
  },
  {
   "cell_type": "code",
   "execution_count": 12,
   "id": "d58562eb-20a1-4265-a0de-b557563a67d1",
   "metadata": {},
   "outputs": [
    {
     "data": {
      "text/html": [
       "\n",
       "            <div>\n",
       "                <p><b>SparkSession - hive</b></p>\n",
       "                \n",
       "        <div>\n",
       "            <p><b>SparkContext</b></p>\n",
       "\n",
       "            <p><a href=\"http://b15d04bfbdec:4042\">Spark UI</a></p>\n",
       "\n",
       "            <dl>\n",
       "              <dt>Version</dt>\n",
       "                <dd><code>v3.3.1</code></dd>\n",
       "              <dt>Master</dt>\n",
       "                <dd><code>local[*]</code></dd>\n",
       "              <dt>AppName</dt>\n",
       "                <dd><code>Teste Metastore</code></dd>\n",
       "            </dl>\n",
       "        </div>\n",
       "        \n",
       "            </div>\n",
       "        "
      ],
      "text/plain": [
       "<pyspark.sql.session.SparkSession at 0x7f73e4058b50>"
      ]
     },
     "execution_count": 12,
     "metadata": {},
     "output_type": "execute_result"
    }
   ],
   "source": [
    "#spark.stop()\n",
    "\n",
    "spark = SparkSession \\\n",
    "    .builder \\\n",
    "    .appName(\"Teste Metastore\") \\\n",
    "    .config(\"spark.sql.warehouse.dir\", \"s3a://warehouse/\") \\\n",
    "    .config(\"spark.sql.catalogImplementation\", \"hive\")\\\n",
    "    .config(\"spark.hadoop.fs.s3a.endpoint\", \"http://minio:9000\")\\\n",
    "    .config(\"spark.hadoop.fs.s3a.access.key\", \"admin\")\\\n",
    "    .config(\"spark.hadoop.fs.s3a.secret.key\", \"admin123\")\\\n",
    "    .config(\"spark.hadoop.fs.s3a.fast.upload\", \"true\")\\\n",
    "    .config(\"spark.hadoop.fs.s3a.path.style.access\", \"true\")\\\n",
    "    .config(\"spark.hadoop.fs.s3a.impl\", \"org.apache.hadoop.fs.s3a.S3AFileSystem\")\\\n",
    "    .config(\"spark.hadoop.javax.jdo.option.ConnectionDriverName\", \"org.postgresql.Driver\")\\\n",
    "    .config(\"spark.hadoop.javax.jdo.option.ConnectionURL\", \"jdbc:postgresql://postgres:5432/metastore_db\")\\\n",
    "    .config(\"spark.hadoop.javax.jdo.option.ConnectionUserName\", \"hive\")\\\n",
    "    .config(\"spark.hadoop.javax.jdo.option.ConnectionPassword\", \"hive123\")\\\n",
    "    .config(\"spark.hadoop.datanucleus.schema.autoCreateAll\", \"true\")\\\n",
    "    .config(\"spark.hadoop.datanucleus.schema.autoCreateTables\", \"true\")\\\n",
    "    .config(\"spark.hadoop.datanucleus.fixedDatastore\", \"false\")\\\n",
    "    .config(\"spark.hadoop.hive.metastore.schema.verification\", \"false\")\\\n",
    "    .config(\"spark.hadoop.hive.metastore.schema.verification.record.version\", \"false\")\\\n",
    "    .config(\"spark.sql.hive.metastore.version\", \"2.3.9\")\\\n",
    "    .config(\"spark.sql.hive.metastore.uris\", \"thrift://0.0.0.0:9083\")\\\n",
    "    .config(\"spark.sql.hive.metastore.jars\", \"builtin\")\\\n",
    "    .enableHiveSupport() \\\n",
    "    .getOrCreate()\n",
    "\n",
    "spark.sparkContext.setLogLevel(\"ERROR\")\n",
    "spark"
   ]
  },
  {
   "cell_type": "code",
   "execution_count": 41,
   "id": "6c37951d-eb70-4b63-8b20-e55dffdc26cc",
   "metadata": {},
   "outputs": [
    {
     "name": "stdout",
     "output_type": "stream",
     "text": [
      "+------+--------------+----------+----------+--------------+-----------+------------------+-----------+-------------+---------------+--------------+-----------+-------+---------------+---------------+------------+--------------------+--------+--------+--------+--------+\n",
      "|Row ID|      Order ID|Order Date| Ship Date|     Ship Mode|Customer ID|     Customer Name|    Segment|      Country|           City|         State|Postal Code| Region|     Product ID|       Category|Sub-Category|        Product Name|   Sales|Quantity|Discount|  Profit|\n",
      "+------+--------------+----------+----------+--------------+-----------+------------------+-----------+-------------+---------------+--------------+-----------+-------+---------------+---------------+------------+--------------------+--------+--------+--------+--------+\n",
      "|     1|CA-2016-152156| 11/8/2016|11/11/2016|  Second Class|   CG-12520|       Claire Gute|   Consumer|United States|      Henderson|      Kentucky|      42420|  South|FUR-BO-10001798|      Furniture|   Bookcases|Bush Somerset Col...|  261.96|       2|     0.0| 41.9136|\n",
      "|     2|CA-2016-152156| 11/8/2016|11/11/2016|  Second Class|   CG-12520|       Claire Gute|   Consumer|United States|      Henderson|      Kentucky|      42420|  South|FUR-CH-10000454|      Furniture|      Chairs|Hon Deluxe Fabric...|  731.94|       3|     0.0| 219.582|\n",
      "|     3|CA-2016-138688| 6/12/2016| 6/16/2016|  Second Class|   DV-13045|   Darrin Van Huff|  Corporate|United States|    Los Angeles|    California|      90036|   West|OFF-LA-10000240|Office Supplies|      Labels|Self-Adhesive Add...|   14.62|       2|     0.0|  6.8714|\n",
      "|     4|US-2015-108966|10/11/2015|10/18/2015|Standard Class|   SO-20335|    Sean O'Donnell|   Consumer|United States|Fort Lauderdale|       Florida|      33311|  South|FUR-TA-10000577|      Furniture|      Tables|Bretford CR4500 S...|957.5775|       5|    0.45|-383.031|\n",
      "|     5|US-2015-108966|10/11/2015|10/18/2015|Standard Class|   SO-20335|    Sean O'Donnell|   Consumer|United States|Fort Lauderdale|       Florida|      33311|  South|OFF-ST-10000760|Office Supplies|     Storage|Eldon Fold 'N Rol...|  22.368|       2|     0.2|  2.5164|\n",
      "|     6|CA-2014-115812|  6/9/2014| 6/14/2014|Standard Class|   BH-11710|   Brosina Hoffman|   Consumer|United States|    Los Angeles|    California|      90032|   West|FUR-FU-10001487|      Furniture| Furnishings|Eldon Expressions...|   48.86|       7|     0.0| 14.1694|\n",
      "|     7|CA-2014-115812|  6/9/2014| 6/14/2014|Standard Class|   BH-11710|   Brosina Hoffman|   Consumer|United States|    Los Angeles|    California|      90032|   West|OFF-AR-10002833|Office Supplies|         Art|          Newell 322|    7.28|       4|     0.0|  1.9656|\n",
      "|     8|CA-2014-115812|  6/9/2014| 6/14/2014|Standard Class|   BH-11710|   Brosina Hoffman|   Consumer|United States|    Los Angeles|    California|      90032|   West|TEC-PH-10002275|     Technology|      Phones|Mitel 5320 IP Pho...| 907.152|       6|     0.2| 90.7152|\n",
      "|     9|CA-2014-115812|  6/9/2014| 6/14/2014|Standard Class|   BH-11710|   Brosina Hoffman|   Consumer|United States|    Los Angeles|    California|      90032|   West|OFF-BI-10003910|Office Supplies|     Binders|DXL Angle-View Bi...|  18.504|       3|     0.2|  5.7825|\n",
      "|    10|CA-2014-115812|  6/9/2014| 6/14/2014|Standard Class|   BH-11710|   Brosina Hoffman|   Consumer|United States|    Los Angeles|    California|      90032|   West|OFF-AP-10002892|Office Supplies|  Appliances|Belkin F5C206VTEL...|   114.9|       5|     0.0|   34.47|\n",
      "|    11|CA-2014-115812|  6/9/2014| 6/14/2014|Standard Class|   BH-11710|   Brosina Hoffman|   Consumer|United States|    Los Angeles|    California|      90032|   West|FUR-TA-10001539|      Furniture|      Tables|Chromcraft Rectan...|1706.184|       9|     0.2| 85.3092|\n",
      "|    12|CA-2014-115812|  6/9/2014| 6/14/2014|Standard Class|   BH-11710|   Brosina Hoffman|   Consumer|United States|    Los Angeles|    California|      90032|   West|TEC-PH-10002033|     Technology|      Phones|Konftel 250 Confe...| 911.424|       4|     0.2| 68.3568|\n",
      "|    13|CA-2017-114412| 4/15/2017| 4/20/2017|Standard Class|   AA-10480|      Andrew Allen|   Consumer|United States|        Concord|North Carolina|      28027|  South|OFF-PA-10002365|Office Supplies|       Paper|          Xerox 1967|  15.552|       3|     0.2|  5.4432|\n",
      "|    14|CA-2016-161389| 12/5/2016|12/10/2016|Standard Class|   IM-15070|      Irene Maddox|   Consumer|United States|        Seattle|    Washington|      98103|   West|OFF-BI-10003656|Office Supplies|     Binders|Fellowes PB200 Pl...| 407.976|       3|     0.2|132.5922|\n",
      "|    15|US-2015-118983|11/22/2015|11/26/2015|Standard Class|   HP-14815|     Harold Pawlan|Home Office|United States|     Fort Worth|         Texas|      76106|Central|OFF-AP-10002311|Office Supplies|  Appliances|Holmes Replacemen...|   68.81|       5|     0.8|-123.858|\n",
      "|    16|US-2015-118983|11/22/2015|11/26/2015|Standard Class|   HP-14815|     Harold Pawlan|Home Office|United States|     Fort Worth|         Texas|      76106|Central|OFF-BI-10000756|Office Supplies|     Binders|Storex DuraTech R...|   2.544|       3|     0.8|  -3.816|\n",
      "|    17|CA-2014-105893|11/11/2014|11/18/2014|Standard Class|   PK-19075|         Pete Kriz|   Consumer|United States|        Madison|     Wisconsin|      53711|Central|OFF-ST-10004186|Office Supplies|     Storage|\"Stur-D-Stor Shel...|  665.88|       6|     0.0| 13.3176|\n",
      "|    18|CA-2014-167164| 5/13/2014| 5/15/2014|  Second Class|   AG-10270|   Alejandro Grove|   Consumer|United States|    West Jordan|          Utah|      84084|   West|OFF-ST-10000107|Office Supplies|     Storage|Fellowes Super St...|    55.5|       2|     0.0|    9.99|\n",
      "|    19|CA-2014-143336| 8/27/2014|  9/1/2014|  Second Class|   ZD-21925|Zuschuss Donatelli|   Consumer|United States|  San Francisco|    California|      94109|   West|OFF-AR-10003056|Office Supplies|         Art|          Newell 341|    8.56|       2|     0.0|  2.4824|\n",
      "|    20|CA-2014-143336| 8/27/2014|  9/1/2014|  Second Class|   ZD-21925|Zuschuss Donatelli|   Consumer|United States|  San Francisco|    California|      94109|   West|TEC-PH-10001949|     Technology|      Phones|Cisco SPA 501G IP...|  213.48|       3|     0.2|  16.011|\n",
      "+------+--------------+----------+----------+--------------+-----------+------------------+-----------+-------------+---------------+--------------+-----------+-------+---------------+---------------+------------+--------------------+--------+--------+--------+--------+\n",
      "only showing top 20 rows\n",
      "\n"
     ]
    }
   ],
   "source": [
    "path = \"s3a://not-a-s3-bucket/input/sample-data.csv\"\n",
    "\n",
    "schema = StructType() \\\n",
    "        .add(\"Row ID\", IntegerType(), True) \\\n",
    "        .add(\"Order ID\", StringType(), True) \\\n",
    "        .add(\"Order Date\", StringType(), True) \\\n",
    "        .add(\"Ship Date\", StringType(), True) \\\n",
    "        .add(\"Ship Mode\", StringType(), True) \\\n",
    "        .add(\"Customer ID\", StringType(), True) \\\n",
    "        .add(\"Customer Name\", StringType(), True) \\\n",
    "        .add(\"Segment\", StringType(), True) \\\n",
    "        .add(\"Country\", StringType(), True) \\\n",
    "        .add(\"City\", StringType(), True) \\\n",
    "        .add(\"State\", StringType(), True) \\\n",
    "        .add(\"Postal Code\", StringType(), True) \\\n",
    "        .add(\"Region\", StringType(), True) \\\n",
    "        .add(\"Product ID\", StringType(), True) \\\n",
    "        .add(\"Category\", StringType(), True) \\\n",
    "        .add(\"Sub-Category\", StringType(), True) \\\n",
    "        .add(\"Product Name\", StringType(), True) \\\n",
    "        .add(\"Sales\", DoubleType(), True) \\\n",
    "        .add(\"Quantity\", IntegerType(), True) \\\n",
    "        .add(\"Discount\", DoubleType(), True) \\\n",
    "        .add(\"Profit\", DoubleType(), True)\n",
    "\n",
    "df = spark.read.csv(path = path, schema = schema, header = True)\n",
    "df.show()"
   ]
  },
  {
   "cell_type": "code",
   "execution_count": 8,
   "id": "8c5db8ff-0ad6-492b-8b5d-884fda52c703",
   "metadata": {},
   "outputs": [
    {
     "name": "stderr",
     "output_type": "stream",
     "text": [
      "                                                                                \r"
     ]
    }
   ],
   "source": [
    "df.write.option(\"compression\", \"snappy\")\\\n",
    "    .mode('overwrite')\\\n",
    "    .partitionBy('Region')\\\n",
    "    .format('parquet')\\\n",
    "    .saveAsTable('tb_sales_test')"
   ]
  },
  {
   "cell_type": "code",
   "execution_count": 9,
   "id": "e7578ca3-b378-4ab3-ad65-463302811298",
   "metadata": {},
   "outputs": [
    {
     "name": "stdout",
     "output_type": "stream",
     "text": [
      "+---------+-------------+-----------+\n",
      "|namespace|    tableName|isTemporary|\n",
      "+---------+-------------+-----------+\n",
      "|  default|tb_sales_test|      false|\n",
      "+---------+-------------+-----------+\n",
      "\n"
     ]
    }
   ],
   "source": [
    "spark.sql(\"SHOW TABLES\").show()"
   ]
  },
  {
   "cell_type": "code",
   "execution_count": 26,
   "id": "529597c8-7350-4271-906a-d7aba3962850",
   "metadata": {},
   "outputs": [
    {
     "data": {
      "text/plain": [
       "True"
      ]
     },
     "execution_count": 26,
     "metadata": {},
     "output_type": "execute_result"
    }
   ],
   "source": [
    "spark.catalog.tableExists(tableName = \"tb_sales_test\")"
   ]
  },
  {
   "cell_type": "code",
   "execution_count": 28,
   "id": "27282080-fff4-46fd-bcc4-8998b2fd6920",
   "metadata": {},
   "outputs": [
    {
     "name": "stdout",
     "output_type": "stream",
     "text": [
      "+--------------+\n",
      "|     partition|\n",
      "+--------------+\n",
      "|Region=Central|\n",
      "|   Region=East|\n",
      "|  Region=South|\n",
      "|   Region=West|\n",
      "+--------------+\n",
      "\n"
     ]
    }
   ],
   "source": [
    "spark.sql(\"SHOW PARTITIONS default.tb_sales_test\").show()"
   ]
  },
  {
   "cell_type": "code",
   "execution_count": 18,
   "id": "3441e781-fedc-4b06-98ed-12b85fed4e2c",
   "metadata": {},
   "outputs": [
    {
     "name": "stdout",
     "output_type": "stream",
     "text": [
      "+------+--------------+----------+----------+--------------+-----------+---------------+---------+-------------+-----------+----------+-----------+---------------+---------------+------------+--------------------+--------+--------+--------+--------+------+\n",
      "|Row ID|      Order ID|Order Date| Ship Date|     Ship Mode|Customer ID|  Customer Name|  Segment|      Country|       City|     State|Postal Code|     Product ID|       Category|Sub-Category|        Product Name|   Sales|Quantity|Discount|  Profit|Region|\n",
      "+------+--------------+----------+----------+--------------+-----------+---------------+---------+-------------+-----------+----------+-----------+---------------+---------------+------------+--------------------+--------+--------+--------+--------+------+\n",
      "|     3|CA-2016-138688| 6/12/2016| 6/16/2016|  Second Class|   DV-13045|Darrin Van Huff|Corporate|United States|Los Angeles|California|      90036|OFF-LA-10000240|Office Supplies|      Labels|Self-Adhesive Add...|   14.62|       2|     0.0|  6.8714|  West|\n",
      "|     6|CA-2014-115812|  6/9/2014| 6/14/2014|Standard Class|   BH-11710|Brosina Hoffman| Consumer|United States|Los Angeles|California|      90032|FUR-FU-10001487|      Furniture| Furnishings|Eldon Expressions...|   48.86|       7|     0.0| 14.1694|  West|\n",
      "|     7|CA-2014-115812|  6/9/2014| 6/14/2014|Standard Class|   BH-11710|Brosina Hoffman| Consumer|United States|Los Angeles|California|      90032|OFF-AR-10002833|Office Supplies|         Art|          Newell 322|    7.28|       4|     0.0|  1.9656|  West|\n",
      "|     8|CA-2014-115812|  6/9/2014| 6/14/2014|Standard Class|   BH-11710|Brosina Hoffman| Consumer|United States|Los Angeles|California|      90032|TEC-PH-10002275|     Technology|      Phones|Mitel 5320 IP Pho...| 907.152|       6|     0.2| 90.7152|  West|\n",
      "|     9|CA-2014-115812|  6/9/2014| 6/14/2014|Standard Class|   BH-11710|Brosina Hoffman| Consumer|United States|Los Angeles|California|      90032|OFF-BI-10003910|Office Supplies|     Binders|DXL Angle-View Bi...|  18.504|       3|     0.2|  5.7825|  West|\n",
      "|    10|CA-2014-115812|  6/9/2014| 6/14/2014|Standard Class|   BH-11710|Brosina Hoffman| Consumer|United States|Los Angeles|California|      90032|OFF-AP-10002892|Office Supplies|  Appliances|Belkin F5C206VTEL...|   114.9|       5|     0.0|   34.47|  West|\n",
      "|    11|CA-2014-115812|  6/9/2014| 6/14/2014|Standard Class|   BH-11710|Brosina Hoffman| Consumer|United States|Los Angeles|California|      90032|FUR-TA-10001539|      Furniture|      Tables|Chromcraft Rectan...|1706.184|       9|     0.2| 85.3092|  West|\n",
      "|    12|CA-2014-115812|  6/9/2014| 6/14/2014|Standard Class|   BH-11710|Brosina Hoffman| Consumer|United States|Los Angeles|California|      90032|TEC-PH-10002033|     Technology|      Phones|Konftel 250 Confe...| 911.424|       4|     0.2| 68.3568|  West|\n",
      "|    14|CA-2016-161389| 12/5/2016|12/10/2016|Standard Class|   IM-15070|   Irene Maddox| Consumer|United States|    Seattle|Washington|      98103|OFF-BI-10003656|Office Supplies|     Binders|Fellowes PB200 Pl...| 407.976|       3|     0.2|132.5922|  West|\n",
      "|    18|CA-2014-167164| 5/13/2014| 5/15/2014|  Second Class|   AG-10270|Alejandro Grove| Consumer|United States|West Jordan|      Utah|      84084|OFF-ST-10000107|Office Supplies|     Storage|Fellowes Super St...|    55.5|       2|     0.0|    9.99|  West|\n",
      "+------+--------------+----------+----------+--------------+-----------+---------------+---------+-------------+-----------+----------+-----------+---------------+---------------+------------+--------------------+--------+--------+--------+--------+------+\n",
      "\n"
     ]
    }
   ],
   "source": [
    "spark.sql(\"SELECT * FROM default.tb_sales_test LIMIT 10\").show()"
   ]
  },
  {
   "cell_type": "code",
   "execution_count": 24,
   "id": "de0e940f-b125-4e5b-be1c-0b224e6e523d",
   "metadata": {},
   "outputs": [
    {
     "name": "stdout",
     "output_type": "stream",
     "text": [
      "+---------+\n",
      "|namespace|\n",
      "+---------+\n",
      "|  default|\n",
      "|    delta|\n",
      "+---------+\n",
      "\n"
     ]
    }
   ],
   "source": [
    "spark.sql(\"CREATE DATABASE IF NOT EXISTS delta\")\n",
    "spark.sql(\"SHOW DATABASES\").show()"
   ]
  },
  {
   "cell_type": "code",
   "execution_count": 42,
   "id": "ef32657f-c522-436d-9cbc-1348b7b47a14",
   "metadata": {},
   "outputs": [],
   "source": [
    "new_cols = [x.replace(' ', '_') for x in df.columns]\n",
    "\n",
    "df = df.toDF(*new_cols)"
   ]
  },
  {
   "cell_type": "code",
   "execution_count": 44,
   "id": "9e196320-91cd-4d04-9533-486f5d96580d",
   "metadata": {},
   "outputs": [
    {
     "name": "stdout",
     "output_type": "stream",
     "text": [
      "root\n",
      " |-- Row_ID: integer (nullable = true)\n",
      " |-- Order_ID: string (nullable = true)\n",
      " |-- Order_Date: string (nullable = true)\n",
      " |-- Ship_Date: string (nullable = true)\n",
      " |-- Ship_Mode: string (nullable = true)\n",
      " |-- Customer_ID: string (nullable = true)\n",
      " |-- Customer_Name: string (nullable = true)\n",
      " |-- Segment: string (nullable = true)\n",
      " |-- Country: string (nullable = true)\n",
      " |-- City: string (nullable = true)\n",
      " |-- State: string (nullable = true)\n",
      " |-- Postal_Code: string (nullable = true)\n",
      " |-- Region: string (nullable = true)\n",
      " |-- Product_ID: string (nullable = true)\n",
      " |-- Category: string (nullable = true)\n",
      " |-- Sub-Category: string (nullable = true)\n",
      " |-- Product_Name: string (nullable = true)\n",
      " |-- Sales: double (nullable = true)\n",
      " |-- Quantity: integer (nullable = true)\n",
      " |-- Discount: double (nullable = true)\n",
      " |-- Profit: double (nullable = true)\n",
      "\n"
     ]
    }
   ],
   "source": [
    "df.printSchema()"
   ]
  },
  {
   "cell_type": "code",
   "execution_count": 45,
   "id": "d535eaf6-6e60-49b4-a5a3-746736e1c974",
   "metadata": {},
   "outputs": [
    {
     "name": "stderr",
     "output_type": "stream",
     "text": [
      "                                                                                \r"
     ]
    }
   ],
   "source": [
    "df.write.format(\"delta\").mode(\"overwrite\").partitionBy(\"Region\").saveAsTable(\"delta.superstore_table\")"
   ]
  },
  {
   "cell_type": "code",
   "execution_count": 53,
   "id": "2f0168c2-7b8e-4abf-b999-0872504ef9f5",
   "metadata": {},
   "outputs": [
    {
     "data": {
      "text/plain": [
       "[Table(name='superstore_table', database='delta', description=None, tableType='MANAGED', isTemporary=False)]"
      ]
     },
     "execution_count": 53,
     "metadata": {},
     "output_type": "execute_result"
    }
   ],
   "source": [
    "spark.catalog.listTables(dbName = 'delta')"
   ]
  },
  {
   "cell_type": "code",
   "execution_count": 55,
   "id": "1b0f3454-adf8-4822-9369-c3d5d15a2ded",
   "metadata": {},
   "outputs": [
    {
     "name": "stdout",
     "output_type": "stream",
     "text": [
      "+------+--------------+----------+---------+--------------+-----------+---------------+---------+-------------+-----------+----------+-----------+------+---------------+---------------+------------+--------------------+-------+--------+--------+-------+\n",
      "|Row_ID|      Order_ID|Order_Date|Ship_Date|     Ship_Mode|Customer_ID|  Customer_Name|  Segment|      Country|       City|     State|Postal_Code|Region|     Product_ID|       Category|Sub-Category|        Product_Name|  Sales|Quantity|Discount| Profit|\n",
      "+------+--------------+----------+---------+--------------+-----------+---------------+---------+-------------+-----------+----------+-----------+------+---------------+---------------+------------+--------------------+-------+--------+--------+-------+\n",
      "|     3|CA-2016-138688| 6/12/2016|6/16/2016|  Second Class|   DV-13045|Darrin Van Huff|Corporate|United States|Los Angeles|California|      90036|  West|OFF-LA-10000240|Office Supplies|      Labels|Self-Adhesive Add...|  14.62|       2|     0.0| 6.8714|\n",
      "|     6|CA-2014-115812|  6/9/2014|6/14/2014|Standard Class|   BH-11710|Brosina Hoffman| Consumer|United States|Los Angeles|California|      90032|  West|FUR-FU-10001487|      Furniture| Furnishings|Eldon Expressions...|  48.86|       7|     0.0|14.1694|\n",
      "|     7|CA-2014-115812|  6/9/2014|6/14/2014|Standard Class|   BH-11710|Brosina Hoffman| Consumer|United States|Los Angeles|California|      90032|  West|OFF-AR-10002833|Office Supplies|         Art|          Newell 322|   7.28|       4|     0.0| 1.9656|\n",
      "|     8|CA-2014-115812|  6/9/2014|6/14/2014|Standard Class|   BH-11710|Brosina Hoffman| Consumer|United States|Los Angeles|California|      90032|  West|TEC-PH-10002275|     Technology|      Phones|Mitel 5320 IP Pho...|907.152|       6|     0.2|90.7152|\n",
      "|     9|CA-2014-115812|  6/9/2014|6/14/2014|Standard Class|   BH-11710|Brosina Hoffman| Consumer|United States|Los Angeles|California|      90032|  West|OFF-BI-10003910|Office Supplies|     Binders|DXL Angle-View Bi...| 18.504|       3|     0.2| 5.7825|\n",
      "+------+--------------+----------+---------+--------------+-----------+---------------+---------+-------------+-----------+----------+-----------+------+---------------+---------------+------------+--------------------+-------+--------+--------+-------+\n",
      "only showing top 5 rows\n",
      "\n"
     ]
    }
   ],
   "source": [
    "spark.read.table(\"delta.superstore_table\").show(5)"
   ]
  },
  {
   "cell_type": "code",
   "execution_count": 6,
   "id": "165cc62a-f685-4ae0-b2b5-11acab7f3a8b",
   "metadata": {},
   "outputs": [
    {
     "name": "stdout",
     "output_type": "stream",
     "text": [
      "22/12/23 18:58:46 INFO SparkUI: Stopped Spark web UI at http://b15d04bfbdec:4040\n",
      "22/12/23 18:58:46 INFO MapOutputTrackerMasterEndpoint: MapOutputTrackerMasterEndpoint stopped!\n",
      "22/12/23 18:58:46 INFO MemoryStore: MemoryStore cleared\n",
      "22/12/23 18:58:46 INFO BlockManager: BlockManager stopped\n",
      "22/12/23 18:58:46 INFO BlockManagerMaster: BlockManagerMaster stopped\n",
      "22/12/23 18:58:46 INFO OutputCommitCoordinator$OutputCommitCoordinatorEndpoint: OutputCommitCoordinator stopped!\n",
      "22/12/23 18:58:46 INFO SparkContext: Successfully stopped SparkContext\n"
     ]
    }
   ],
   "source": [
    "spark.stop()"
   ]
  },
  {
   "cell_type": "code",
   "execution_count": null,
   "id": "283c407d-21e7-4918-bc22-0f15af599459",
   "metadata": {},
   "outputs": [],
   "source": []
  },
  {
   "cell_type": "code",
   "execution_count": null,
   "id": "81f380fa-cb0f-4a37-bd0e-46647b8f401c",
   "metadata": {},
   "outputs": [],
   "source": []
  }
 ],
 "metadata": {
  "kernelspec": {
   "display_name": "Python 3 (ipykernel)",
   "language": "python",
   "name": "python3"
  },
  "language_info": {
   "codemirror_mode": {
    "name": "ipython",
    "version": 3
   },
   "file_extension": ".py",
   "mimetype": "text/x-python",
   "name": "python",
   "nbconvert_exporter": "python",
   "pygments_lexer": "ipython3",
   "version": "3.10.7"
  }
 },
 "nbformat": 4,
 "nbformat_minor": 5
}
