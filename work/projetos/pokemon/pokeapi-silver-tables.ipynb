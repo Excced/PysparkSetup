{
 "cells": [
  {
   "cell_type": "code",
   "execution_count": 1,
   "id": "e2c7cf28-05e6-474e-8e1a-30f63445be2c",
   "metadata": {
    "tags": []
   },
   "outputs": [],
   "source": [
    "from pyspark.sql import SparkSession\n",
    "from pyspark.sql.types import StructType\n",
    "from pyspark.sql.functions import col, explode_outer, lit\n",
    "\n",
    "import re"
   ]
  },
  {
   "cell_type": "code",
   "execution_count": 2,
   "id": "981e7a50-a023-46c7-92e6-58768b9a250a",
   "metadata": {
    "tags": []
   },
   "outputs": [
    {
     "name": "stderr",
     "output_type": "stream",
     "text": [
      "Setting default log level to \"WARN\".\n",
      "To adjust logging level use sc.setLogLevel(newLevel). For SparkR, use setLogLevel(newLevel).\n"
     ]
    },
    {
     "name": "stdout",
     "output_type": "stream",
     "text": [
      "23/04/03 19:05:41 WARN NativeCodeLoader: Unable to load native-hadoop library for your platform... using builtin-java classes where applicable\n",
      "23/04/03 19:05:44 WARN MetricsConfig: Cannot locate configuration: tried hadoop-metrics2-s3a-file-system.properties,hadoop-metrics2.properties\n"
     ]
    },
    {
     "data": {
      "text/html": [
       "\n",
       "            <div>\n",
       "                <p><b>SparkSession - hive</b></p>\n",
       "                \n",
       "        <div>\n",
       "            <p><b>SparkContext</b></p>\n",
       "\n",
       "            <p><a href=\"http://8e0c17c559a2:4040\">Spark UI</a></p>\n",
       "\n",
       "            <dl>\n",
       "              <dt>Version</dt>\n",
       "                <dd><code>v3.3.2</code></dd>\n",
       "              <dt>Master</dt>\n",
       "                <dd><code>spark://spark-master:7077</code></dd>\n",
       "              <dt>AppName</dt>\n",
       "                <dd><code>Criando tabelas prata</code></dd>\n",
       "            </dl>\n",
       "        </div>\n",
       "        \n",
       "            </div>\n",
       "        "
      ],
      "text/plain": [
       "<pyspark.sql.session.SparkSession at 0x7f1d442b4c10>"
      ]
     },
     "execution_count": 2,
     "metadata": {},
     "output_type": "execute_result"
    }
   ],
   "source": [
    "if 'spark' in locals() or 'spark' in globals():\n",
    "    spark.stop()\n",
    "\n",
    "spark = SparkSession\\\n",
    "    .builder\\\n",
    "    .appName(\"Criando tabelas prata\")\\\n",
    "    .getOrCreate()\n",
    "\n",
    "spark"
   ]
  },
  {
   "cell_type": "code",
   "execution_count": 3,
   "id": "8a16ec77-ee83-4e8e-aa75-17f70e4cedac",
   "metadata": {
    "tags": []
   },
   "outputs": [],
   "source": [
    "def get_df_datatypes(df):\n",
    "    column_names = [field.name for field in df.schema.fields]\n",
    "    column_types = [re.search('(\\w+)\\(', str(field.dataType)).group(1) for field in df.schema.fields]\n",
    "    columns_datatypes =  dict(zip(column_names, column_types))\n",
    "    \n",
    "    return columns_datatypes"
   ]
  },
  {
   "cell_type": "code",
   "execution_count": 4,
   "id": "5f449d66-8c69-4f2b-a8be-a801abffa4ed",
   "metadata": {
    "tags": []
   },
   "outputs": [],
   "source": [
    "def unnest_struct_array(df, verbose = False):\n",
    "    \n",
    "    columns_manifest = get_df_datatypes(df)\n",
    "    dtypes = list(columns_manifest.values())\n",
    "    cols = list(columns_manifest.keys())\n",
    "        \n",
    "    if 'StructType' not in list(columns_manifest.values()) and 'ArrayType' not in list(columns_manifest.values()):\n",
    "        if verbose == True:\n",
    "            print('INFO: Não há colunas StructType nem Array')\n",
    "            df.printSchema()\n",
    "        return df\n",
    "    else:\n",
    "        if verbose == True:\n",
    "            print(f'INFO: Colunas a serem avaliadas {cols}')\n",
    "        \n",
    "        for column in cols:\n",
    "            \n",
    "            if verbose == True:\n",
    "                print(f'INFO: Avaliando a coluna {column}')\n",
    "            \n",
    "            if columns_manifest[column] == 'StructType':\n",
    "                if verbose == True:\n",
    "                    print(f\"INFO: {column} é um campo StructType\")\n",
    "                    print(f\"INFO: Mapeando objetos dentro do struct {column}\")\n",
    "                struct_fields = [field.name for field in df.select(f'{column}.*').schema.fields]\n",
    "                \n",
    "                if verbose == True:\n",
    "                    print(f\"INFO: Abrindo Struct {column} nos campos {struct_fields}\")\n",
    "                \n",
    "                df = df.select(\n",
    "                        ['*'] +\n",
    "                        [col(f'{column}.{struct_field}').alias(f'{column}_{struct_field}') for struct_field in struct_fields]\n",
    "                ).drop(column)\n",
    "                \n",
    "                \n",
    "            elif columns_manifest[column] == 'ArrayType':\n",
    "                if verbose == True:\n",
    "                    print(f\"INFO: {column} é um campo ArrayType\")\n",
    "                    print(f\"INFO: Executando explode_outer() do campo {column}\")\n",
    "                \n",
    "                df = df.withColumn(f'{column}', explode_outer(f'{column}'))\n",
    "                \n",
    "            else:\n",
    "                if verbose == True:\n",
    "                    print(f\"INFO: {column} não é um campo StructType ou ArrayType\")\n",
    "        if verbose == True:\n",
    "            print('INFO: RESETANDO O LOOP')\n",
    "    \n",
    "    return unnest_struct_array(df = df)"
   ]
  },
  {
   "cell_type": "markdown",
   "id": "70878d27-76ba-4c34-86a3-9bed6e6ac1c9",
   "metadata": {},
   "source": [
    "# Tabela TBL_SILVER_POKEMONS"
   ]
  },
  {
   "cell_type": "code",
   "execution_count": 5,
   "id": "fba704b3-1448-4305-bdfb-0db1bb39e0d1",
   "metadata": {
    "scrolled": true,
    "tags": []
   },
   "outputs": [
    {
     "name": "stderr",
     "output_type": "stream",
     "text": [
      "Hive Session ID = 39e43022-ba1c-454a-bce0-639af3955ba2\n"
     ]
    },
    {
     "name": "stdout",
     "output_type": "stream",
     "text": [
      "root\n",
      " |-- abilities: array (nullable = true)\n",
      " |    |-- element: struct (containsNull = true)\n",
      " |    |    |-- ability: struct (nullable = true)\n",
      " |    |    |    |-- name: string (nullable = true)\n",
      " |    |    |    |-- url: string (nullable = true)\n",
      " |    |    |-- is_hidden: boolean (nullable = true)\n",
      " |    |    |-- slot: long (nullable = true)\n",
      " |-- base_experience: long (nullable = true)\n",
      " |-- forms: array (nullable = true)\n",
      " |    |-- element: struct (containsNull = true)\n",
      " |    |    |-- name: string (nullable = true)\n",
      " |    |    |-- url: string (nullable = true)\n",
      " |-- game_indices: array (nullable = true)\n",
      " |    |-- element: struct (containsNull = true)\n",
      " |    |    |-- game_index: long (nullable = true)\n",
      " |    |    |-- version: struct (nullable = true)\n",
      " |    |    |    |-- name: string (nullable = true)\n",
      " |    |    |    |-- url: string (nullable = true)\n",
      " |-- height: long (nullable = true)\n",
      " |-- held_items: array (nullable = true)\n",
      " |    |-- element: struct (containsNull = true)\n",
      " |    |    |-- item: struct (nullable = true)\n",
      " |    |    |    |-- name: string (nullable = true)\n",
      " |    |    |    |-- url: string (nullable = true)\n",
      " |    |    |-- version_details: array (nullable = true)\n",
      " |    |    |    |-- element: struct (containsNull = true)\n",
      " |    |    |    |    |-- rarity: long (nullable = true)\n",
      " |    |    |    |    |-- version: struct (nullable = true)\n",
      " |    |    |    |    |    |-- name: string (nullable = true)\n",
      " |    |    |    |    |    |-- url: string (nullable = true)\n",
      " |-- id: long (nullable = true)\n",
      " |-- is_default: boolean (nullable = true)\n",
      " |-- location_area_encounters: string (nullable = true)\n",
      " |-- moves: array (nullable = true)\n",
      " |    |-- element: struct (containsNull = true)\n",
      " |    |    |-- move: struct (nullable = true)\n",
      " |    |    |    |-- name: string (nullable = true)\n",
      " |    |    |    |-- url: string (nullable = true)\n",
      " |    |    |-- version_group_details: array (nullable = true)\n",
      " |    |    |    |-- element: struct (containsNull = true)\n",
      " |    |    |    |    |-- level_learned_at: long (nullable = true)\n",
      " |    |    |    |    |-- move_learn_method: struct (nullable = true)\n",
      " |    |    |    |    |    |-- name: string (nullable = true)\n",
      " |    |    |    |    |    |-- url: string (nullable = true)\n",
      " |    |    |    |    |-- version_group: struct (nullable = true)\n",
      " |    |    |    |    |    |-- name: string (nullable = true)\n",
      " |    |    |    |    |    |-- url: string (nullable = true)\n",
      " |-- name: string (nullable = true)\n",
      " |-- order: long (nullable = true)\n",
      " |-- past_types: array (nullable = true)\n",
      " |    |-- element: struct (containsNull = true)\n",
      " |    |    |-- generation: struct (nullable = true)\n",
      " |    |    |    |-- name: string (nullable = true)\n",
      " |    |    |    |-- url: string (nullable = true)\n",
      " |    |    |-- types: array (nullable = true)\n",
      " |    |    |    |-- element: struct (containsNull = true)\n",
      " |    |    |    |    |-- slot: long (nullable = true)\n",
      " |    |    |    |    |-- type: struct (nullable = true)\n",
      " |    |    |    |    |    |-- name: string (nullable = true)\n",
      " |    |    |    |    |    |-- url: string (nullable = true)\n",
      " |-- species: struct (nullable = true)\n",
      " |    |-- name: string (nullable = true)\n",
      " |    |-- url: string (nullable = true)\n",
      " |-- sprites: struct (nullable = true)\n",
      " |    |-- back_default: string (nullable = true)\n",
      " |    |-- back_female: string (nullable = true)\n",
      " |    |-- back_shiny: string (nullable = true)\n",
      " |    |-- back_shiny_female: string (nullable = true)\n",
      " |    |-- front_default: string (nullable = true)\n",
      " |    |-- front_female: string (nullable = true)\n",
      " |    |-- front_shiny: string (nullable = true)\n",
      " |    |-- front_shiny_female: string (nullable = true)\n",
      " |    |-- other: struct (nullable = true)\n",
      " |    |    |-- dream_world: struct (nullable = true)\n",
      " |    |    |    |-- front_default: string (nullable = true)\n",
      " |    |    |    |-- front_female: string (nullable = true)\n",
      " |    |    |-- home: struct (nullable = true)\n",
      " |    |    |    |-- front_default: string (nullable = true)\n",
      " |    |    |    |-- front_female: string (nullable = true)\n",
      " |    |    |    |-- front_shiny: string (nullable = true)\n",
      " |    |    |    |-- front_shiny_female: string (nullable = true)\n",
      " |    |    |-- official_artwork: struct (nullable = true)\n",
      " |    |    |    |-- front_default: string (nullable = true)\n",
      " |    |    |    |-- front_shiny: string (nullable = true)\n",
      " |    |-- versions: struct (nullable = true)\n",
      " |    |    |-- generation_i: struct (nullable = true)\n",
      " |    |    |    |-- red_blue: struct (nullable = true)\n",
      " |    |    |    |    |-- back_default: string (nullable = true)\n",
      " |    |    |    |    |-- back_gray: string (nullable = true)\n",
      " |    |    |    |    |-- back_transparent: string (nullable = true)\n",
      " |    |    |    |    |-- front_default: string (nullable = true)\n",
      " |    |    |    |    |-- front_gray: string (nullable = true)\n",
      " |    |    |    |    |-- front_transparent: string (nullable = true)\n",
      " |    |    |    |-- yellow: struct (nullable = true)\n",
      " |    |    |    |    |-- back_default: string (nullable = true)\n",
      " |    |    |    |    |-- back_gray: string (nullable = true)\n",
      " |    |    |    |    |-- back_transparent: string (nullable = true)\n",
      " |    |    |    |    |-- front_default: string (nullable = true)\n",
      " |    |    |    |    |-- front_gray: string (nullable = true)\n",
      " |    |    |    |    |-- front_transparent: string (nullable = true)\n",
      " |    |    |-- generation_ii: struct (nullable = true)\n",
      " |    |    |    |-- crystal: struct (nullable = true)\n",
      " |    |    |    |    |-- back_default: string (nullable = true)\n",
      " |    |    |    |    |-- back_shiny: string (nullable = true)\n",
      " |    |    |    |    |-- back_shiny_transparent: string (nullable = true)\n",
      " |    |    |    |    |-- back_transparent: string (nullable = true)\n",
      " |    |    |    |    |-- front_default: string (nullable = true)\n",
      " |    |    |    |    |-- front_shiny: string (nullable = true)\n",
      " |    |    |    |    |-- front_shiny_transparent: string (nullable = true)\n",
      " |    |    |    |    |-- front_transparent: string (nullable = true)\n",
      " |    |    |    |-- gold: struct (nullable = true)\n",
      " |    |    |    |    |-- back_default: string (nullable = true)\n",
      " |    |    |    |    |-- back_shiny: string (nullable = true)\n",
      " |    |    |    |    |-- front_default: string (nullable = true)\n",
      " |    |    |    |    |-- front_shiny: string (nullable = true)\n",
      " |    |    |    |    |-- front_transparent: string (nullable = true)\n",
      " |    |    |    |-- silver: struct (nullable = true)\n",
      " |    |    |    |    |-- back_default: string (nullable = true)\n",
      " |    |    |    |    |-- back_shiny: string (nullable = true)\n",
      " |    |    |    |    |-- front_default: string (nullable = true)\n",
      " |    |    |    |    |-- front_shiny: string (nullable = true)\n",
      " |    |    |    |    |-- front_transparent: string (nullable = true)\n",
      " |    |    |-- generation_iii: struct (nullable = true)\n",
      " |    |    |    |-- emerald: struct (nullable = true)\n",
      " |    |    |    |    |-- front_default: string (nullable = true)\n",
      " |    |    |    |    |-- front_shiny: string (nullable = true)\n",
      " |    |    |    |-- firered_leafgreen: struct (nullable = true)\n",
      " |    |    |    |    |-- back_default: string (nullable = true)\n",
      " |    |    |    |    |-- back_shiny: string (nullable = true)\n",
      " |    |    |    |    |-- front_default: string (nullable = true)\n",
      " |    |    |    |    |-- front_shiny: string (nullable = true)\n",
      " |    |    |    |-- ruby_sapphire: struct (nullable = true)\n",
      " |    |    |    |    |-- back_default: string (nullable = true)\n",
      " |    |    |    |    |-- back_shiny: string (nullable = true)\n",
      " |    |    |    |    |-- front_default: string (nullable = true)\n",
      " |    |    |    |    |-- front_shiny: string (nullable = true)\n",
      " |    |    |-- generation_iv: struct (nullable = true)\n",
      " |    |    |    |-- diamond_pearl: struct (nullable = true)\n",
      " |    |    |    |    |-- back_default: string (nullable = true)\n",
      " |    |    |    |    |-- back_female: string (nullable = true)\n",
      " |    |    |    |    |-- back_shiny: string (nullable = true)\n",
      " |    |    |    |    |-- back_shiny_female: string (nullable = true)\n",
      " |    |    |    |    |-- front_default: string (nullable = true)\n",
      " |    |    |    |    |-- front_female: string (nullable = true)\n",
      " |    |    |    |    |-- front_shiny: string (nullable = true)\n",
      " |    |    |    |    |-- front_shiny_female: string (nullable = true)\n",
      " |    |    |    |-- heartgold_soulsilver: struct (nullable = true)\n",
      " |    |    |    |    |-- back_default: string (nullable = true)\n",
      " |    |    |    |    |-- back_female: string (nullable = true)\n",
      " |    |    |    |    |-- back_shiny: string (nullable = true)\n",
      " |    |    |    |    |-- back_shiny_female: string (nullable = true)\n",
      " |    |    |    |    |-- front_default: string (nullable = true)\n",
      " |    |    |    |    |-- front_female: string (nullable = true)\n",
      " |    |    |    |    |-- front_shiny: string (nullable = true)\n",
      " |    |    |    |    |-- front_shiny_female: string (nullable = true)\n",
      " |    |    |    |-- platinum: struct (nullable = true)\n",
      " |    |    |    |    |-- back_default: string (nullable = true)\n",
      " |    |    |    |    |-- back_female: string (nullable = true)\n",
      " |    |    |    |    |-- back_shiny: string (nullable = true)\n",
      " |    |    |    |    |-- back_shiny_female: string (nullable = true)\n",
      " |    |    |    |    |-- front_default: string (nullable = true)\n",
      " |    |    |    |    |-- front_female: string (nullable = true)\n",
      " |    |    |    |    |-- front_shiny: string (nullable = true)\n",
      " |    |    |    |    |-- front_shiny_female: string (nullable = true)\n",
      " |    |    |-- generation_v: struct (nullable = true)\n",
      " |    |    |    |-- black_white: struct (nullable = true)\n",
      " |    |    |    |    |-- animated: struct (nullable = true)\n",
      " |    |    |    |    |    |-- back_default: string (nullable = true)\n",
      " |    |    |    |    |    |-- back_female: string (nullable = true)\n",
      " |    |    |    |    |    |-- back_shiny: string (nullable = true)\n",
      " |    |    |    |    |    |-- back_shiny_female: string (nullable = true)\n",
      " |    |    |    |    |    |-- front_default: string (nullable = true)\n",
      " |    |    |    |    |    |-- front_female: string (nullable = true)\n",
      " |    |    |    |    |    |-- front_shiny: string (nullable = true)\n",
      " |    |    |    |    |    |-- front_shiny_female: string (nullable = true)\n",
      " |    |    |    |    |-- back_default: string (nullable = true)\n",
      " |    |    |    |    |-- back_female: string (nullable = true)\n",
      " |    |    |    |    |-- back_shiny: string (nullable = true)\n",
      " |    |    |    |    |-- back_shiny_female: string (nullable = true)\n",
      " |    |    |    |    |-- front_default: string (nullable = true)\n",
      " |    |    |    |    |-- front_female: string (nullable = true)\n",
      " |    |    |    |    |-- front_shiny: string (nullable = true)\n",
      " |    |    |    |    |-- front_shiny_female: string (nullable = true)\n",
      " |    |    |-- generation_vi: struct (nullable = true)\n",
      " |    |    |    |-- omegaruby_alphasapphire: struct (nullable = true)\n",
      " |    |    |    |    |-- front_default: string (nullable = true)\n",
      " |    |    |    |    |-- front_female: string (nullable = true)\n",
      " |    |    |    |    |-- front_shiny: string (nullable = true)\n",
      " |    |    |    |    |-- front_shiny_female: string (nullable = true)\n",
      " |    |    |    |-- x_y: struct (nullable = true)\n",
      " |    |    |    |    |-- front_default: string (nullable = true)\n",
      " |    |    |    |    |-- front_female: string (nullable = true)\n",
      " |    |    |    |    |-- front_shiny: string (nullable = true)\n",
      " |    |    |    |    |-- front_shiny_female: string (nullable = true)\n",
      " |    |    |-- generation_vii: struct (nullable = true)\n",
      " |    |    |    |-- icons: struct (nullable = true)\n",
      " |    |    |    |    |-- front_default: string (nullable = true)\n",
      " |    |    |    |    |-- front_female: string (nullable = true)\n",
      " |    |    |    |-- ultra_sun_ultra_moon: struct (nullable = true)\n",
      " |    |    |    |    |-- front_default: string (nullable = true)\n",
      " |    |    |    |    |-- front_female: string (nullable = true)\n",
      " |    |    |    |    |-- front_shiny: string (nullable = true)\n",
      " |    |    |    |    |-- front_shiny_female: string (nullable = true)\n",
      " |    |    |-- generation_viii: struct (nullable = true)\n",
      " |    |    |    |-- icons: struct (nullable = true)\n",
      " |    |    |    |    |-- front_default: string (nullable = true)\n",
      " |    |    |    |    |-- front_female: string (nullable = true)\n",
      " |-- stats: array (nullable = true)\n",
      " |    |-- element: struct (containsNull = true)\n",
      " |    |    |-- base_stat: long (nullable = true)\n",
      " |    |    |-- effort: long (nullable = true)\n",
      " |    |    |-- stat: struct (nullable = true)\n",
      " |    |    |    |-- name: string (nullable = true)\n",
      " |    |    |    |-- url: string (nullable = true)\n",
      " |-- types: array (nullable = true)\n",
      " |    |-- element: struct (containsNull = true)\n",
      " |    |    |-- slot: long (nullable = true)\n",
      " |    |    |-- type: struct (nullable = true)\n",
      " |    |    |    |-- name: string (nullable = true)\n",
      " |    |    |    |-- url: string (nullable = true)\n",
      " |-- weight: long (nullable = true)\n",
      "\n"
     ]
    }
   ],
   "source": [
    "pokemons_df = spark.read.table('pokeapi.tbl_bronze_pokemons')\n",
    "pokemons_df.printSchema()"
   ]
  },
  {
   "cell_type": "code",
   "execution_count": 6,
   "id": "fc825135-e03b-48ba-b5a1-3b625e3e4e89",
   "metadata": {
    "tags": []
   },
   "outputs": [],
   "source": [
    "def unstruct(df):\n",
    "    \n",
    "    columns_manifest = get_df_datatypes(df)\n",
    "    \n",
    "    dtypes = list(columns_manifest.values())\n",
    "    cols = list(columns_manifest.keys())\n",
    "\n",
    "    if 'StructType' not in dtypes:\n",
    "        return df\n",
    "    \n",
    "    elif 'StructType' in dtypes:\n",
    "        for column in cols:\n",
    "\n",
    "            if columns_manifest[column] == 'StructType':\n",
    "                struct_fields = [field.name for field in df.select(f'{column}.*').schema.fields]\n",
    "\n",
    "                df = df.select(\n",
    "                        ['*'] +\n",
    "                        [col(f'{column}.{struct_field}').alias(f'{column}_{struct_field}') for struct_field in struct_fields]\n",
    "                ).drop(column)\n",
    "                \n",
    "    return unstruct(df = df)"
   ]
  },
  {
   "cell_type": "code",
   "execution_count": 7,
   "id": "1d62e9dd-5330-4534-abcd-334f3f174e15",
   "metadata": {
    "tags": []
   },
   "outputs": [],
   "source": [
    "def disarray(df, primary_key, prefix):\n",
    "    \n",
    "    dims_dict = {}\n",
    "    \n",
    "    columns_manifest = get_df_datatypes(df)\n",
    "    \n",
    "    dtypes = list(columns_manifest.values())\n",
    "    cols = list(columns_manifest.keys())\n",
    "\n",
    "    if 'ArrayType' not in dtypes:\n",
    "        return df\n",
    "    \n",
    "    elif 'ArrayType' in dtypes:\n",
    "        \n",
    "        for column in cols:\n",
    "            if columns_manifest[column] == 'ArrayType':\n",
    "\n",
    "                dims_dict[f'{prefix}_{column}_df'] = df.select(f'{primary_key}', explode_outer(f'{column}').alias(f'{column}'))\n",
    "\n",
    "                df = df.drop(f'{column}')\n",
    "    \n",
    "    return df, dims_dict "
   ]
  },
  {
   "cell_type": "code",
   "execution_count": 8,
   "id": "63b2adb4-0053-4322-9026-ca9d7aa03eba",
   "metadata": {
    "scrolled": true,
    "tags": []
   },
   "outputs": [
    {
     "name": "stdout",
     "output_type": "stream",
     "text": [
      "root\n",
      " |-- abilities: array (nullable = true)\n",
      " |    |-- element: struct (containsNull = true)\n",
      " |    |    |-- ability: struct (nullable = true)\n",
      " |    |    |    |-- name: string (nullable = true)\n",
      " |    |    |    |-- url: string (nullable = true)\n",
      " |    |    |-- is_hidden: boolean (nullable = true)\n",
      " |    |    |-- slot: long (nullable = true)\n",
      " |-- base_experience: long (nullable = true)\n",
      " |-- forms: array (nullable = true)\n",
      " |    |-- element: struct (containsNull = true)\n",
      " |    |    |-- name: string (nullable = true)\n",
      " |    |    |-- url: string (nullable = true)\n",
      " |-- game_indices: array (nullable = true)\n",
      " |    |-- element: struct (containsNull = true)\n",
      " |    |    |-- game_index: long (nullable = true)\n",
      " |    |    |-- version: struct (nullable = true)\n",
      " |    |    |    |-- name: string (nullable = true)\n",
      " |    |    |    |-- url: string (nullable = true)\n",
      " |-- height: long (nullable = true)\n",
      " |-- held_items: array (nullable = true)\n",
      " |    |-- element: struct (containsNull = true)\n",
      " |    |    |-- item: struct (nullable = true)\n",
      " |    |    |    |-- name: string (nullable = true)\n",
      " |    |    |    |-- url: string (nullable = true)\n",
      " |    |    |-- version_details: array (nullable = true)\n",
      " |    |    |    |-- element: struct (containsNull = true)\n",
      " |    |    |    |    |-- rarity: long (nullable = true)\n",
      " |    |    |    |    |-- version: struct (nullable = true)\n",
      " |    |    |    |    |    |-- name: string (nullable = true)\n",
      " |    |    |    |    |    |-- url: string (nullable = true)\n",
      " |-- id: long (nullable = true)\n",
      " |-- is_default: boolean (nullable = true)\n",
      " |-- location_area_encounters: string (nullable = true)\n",
      " |-- moves: array (nullable = true)\n",
      " |    |-- element: struct (containsNull = true)\n",
      " |    |    |-- move: struct (nullable = true)\n",
      " |    |    |    |-- name: string (nullable = true)\n",
      " |    |    |    |-- url: string (nullable = true)\n",
      " |    |    |-- version_group_details: array (nullable = true)\n",
      " |    |    |    |-- element: struct (containsNull = true)\n",
      " |    |    |    |    |-- level_learned_at: long (nullable = true)\n",
      " |    |    |    |    |-- move_learn_method: struct (nullable = true)\n",
      " |    |    |    |    |    |-- name: string (nullable = true)\n",
      " |    |    |    |    |    |-- url: string (nullable = true)\n",
      " |    |    |    |    |-- version_group: struct (nullable = true)\n",
      " |    |    |    |    |    |-- name: string (nullable = true)\n",
      " |    |    |    |    |    |-- url: string (nullable = true)\n",
      " |-- name: string (nullable = true)\n",
      " |-- order: long (nullable = true)\n",
      " |-- past_types: array (nullable = true)\n",
      " |    |-- element: struct (containsNull = true)\n",
      " |    |    |-- generation: struct (nullable = true)\n",
      " |    |    |    |-- name: string (nullable = true)\n",
      " |    |    |    |-- url: string (nullable = true)\n",
      " |    |    |-- types: array (nullable = true)\n",
      " |    |    |    |-- element: struct (containsNull = true)\n",
      " |    |    |    |    |-- slot: long (nullable = true)\n",
      " |    |    |    |    |-- type: struct (nullable = true)\n",
      " |    |    |    |    |    |-- name: string (nullable = true)\n",
      " |    |    |    |    |    |-- url: string (nullable = true)\n",
      " |-- stats: array (nullable = true)\n",
      " |    |-- element: struct (containsNull = true)\n",
      " |    |    |-- base_stat: long (nullable = true)\n",
      " |    |    |-- effort: long (nullable = true)\n",
      " |    |    |-- stat: struct (nullable = true)\n",
      " |    |    |    |-- name: string (nullable = true)\n",
      " |    |    |    |-- url: string (nullable = true)\n",
      " |-- types: array (nullable = true)\n",
      " |    |-- element: struct (containsNull = true)\n",
      " |    |    |-- slot: long (nullable = true)\n",
      " |    |    |-- type: struct (nullable = true)\n",
      " |    |    |    |-- name: string (nullable = true)\n",
      " |    |    |    |-- url: string (nullable = true)\n",
      " |-- weight: long (nullable = true)\n",
      " |-- species_name: string (nullable = true)\n",
      " |-- species_url: string (nullable = true)\n",
      " |-- sprites_back_default: string (nullable = true)\n",
      " |-- sprites_back_female: string (nullable = true)\n",
      " |-- sprites_back_shiny: string (nullable = true)\n",
      " |-- sprites_back_shiny_female: string (nullable = true)\n",
      " |-- sprites_front_default: string (nullable = true)\n",
      " |-- sprites_front_female: string (nullable = true)\n",
      " |-- sprites_front_shiny: string (nullable = true)\n",
      " |-- sprites_front_shiny_female: string (nullable = true)\n",
      " |-- sprites_other_dream_world_front_default: string (nullable = true)\n",
      " |-- sprites_other_dream_world_front_female: string (nullable = true)\n",
      " |-- sprites_other_home_front_default: string (nullable = true)\n",
      " |-- sprites_other_home_front_female: string (nullable = true)\n",
      " |-- sprites_other_home_front_shiny: string (nullable = true)\n",
      " |-- sprites_other_home_front_shiny_female: string (nullable = true)\n",
      " |-- sprites_other_official_artwork_front_default: string (nullable = true)\n",
      " |-- sprites_other_official_artwork_front_shiny: string (nullable = true)\n",
      " |-- sprites_versions_generation_i_red_blue_back_default: string (nullable = true)\n",
      " |-- sprites_versions_generation_i_red_blue_back_gray: string (nullable = true)\n",
      " |-- sprites_versions_generation_i_red_blue_back_transparent: string (nullable = true)\n",
      " |-- sprites_versions_generation_i_red_blue_front_default: string (nullable = true)\n",
      " |-- sprites_versions_generation_i_red_blue_front_gray: string (nullable = true)\n",
      " |-- sprites_versions_generation_i_red_blue_front_transparent: string (nullable = true)\n",
      " |-- sprites_versions_generation_i_yellow_back_default: string (nullable = true)\n",
      " |-- sprites_versions_generation_i_yellow_back_gray: string (nullable = true)\n",
      " |-- sprites_versions_generation_i_yellow_back_transparent: string (nullable = true)\n",
      " |-- sprites_versions_generation_i_yellow_front_default: string (nullable = true)\n",
      " |-- sprites_versions_generation_i_yellow_front_gray: string (nullable = true)\n",
      " |-- sprites_versions_generation_i_yellow_front_transparent: string (nullable = true)\n",
      " |-- sprites_versions_generation_ii_crystal_back_default: string (nullable = true)\n",
      " |-- sprites_versions_generation_ii_crystal_back_shiny: string (nullable = true)\n",
      " |-- sprites_versions_generation_ii_crystal_back_shiny_transparent: string (nullable = true)\n",
      " |-- sprites_versions_generation_ii_crystal_back_transparent: string (nullable = true)\n",
      " |-- sprites_versions_generation_ii_crystal_front_default: string (nullable = true)\n",
      " |-- sprites_versions_generation_ii_crystal_front_shiny: string (nullable = true)\n",
      " |-- sprites_versions_generation_ii_crystal_front_shiny_transparent: string (nullable = true)\n",
      " |-- sprites_versions_generation_ii_crystal_front_transparent: string (nullable = true)\n",
      " |-- sprites_versions_generation_ii_gold_back_default: string (nullable = true)\n",
      " |-- sprites_versions_generation_ii_gold_back_shiny: string (nullable = true)\n",
      " |-- sprites_versions_generation_ii_gold_front_default: string (nullable = true)\n",
      " |-- sprites_versions_generation_ii_gold_front_shiny: string (nullable = true)\n",
      " |-- sprites_versions_generation_ii_gold_front_transparent: string (nullable = true)\n",
      " |-- sprites_versions_generation_ii_silver_back_default: string (nullable = true)\n",
      " |-- sprites_versions_generation_ii_silver_back_shiny: string (nullable = true)\n",
      " |-- sprites_versions_generation_ii_silver_front_default: string (nullable = true)\n",
      " |-- sprites_versions_generation_ii_silver_front_shiny: string (nullable = true)\n",
      " |-- sprites_versions_generation_ii_silver_front_transparent: string (nullable = true)\n",
      " |-- sprites_versions_generation_iii_emerald_front_default: string (nullable = true)\n",
      " |-- sprites_versions_generation_iii_emerald_front_shiny: string (nullable = true)\n",
      " |-- sprites_versions_generation_iii_firered_leafgreen_back_default: string (nullable = true)\n",
      " |-- sprites_versions_generation_iii_firered_leafgreen_back_shiny: string (nullable = true)\n",
      " |-- sprites_versions_generation_iii_firered_leafgreen_front_default: string (nullable = true)\n",
      " |-- sprites_versions_generation_iii_firered_leafgreen_front_shiny: string (nullable = true)\n",
      " |-- sprites_versions_generation_iii_ruby_sapphire_back_default: string (nullable = true)\n",
      " |-- sprites_versions_generation_iii_ruby_sapphire_back_shiny: string (nullable = true)\n",
      " |-- sprites_versions_generation_iii_ruby_sapphire_front_default: string (nullable = true)\n",
      " |-- sprites_versions_generation_iii_ruby_sapphire_front_shiny: string (nullable = true)\n",
      " |-- sprites_versions_generation_iv_diamond_pearl_back_default: string (nullable = true)\n",
      " |-- sprites_versions_generation_iv_diamond_pearl_back_female: string (nullable = true)\n",
      " |-- sprites_versions_generation_iv_diamond_pearl_back_shiny: string (nullable = true)\n",
      " |-- sprites_versions_generation_iv_diamond_pearl_back_shiny_female: string (nullable = true)\n",
      " |-- sprites_versions_generation_iv_diamond_pearl_front_default: string (nullable = true)\n",
      " |-- sprites_versions_generation_iv_diamond_pearl_front_female: string (nullable = true)\n",
      " |-- sprites_versions_generation_iv_diamond_pearl_front_shiny: string (nullable = true)\n",
      " |-- sprites_versions_generation_iv_diamond_pearl_front_shiny_female: string (nullable = true)\n",
      " |-- sprites_versions_generation_iv_heartgold_soulsilver_back_default: string (nullable = true)\n",
      " |-- sprites_versions_generation_iv_heartgold_soulsilver_back_female: string (nullable = true)\n",
      " |-- sprites_versions_generation_iv_heartgold_soulsilver_back_shiny: string (nullable = true)\n",
      " |-- sprites_versions_generation_iv_heartgold_soulsilver_back_shiny_female: string (nullable = true)\n",
      " |-- sprites_versions_generation_iv_heartgold_soulsilver_front_default: string (nullable = true)\n",
      " |-- sprites_versions_generation_iv_heartgold_soulsilver_front_female: string (nullable = true)\n",
      " |-- sprites_versions_generation_iv_heartgold_soulsilver_front_shiny: string (nullable = true)\n",
      " |-- sprites_versions_generation_iv_heartgold_soulsilver_front_shiny_female: string (nullable = true)\n",
      " |-- sprites_versions_generation_iv_platinum_back_default: string (nullable = true)\n",
      " |-- sprites_versions_generation_iv_platinum_back_female: string (nullable = true)\n",
      " |-- sprites_versions_generation_iv_platinum_back_shiny: string (nullable = true)\n",
      " |-- sprites_versions_generation_iv_platinum_back_shiny_female: string (nullable = true)\n",
      " |-- sprites_versions_generation_iv_platinum_front_default: string (nullable = true)\n",
      " |-- sprites_versions_generation_iv_platinum_front_female: string (nullable = true)\n",
      " |-- sprites_versions_generation_iv_platinum_front_shiny: string (nullable = true)\n",
      " |-- sprites_versions_generation_iv_platinum_front_shiny_female: string (nullable = true)\n",
      " |-- sprites_versions_generation_v_black_white_back_default: string (nullable = true)\n",
      " |-- sprites_versions_generation_v_black_white_back_female: string (nullable = true)\n",
      " |-- sprites_versions_generation_v_black_white_back_shiny: string (nullable = true)\n",
      " |-- sprites_versions_generation_v_black_white_back_shiny_female: string (nullable = true)\n",
      " |-- sprites_versions_generation_v_black_white_front_default: string (nullable = true)\n",
      " |-- sprites_versions_generation_v_black_white_front_female: string (nullable = true)\n",
      " |-- sprites_versions_generation_v_black_white_front_shiny: string (nullable = true)\n",
      " |-- sprites_versions_generation_v_black_white_front_shiny_female: string (nullable = true)\n",
      " |-- sprites_versions_generation_vi_omegaruby_alphasapphire_front_default: string (nullable = true)\n",
      " |-- sprites_versions_generation_vi_omegaruby_alphasapphire_front_female: string (nullable = true)\n",
      " |-- sprites_versions_generation_vi_omegaruby_alphasapphire_front_shiny: string (nullable = true)\n",
      " |-- sprites_versions_generation_vi_omegaruby_alphasapphire_front_shiny_female: string (nullable = true)\n",
      " |-- sprites_versions_generation_vi_x_y_front_default: string (nullable = true)\n",
      " |-- sprites_versions_generation_vi_x_y_front_female: string (nullable = true)\n",
      " |-- sprites_versions_generation_vi_x_y_front_shiny: string (nullable = true)\n",
      " |-- sprites_versions_generation_vi_x_y_front_shiny_female: string (nullable = true)\n",
      " |-- sprites_versions_generation_vii_icons_front_default: string (nullable = true)\n",
      " |-- sprites_versions_generation_vii_icons_front_female: string (nullable = true)\n",
      " |-- sprites_versions_generation_vii_ultra_sun_ultra_moon_front_default: string (nullable = true)\n",
      " |-- sprites_versions_generation_vii_ultra_sun_ultra_moon_front_female: string (nullable = true)\n",
      " |-- sprites_versions_generation_vii_ultra_sun_ultra_moon_front_shiny: string (nullable = true)\n",
      " |-- sprites_versions_generation_vii_ultra_sun_ultra_moon_front_shiny_female: string (nullable = true)\n",
      " |-- sprites_versions_generation_viii_icons_front_default: string (nullable = true)\n",
      " |-- sprites_versions_generation_viii_icons_front_female: string (nullable = true)\n",
      " |-- sprites_versions_generation_v_black_white_animated_back_default: string (nullable = true)\n",
      " |-- sprites_versions_generation_v_black_white_animated_back_female: string (nullable = true)\n",
      " |-- sprites_versions_generation_v_black_white_animated_back_shiny: string (nullable = true)\n",
      " |-- sprites_versions_generation_v_black_white_animated_back_shiny_female: string (nullable = true)\n",
      " |-- sprites_versions_generation_v_black_white_animated_front_default: string (nullable = true)\n",
      " |-- sprites_versions_generation_v_black_white_animated_front_female: string (nullable = true)\n",
      " |-- sprites_versions_generation_v_black_white_animated_front_shiny: string (nullable = true)\n",
      " |-- sprites_versions_generation_v_black_white_animated_front_shiny_female: string (nullable = true)\n",
      "\n"
     ]
    }
   ],
   "source": [
    "pokemons_df = unstruct(df = pokemons_df)\n",
    "pokemons_df.printSchema()"
   ]
  },
  {
   "cell_type": "code",
   "execution_count": 9,
   "id": "0a624474-d1e0-421e-a78b-0b49d5c737ee",
   "metadata": {
    "tags": []
   },
   "outputs": [],
   "source": [
    "pokemons_df, dims_dict = disarray(df = pokemons_df, primary_key = 'id', prefix = 'pokemon')"
   ]
  },
  {
   "cell_type": "code",
   "execution_count": 10,
   "id": "b4fed904-856d-4057-af6d-079a582807b9",
   "metadata": {
    "scrolled": true,
    "tags": []
   },
   "outputs": [
    {
     "name": "stdout",
     "output_type": "stream",
     "text": [
      "root\n",
      " |-- base_experience: long (nullable = true)\n",
      " |-- height: long (nullable = true)\n",
      " |-- id: long (nullable = true)\n",
      " |-- is_default: boolean (nullable = true)\n",
      " |-- location_area_encounters: string (nullable = true)\n",
      " |-- name: string (nullable = true)\n",
      " |-- order: long (nullable = true)\n",
      " |-- weight: long (nullable = true)\n",
      " |-- species_name: string (nullable = true)\n",
      " |-- species_url: string (nullable = true)\n",
      " |-- sprites_back_default: string (nullable = true)\n",
      " |-- sprites_back_female: string (nullable = true)\n",
      " |-- sprites_back_shiny: string (nullable = true)\n",
      " |-- sprites_back_shiny_female: string (nullable = true)\n",
      " |-- sprites_front_default: string (nullable = true)\n",
      " |-- sprites_front_female: string (nullable = true)\n",
      " |-- sprites_front_shiny: string (nullable = true)\n",
      " |-- sprites_front_shiny_female: string (nullable = true)\n",
      " |-- sprites_other_dream_world_front_default: string (nullable = true)\n",
      " |-- sprites_other_dream_world_front_female: string (nullable = true)\n",
      " |-- sprites_other_home_front_default: string (nullable = true)\n",
      " |-- sprites_other_home_front_female: string (nullable = true)\n",
      " |-- sprites_other_home_front_shiny: string (nullable = true)\n",
      " |-- sprites_other_home_front_shiny_female: string (nullable = true)\n",
      " |-- sprites_other_official_artwork_front_default: string (nullable = true)\n",
      " |-- sprites_other_official_artwork_front_shiny: string (nullable = true)\n",
      " |-- sprites_versions_generation_i_red_blue_back_default: string (nullable = true)\n",
      " |-- sprites_versions_generation_i_red_blue_back_gray: string (nullable = true)\n",
      " |-- sprites_versions_generation_i_red_blue_back_transparent: string (nullable = true)\n",
      " |-- sprites_versions_generation_i_red_blue_front_default: string (nullable = true)\n",
      " |-- sprites_versions_generation_i_red_blue_front_gray: string (nullable = true)\n",
      " |-- sprites_versions_generation_i_red_blue_front_transparent: string (nullable = true)\n",
      " |-- sprites_versions_generation_i_yellow_back_default: string (nullable = true)\n",
      " |-- sprites_versions_generation_i_yellow_back_gray: string (nullable = true)\n",
      " |-- sprites_versions_generation_i_yellow_back_transparent: string (nullable = true)\n",
      " |-- sprites_versions_generation_i_yellow_front_default: string (nullable = true)\n",
      " |-- sprites_versions_generation_i_yellow_front_gray: string (nullable = true)\n",
      " |-- sprites_versions_generation_i_yellow_front_transparent: string (nullable = true)\n",
      " |-- sprites_versions_generation_ii_crystal_back_default: string (nullable = true)\n",
      " |-- sprites_versions_generation_ii_crystal_back_shiny: string (nullable = true)\n",
      " |-- sprites_versions_generation_ii_crystal_back_shiny_transparent: string (nullable = true)\n",
      " |-- sprites_versions_generation_ii_crystal_back_transparent: string (nullable = true)\n",
      " |-- sprites_versions_generation_ii_crystal_front_default: string (nullable = true)\n",
      " |-- sprites_versions_generation_ii_crystal_front_shiny: string (nullable = true)\n",
      " |-- sprites_versions_generation_ii_crystal_front_shiny_transparent: string (nullable = true)\n",
      " |-- sprites_versions_generation_ii_crystal_front_transparent: string (nullable = true)\n",
      " |-- sprites_versions_generation_ii_gold_back_default: string (nullable = true)\n",
      " |-- sprites_versions_generation_ii_gold_back_shiny: string (nullable = true)\n",
      " |-- sprites_versions_generation_ii_gold_front_default: string (nullable = true)\n",
      " |-- sprites_versions_generation_ii_gold_front_shiny: string (nullable = true)\n",
      " |-- sprites_versions_generation_ii_gold_front_transparent: string (nullable = true)\n",
      " |-- sprites_versions_generation_ii_silver_back_default: string (nullable = true)\n",
      " |-- sprites_versions_generation_ii_silver_back_shiny: string (nullable = true)\n",
      " |-- sprites_versions_generation_ii_silver_front_default: string (nullable = true)\n",
      " |-- sprites_versions_generation_ii_silver_front_shiny: string (nullable = true)\n",
      " |-- sprites_versions_generation_ii_silver_front_transparent: string (nullable = true)\n",
      " |-- sprites_versions_generation_iii_emerald_front_default: string (nullable = true)\n",
      " |-- sprites_versions_generation_iii_emerald_front_shiny: string (nullable = true)\n",
      " |-- sprites_versions_generation_iii_firered_leafgreen_back_default: string (nullable = true)\n",
      " |-- sprites_versions_generation_iii_firered_leafgreen_back_shiny: string (nullable = true)\n",
      " |-- sprites_versions_generation_iii_firered_leafgreen_front_default: string (nullable = true)\n",
      " |-- sprites_versions_generation_iii_firered_leafgreen_front_shiny: string (nullable = true)\n",
      " |-- sprites_versions_generation_iii_ruby_sapphire_back_default: string (nullable = true)\n",
      " |-- sprites_versions_generation_iii_ruby_sapphire_back_shiny: string (nullable = true)\n",
      " |-- sprites_versions_generation_iii_ruby_sapphire_front_default: string (nullable = true)\n",
      " |-- sprites_versions_generation_iii_ruby_sapphire_front_shiny: string (nullable = true)\n",
      " |-- sprites_versions_generation_iv_diamond_pearl_back_default: string (nullable = true)\n",
      " |-- sprites_versions_generation_iv_diamond_pearl_back_female: string (nullable = true)\n",
      " |-- sprites_versions_generation_iv_diamond_pearl_back_shiny: string (nullable = true)\n",
      " |-- sprites_versions_generation_iv_diamond_pearl_back_shiny_female: string (nullable = true)\n",
      " |-- sprites_versions_generation_iv_diamond_pearl_front_default: string (nullable = true)\n",
      " |-- sprites_versions_generation_iv_diamond_pearl_front_female: string (nullable = true)\n",
      " |-- sprites_versions_generation_iv_diamond_pearl_front_shiny: string (nullable = true)\n",
      " |-- sprites_versions_generation_iv_diamond_pearl_front_shiny_female: string (nullable = true)\n",
      " |-- sprites_versions_generation_iv_heartgold_soulsilver_back_default: string (nullable = true)\n",
      " |-- sprites_versions_generation_iv_heartgold_soulsilver_back_female: string (nullable = true)\n",
      " |-- sprites_versions_generation_iv_heartgold_soulsilver_back_shiny: string (nullable = true)\n",
      " |-- sprites_versions_generation_iv_heartgold_soulsilver_back_shiny_female: string (nullable = true)\n",
      " |-- sprites_versions_generation_iv_heartgold_soulsilver_front_default: string (nullable = true)\n",
      " |-- sprites_versions_generation_iv_heartgold_soulsilver_front_female: string (nullable = true)\n",
      " |-- sprites_versions_generation_iv_heartgold_soulsilver_front_shiny: string (nullable = true)\n",
      " |-- sprites_versions_generation_iv_heartgold_soulsilver_front_shiny_female: string (nullable = true)\n",
      " |-- sprites_versions_generation_iv_platinum_back_default: string (nullable = true)\n",
      " |-- sprites_versions_generation_iv_platinum_back_female: string (nullable = true)\n",
      " |-- sprites_versions_generation_iv_platinum_back_shiny: string (nullable = true)\n",
      " |-- sprites_versions_generation_iv_platinum_back_shiny_female: string (nullable = true)\n",
      " |-- sprites_versions_generation_iv_platinum_front_default: string (nullable = true)\n",
      " |-- sprites_versions_generation_iv_platinum_front_female: string (nullable = true)\n",
      " |-- sprites_versions_generation_iv_platinum_front_shiny: string (nullable = true)\n",
      " |-- sprites_versions_generation_iv_platinum_front_shiny_female: string (nullable = true)\n",
      " |-- sprites_versions_generation_v_black_white_back_default: string (nullable = true)\n",
      " |-- sprites_versions_generation_v_black_white_back_female: string (nullable = true)\n",
      " |-- sprites_versions_generation_v_black_white_back_shiny: string (nullable = true)\n",
      " |-- sprites_versions_generation_v_black_white_back_shiny_female: string (nullable = true)\n",
      " |-- sprites_versions_generation_v_black_white_front_default: string (nullable = true)\n",
      " |-- sprites_versions_generation_v_black_white_front_female: string (nullable = true)\n",
      " |-- sprites_versions_generation_v_black_white_front_shiny: string (nullable = true)\n",
      " |-- sprites_versions_generation_v_black_white_front_shiny_female: string (nullable = true)\n",
      " |-- sprites_versions_generation_vi_omegaruby_alphasapphire_front_default: string (nullable = true)\n",
      " |-- sprites_versions_generation_vi_omegaruby_alphasapphire_front_female: string (nullable = true)\n",
      " |-- sprites_versions_generation_vi_omegaruby_alphasapphire_front_shiny: string (nullable = true)\n",
      " |-- sprites_versions_generation_vi_omegaruby_alphasapphire_front_shiny_female: string (nullable = true)\n",
      " |-- sprites_versions_generation_vi_x_y_front_default: string (nullable = true)\n",
      " |-- sprites_versions_generation_vi_x_y_front_female: string (nullable = true)\n",
      " |-- sprites_versions_generation_vi_x_y_front_shiny: string (nullable = true)\n",
      " |-- sprites_versions_generation_vi_x_y_front_shiny_female: string (nullable = true)\n",
      " |-- sprites_versions_generation_vii_icons_front_default: string (nullable = true)\n",
      " |-- sprites_versions_generation_vii_icons_front_female: string (nullable = true)\n",
      " |-- sprites_versions_generation_vii_ultra_sun_ultra_moon_front_default: string (nullable = true)\n",
      " |-- sprites_versions_generation_vii_ultra_sun_ultra_moon_front_female: string (nullable = true)\n",
      " |-- sprites_versions_generation_vii_ultra_sun_ultra_moon_front_shiny: string (nullable = true)\n",
      " |-- sprites_versions_generation_vii_ultra_sun_ultra_moon_front_shiny_female: string (nullable = true)\n",
      " |-- sprites_versions_generation_viii_icons_front_default: string (nullable = true)\n",
      " |-- sprites_versions_generation_viii_icons_front_female: string (nullable = true)\n",
      " |-- sprites_versions_generation_v_black_white_animated_back_default: string (nullable = true)\n",
      " |-- sprites_versions_generation_v_black_white_animated_back_female: string (nullable = true)\n",
      " |-- sprites_versions_generation_v_black_white_animated_back_shiny: string (nullable = true)\n",
      " |-- sprites_versions_generation_v_black_white_animated_back_shiny_female: string (nullable = true)\n",
      " |-- sprites_versions_generation_v_black_white_animated_front_default: string (nullable = true)\n",
      " |-- sprites_versions_generation_v_black_white_animated_front_female: string (nullable = true)\n",
      " |-- sprites_versions_generation_v_black_white_animated_front_shiny: string (nullable = true)\n",
      " |-- sprites_versions_generation_v_black_white_animated_front_shiny_female: string (nullable = true)\n",
      "\n"
     ]
    }
   ],
   "source": [
    "pokemons_df.printSchema()"
   ]
  },
  {
   "cell_type": "code",
   "execution_count": 11,
   "id": "4f97d860-ad09-49bb-8089-93a7aea08c1f",
   "metadata": {
    "tags": []
   },
   "outputs": [
    {
     "name": "stderr",
     "output_type": "stream",
     "text": [
      "[Stage 0:>                                                        (0 + 24) / 24]\r"
     ]
    },
    {
     "name": "stdout",
     "output_type": "stream",
     "text": [
      "+---+----------+------+------+-----+---------------+----------+------------+--------------------+\n",
      "| id|      name|weight|height|order|base_experience|is_default|species_name|         species_url|\n",
      "+---+----------+------+------+-----+---------------+----------+------------+--------------------+\n",
      "|  1| bulbasaur|    69|     7|    1|             64|      true|   bulbasaur|https://pokeapi.c...|\n",
      "|  2|   ivysaur|   130|    10|    2|            142|      true|     ivysaur|https://pokeapi.c...|\n",
      "|  3|  venusaur|  1000|    20|    3|            263|      true|    venusaur|https://pokeapi.c...|\n",
      "|  4|charmander|    85|     6|    5|             62|      true|  charmander|https://pokeapi.c...|\n",
      "|  5|charmeleon|   190|    11|    6|            142|      true|  charmeleon|https://pokeapi.c...|\n",
      "|  6| charizard|   905|    17|    7|            267|      true|   charizard|https://pokeapi.c...|\n",
      "|  7|  squirtle|    90|     5|   10|             63|      true|    squirtle|https://pokeapi.c...|\n",
      "|  8| wartortle|   225|    10|   11|            142|      true|   wartortle|https://pokeapi.c...|\n",
      "|  9| blastoise|   855|    16|   12|            265|      true|   blastoise|https://pokeapi.c...|\n",
      "| 10|  caterpie|    29|     3|   14|             39|      true|    caterpie|https://pokeapi.c...|\n",
      "| 11|   metapod|    99|     7|   15|             72|      true|     metapod|https://pokeapi.c...|\n",
      "| 12|butterfree|   320|    11|   16|            198|      true|  butterfree|https://pokeapi.c...|\n",
      "| 13|    weedle|    32|     3|   17|             39|      true|      weedle|https://pokeapi.c...|\n",
      "| 14|    kakuna|   100|     6|   18|             72|      true|      kakuna|https://pokeapi.c...|\n",
      "| 15|  beedrill|   295|    10|   19|            178|      true|    beedrill|https://pokeapi.c...|\n",
      "| 16|    pidgey|    18|     3|   21|             50|      true|      pidgey|https://pokeapi.c...|\n",
      "| 17| pidgeotto|   300|    11|   22|            122|      true|   pidgeotto|https://pokeapi.c...|\n",
      "| 18|   pidgeot|   395|    15|   23|            216|      true|     pidgeot|https://pokeapi.c...|\n",
      "| 19|   rattata|    35|     3|   25|             51|      true|     rattata|https://pokeapi.c...|\n",
      "| 20|  raticate|   185|     7|   27|            145|      true|    raticate|https://pokeapi.c...|\n",
      "+---+----------+------+------+-----+---------------+----------+------------+--------------------+\n",
      "only showing top 20 rows\n",
      "\n"
     ]
    },
    {
     "name": "stderr",
     "output_type": "stream",
     "text": [
      "                                                                                \r"
     ]
    }
   ],
   "source": [
    "pokemons_df = pokemons_df\\\n",
    "    .select(\n",
    "        'id',\n",
    "        'name',\n",
    "        'weight',\n",
    "        'height',\n",
    "        'order',\n",
    "        'base_experience',\n",
    "        'is_default',\n",
    "        'species_name',\n",
    "        'species_url'\n",
    "        )\\\n",
    "    .orderBy('id')\n",
    "pokemons_df.show()"
   ]
  },
  {
   "cell_type": "code",
   "execution_count": 12,
   "id": "6125e457-f083-4424-8bd9-6526960d66f3",
   "metadata": {
    "tags": []
   },
   "outputs": [
    {
     "name": "stderr",
     "output_type": "stream",
     "text": [
      "                                                                                \r"
     ]
    },
    {
     "data": {
      "text/plain": [
       "1010"
      ]
     },
     "execution_count": 12,
     "metadata": {},
     "output_type": "execute_result"
    }
   ],
   "source": [
    "pokemons_df.count() #validando"
   ]
  },
  {
   "cell_type": "code",
   "execution_count": 13,
   "id": "d58af92e-0c2f-493d-9cf2-098c36a1b921",
   "metadata": {
    "tags": []
   },
   "outputs": [
    {
     "name": "stderr",
     "output_type": "stream",
     "text": [
      "                                                                                \r"
     ]
    }
   ],
   "source": [
    "#spark.sql(\"DROP TABLE IF EXISTS pokeapi.tbl_silver_pokemons\")\n",
    "pokemons_df.write\\\n",
    "    .option(\"path\", \"s3a://datalake/silver/pokemons/\")\\\n",
    "    .format('parquet')\\\n",
    "    .mode('overwrite')\\\n",
    "    .saveAsTable('pokeapi.tbl_silver_pokemons')"
   ]
  },
  {
   "cell_type": "code",
   "execution_count": 14,
   "id": "70c981db-668d-455e-b3c0-e6f9b74486a6",
   "metadata": {
    "tags": []
   },
   "outputs": [
    {
     "data": {
      "text/plain": [
       "{'pokemon_abilities_df': DataFrame[id: bigint, abilities: struct<ability:struct<name:string,url:string>,is_hidden:boolean,slot:bigint>],\n",
       " 'pokemon_forms_df': DataFrame[id: bigint, forms: struct<name:string,url:string>],\n",
       " 'pokemon_game_indices_df': DataFrame[id: bigint, game_indices: struct<game_index:bigint,version:struct<name:string,url:string>>],\n",
       " 'pokemon_held_items_df': DataFrame[id: bigint, held_items: struct<item:struct<name:string,url:string>,version_details:array<struct<rarity:bigint,version:struct<name:string,url:string>>>>],\n",
       " 'pokemon_moves_df': DataFrame[id: bigint, moves: struct<move:struct<name:string,url:string>,version_group_details:array<struct<level_learned_at:bigint,move_learn_method:struct<name:string,url:string>,version_group:struct<name:string,url:string>>>>],\n",
       " 'pokemon_past_types_df': DataFrame[id: bigint, past_types: struct<generation:struct<name:string,url:string>,types:array<struct<slot:bigint,type:struct<name:string,url:string>>>>],\n",
       " 'pokemon_stats_df': DataFrame[id: bigint, stats: struct<base_stat:bigint,effort:bigint,stat:struct<name:string,url:string>>],\n",
       " 'pokemon_types_df': DataFrame[id: bigint, types: struct<slot:bigint,type:struct<name:string,url:string>>]}"
      ]
     },
     "execution_count": 14,
     "metadata": {},
     "output_type": "execute_result"
    }
   ],
   "source": [
    "dims_dict"
   ]
  },
  {
   "cell_type": "code",
   "execution_count": 15,
   "id": "1c9c94e5-f739-417f-93d2-f83f22569035",
   "metadata": {
    "tags": []
   },
   "outputs": [],
   "source": [
    "for df in list(dims_dict.keys()):\n",
    "    exec(f\"{df} = dims_dict['{df}']\")"
   ]
  },
  {
   "cell_type": "code",
   "execution_count": 16,
   "id": "ffc525a9-a2d6-44c0-a3dd-e217f010c632",
   "metadata": {
    "tags": []
   },
   "outputs": [
    {
     "name": "stdout",
     "output_type": "stream",
     "text": [
      "+---+--------------------+\n",
      "| id|           abilities|\n",
      "+---+--------------------+\n",
      "|151|{{synchronize, ht...|\n",
      "|150|{{pressure, https...|\n",
      "|150|{{unnerve, https:...|\n",
      "|113|{{natural-cure, h...|\n",
      "|113|{{serene-grace, h...|\n",
      "+---+--------------------+\n",
      "only showing top 5 rows\n",
      "\n"
     ]
    }
   ],
   "source": [
    "pokemon_abilities_df.show(5)"
   ]
  },
  {
   "cell_type": "code",
   "execution_count": 17,
   "id": "c74e2c2a-a20b-4611-b337-2abd2ab2c1bf",
   "metadata": {
    "tags": []
   },
   "outputs": [
    {
     "name": "stdout",
     "output_type": "stream",
     "text": [
      "root\n",
      " |-- id: long (nullable = true)\n",
      " |-- abilities_is_hidden: boolean (nullable = true)\n",
      " |-- abilities_slot: long (nullable = true)\n",
      " |-- abilities_ability_name: string (nullable = true)\n",
      " |-- abilities_ability_url: string (nullable = true)\n",
      "\n"
     ]
    }
   ],
   "source": [
    "pokemon_abilities_df = unstruct(pokemon_abilities_df)\n",
    "pokemon_abilities_df.printSchema()"
   ]
  },
  {
   "cell_type": "code",
   "execution_count": 18,
   "id": "0c695e5c-ceb2-4872-9f5c-b23277cecdff",
   "metadata": {
    "tags": []
   },
   "outputs": [
    {
     "name": "stderr",
     "output_type": "stream",
     "text": [
      "[Stage 9:==============================>                         (13 + 11) / 24]\r"
     ]
    },
    {
     "name": "stdout",
     "output_type": "stream",
     "text": [
      "+---+-------------------+--------------+----------------------+-------------------------------------+\n",
      "|id |abilities_is_hidden|abilities_slot|abilities_ability_name|abilities_ability_url                |\n",
      "+---+-------------------+--------------+----------------------+-------------------------------------+\n",
      "|1  |false              |1             |overgrow              |https://pokeapi.co/api/v2/ability/65/|\n",
      "|1  |true               |3             |chlorophyll           |https://pokeapi.co/api/v2/ability/34/|\n",
      "|2  |true               |3             |chlorophyll           |https://pokeapi.co/api/v2/ability/34/|\n",
      "|2  |false              |1             |overgrow              |https://pokeapi.co/api/v2/ability/65/|\n",
      "|3  |false              |1             |overgrow              |https://pokeapi.co/api/v2/ability/65/|\n",
      "+---+-------------------+--------------+----------------------+-------------------------------------+\n",
      "only showing top 5 rows\n",
      "\n"
     ]
    },
    {
     "name": "stderr",
     "output_type": "stream",
     "text": [
      "                                                                                \r"
     ]
    }
   ],
   "source": [
    "pokemon_abilities_df = pokemon_abilities_df.orderBy('id')\n",
    "\n",
    "pokemon_abilities_df.show(5, truncate = False)"
   ]
  },
  {
   "cell_type": "code",
   "execution_count": 19,
   "id": "30a0be11-bbe1-47aa-8440-378d567e58f8",
   "metadata": {
    "scrolled": true,
    "tags": []
   },
   "outputs": [
    {
     "name": "stderr",
     "output_type": "stream",
     "text": [
      "                                                                                \r"
     ]
    }
   ],
   "source": [
    "spark.sql(\"DROP TABLE IF EXISTS pokeapi.tbl_silver_pokemon_abilities\")\n",
    "pokemon_abilities_df.write\\\n",
    "    .option(\"path\", \"s3a://datalake/silver/pokemon_abilities/\")\\\n",
    "    .format('parquet')\\\n",
    "    .mode('overwrite')\\\n",
    "    .saveAsTable('pokeapi.tbl_silver_pokemon_abilities')"
   ]
  },
  {
   "cell_type": "code",
   "execution_count": 20,
   "id": "ec987489-c627-40d4-bcd0-3265fd632873",
   "metadata": {
    "tags": []
   },
   "outputs": [
    {
     "name": "stdout",
     "output_type": "stream",
     "text": [
      "+---+--------------------+\n",
      "| id|               forms|\n",
      "+---+--------------------+\n",
      "|151|{mew, https://pok...|\n",
      "|150|{mewtwo, https://...|\n",
      "|113|{chansey, https:/...|\n",
      "|149|{dragonite, https...|\n",
      "|122|{mr-mime, https:/...|\n",
      "+---+--------------------+\n",
      "only showing top 5 rows\n",
      "\n",
      "root\n",
      " |-- id: long (nullable = true)\n",
      " |-- forms: struct (nullable = true)\n",
      " |    |-- name: string (nullable = true)\n",
      " |    |-- url: string (nullable = true)\n",
      "\n"
     ]
    }
   ],
   "source": [
    "pokemon_forms_df.show(5)\n",
    "pokemon_forms_df.printSchema()"
   ]
  },
  {
   "cell_type": "code",
   "execution_count": 21,
   "id": "67ef6169-d03e-4d0f-9c5c-a586b5fb1248",
   "metadata": {
    "tags": []
   },
   "outputs": [
    {
     "name": "stdout",
     "output_type": "stream",
     "text": [
      "+---+----------+--------------------+\n",
      "| id|forms_name|           forms_url|\n",
      "+---+----------+--------------------+\n",
      "|151|       mew|https://pokeapi.c...|\n",
      "|150|    mewtwo|https://pokeapi.c...|\n",
      "|113|   chansey|https://pokeapi.c...|\n",
      "|149| dragonite|https://pokeapi.c...|\n",
      "|122|   mr-mime|https://pokeapi.c...|\n",
      "+---+----------+--------------------+\n",
      "only showing top 5 rows\n",
      "\n",
      "root\n",
      " |-- id: long (nullable = true)\n",
      " |-- forms_name: string (nullable = true)\n",
      " |-- forms_url: string (nullable = true)\n",
      "\n"
     ]
    }
   ],
   "source": [
    "pokemon_forms_df = unstruct(pokemon_forms_df)\n",
    "pokemon_forms_df.show(5)\n",
    "pokemon_forms_df.printSchema()"
   ]
  },
  {
   "cell_type": "code",
   "execution_count": 22,
   "id": "cbae2cf4-77cc-443d-852c-1155a7d8604a",
   "metadata": {
    "tags": []
   },
   "outputs": [
    {
     "name": "stderr",
     "output_type": "stream",
     "text": [
      "                                                                                \r"
     ]
    }
   ],
   "source": [
    "spark.sql(\"DROP TABLE IF EXISTS pokeapi.tbl_silver_pokemon_forms\")\n",
    "pokemon_forms_df.write\\\n",
    "    .option(\"path\", \"s3a://datalake/silver/pokemon_forms/\")\\\n",
    "    .format('parquet')\\\n",
    "    .mode('overwrite')\\\n",
    "    .saveAsTable('pokeapi.tbl_silver_pokemon_forms')"
   ]
  },
  {
   "cell_type": "code",
   "execution_count": 23,
   "id": "a26e0cc7-8316-47d6-8943-a3698eb51b4c",
   "metadata": {
    "tags": []
   },
   "outputs": [
    {
     "name": "stdout",
     "output_type": "stream",
     "text": [
      "+---+--------------------+\n",
      "| id|        game_indices|\n",
      "+---+--------------------+\n",
      "|151|{21, {red, https:...|\n",
      "|151|{21, {blue, https...|\n",
      "|151|{21, {yellow, htt...|\n",
      "|151|{151, {gold, http...|\n",
      "|151|{151, {silver, ht...|\n",
      "+---+--------------------+\n",
      "only showing top 5 rows\n",
      "\n",
      "root\n",
      " |-- id: long (nullable = true)\n",
      " |-- game_indices: struct (nullable = true)\n",
      " |    |-- game_index: long (nullable = true)\n",
      " |    |-- version: struct (nullable = true)\n",
      " |    |    |-- name: string (nullable = true)\n",
      " |    |    |-- url: string (nullable = true)\n",
      "\n"
     ]
    }
   ],
   "source": [
    "pokemon_game_indices_df.show(5)\n",
    "pokemon_game_indices_df.printSchema()"
   ]
  },
  {
   "cell_type": "code",
   "execution_count": 24,
   "id": "5f8be96e-bd92-448c-b29d-f834e37b0bf6",
   "metadata": {
    "tags": []
   },
   "outputs": [
    {
     "name": "stdout",
     "output_type": "stream",
     "text": [
      "+---+-----------------------+-------------------------+------------------------+\n",
      "| id|game_indices_game_index|game_indices_version_name|game_indices_version_url|\n",
      "+---+-----------------------+-------------------------+------------------------+\n",
      "|151|                     21|                      red|    https://pokeapi.c...|\n",
      "|151|                     21|                     blue|    https://pokeapi.c...|\n",
      "|151|                     21|                   yellow|    https://pokeapi.c...|\n",
      "|151|                    151|                     gold|    https://pokeapi.c...|\n",
      "|151|                    151|                   silver|    https://pokeapi.c...|\n",
      "+---+-----------------------+-------------------------+------------------------+\n",
      "only showing top 5 rows\n",
      "\n",
      "root\n",
      " |-- id: long (nullable = true)\n",
      " |-- game_indices_game_index: long (nullable = true)\n",
      " |-- game_indices_version_name: string (nullable = true)\n",
      " |-- game_indices_version_url: string (nullable = true)\n",
      "\n"
     ]
    }
   ],
   "source": [
    "pokemon_game_indices_df = unstruct(pokemon_game_indices_df)\n",
    "pokemon_game_indices_df.show(5)\n",
    "pokemon_game_indices_df.printSchema()"
   ]
  },
  {
   "cell_type": "code",
   "execution_count": 25,
   "id": "9c1d492e-6d96-44fe-95ac-38010aa17c24",
   "metadata": {
    "tags": []
   },
   "outputs": [
    {
     "name": "stderr",
     "output_type": "stream",
     "text": [
      "                                                                                \r"
     ]
    }
   ],
   "source": [
    "spark.sql(\"DROP TABLE IF EXISTS pokeapi.tbl_silver_pokemon_game_indices\")\n",
    "pokemon_game_indices_df.write\\\n",
    "    .option(\"path\", \"s3a://datalake/silver/pokemon_game_indices/\")\\\n",
    "    .format('parquet')\\\n",
    "    .mode('overwrite')\\\n",
    "    .saveAsTable('pokeapi.tbl_silver_pokemon_game_indices')"
   ]
  },
  {
   "cell_type": "code",
   "execution_count": 26,
   "id": "a92df4e5-4e7e-4497-9a79-96e865faf761",
   "metadata": {
    "tags": []
   },
   "outputs": [
    {
     "name": "stdout",
     "output_type": "stream",
     "text": [
      "+---+--------------------+\n",
      "| id|          held_items|\n",
      "+---+--------------------+\n",
      "|151|{{lum-berry, http...|\n",
      "|150|                null|\n",
      "|113|{{oval-stone, htt...|\n",
      "|113|{{lucky-egg, http...|\n",
      "|113|{{lucky-punch, ht...|\n",
      "+---+--------------------+\n",
      "only showing top 5 rows\n",
      "\n",
      "root\n",
      " |-- id: long (nullable = true)\n",
      " |-- held_items: struct (nullable = true)\n",
      " |    |-- item: struct (nullable = true)\n",
      " |    |    |-- name: string (nullable = true)\n",
      " |    |    |-- url: string (nullable = true)\n",
      " |    |-- version_details: array (nullable = true)\n",
      " |    |    |-- element: struct (containsNull = true)\n",
      " |    |    |    |-- rarity: long (nullable = true)\n",
      " |    |    |    |-- version: struct (nullable = true)\n",
      " |    |    |    |    |-- name: string (nullable = true)\n",
      " |    |    |    |    |-- url: string (nullable = true)\n",
      "\n"
     ]
    }
   ],
   "source": [
    "pokemon_held_items_df.show(5)\n",
    "pokemon_held_items_df.printSchema()"
   ]
  },
  {
   "cell_type": "code",
   "execution_count": 27,
   "id": "0c15bc37-c69d-4c96-bf41-eea9d17a24a8",
   "metadata": {
    "tags": []
   },
   "outputs": [
    {
     "name": "stdout",
     "output_type": "stream",
     "text": [
      "+---+--------------------------+--------------------+--------------------+\n",
      "| id|held_items_version_details|held_items_item_name| held_items_item_url|\n",
      "+---+--------------------------+--------------------+--------------------+\n",
      "|151|      [{100, {ruby, htt...|           lum-berry|https://pokeapi.c...|\n",
      "|150|                      null|                null|                null|\n",
      "|113|      [{50, {diamond, h...|          oval-stone|https://pokeapi.c...|\n",
      "|113|      [{5, {ruby, https...|           lucky-egg|https://pokeapi.c...|\n",
      "|113|      [{50, {black, htt...|         lucky-punch|https://pokeapi.c...|\n",
      "+---+--------------------------+--------------------+--------------------+\n",
      "only showing top 5 rows\n",
      "\n",
      "root\n",
      " |-- id: long (nullable = true)\n",
      " |-- held_items_version_details: array (nullable = true)\n",
      " |    |-- element: struct (containsNull = true)\n",
      " |    |    |-- rarity: long (nullable = true)\n",
      " |    |    |-- version: struct (nullable = true)\n",
      " |    |    |    |-- name: string (nullable = true)\n",
      " |    |    |    |-- url: string (nullable = true)\n",
      " |-- held_items_item_name: string (nullable = true)\n",
      " |-- held_items_item_url: string (nullable = true)\n",
      "\n"
     ]
    }
   ],
   "source": [
    "pokemon_held_items_df = unstruct(pokemon_held_items_df)\n",
    "pokemon_held_items_df.show(5)\n",
    "pokemon_held_items_df.printSchema()"
   ]
  },
  {
   "cell_type": "code",
   "execution_count": 28,
   "id": "187891dc-8adc-4ace-a4d1-3b0defc06c86",
   "metadata": {
    "tags": []
   },
   "outputs": [],
   "source": [
    "pokemon_held_items_df, pokemon_held_items_dims_dict = disarray(pokemon_held_items_df, primary_key = 'id', prefix = 'pokemon')"
   ]
  },
  {
   "cell_type": "code",
   "execution_count": 29,
   "id": "b12f9870-6c31-40ed-b06c-6484d0e1e40c",
   "metadata": {
    "tags": []
   },
   "outputs": [
    {
     "name": "stdout",
     "output_type": "stream",
     "text": [
      "+---+--------------------+--------------------+\n",
      "| id|held_items_item_name| held_items_item_url|\n",
      "+---+--------------------+--------------------+\n",
      "|151|           lum-berry|https://pokeapi.c...|\n",
      "|150|                null|                null|\n",
      "|113|          oval-stone|https://pokeapi.c...|\n",
      "|113|           lucky-egg|https://pokeapi.c...|\n",
      "|113|         lucky-punch|https://pokeapi.c...|\n",
      "+---+--------------------+--------------------+\n",
      "only showing top 5 rows\n",
      "\n",
      "root\n",
      " |-- id: long (nullable = true)\n",
      " |-- held_items_item_name: string (nullable = true)\n",
      " |-- held_items_item_url: string (nullable = true)\n",
      "\n"
     ]
    }
   ],
   "source": [
    "pokemon_held_items_df.show(5)\n",
    "pokemon_held_items_df.printSchema()"
   ]
  },
  {
   "cell_type": "code",
   "execution_count": 30,
   "id": "9410988a-4c60-4151-9ce5-2a8f88788844",
   "metadata": {
    "tags": []
   },
   "outputs": [
    {
     "name": "stderr",
     "output_type": "stream",
     "text": [
      "                                                                                \r"
     ]
    }
   ],
   "source": [
    "spark.sql(\"DROP TABLE IF EXISTS pokeapi.tbl_silver_pokemon_held_items\")\n",
    "pokemon_held_items_df.write\\\n",
    "    .option(\"path\", \"s3a://datalake/silver/pokemon_held_items/\")\\\n",
    "    .format('parquet')\\\n",
    "    .mode('overwrite')\\\n",
    "    .saveAsTable('pokeapi.tbl_silver_pokemon_held_items')"
   ]
  },
  {
   "cell_type": "code",
   "execution_count": 31,
   "id": "93a54547-82c5-4c23-a173-195c353ab284",
   "metadata": {
    "tags": []
   },
   "outputs": [
    {
     "data": {
      "text/plain": [
       "{'pokemon_held_items_version_details_df': DataFrame[id: bigint, held_items_version_details: struct<rarity:bigint,version:struct<name:string,url:string>>]}"
      ]
     },
     "execution_count": 31,
     "metadata": {},
     "output_type": "execute_result"
    }
   ],
   "source": [
    "pokemon_held_items_dims_dict"
   ]
  },
  {
   "cell_type": "code",
   "execution_count": 32,
   "id": "9add8c82-2c20-4bc8-9749-7159cbcd1f83",
   "metadata": {
    "tags": []
   },
   "outputs": [
    {
     "name": "stdout",
     "output_type": "stream",
     "text": [
      "+---+--------------------------+\n",
      "| id|held_items_version_details|\n",
      "+---+--------------------------+\n",
      "|151|      {100, {ruby, http...|\n",
      "|151|      {100, {sapphire, ...|\n",
      "|151|      {100, {emerald, h...|\n",
      "|151|      {100, {diamond, h...|\n",
      "|151|      {100, {pearl, htt...|\n",
      "+---+--------------------------+\n",
      "only showing top 5 rows\n",
      "\n",
      "root\n",
      " |-- id: long (nullable = true)\n",
      " |-- held_items_version_details: struct (nullable = true)\n",
      " |    |-- rarity: long (nullable = true)\n",
      " |    |-- version: struct (nullable = true)\n",
      " |    |    |-- name: string (nullable = true)\n",
      " |    |    |-- url: string (nullable = true)\n",
      "\n"
     ]
    }
   ],
   "source": [
    "pokemon_held_items_version_details_df = pokemon_held_items_dims_dict['pokemon_held_items_version_details_df']\n",
    "pokemon_held_items_version_details_df.show(5)\n",
    "pokemon_held_items_version_details_df.printSchema()"
   ]
  },
  {
   "cell_type": "code",
   "execution_count": 33,
   "id": "40c0419e-d9c1-467a-a50a-85321e7b932f",
   "metadata": {
    "tags": []
   },
   "outputs": [
    {
     "name": "stdout",
     "output_type": "stream",
     "text": [
      "+---+---------------------------------+---------------------------------------+--------------------------------------+\n",
      "| id|held_items_version_details_rarity|held_items_version_details_version_name|held_items_version_details_version_url|\n",
      "+---+---------------------------------+---------------------------------------+--------------------------------------+\n",
      "|151|                              100|                                   ruby|                  https://pokeapi.c...|\n",
      "|151|                              100|                               sapphire|                  https://pokeapi.c...|\n",
      "|151|                              100|                                emerald|                  https://pokeapi.c...|\n",
      "|151|                              100|                                diamond|                  https://pokeapi.c...|\n",
      "|151|                              100|                                  pearl|                  https://pokeapi.c...|\n",
      "+---+---------------------------------+---------------------------------------+--------------------------------------+\n",
      "only showing top 5 rows\n",
      "\n",
      "root\n",
      " |-- id: long (nullable = true)\n",
      " |-- held_items_version_details_rarity: long (nullable = true)\n",
      " |-- held_items_version_details_version_name: string (nullable = true)\n",
      " |-- held_items_version_details_version_url: string (nullable = true)\n",
      "\n"
     ]
    }
   ],
   "source": [
    "pokemon_held_items_version_details_df = unstruct(pokemon_held_items_version_details_df)\n",
    "pokemon_held_items_version_details_df.show(5)\n",
    "pokemon_held_items_version_details_df.printSchema()"
   ]
  },
  {
   "cell_type": "code",
   "execution_count": 34,
   "id": "a9969c5f-9de4-4551-baf8-64887f0402f5",
   "metadata": {
    "tags": []
   },
   "outputs": [
    {
     "name": "stderr",
     "output_type": "stream",
     "text": [
      "                                                                                \r"
     ]
    },
    {
     "data": {
      "text/plain": [
       "[Table(name='tbl_bronze_evolutions', database='pokeapi', description=None, tableType='EXTERNAL', isTemporary=False),\n",
       " Table(name='tbl_bronze_pokemons', database='pokeapi', description=None, tableType='EXTERNAL', isTemporary=False),\n",
       " Table(name='tbl_silver_pokemon_abilities', database='pokeapi', description=None, tableType='EXTERNAL', isTemporary=False),\n",
       " Table(name='tbl_silver_pokemon_forms', database='pokeapi', description=None, tableType='EXTERNAL', isTemporary=False),\n",
       " Table(name='tbl_silver_pokemon_game_indices', database='pokeapi', description=None, tableType='EXTERNAL', isTemporary=False),\n",
       " Table(name='tbl_silver_pokemon_held_items', database='pokeapi', description=None, tableType='EXTERNAL', isTemporary=False),\n",
       " Table(name='tbl_silver_pokemon_held_items_version_details', database='pokeapi', description=None, tableType='EXTERNAL', isTemporary=False),\n",
       " Table(name='tbl_silver_pokemons', database='pokeapi', description=None, tableType='EXTERNAL', isTemporary=False)]"
      ]
     },
     "execution_count": 34,
     "metadata": {},
     "output_type": "execute_result"
    }
   ],
   "source": [
    "spark.sql(\"DROP TABLE IF EXISTS pokeapi.tbl_silver_pokemon_held_items_version_details\")\n",
    "pokemon_held_items_version_details_df.write\\\n",
    "    .option(\"path\", \"s3a://datalake/silver/pokemon_held_items_version_details/\")\\\n",
    "    .format('parquet')\\\n",
    "    .mode('overwrite')\\\n",
    "    .saveAsTable('pokeapi.tbl_silver_pokemon_held_items_version_details')\n",
    "spark.catalog.listTables(dbName='pokeapi')"
   ]
  },
  {
   "cell_type": "code",
   "execution_count": 35,
   "id": "54a314c2-8925-4f34-b679-39256e5b0651",
   "metadata": {
    "tags": []
   },
   "outputs": [
    {
     "name": "stdout",
     "output_type": "stream",
     "text": [
      "+---+--------------------+\n",
      "| id|               moves|\n",
      "+---+--------------------+\n",
      "|151|{{pound, https://...|\n",
      "|151|{{mega-punch, htt...|\n",
      "|151|{{pay-day, https:...|\n",
      "|151|{{fire-punch, htt...|\n",
      "|151|{{ice-punch, http...|\n",
      "+---+--------------------+\n",
      "only showing top 5 rows\n",
      "\n",
      "root\n",
      " |-- id: long (nullable = true)\n",
      " |-- moves: struct (nullable = true)\n",
      " |    |-- move: struct (nullable = true)\n",
      " |    |    |-- name: string (nullable = true)\n",
      " |    |    |-- url: string (nullable = true)\n",
      " |    |-- version_group_details: array (nullable = true)\n",
      " |    |    |-- element: struct (containsNull = true)\n",
      " |    |    |    |-- level_learned_at: long (nullable = true)\n",
      " |    |    |    |-- move_learn_method: struct (nullable = true)\n",
      " |    |    |    |    |-- name: string (nullable = true)\n",
      " |    |    |    |    |-- url: string (nullable = true)\n",
      " |    |    |    |-- version_group: struct (nullable = true)\n",
      " |    |    |    |    |-- name: string (nullable = true)\n",
      " |    |    |    |    |-- url: string (nullable = true)\n",
      "\n"
     ]
    }
   ],
   "source": [
    "pokemon_moves_df.show(5)\n",
    "pokemon_moves_df.printSchema()"
   ]
  },
  {
   "cell_type": "code",
   "execution_count": 36,
   "id": "6fd5b5d6-f863-4390-96d7-43c81304b9c2",
   "metadata": {
    "tags": []
   },
   "outputs": [
    {
     "name": "stdout",
     "output_type": "stream",
     "text": [
      "+---+---------------------------+---------------+--------------------+\n",
      "| id|moves_version_group_details|moves_move_name|      moves_move_url|\n",
      "+---+---------------------------+---------------+--------------------+\n",
      "|151|       [{1, {level-up, h...|          pound|https://pokeapi.c...|\n",
      "|151|       [{20, {level-up, ...|     mega-punch|https://pokeapi.c...|\n",
      "|151|       [{0, {machine, ht...|        pay-day|https://pokeapi.c...|\n",
      "|151|       [{0, {machine, ht...|     fire-punch|https://pokeapi.c...|\n",
      "|151|       [{0, {machine, ht...|      ice-punch|https://pokeapi.c...|\n",
      "+---+---------------------------+---------------+--------------------+\n",
      "only showing top 5 rows\n",
      "\n",
      "root\n",
      " |-- id: long (nullable = true)\n",
      " |-- moves_version_group_details: array (nullable = true)\n",
      " |    |-- element: struct (containsNull = true)\n",
      " |    |    |-- level_learned_at: long (nullable = true)\n",
      " |    |    |-- move_learn_method: struct (nullable = true)\n",
      " |    |    |    |-- name: string (nullable = true)\n",
      " |    |    |    |-- url: string (nullable = true)\n",
      " |    |    |-- version_group: struct (nullable = true)\n",
      " |    |    |    |-- name: string (nullable = true)\n",
      " |    |    |    |-- url: string (nullable = true)\n",
      " |-- moves_move_name: string (nullable = true)\n",
      " |-- moves_move_url: string (nullable = true)\n",
      "\n"
     ]
    }
   ],
   "source": [
    "pokemon_moves_df = unstruct(pokemon_moves_df)\n",
    "pokemon_moves_df.show(5)\n",
    "pokemon_moves_df.printSchema()"
   ]
  },
  {
   "cell_type": "code",
   "execution_count": 37,
   "id": "d030d079-1032-4f10-ad5a-be68eee1b198",
   "metadata": {
    "tags": []
   },
   "outputs": [],
   "source": [
    "pokemon_moves_df, pokemon_moves_dims_dict = disarray(pokemon_moves_df, prefix = 'pokemon', primary_key = 'id')"
   ]
  },
  {
   "cell_type": "code",
   "execution_count": 38,
   "id": "b24e67cf-fda9-416f-9ebe-6d1688ebbd69",
   "metadata": {
    "tags": []
   },
   "outputs": [
    {
     "name": "stdout",
     "output_type": "stream",
     "text": [
      "+---+---------------+--------------------+\n",
      "| id|moves_move_name|      moves_move_url|\n",
      "+---+---------------+--------------------+\n",
      "|151|          pound|https://pokeapi.c...|\n",
      "|151|     mega-punch|https://pokeapi.c...|\n",
      "|151|        pay-day|https://pokeapi.c...|\n",
      "|151|     fire-punch|https://pokeapi.c...|\n",
      "|151|      ice-punch|https://pokeapi.c...|\n",
      "+---+---------------+--------------------+\n",
      "only showing top 5 rows\n",
      "\n",
      "root\n",
      " |-- id: long (nullable = true)\n",
      " |-- moves_move_name: string (nullable = true)\n",
      " |-- moves_move_url: string (nullable = true)\n",
      "\n"
     ]
    }
   ],
   "source": [
    "pokemon_moves_df.show(5)\n",
    "pokemon_moves_df.printSchema()"
   ]
  },
  {
   "cell_type": "code",
   "execution_count": 39,
   "id": "54738fca-91b6-4496-91b9-e67c0d84831a",
   "metadata": {
    "tags": []
   },
   "outputs": [
    {
     "name": "stderr",
     "output_type": "stream",
     "text": [
      "                                                                                \r"
     ]
    }
   ],
   "source": [
    "spark.sql(\"DROP TABLE IF EXISTS pokeapi.tbl_silver_pokemon_moves\")\n",
    "pokemon_moves_df.write\\\n",
    "    .option(\"path\", \"s3a://datalake/silver/pokemon_moves/\")\\\n",
    "    .format('parquet')\\\n",
    "    .mode('overwrite')\\\n",
    "    .saveAsTable('pokeapi.tbl_silver_pokemon_moves')"
   ]
  },
  {
   "cell_type": "code",
   "execution_count": 40,
   "id": "8f5a5826-1a7e-489f-9748-5ca7c29cef66",
   "metadata": {
    "tags": []
   },
   "outputs": [
    {
     "data": {
      "text/plain": [
       "{'pokemon_moves_version_group_details_df': DataFrame[id: bigint, moves_version_group_details: struct<level_learned_at:bigint,move_learn_method:struct<name:string,url:string>,version_group:struct<name:string,url:string>>]}"
      ]
     },
     "execution_count": 40,
     "metadata": {},
     "output_type": "execute_result"
    }
   ],
   "source": [
    "pokemon_moves_dims_dict"
   ]
  },
  {
   "cell_type": "code",
   "execution_count": 41,
   "id": "5e8db99b-6589-4ea9-b1ff-16551c3a0f38",
   "metadata": {
    "tags": []
   },
   "outputs": [
    {
     "name": "stdout",
     "output_type": "stream",
     "text": [
      "+---+---------------------------+\n",
      "| id|moves_version_group_details|\n",
      "+---+---------------------------+\n",
      "|151|       {1, {level-up, ht...|\n",
      "|151|       {1, {level-up, ht...|\n",
      "|151|       {1, {level-up, ht...|\n",
      "|151|       {1, {level-up, ht...|\n",
      "|151|       {1, {level-up, ht...|\n",
      "+---+---------------------------+\n",
      "only showing top 5 rows\n",
      "\n",
      "root\n",
      " |-- id: long (nullable = true)\n",
      " |-- moves_version_group_details: struct (nullable = true)\n",
      " |    |-- level_learned_at: long (nullable = true)\n",
      " |    |-- move_learn_method: struct (nullable = true)\n",
      " |    |    |-- name: string (nullable = true)\n",
      " |    |    |-- url: string (nullable = true)\n",
      " |    |-- version_group: struct (nullable = true)\n",
      " |    |    |-- name: string (nullable = true)\n",
      " |    |    |-- url: string (nullable = true)\n",
      "\n"
     ]
    }
   ],
   "source": [
    "pokemon_moves_version_group_details_df = pokemon_moves_dims_dict['pokemon_moves_version_group_details_df']\n",
    "pokemon_moves_version_group_details_df.show(5)\n",
    "pokemon_moves_version_group_details_df.printSchema()"
   ]
  },
  {
   "cell_type": "code",
   "execution_count": 42,
   "id": "8ac4fda1-596f-42b1-a982-8052f9176dc1",
   "metadata": {
    "tags": []
   },
   "outputs": [
    {
     "name": "stdout",
     "output_type": "stream",
     "text": [
      "+---+--------------------------------------------+--------------------------------------------------+-------------------------------------------------+----------------------------------------------+---------------------------------------------+\n",
      "| id|moves_version_group_details_level_learned_at|moves_version_group_details_move_learn_method_name|moves_version_group_details_move_learn_method_url|moves_version_group_details_version_group_name|moves_version_group_details_version_group_url|\n",
      "+---+--------------------------------------------+--------------------------------------------------+-------------------------------------------------+----------------------------------------------+---------------------------------------------+\n",
      "|151|                                           1|                                          level-up|                             https://pokeapi.c...|                                      red-blue|                         https://pokeapi.c...|\n",
      "|151|                                           1|                                          level-up|                             https://pokeapi.c...|                                        yellow|                         https://pokeapi.c...|\n",
      "|151|                                           1|                                          level-up|                             https://pokeapi.c...|                                   gold-silver|                         https://pokeapi.c...|\n",
      "|151|                                           1|                                          level-up|                             https://pokeapi.c...|                                       crystal|                         https://pokeapi.c...|\n",
      "|151|                                           1|                                          level-up|                             https://pokeapi.c...|                                 ruby-sapphire|                         https://pokeapi.c...|\n",
      "+---+--------------------------------------------+--------------------------------------------------+-------------------------------------------------+----------------------------------------------+---------------------------------------------+\n",
      "only showing top 5 rows\n",
      "\n",
      "root\n",
      " |-- id: long (nullable = true)\n",
      " |-- moves_version_group_details_level_learned_at: long (nullable = true)\n",
      " |-- moves_version_group_details_move_learn_method_name: string (nullable = true)\n",
      " |-- moves_version_group_details_move_learn_method_url: string (nullable = true)\n",
      " |-- moves_version_group_details_version_group_name: string (nullable = true)\n",
      " |-- moves_version_group_details_version_group_url: string (nullable = true)\n",
      "\n"
     ]
    }
   ],
   "source": [
    "pokemon_moves_version_group_details_df = unstruct(pokemon_moves_version_group_details_df)\n",
    "pokemon_moves_version_group_details_df.show(5)\n",
    "pokemon_moves_version_group_details_df.printSchema()"
   ]
  },
  {
   "cell_type": "code",
   "execution_count": 43,
   "id": "1bc9a219-a975-43b3-81f8-deca885f50c7",
   "metadata": {
    "tags": []
   },
   "outputs": [
    {
     "name": "stderr",
     "output_type": "stream",
     "text": [
      "                                                                                \r"
     ]
    }
   ],
   "source": [
    "spark.sql(\"DROP TABLE IF EXISTS pokeapi.tbl_silver_pokemon_moves_version_group_details\")\n",
    "pokemon_moves_version_group_details_df.write\\\n",
    "    .option(\"path\", \"s3a://datalake/silver/pokemon_moves_version_group_details/\")\\\n",
    "    .format('parquet')\\\n",
    "    .mode('overwrite')\\\n",
    "    .saveAsTable('pokeapi.tbl_silver_pokemon_moves_version_group_details')"
   ]
  },
  {
   "cell_type": "code",
   "execution_count": 44,
   "id": "f4594183-3d62-46bf-a575-aa6c6fba6792",
   "metadata": {
    "tags": []
   },
   "outputs": [
    {
     "data": {
      "text/plain": [
       "{'pokemon_abilities_df': DataFrame[id: bigint, abilities: struct<ability:struct<name:string,url:string>,is_hidden:boolean,slot:bigint>],\n",
       " 'pokemon_forms_df': DataFrame[id: bigint, forms: struct<name:string,url:string>],\n",
       " 'pokemon_game_indices_df': DataFrame[id: bigint, game_indices: struct<game_index:bigint,version:struct<name:string,url:string>>],\n",
       " 'pokemon_held_items_df': DataFrame[id: bigint, held_items: struct<item:struct<name:string,url:string>,version_details:array<struct<rarity:bigint,version:struct<name:string,url:string>>>>],\n",
       " 'pokemon_moves_df': DataFrame[id: bigint, moves: struct<move:struct<name:string,url:string>,version_group_details:array<struct<level_learned_at:bigint,move_learn_method:struct<name:string,url:string>,version_group:struct<name:string,url:string>>>>],\n",
       " 'pokemon_past_types_df': DataFrame[id: bigint, past_types: struct<generation:struct<name:string,url:string>,types:array<struct<slot:bigint,type:struct<name:string,url:string>>>>],\n",
       " 'pokemon_stats_df': DataFrame[id: bigint, stats: struct<base_stat:bigint,effort:bigint,stat:struct<name:string,url:string>>],\n",
       " 'pokemon_types_df': DataFrame[id: bigint, types: struct<slot:bigint,type:struct<name:string,url:string>>]}"
      ]
     },
     "execution_count": 44,
     "metadata": {},
     "output_type": "execute_result"
    }
   ],
   "source": [
    "dims_dict"
   ]
  },
  {
   "cell_type": "code",
   "execution_count": 45,
   "id": "7488f0af-7f38-46d3-8776-3245b10f7726",
   "metadata": {
    "tags": []
   },
   "outputs": [
    {
     "name": "stdout",
     "output_type": "stream",
     "text": [
      "+---+--------------------+\n",
      "| id|          past_types|\n",
      "+---+--------------------+\n",
      "|151|                null|\n",
      "|150|                null|\n",
      "|113|                null|\n",
      "|149|                null|\n",
      "|122|{{generation-v, h...|\n",
      "+---+--------------------+\n",
      "only showing top 5 rows\n",
      "\n",
      "root\n",
      " |-- id: long (nullable = true)\n",
      " |-- past_types: struct (nullable = true)\n",
      " |    |-- generation: struct (nullable = true)\n",
      " |    |    |-- name: string (nullable = true)\n",
      " |    |    |-- url: string (nullable = true)\n",
      " |    |-- types: array (nullable = true)\n",
      " |    |    |-- element: struct (containsNull = true)\n",
      " |    |    |    |-- slot: long (nullable = true)\n",
      " |    |    |    |-- type: struct (nullable = true)\n",
      " |    |    |    |    |-- name: string (nullable = true)\n",
      " |    |    |    |    |-- url: string (nullable = true)\n",
      "\n"
     ]
    }
   ],
   "source": [
    "pokemon_past_types_df.show(5)\n",
    "pokemon_past_types_df.printSchema()"
   ]
  },
  {
   "cell_type": "code",
   "execution_count": 46,
   "id": "55e42dad-4821-4541-91fa-1b332e4e1cae",
   "metadata": {
    "tags": []
   },
   "outputs": [
    {
     "name": "stdout",
     "output_type": "stream",
     "text": [
      "+---+--------------------+--------------------------+-------------------------+\n",
      "| id|    past_types_types|past_types_generation_name|past_types_generation_url|\n",
      "+---+--------------------+--------------------------+-------------------------+\n",
      "|151|                null|                      null|                     null|\n",
      "|150|                null|                      null|                     null|\n",
      "|113|                null|                      null|                     null|\n",
      "|149|                null|                      null|                     null|\n",
      "|122|[{1, {psychic, ht...|              generation-v|     https://pokeapi.c...|\n",
      "+---+--------------------+--------------------------+-------------------------+\n",
      "only showing top 5 rows\n",
      "\n",
      "root\n",
      " |-- id: long (nullable = true)\n",
      " |-- past_types_types: array (nullable = true)\n",
      " |    |-- element: struct (containsNull = true)\n",
      " |    |    |-- slot: long (nullable = true)\n",
      " |    |    |-- type: struct (nullable = true)\n",
      " |    |    |    |-- name: string (nullable = true)\n",
      " |    |    |    |-- url: string (nullable = true)\n",
      " |-- past_types_generation_name: string (nullable = true)\n",
      " |-- past_types_generation_url: string (nullable = true)\n",
      "\n"
     ]
    }
   ],
   "source": [
    "pokemon_past_types_df = unstruct(pokemon_past_types_df)\n",
    "pokemon_past_types_df.show(5)\n",
    "pokemon_past_types_df.printSchema()"
   ]
  },
  {
   "cell_type": "code",
   "execution_count": 47,
   "id": "b151058c-2c4e-4457-a196-e1d3a67a0e44",
   "metadata": {
    "tags": []
   },
   "outputs": [],
   "source": [
    "pokemon_past_types_df, pokemon_past_types_dims_dict = disarray(pokemon_past_types_df, prefix = 'pokemon', primary_key = 'id')"
   ]
  },
  {
   "cell_type": "code",
   "execution_count": 48,
   "id": "28ac4a8c-d1ce-4d1c-a0b1-5d891e50b418",
   "metadata": {
    "tags": []
   },
   "outputs": [
    {
     "name": "stdout",
     "output_type": "stream",
     "text": [
      "+---+--------------------------+-------------------------+\n",
      "| id|past_types_generation_name|past_types_generation_url|\n",
      "+---+--------------------------+-------------------------+\n",
      "|151|                      null|                     null|\n",
      "|150|                      null|                     null|\n",
      "|113|                      null|                     null|\n",
      "|149|                      null|                     null|\n",
      "|122|              generation-v|     https://pokeapi.c...|\n",
      "+---+--------------------------+-------------------------+\n",
      "only showing top 5 rows\n",
      "\n",
      "root\n",
      " |-- id: long (nullable = true)\n",
      " |-- past_types_generation_name: string (nullable = true)\n",
      " |-- past_types_generation_url: string (nullable = true)\n",
      "\n"
     ]
    }
   ],
   "source": [
    "pokemon_past_types_df.show(5)\n",
    "pokemon_past_types_df.printSchema()"
   ]
  },
  {
   "cell_type": "code",
   "execution_count": 49,
   "id": "39abb5db-d419-4994-bb21-aff5ac5438c3",
   "metadata": {
    "tags": []
   },
   "outputs": [
    {
     "name": "stderr",
     "output_type": "stream",
     "text": [
      "                                                                                \r"
     ]
    }
   ],
   "source": [
    "spark.sql(\"DROP TABLE IF EXISTS pokeapi.tbl_silver_pokemon_past_types\")\n",
    "pokemon_past_types_df.write\\\n",
    "    .option(\"path\", \"s3a://datalake/silver/pokemon_past_types/\")\\\n",
    "    .format('parquet')\\\n",
    "    .mode('overwrite')\\\n",
    "    .saveAsTable('pokeapi.tbl_silver_pokemon_past_types')"
   ]
  },
  {
   "cell_type": "code",
   "execution_count": 50,
   "id": "6d0656c7-c50d-41d1-b6f3-2c999b80957d",
   "metadata": {
    "tags": []
   },
   "outputs": [
    {
     "data": {
      "text/plain": [
       "{'pokemon_past_types_types_df': DataFrame[id: bigint, past_types_types: struct<slot:bigint,type:struct<name:string,url:string>>]}"
      ]
     },
     "execution_count": 50,
     "metadata": {},
     "output_type": "execute_result"
    }
   ],
   "source": [
    "pokemon_past_types_dims_dict"
   ]
  },
  {
   "cell_type": "code",
   "execution_count": 51,
   "id": "c980d8cd-be08-4729-9947-9cd8955aadf0",
   "metadata": {
    "tags": []
   },
   "outputs": [
    {
     "name": "stdout",
     "output_type": "stream",
     "text": [
      "+---+--------------------+\n",
      "| id|    past_types_types|\n",
      "+---+--------------------+\n",
      "|151|                null|\n",
      "|150|                null|\n",
      "|113|                null|\n",
      "|149|                null|\n",
      "|122|{1, {psychic, htt...|\n",
      "+---+--------------------+\n",
      "only showing top 5 rows\n",
      "\n",
      "root\n",
      " |-- id: long (nullable = true)\n",
      " |-- past_types_types: struct (nullable = true)\n",
      " |    |-- slot: long (nullable = true)\n",
      " |    |-- type: struct (nullable = true)\n",
      " |    |    |-- name: string (nullable = true)\n",
      " |    |    |-- url: string (nullable = true)\n",
      "\n"
     ]
    }
   ],
   "source": [
    "pokemon_past_types_types_df = pokemon_past_types_dims_dict['pokemon_past_types_types_df']\n",
    "pokemon_past_types_types_df.show(5)\n",
    "pokemon_past_types_types_df.printSchema()"
   ]
  },
  {
   "cell_type": "code",
   "execution_count": 52,
   "id": "cca6c168-f4e4-41bc-876c-26d543001c03",
   "metadata": {
    "tags": []
   },
   "outputs": [
    {
     "name": "stdout",
     "output_type": "stream",
     "text": [
      "+---+---------------------+--------------------------+-------------------------+\n",
      "| id|past_types_types_slot|past_types_types_type_name|past_types_types_type_url|\n",
      "+---+---------------------+--------------------------+-------------------------+\n",
      "|151|                 null|                      null|                     null|\n",
      "|150|                 null|                      null|                     null|\n",
      "|113|                 null|                      null|                     null|\n",
      "|149|                 null|                      null|                     null|\n",
      "|122|                    1|                   psychic|     https://pokeapi.c...|\n",
      "+---+---------------------+--------------------------+-------------------------+\n",
      "only showing top 5 rows\n",
      "\n",
      "root\n",
      " |-- id: long (nullable = true)\n",
      " |-- past_types_types_slot: long (nullable = true)\n",
      " |-- past_types_types_type_name: string (nullable = true)\n",
      " |-- past_types_types_type_url: string (nullable = true)\n",
      "\n"
     ]
    }
   ],
   "source": [
    "pokemon_past_types_types_df = unstruct(pokemon_past_types_types_df)\n",
    "pokemon_past_types_types_df.show(5)\n",
    "pokemon_past_types_types_df.printSchema()"
   ]
  },
  {
   "cell_type": "code",
   "execution_count": 53,
   "id": "4397ddcf-4502-4369-887d-b29dba2eb552",
   "metadata": {
    "tags": []
   },
   "outputs": [
    {
     "name": "stderr",
     "output_type": "stream",
     "text": [
      "                                                                                \r"
     ]
    }
   ],
   "source": [
    "spark.sql(\"DROP TABLE IF EXISTS pokeapi.tbl_silver_pokemon_past_types_types\")\n",
    "pokemon_past_types_types_df.write\\\n",
    "    .option(\"path\", \"s3a://datalake/silver/pokemon_past_types_types/\")\\\n",
    "    .format('parquet')\\\n",
    "    .mode('overwrite')\\\n",
    "    .saveAsTable('pokeapi.tbl_silver_pokemon_past_types_types')"
   ]
  },
  {
   "cell_type": "code",
   "execution_count": 54,
   "id": "430e0261-11da-46cf-9e24-5aa3d52680a3",
   "metadata": {
    "tags": []
   },
   "outputs": [
    {
     "name": "stdout",
     "output_type": "stream",
     "text": [
      "+---+--------------------+\n",
      "| id|               stats|\n",
      "+---+--------------------+\n",
      "|151|{100, 3, {hp, htt...|\n",
      "|151|{100, 0, {attack,...|\n",
      "|151|{100, 0, {defense...|\n",
      "|151|{100, 0, {special...|\n",
      "|151|{100, 0, {special...|\n",
      "+---+--------------------+\n",
      "only showing top 5 rows\n",
      "\n",
      "root\n",
      " |-- id: long (nullable = true)\n",
      " |-- stats: struct (nullable = true)\n",
      " |    |-- base_stat: long (nullable = true)\n",
      " |    |-- effort: long (nullable = true)\n",
      " |    |-- stat: struct (nullable = true)\n",
      " |    |    |-- name: string (nullable = true)\n",
      " |    |    |-- url: string (nullable = true)\n",
      "\n"
     ]
    }
   ],
   "source": [
    "pokemon_stats_df.show(5)\n",
    "pokemon_stats_df.printSchema()"
   ]
  },
  {
   "cell_type": "code",
   "execution_count": 55,
   "id": "76f58e7e-99ac-4d75-9d26-0c4044410425",
   "metadata": {
    "tags": []
   },
   "outputs": [
    {
     "name": "stdout",
     "output_type": "stream",
     "text": [
      "+---+---------------+------------+---------------+--------------------+\n",
      "| id|stats_base_stat|stats_effort|stats_stat_name|      stats_stat_url|\n",
      "+---+---------------+------------+---------------+--------------------+\n",
      "|151|            100|           3|             hp|https://pokeapi.c...|\n",
      "|151|            100|           0|         attack|https://pokeapi.c...|\n",
      "|151|            100|           0|        defense|https://pokeapi.c...|\n",
      "|151|            100|           0| special-attack|https://pokeapi.c...|\n",
      "|151|            100|           0|special-defense|https://pokeapi.c...|\n",
      "+---+---------------+------------+---------------+--------------------+\n",
      "only showing top 5 rows\n",
      "\n",
      "root\n",
      " |-- id: long (nullable = true)\n",
      " |-- stats_base_stat: long (nullable = true)\n",
      " |-- stats_effort: long (nullable = true)\n",
      " |-- stats_stat_name: string (nullable = true)\n",
      " |-- stats_stat_url: string (nullable = true)\n",
      "\n"
     ]
    }
   ],
   "source": [
    "pokemon_stats_df = unstruct(pokemon_stats_df)\n",
    "pokemon_stats_df.show(5)\n",
    "pokemon_stats_df.printSchema()"
   ]
  },
  {
   "cell_type": "code",
   "execution_count": 56,
   "id": "fe899e80-14ad-441c-9e1a-bd25a76b20ef",
   "metadata": {
    "tags": []
   },
   "outputs": [
    {
     "name": "stderr",
     "output_type": "stream",
     "text": [
      "                                                                                \r"
     ]
    }
   ],
   "source": [
    "spark.sql(\"DROP TABLE IF EXISTS pokeapi.tbl_silver_pokemon_stats\")\n",
    "pokemon_stats_df.write\\\n",
    "    .option(\"path\", \"s3a://datalake/silver/pokemon_stats/\")\\\n",
    "    .format('parquet')\\\n",
    "    .mode('overwrite')\\\n",
    "    .saveAsTable('pokeapi.tbl_silver_pokemon_stats')"
   ]
  },
  {
   "cell_type": "code",
   "execution_count": 57,
   "id": "4e75acea-ed65-4e73-ac5a-77a61a12af02",
   "metadata": {
    "tags": []
   },
   "outputs": [
    {
     "name": "stdout",
     "output_type": "stream",
     "text": [
      "+---+--------------------+\n",
      "| id|               types|\n",
      "+---+--------------------+\n",
      "|151|{1, {psychic, htt...|\n",
      "|150|{1, {psychic, htt...|\n",
      "|113|{1, {normal, http...|\n",
      "|149|{1, {dragon, http...|\n",
      "|149|{2, {flying, http...|\n",
      "+---+--------------------+\n",
      "only showing top 5 rows\n",
      "\n",
      "root\n",
      " |-- id: long (nullable = true)\n",
      " |-- types: struct (nullable = true)\n",
      " |    |-- slot: long (nullable = true)\n",
      " |    |-- type: struct (nullable = true)\n",
      " |    |    |-- name: string (nullable = true)\n",
      " |    |    |-- url: string (nullable = true)\n",
      "\n"
     ]
    }
   ],
   "source": [
    "pokemon_types_df.show(5)\n",
    "pokemon_types_df.printSchema()"
   ]
  },
  {
   "cell_type": "code",
   "execution_count": 58,
   "id": "30bda806-c91a-40b0-8934-edbc39245557",
   "metadata": {
    "tags": []
   },
   "outputs": [
    {
     "name": "stdout",
     "output_type": "stream",
     "text": [
      "+---+----------+---------------+--------------------+\n",
      "| id|types_slot|types_type_name|      types_type_url|\n",
      "+---+----------+---------------+--------------------+\n",
      "|151|         1|        psychic|https://pokeapi.c...|\n",
      "|150|         1|        psychic|https://pokeapi.c...|\n",
      "|113|         1|         normal|https://pokeapi.c...|\n",
      "|149|         1|         dragon|https://pokeapi.c...|\n",
      "|149|         2|         flying|https://pokeapi.c...|\n",
      "+---+----------+---------------+--------------------+\n",
      "only showing top 5 rows\n",
      "\n",
      "root\n",
      " |-- id: long (nullable = true)\n",
      " |-- types_slot: long (nullable = true)\n",
      " |-- types_type_name: string (nullable = true)\n",
      " |-- types_type_url: string (nullable = true)\n",
      "\n"
     ]
    }
   ],
   "source": [
    "pokemon_types_df = unstruct(pokemon_types_df)\n",
    "pokemon_types_df.show(5)\n",
    "pokemon_types_df.printSchema()"
   ]
  },
  {
   "cell_type": "code",
   "execution_count": 59,
   "id": "331ea80b-2573-4110-a5f2-3097b9c7df1b",
   "metadata": {
    "tags": []
   },
   "outputs": [
    {
     "name": "stderr",
     "output_type": "stream",
     "text": [
      "                                                                                \r"
     ]
    }
   ],
   "source": [
    "spark.sql(\"DROP TABLE IF EXISTS pokeapi.tbl_silver_pokemon_types\")\n",
    "pokemon_types_df.write\\\n",
    "    .option(\"path\", \"s3a://datalake/silver/pokemon_types/\")\\\n",
    "    .format('parquet')\\\n",
    "    .mode('overwrite')\\\n",
    "    .saveAsTable('pokeapi.tbl_silver_pokemon_types')"
   ]
  },
  {
   "cell_type": "markdown",
   "id": "e6bb9f96-7c85-4b5d-a23f-2685205f4bcc",
   "metadata": {
    "tags": []
   },
   "source": [
    "# Tabela TBL_SILVER_EVOLUTIONS"
   ]
  },
  {
   "cell_type": "code",
   "execution_count": 60,
   "id": "c5ae7b4f-ad93-40b0-97af-df5c79a353c6",
   "metadata": {
    "scrolled": true,
    "tags": []
   },
   "outputs": [
    {
     "name": "stdout",
     "output_type": "stream",
     "text": [
      "+-----------------+--------------------+---+\n",
      "|baby_trigger_item|               chain| id|\n",
      "+-----------------+--------------------+---+\n",
      "|             null|{[], [{[{null, nu...| 67|\n",
      "|             null|{[], [{[{null, nu...| 34|\n",
      "|             null|{[], [{[{null, nu...|135|\n",
      "|             null|{[], [{[{null, nu...| 33|\n",
      "|             null|{[], [{[{null, nu...|147|\n",
      "+-----------------+--------------------+---+\n",
      "only showing top 5 rows\n",
      "\n",
      "root\n",
      " |-- baby_trigger_item: struct (nullable = true)\n",
      " |    |-- name: string (nullable = true)\n",
      " |    |-- url: string (nullable = true)\n",
      " |-- chain: struct (nullable = true)\n",
      " |    |-- evolution_details: array (nullable = true)\n",
      " |    |    |-- element: string (containsNull = true)\n",
      " |    |-- evolves_to: array (nullable = true)\n",
      " |    |    |-- element: struct (containsNull = true)\n",
      " |    |    |    |-- evolution_details: array (nullable = true)\n",
      " |    |    |    |    |-- element: struct (containsNull = true)\n",
      " |    |    |    |    |    |-- gender: long (nullable = true)\n",
      " |    |    |    |    |    |-- held_item: struct (nullable = true)\n",
      " |    |    |    |    |    |    |-- name: string (nullable = true)\n",
      " |    |    |    |    |    |    |-- url: string (nullable = true)\n",
      " |    |    |    |    |    |-- item: struct (nullable = true)\n",
      " |    |    |    |    |    |    |-- name: string (nullable = true)\n",
      " |    |    |    |    |    |    |-- url: string (nullable = true)\n",
      " |    |    |    |    |    |-- known_move: struct (nullable = true)\n",
      " |    |    |    |    |    |    |-- name: string (nullable = true)\n",
      " |    |    |    |    |    |    |-- url: string (nullable = true)\n",
      " |    |    |    |    |    |-- known_move_type: struct (nullable = true)\n",
      " |    |    |    |    |    |    |-- name: string (nullable = true)\n",
      " |    |    |    |    |    |    |-- url: string (nullable = true)\n",
      " |    |    |    |    |    |-- location: struct (nullable = true)\n",
      " |    |    |    |    |    |    |-- name: string (nullable = true)\n",
      " |    |    |    |    |    |    |-- url: string (nullable = true)\n",
      " |    |    |    |    |    |-- min_affection: long (nullable = true)\n",
      " |    |    |    |    |    |-- min_beauty: long (nullable = true)\n",
      " |    |    |    |    |    |-- min_happiness: long (nullable = true)\n",
      " |    |    |    |    |    |-- min_level: long (nullable = true)\n",
      " |    |    |    |    |    |-- needs_overworld_rain: boolean (nullable = true)\n",
      " |    |    |    |    |    |-- party_species: struct (nullable = true)\n",
      " |    |    |    |    |    |    |-- name: string (nullable = true)\n",
      " |    |    |    |    |    |    |-- url: string (nullable = true)\n",
      " |    |    |    |    |    |-- party_type: struct (nullable = true)\n",
      " |    |    |    |    |    |    |-- name: string (nullable = true)\n",
      " |    |    |    |    |    |    |-- url: string (nullable = true)\n",
      " |    |    |    |    |    |-- relative_physical_stats: long (nullable = true)\n",
      " |    |    |    |    |    |-- time_of_day: string (nullable = true)\n",
      " |    |    |    |    |    |-- trade_species: struct (nullable = true)\n",
      " |    |    |    |    |    |    |-- name: string (nullable = true)\n",
      " |    |    |    |    |    |    |-- url: string (nullable = true)\n",
      " |    |    |    |    |    |-- trigger: struct (nullable = true)\n",
      " |    |    |    |    |    |    |-- name: string (nullable = true)\n",
      " |    |    |    |    |    |    |-- url: string (nullable = true)\n",
      " |    |    |    |    |    |-- turn_upside_down: boolean (nullable = true)\n",
      " |    |    |    |-- evolves_to: array (nullable = true)\n",
      " |    |    |    |    |-- element: struct (containsNull = true)\n",
      " |    |    |    |    |    |-- evolution_details: array (nullable = true)\n",
      " |    |    |    |    |    |    |-- element: struct (containsNull = true)\n",
      " |    |    |    |    |    |    |    |-- gender: long (nullable = true)\n",
      " |    |    |    |    |    |    |    |-- held_item: struct (nullable = true)\n",
      " |    |    |    |    |    |    |    |    |-- name: string (nullable = true)\n",
      " |    |    |    |    |    |    |    |    |-- url: string (nullable = true)\n",
      " |    |    |    |    |    |    |    |-- item: struct (nullable = true)\n",
      " |    |    |    |    |    |    |    |    |-- name: string (nullable = true)\n",
      " |    |    |    |    |    |    |    |    |-- url: string (nullable = true)\n",
      " |    |    |    |    |    |    |    |-- known_move: struct (nullable = true)\n",
      " |    |    |    |    |    |    |    |    |-- name: string (nullable = true)\n",
      " |    |    |    |    |    |    |    |    |-- url: string (nullable = true)\n",
      " |    |    |    |    |    |    |    |-- known_move_type: string (nullable = true)\n",
      " |    |    |    |    |    |    |    |-- location: struct (nullable = true)\n",
      " |    |    |    |    |    |    |    |    |-- name: string (nullable = true)\n",
      " |    |    |    |    |    |    |    |    |-- url: string (nullable = true)\n",
      " |    |    |    |    |    |    |    |-- min_affection: string (nullable = true)\n",
      " |    |    |    |    |    |    |    |-- min_beauty: string (nullable = true)\n",
      " |    |    |    |    |    |    |    |-- min_happiness: long (nullable = true)\n",
      " |    |    |    |    |    |    |    |-- min_level: long (nullable = true)\n",
      " |    |    |    |    |    |    |    |-- needs_overworld_rain: boolean (nullable = true)\n",
      " |    |    |    |    |    |    |    |-- party_species: string (nullable = true)\n",
      " |    |    |    |    |    |    |    |-- party_type: string (nullable = true)\n",
      " |    |    |    |    |    |    |    |-- relative_physical_stats: string (nullable = true)\n",
      " |    |    |    |    |    |    |    |-- time_of_day: string (nullable = true)\n",
      " |    |    |    |    |    |    |    |-- trade_species: string (nullable = true)\n",
      " |    |    |    |    |    |    |    |-- trigger: struct (nullable = true)\n",
      " |    |    |    |    |    |    |    |    |-- name: string (nullable = true)\n",
      " |    |    |    |    |    |    |    |    |-- url: string (nullable = true)\n",
      " |    |    |    |    |    |    |    |-- turn_upside_down: boolean (nullable = true)\n",
      " |    |    |    |    |    |-- evolves_to: array (nullable = true)\n",
      " |    |    |    |    |    |    |-- element: string (containsNull = true)\n",
      " |    |    |    |    |    |-- is_baby: boolean (nullable = true)\n",
      " |    |    |    |    |    |-- species: struct (nullable = true)\n",
      " |    |    |    |    |    |    |-- name: string (nullable = true)\n",
      " |    |    |    |    |    |    |-- url: string (nullable = true)\n",
      " |    |    |    |-- is_baby: boolean (nullable = true)\n",
      " |    |    |    |-- species: struct (nullable = true)\n",
      " |    |    |    |    |-- name: string (nullable = true)\n",
      " |    |    |    |    |-- url: string (nullable = true)\n",
      " |    |-- is_baby: boolean (nullable = true)\n",
      " |    |-- species: struct (nullable = true)\n",
      " |    |    |-- name: string (nullable = true)\n",
      " |    |    |-- url: string (nullable = true)\n",
      " |-- id: long (nullable = true)\n",
      "\n"
     ]
    }
   ],
   "source": [
    "evolutions_df = spark.read.table('pokeapi.tbl_bronze_evolutions')\n",
    "evolutions_df.show(5)\n",
    "evolutions_df.printSchema()"
   ]
  },
  {
   "cell_type": "code",
   "execution_count": 61,
   "id": "b2a88958-afb6-4d71-bb1b-8c63a803cf88",
   "metadata": {
    "scrolled": true,
    "tags": []
   },
   "outputs": [
    {
     "name": "stdout",
     "output_type": "stream",
     "text": [
      "root\n",
      " |-- id: long (nullable = true)\n",
      " |-- baby_trigger_item_name: string (nullable = true)\n",
      " |-- baby_trigger_item_url: string (nullable = true)\n",
      " |-- chain_evolution_details: string (nullable = true)\n",
      " |-- chain_is_baby: boolean (nullable = true)\n",
      " |-- chain_species_name: string (nullable = true)\n",
      " |-- chain_species_url: string (nullable = true)\n",
      " |-- chain_evolves_to_is_baby: boolean (nullable = true)\n",
      " |-- chain_evolves_to_species_name: string (nullable = true)\n",
      " |-- chain_evolves_to_species_url: string (nullable = true)\n",
      " |-- chain_evolves_to_evolution_details_gender: long (nullable = true)\n",
      " |-- chain_evolves_to_evolution_details_min_affection: long (nullable = true)\n",
      " |-- chain_evolves_to_evolution_details_min_beauty: long (nullable = true)\n",
      " |-- chain_evolves_to_evolution_details_min_happiness: long (nullable = true)\n",
      " |-- chain_evolves_to_evolution_details_min_level: long (nullable = true)\n",
      " |-- chain_evolves_to_evolution_details_needs_overworld_rain: boolean (nullable = true)\n",
      " |-- chain_evolves_to_evolution_details_relative_physical_stats: long (nullable = true)\n",
      " |-- chain_evolves_to_evolution_details_time_of_day: string (nullable = true)\n",
      " |-- chain_evolves_to_evolution_details_turn_upside_down: boolean (nullable = true)\n",
      " |-- chain_evolves_to_evolves_to_evolves_to: string (nullable = true)\n",
      " |-- chain_evolves_to_evolves_to_is_baby: boolean (nullable = true)\n",
      " |-- chain_evolves_to_evolution_details_held_item_name: string (nullable = true)\n",
      " |-- chain_evolves_to_evolution_details_held_item_url: string (nullable = true)\n",
      " |-- chain_evolves_to_evolution_details_item_name: string (nullable = true)\n",
      " |-- chain_evolves_to_evolution_details_item_url: string (nullable = true)\n",
      " |-- chain_evolves_to_evolution_details_known_move_name: string (nullable = true)\n",
      " |-- chain_evolves_to_evolution_details_known_move_url: string (nullable = true)\n",
      " |-- chain_evolves_to_evolution_details_known_move_type_name: string (nullable = true)\n",
      " |-- chain_evolves_to_evolution_details_known_move_type_url: string (nullable = true)\n",
      " |-- chain_evolves_to_evolution_details_location_name: string (nullable = true)\n",
      " |-- chain_evolves_to_evolution_details_location_url: string (nullable = true)\n",
      " |-- chain_evolves_to_evolution_details_party_species_name: string (nullable = true)\n",
      " |-- chain_evolves_to_evolution_details_party_species_url: string (nullable = true)\n",
      " |-- chain_evolves_to_evolution_details_party_type_name: string (nullable = true)\n",
      " |-- chain_evolves_to_evolution_details_party_type_url: string (nullable = true)\n",
      " |-- chain_evolves_to_evolution_details_trade_species_name: string (nullable = true)\n",
      " |-- chain_evolves_to_evolution_details_trade_species_url: string (nullable = true)\n",
      " |-- chain_evolves_to_evolution_details_trigger_name: string (nullable = true)\n",
      " |-- chain_evolves_to_evolution_details_trigger_url: string (nullable = true)\n",
      " |-- chain_evolves_to_evolves_to_species_name: string (nullable = true)\n",
      " |-- chain_evolves_to_evolves_to_species_url: string (nullable = true)\n",
      " |-- chain_evolves_to_evolves_to_evolution_details_gender: long (nullable = true)\n",
      " |-- chain_evolves_to_evolves_to_evolution_details_known_move_type: string (nullable = true)\n",
      " |-- chain_evolves_to_evolves_to_evolution_details_min_affection: string (nullable = true)\n",
      " |-- chain_evolves_to_evolves_to_evolution_details_min_beauty: string (nullable = true)\n",
      " |-- chain_evolves_to_evolves_to_evolution_details_min_happiness: long (nullable = true)\n",
      " |-- chain_evolves_to_evolves_to_evolution_details_min_level: long (nullable = true)\n",
      " |-- chain_evolves_to_evolves_to_evolution_details_needs_overworld_rain: boolean (nullable = true)\n",
      " |-- chain_evolves_to_evolves_to_evolution_details_party_species: string (nullable = true)\n",
      " |-- chain_evolves_to_evolves_to_evolution_details_party_type: string (nullable = true)\n",
      " |-- chain_evolves_to_evolves_to_evolution_details_relative_physical_stats: string (nullable = true)\n",
      " |-- chain_evolves_to_evolves_to_evolution_details_time_of_day: string (nullable = true)\n",
      " |-- chain_evolves_to_evolves_to_evolution_details_trade_species: string (nullable = true)\n",
      " |-- chain_evolves_to_evolves_to_evolution_details_turn_upside_down: boolean (nullable = true)\n",
      " |-- chain_evolves_to_evolves_to_evolution_details_held_item_name: string (nullable = true)\n",
      " |-- chain_evolves_to_evolves_to_evolution_details_held_item_url: string (nullable = true)\n",
      " |-- chain_evolves_to_evolves_to_evolution_details_item_name: string (nullable = true)\n",
      " |-- chain_evolves_to_evolves_to_evolution_details_item_url: string (nullable = true)\n",
      " |-- chain_evolves_to_evolves_to_evolution_details_known_move_name: string (nullable = true)\n",
      " |-- chain_evolves_to_evolves_to_evolution_details_known_move_url: string (nullable = true)\n",
      " |-- chain_evolves_to_evolves_to_evolution_details_location_name: string (nullable = true)\n",
      " |-- chain_evolves_to_evolves_to_evolution_details_location_url: string (nullable = true)\n",
      " |-- chain_evolves_to_evolves_to_evolution_details_trigger_name: string (nullable = true)\n",
      " |-- chain_evolves_to_evolves_to_evolution_details_trigger_url: string (nullable = true)\n",
      "\n"
     ]
    }
   ],
   "source": [
    "evolutions_df = unnest_struct_array(evolutions_df)\n",
    "#evolutions_df.show(5)\n",
    "evolutions_df.printSchema()"
   ]
  },
  {
   "cell_type": "code",
   "execution_count": 62,
   "id": "7f330b32-021a-4e75-952b-823ceafeddee",
   "metadata": {
    "tags": []
   },
   "outputs": [
    {
     "name": "stderr",
     "output_type": "stream",
     "text": [
      "[Stage 56:==>                                                     (1 + 23) / 24]\r"
     ]
    },
    {
     "name": "stdout",
     "output_type": "stream",
     "text": [
      "+---------------+-------+-------+----------+--------+-----+------+---------+-----------+----------+-------------+-------------+----------+-----+----------------+-----------+-----+-------------+----------+-------------+----------+---------+\n",
      "|evolution_level|   name|is_baby|evolves_to| trigger|level|gender|hold_item|   use_item|beauty_req|happiness_req|affection_req|is_raining|stats|turn_upside_down|time_of_day|trade|party_species|party_type|     location|known_move|move_type|\n",
      "+---------------+-------+-------+----------+--------+-----+------+---------+-----------+----------+-------------+-------------+----------+-----+----------------+-----------+-----+-------------+----------+-------------+----------+---------+\n",
      "|              1|porygon|  false|  porygon2|   trade| null|  null| up-grade|       null|      null|         null|         null|     false| null|           false|           | null|         null|      null|         null|      null|     null|\n",
      "|              1|poliwag|  false| poliwhirl|level-up|   25|  null|     null|       null|      null|         null|         null|     false| null|           false|           | null|         null|      null|         null|      null|     null|\n",
      "|              1| meowth|  false|perrserker|level-up|   28|  null|     null|       null|      null|         null|         null|     false| null|           false|           | null|         null|      null|         null|      null|     null|\n",
      "|              1|  eevee|  false|  vaporeon|use-item| null|  null|     null|water-stone|      null|         null|         null|     false| null|           false|           | null|         null|      null|         null|      null|     null|\n",
      "|              1|  eevee|  false|   leafeon|level-up| null|  null|     null|       null|      null|         null|         null|     false| null|           false|           | null|         null|      null|eterna-forest|      null|     null|\n",
      "+---------------+-------+-------+----------+--------+-----+------+---------+-----------+----------+-------------+-------------+----------+-----+----------------+-----------+-----+-------------+----------+-------------+----------+---------+\n",
      "only showing top 5 rows\n",
      "\n",
      "root\n",
      " |-- evolution_level: integer (nullable = false)\n",
      " |-- name: string (nullable = true)\n",
      " |-- is_baby: boolean (nullable = true)\n",
      " |-- evolves_to: string (nullable = true)\n",
      " |-- trigger: string (nullable = true)\n",
      " |-- level: long (nullable = true)\n",
      " |-- gender: long (nullable = true)\n",
      " |-- hold_item: string (nullable = true)\n",
      " |-- use_item: string (nullable = true)\n",
      " |-- beauty_req: long (nullable = true)\n",
      " |-- happiness_req: long (nullable = true)\n",
      " |-- affection_req: long (nullable = true)\n",
      " |-- is_raining: boolean (nullable = true)\n",
      " |-- stats: long (nullable = true)\n",
      " |-- turn_upside_down: boolean (nullable = true)\n",
      " |-- time_of_day: string (nullable = true)\n",
      " |-- trade: string (nullable = true)\n",
      " |-- party_species: string (nullable = true)\n",
      " |-- party_type: string (nullable = true)\n",
      " |-- location: string (nullable = true)\n",
      " |-- known_move: string (nullable = true)\n",
      " |-- move_type: string (nullable = true)\n",
      "\n"
     ]
    },
    {
     "name": "stderr",
     "output_type": "stream",
     "text": [
      "                                                                                \r"
     ]
    }
   ],
   "source": [
    "evolutions_df_1 = evolutions_df.select(\n",
    "    lit(1).alias('evolution_level'),\n",
    "    col('chain_species_name').alias('name'),\n",
    "    col('chain_is_baby').alias('is_baby'),\n",
    "    col('chain_evolves_to_species_name').alias('evolves_to'),\n",
    "    col('chain_evolves_to_evolution_details_trigger_name').alias('trigger'),\n",
    "    col('chain_evolves_to_evolution_details_min_level').alias('level'),\n",
    "    col('chain_evolves_to_evolution_details_gender').alias('gender'),\n",
    "    col('chain_evolves_to_evolution_details_held_item_name').alias('hold_item'),\n",
    "    col('chain_evolves_to_evolution_details_item_name').alias('use_item'),\n",
    "    col('chain_evolves_to_evolution_details_min_beauty').alias('beauty_req'),\n",
    "    col('chain_evolves_to_evolution_details_min_happiness').alias('happiness_req'),\n",
    "    col('chain_evolves_to_evolution_details_min_affection').alias('affection_req'),\n",
    "    col('chain_evolves_to_evolution_details_needs_overworld_rain').alias('is_raining'),\n",
    "    col('chain_evolves_to_evolution_details_relative_physical_stats').alias('stats'),\n",
    "    col('chain_evolves_to_evolution_details_turn_upside_down').alias('turn_upside_down'),\n",
    "    col('chain_evolves_to_evolution_details_time_of_day').alias('time_of_day'),\n",
    "    col('chain_evolves_to_evolution_details_trade_species_name').alias('trade'),\n",
    "    col('chain_evolves_to_evolution_details_party_species_name').alias('party_species'),\n",
    "    col('chain_evolves_to_evolution_details_party_type_name').alias('party_type'),\n",
    "    col('chain_evolves_to_evolution_details_location_name').alias('location'),\n",
    "    col('chain_evolves_to_evolution_details_known_move_name').alias('known_move'),\n",
    "    col('chain_evolves_to_evolution_details_known_move_type_name').alias('move_type')\n",
    ").distinct()\n",
    "evolutions_df_1.show(5)\n",
    "evolutions_df_1.printSchema()"
   ]
  },
  {
   "cell_type": "code",
   "execution_count": 63,
   "id": "ebf894a1-c7d0-496b-961e-36276cb7a837",
   "metadata": {
    "tags": []
   },
   "outputs": [
    {
     "name": "stderr",
     "output_type": "stream",
     "text": [
      "[Stage 59:=====================================>                  (16 + 8) / 24]\r"
     ]
    },
    {
     "name": "stdout",
     "output_type": "stream",
     "text": [
      "+---------------+----------+-------+----------+--------+-----+------+---------+-----------+----------+-------------+-------------+----------+-----+----------------+-----------+-----+-------------+----------+--------+----------+---------+\n",
      "|evolution_level|      name|is_baby|evolves_to| trigger|level|gender|hold_item|   use_item|beauty_req|happiness_req|affection_req|is_raining|stats|turn_upside_down|time_of_day|trade|party_species|party_type|location|known_move|move_type|\n",
      "+---------------+----------+-------+----------+--------+-----+------+---------+-----------+----------+-------------+-------------+----------+-----+----------------+-----------+-----+-------------+----------+--------+----------+---------+\n",
      "|              2|   lampent|  false|chandelure|use-item| null|  null|     null| dusk-stone|      null|         null|         null|     false| null|           false|           | null|         null|      null|    null|      null|     null|\n",
      "|              2|    rhydon|  false| rhyperior|   trade| null|  null|protector|       null|      null|         null|         null|     false| null|           false|           | null|         null|      null|    null|      null|     null|\n",
      "|              2|    glalie|  false|      null|    null| null|  null|     null|       null|      null|         null|         null|      null| null|            null|       null| null|         null|      null|    null|      null|     null|\n",
      "|              2|jigglypuff|  false|wigglytuff|use-item| null|  null|     null| moon-stone|      null|         null|         null|     false| null|           false|           | null|         null|      null|    null|      null|     null|\n",
      "|              2|    lombre|  false|  ludicolo|use-item| null|  null|     null|water-stone|      null|         null|         null|     false| null|           false|           | null|         null|      null|    null|      null|     null|\n",
      "+---------------+----------+-------+----------+--------+-----+------+---------+-----------+----------+-------------+-------------+----------+-----+----------------+-----------+-----+-------------+----------+--------+----------+---------+\n",
      "only showing top 5 rows\n",
      "\n",
      "root\n",
      " |-- evolution_level: integer (nullable = false)\n",
      " |-- name: string (nullable = true)\n",
      " |-- is_baby: boolean (nullable = true)\n",
      " |-- evolves_to: string (nullable = true)\n",
      " |-- trigger: string (nullable = true)\n",
      " |-- level: long (nullable = true)\n",
      " |-- gender: long (nullable = true)\n",
      " |-- hold_item: string (nullable = true)\n",
      " |-- use_item: string (nullable = true)\n",
      " |-- beauty_req: string (nullable = true)\n",
      " |-- happiness_req: long (nullable = true)\n",
      " |-- affection_req: string (nullable = true)\n",
      " |-- is_raining: boolean (nullable = true)\n",
      " |-- stats: string (nullable = true)\n",
      " |-- turn_upside_down: boolean (nullable = true)\n",
      " |-- time_of_day: string (nullable = true)\n",
      " |-- trade: string (nullable = true)\n",
      " |-- party_species: string (nullable = true)\n",
      " |-- party_type: string (nullable = true)\n",
      " |-- location: string (nullable = true)\n",
      " |-- known_move: string (nullable = true)\n",
      " |-- move_type: string (nullable = true)\n",
      "\n"
     ]
    },
    {
     "name": "stderr",
     "output_type": "stream",
     "text": [
      "                                                                                \r"
     ]
    }
   ],
   "source": [
    "evolutions_df_2 = evolutions_df.select(\n",
    "    lit(2).alias('evolution_level'),\n",
    "    col('chain_evolves_to_species_name').alias('name'),\n",
    "    col('chain_evolves_to_is_baby').alias('is_baby'),\n",
    "    col('chain_evolves_to_evolves_to_species_name').alias('evolves_to'),\n",
    "    col('chain_evolves_to_evolves_to_evolution_details_trigger_name').alias('trigger'),\n",
    "    col('chain_evolves_to_evolves_to_evolution_details_min_level').alias('level'),\n",
    "    col('chain_evolves_to_evolves_to_evolution_details_gender').alias('gender'),\n",
    "    col('chain_evolves_to_evolves_to_evolution_details_held_item_name').alias('hold_item'),\n",
    "    col('chain_evolves_to_evolves_to_evolution_details_item_name').alias('use_item'),\n",
    "    col('chain_evolves_to_evolves_to_evolution_details_min_beauty').alias('beauty_req'),\n",
    "    col('chain_evolves_to_evolves_to_evolution_details_min_happiness').alias('happiness_req'),\n",
    "    col('chain_evolves_to_evolves_to_evolution_details_min_affection').alias('affection_req'),\n",
    "    col('chain_evolves_to_evolves_to_evolution_details_needs_overworld_rain').alias('is_raining'),\n",
    "    col('chain_evolves_to_evolves_to_evolution_details_relative_physical_stats').alias('stats'),\n",
    "    col('chain_evolves_to_evolves_to_evolution_details_turn_upside_down').alias('turn_upside_down'),\n",
    "    col('chain_evolves_to_evolves_to_evolution_details_time_of_day').alias('time_of_day'),\n",
    "    col('chain_evolves_to_evolves_to_evolution_details_trade_species').alias('trade'),\n",
    "    col('chain_evolves_to_evolves_to_evolution_details_party_species').alias('party_species'),\n",
    "    col('chain_evolves_to_evolves_to_evolution_details_party_type').alias('party_type'),\n",
    "    col('chain_evolves_to_evolves_to_evolution_details_location_name').alias('location'),\n",
    "    col('chain_evolves_to_evolves_to_evolution_details_known_move_name').alias('known_move'),\n",
    "    col('chain_evolves_to_evolves_to_evolution_details_known_move_type').alias('move_type')\n",
    ").distinct()\n",
    "evolutions_df_2.show(5)\n",
    "evolutions_df_2.printSchema()"
   ]
  },
  {
   "cell_type": "code",
   "execution_count": 64,
   "id": "cd854df9-de85-4978-b9d1-18033d72d760",
   "metadata": {
    "tags": []
   },
   "outputs": [
    {
     "name": "stderr",
     "output_type": "stream",
     "text": [
      "[Stage 62:=======>                                                (3 + 21) / 24]\r"
     ]
    },
    {
     "name": "stdout",
     "output_type": "stream",
     "text": [
      "+---------------+----------+-------+----------+-------+-----+------+---------+--------+----------+-------------+-------------+----------+-----+----------------+-----------+-----+-------------+----------+--------+----------+---------+\n",
      "|evolution_level|      name|is_baby|evolves_to|trigger|level|gender|hold_item|use_item|beauty_req|happiness_req|affection_req|is_raining|stats|turn_upside_down|time_of_day|trade|party_species|party_type|location|known_move|move_type|\n",
      "+---------------+----------+-------+----------+-------+-----+------+---------+--------+----------+-------------+-------------+----------+-----+----------------+-----------+-----+-------------+----------+--------+----------+---------+\n",
      "|              3| aegislash|  false|      null|   null| null|  null|     null|    null|      null|         null|         null|      null| null|            null|       null| null|         null|      null|    null|      null|     null|\n",
      "|              3| mamoswine|  false|      null|   null| null|  null|     null|    null|      null|         null|         null|      null| null|            null|       null| null|         null|      null|    null|      null|     null|\n",
      "|              3|  tsareena|  false|      null|   null| null|  null|     null|    null|      null|         null|         null|      null| null|            null|       null| null|         null|      null|    null|      null|     null|\n",
      "|              3|victreebel|  false|      null|   null| null|  null|     null|    null|      null|         null|         null|      null| null|            null|       null| null|         null|      null|    null|      null|     null|\n",
      "|              3|chandelure|  false|      null|   null| null|  null|     null|    null|      null|         null|         null|      null| null|            null|       null| null|         null|      null|    null|      null|     null|\n",
      "+---------------+----------+-------+----------+-------+-----+------+---------+--------+----------+-------------+-------------+----------+-----+----------------+-----------+-----+-------------+----------+--------+----------+---------+\n",
      "only showing top 5 rows\n",
      "\n",
      "root\n",
      " |-- evolution_level: integer (nullable = false)\n",
      " |-- name: string (nullable = true)\n",
      " |-- is_baby: boolean (nullable = true)\n",
      " |-- evolves_to: string (nullable = true)\n",
      " |-- trigger: void (nullable = true)\n",
      " |-- level: void (nullable = true)\n",
      " |-- gender: void (nullable = true)\n",
      " |-- hold_item: void (nullable = true)\n",
      " |-- use_item: void (nullable = true)\n",
      " |-- beauty_req: void (nullable = true)\n",
      " |-- happiness_req: void (nullable = true)\n",
      " |-- affection_req: void (nullable = true)\n",
      " |-- is_raining: boolean (nullable = true)\n",
      " |-- stats: void (nullable = true)\n",
      " |-- turn_upside_down: boolean (nullable = true)\n",
      " |-- time_of_day: void (nullable = true)\n",
      " |-- trade: void (nullable = true)\n",
      " |-- party_species: void (nullable = true)\n",
      " |-- party_type: void (nullable = true)\n",
      " |-- location: void (nullable = true)\n",
      " |-- known_move: void (nullable = true)\n",
      " |-- move_type: void (nullable = true)\n",
      "\n"
     ]
    },
    {
     "name": "stderr",
     "output_type": "stream",
     "text": [
      "                                                                                \r"
     ]
    }
   ],
   "source": [
    "from pyspark.sql.functions import lit\n",
    "\n",
    "evolutions_df_3 = evolutions_df.select(\n",
    "    lit(3).alias('evolution_level'),\n",
    "    col('chain_evolves_to_evolves_to_species_name').alias('name'),\n",
    "    col('chain_evolves_to_evolves_to_is_baby').alias('is_baby'),\n",
    "    col('chain_evolves_to_evolves_to_evolves_to').alias('evolves_to'),\n",
    "    lit(None).alias('trigger'),\n",
    "    lit(None).alias('level'),\n",
    "    lit(None).alias('gender'),\n",
    "    lit(None).alias('hold_item'),\n",
    "    lit(None).alias('use_item'),\n",
    "    lit(None).alias('beauty_req'),\n",
    "    lit(None).alias('happiness_req'),\n",
    "    lit(None).alias('affection_req'),\n",
    "    lit(None).cast('boolean').alias('is_raining'),\n",
    "    lit(None).alias('stats'),\n",
    "    lit(None).cast('boolean').alias('turn_upside_down'),\n",
    "    lit(None).alias('time_of_day'),\n",
    "    lit(None).alias('trade'),\n",
    "    lit(None).alias('party_species'),\n",
    "    lit(None).alias('party_type'),\n",
    "    lit(None).alias('location'),\n",
    "    lit(None).alias('known_move'),\n",
    "    lit(None).alias('move_type')\n",
    ").distinct()\n",
    "evolutions_df_3.show(5)\n",
    "evolutions_df_3.printSchema()"
   ]
  },
  {
   "cell_type": "code",
   "execution_count": 65,
   "id": "edf0bf82-c899-4fc0-9b55-77e085e011c6",
   "metadata": {
    "tags": []
   },
   "outputs": [
    {
     "name": "stderr",
     "output_type": "stream",
     "text": [
      "[Stage 67:======================>                                (10 + 14) / 24]\r"
     ]
    },
    {
     "name": "stdout",
     "output_type": "stream",
     "text": [
      "+---------------+-----------+-------+----------+--------+-----+------+---------+--------+----------+-------------+-------------+----------+-----+----------------+-----------+-----+-------------+----------+--------+----------+---------+\n",
      "|evolution_level|       name|is_baby|evolves_to| trigger|level|gender|hold_item|use_item|beauty_req|happiness_req|affection_req|is_raining|stats|turn_upside_down|time_of_day|trade|party_species|party_type|location|known_move|move_type|\n",
      "+---------------+-----------+-------+----------+--------+-----+------+---------+--------+----------+-------------+-------------+----------+-----+----------------+-----------+-----+-------------+----------+--------+----------+---------+\n",
      "|              2|   espathra|  false|      null|    null| null|  null|     null|    null|      null|         null|         null|      null| null|            null|       null| null|         null|      null|    null|      null|     null|\n",
      "|              2|    bayleef|  false|  meganium|level-up|   32|  null|     null|    null|      null|         null|         null|     false| null|           false|           | null|         null|      null|    null|      null|     null|\n",
      "|              2|    gurdurr|  false|conkeldurr|   trade| null|  null|     null|    null|      null|         null|         null|     false| null|           false|           | null|         null|      null|    null|      null|     null|\n",
      "|              2|    yanmega|  false|      null|    null| null|  null|     null|    null|      null|         null|         null|      null| null|            null|       null| null|         null|      null|    null|      null|     null|\n",
      "|              2|    cascoon|  false|    dustox|level-up|   10|  null|     null|    null|      null|         null|         null|     false| null|           false|           | null|         null|      null|    null|      null|     null|\n",
      "|              2|    persian|  false|      null|    null| null|  null|     null|    null|      null|         null|         null|      null| null|            null|       null| null|         null|      null|    null|      null|     null|\n",
      "|              2|  vanillish|  false| vanilluxe|level-up|   47|  null|     null|    null|      null|         null|         null|     false| null|           false|           | null|         null|      null|    null|      null|     null|\n",
      "|              2|   monferno|  false| infernape|level-up|   36|  null|     null|    null|      null|         null|         null|     false| null|           false|           | null|         null|      null|    null|      null|     null|\n",
      "|              2| ferrothorn|  false|      null|    null| null|  null|     null|    null|      null|         null|         null|      null| null|            null|       null| null|         null|      null|    null|      null|     null|\n",
      "|              2|   hariyama|  false|      null|    null| null|  null|     null|    null|      null|         null|         null|      null| null|            null|       null| null|         null|      null|    null|      null|     null|\n",
      "|              2|   croconaw|  false|feraligatr|level-up|   30|  null|     null|    null|      null|         null|         null|     false| null|           false|           | null|         null|      null|    null|      null|     null|\n",
      "|              2|  shiinotic|  false|      null|    null| null|  null|     null|    null|      null|         null|         null|      null| null|            null|       null| null|         null|      null|    null|      null|     null|\n",
      "|              2|   mudsdale|  false|      null|    null| null|  null|     null|    null|      null|         null|         null|      null| null|            null|       null| null|         null|      null|    null|      null|     null|\n",
      "|              2|  wartortle|  false| blastoise|level-up|   36|  null|     null|    null|      null|         null|         null|     false| null|           false|           | null|         null|      null|    null|      null|     null|\n",
      "|              2|basculegion|  false|      null|    null| null|  null|     null|    null|      null|         null|         null|      null| null|            null|       null| null|         null|      null|    null|      null|     null|\n",
      "|              2| toxtricity|  false|      null|    null| null|  null|     null|    null|      null|         null|         null|      null| null|            null|       null| null|         null|      null|    null|      null|     null|\n",
      "|              2|  golisopod|  false|      null|    null| null|  null|     null|    null|      null|         null|         null|      null| null|            null|       null| null|         null|      null|    null|      null|     null|\n",
      "|              2|    noctowl|  false|      null|    null| null|  null|     null|    null|      null|         null|         null|      null| null|            null|       null| null|         null|      null|    null|      null|     null|\n",
      "|              2|   krokorok|  false|krookodile|level-up|   40|  null|     null|    null|      null|         null|         null|     false| null|           false|           | null|         null|      null|    null|      null|     null|\n",
      "|              2|   parasect|  false|      null|    null| null|  null|     null|    null|      null|         null|         null|      null| null|            null|       null| null|         null|      null|    null|      null|     null|\n",
      "+---------------+-----------+-------+----------+--------+-----+------+---------+--------+----------+-------------+-------------+----------+-----+----------------+-----------+-----+-------------+----------+--------+----------+---------+\n",
      "only showing top 20 rows\n",
      "\n"
     ]
    },
    {
     "name": "stderr",
     "output_type": "stream",
     "text": [
      "                                                                                \r"
     ]
    }
   ],
   "source": [
    "evolution_df_all = evolutions_df_1.union(evolutions_df_2).union(evolutions_df_3).distinct()\n",
    "evolution_df_all.show()"
   ]
  },
  {
   "cell_type": "code",
   "execution_count": 66,
   "id": "6f9a01a1-c156-4ba6-a7b0-7db4f394567c",
   "metadata": {
    "tags": []
   },
   "outputs": [
    {
     "name": "stdout",
     "output_type": "stream",
     "text": [
      "+---+----------+------+------+-----+---------------+----------+------------+--------------------+\n",
      "| id|      name|weight|height|order|base_experience|is_default|species_name|         species_url|\n",
      "+---+----------+------+------+-----+---------------+----------+------------+--------------------+\n",
      "|  1| bulbasaur|    69|     7|    1|             64|      true|   bulbasaur|https://pokeapi.c...|\n",
      "|  2|   ivysaur|   130|    10|    2|            142|      true|     ivysaur|https://pokeapi.c...|\n",
      "|  3|  venusaur|  1000|    20|    3|            263|      true|    venusaur|https://pokeapi.c...|\n",
      "|  4|charmander|    85|     6|    5|             62|      true|  charmander|https://pokeapi.c...|\n",
      "|  5|charmeleon|   190|    11|    6|            142|      true|  charmeleon|https://pokeapi.c...|\n",
      "+---+----------+------+------+-----+---------------+----------+------------+--------------------+\n",
      "only showing top 5 rows\n",
      "\n",
      "root\n",
      " |-- id: long (nullable = true)\n",
      " |-- name: string (nullable = true)\n",
      " |-- weight: long (nullable = true)\n",
      " |-- height: long (nullable = true)\n",
      " |-- order: long (nullable = true)\n",
      " |-- base_experience: long (nullable = true)\n",
      " |-- is_default: boolean (nullable = true)\n",
      " |-- species_name: string (nullable = true)\n",
      " |-- species_url: string (nullable = true)\n",
      "\n"
     ]
    }
   ],
   "source": [
    "pokemons_df = spark.read.table('pokeapi.tbl_silver_pokemons')\n",
    "pokemons_df.show(5)\n",
    "pokemons_df.printSchema()"
   ]
  },
  {
   "cell_type": "code",
   "execution_count": 67,
   "id": "c581d969-6a4c-4b47-9219-d6f7dff0419f",
   "metadata": {
    "tags": []
   },
   "outputs": [
    {
     "name": "stderr",
     "output_type": "stream",
     "text": [
      "                                                                                \r"
     ]
    },
    {
     "name": "stdout",
     "output_type": "stream",
     "text": [
      "+----------+---+---------------+-------+----------+--------+-----+------+---------+--------+----------+-------------+-------------+----------+-----+----------------+-----------+-----+-------------+----------+--------+----------+---------+\n",
      "|      name| id|evolution_level|is_baby|evolves_to| trigger|level|gender|hold_item|use_item|beauty_req|happiness_req|affection_req|is_raining|stats|turn_upside_down|time_of_day|trade|party_species|party_type|location|known_move|move_type|\n",
      "+----------+---+---------------+-------+----------+--------+-----+------+---------+--------+----------+-------------+-------------+----------+-----+----------------+-----------+-----+-------------+----------+--------+----------+---------+\n",
      "| bulbasaur|  1|              1|  false|   ivysaur|level-up|   16|  null|     null|    null|      null|         null|         null|     false| null|           false|           | null|         null|      null|    null|      null|     null|\n",
      "|   ivysaur|  2|              2|  false|  venusaur|level-up|   32|  null|     null|    null|      null|         null|         null|     false| null|           false|           | null|         null|      null|    null|      null|     null|\n",
      "|  venusaur|  3|              3|  false|      null|    null| null|  null|     null|    null|      null|         null|         null|      null| null|            null|       null| null|         null|      null|    null|      null|     null|\n",
      "|charmander|  4|              1|  false|charmeleon|level-up|   16|  null|     null|    null|      null|         null|         null|     false| null|           false|           | null|         null|      null|    null|      null|     null|\n",
      "|charmeleon|  5|              2|  false| charizard|level-up|   36|  null|     null|    null|      null|         null|         null|     false| null|           false|           | null|         null|      null|    null|      null|     null|\n",
      "+----------+---+---------------+-------+----------+--------+-----+------+---------+--------+----------+-------------+-------------+----------+-----+----------------+-----------+-----+-------------+----------+--------+----------+---------+\n",
      "only showing top 5 rows\n",
      "\n",
      "root\n",
      " |-- name: string (nullable = true)\n",
      " |-- id: long (nullable = true)\n",
      " |-- evolution_level: integer (nullable = true)\n",
      " |-- is_baby: boolean (nullable = true)\n",
      " |-- evolves_to: string (nullable = true)\n",
      " |-- trigger: string (nullable = true)\n",
      " |-- level: long (nullable = true)\n",
      " |-- gender: long (nullable = true)\n",
      " |-- hold_item: string (nullable = true)\n",
      " |-- use_item: string (nullable = true)\n",
      " |-- beauty_req: string (nullable = true)\n",
      " |-- happiness_req: long (nullable = true)\n",
      " |-- affection_req: string (nullable = true)\n",
      " |-- is_raining: boolean (nullable = true)\n",
      " |-- stats: string (nullable = true)\n",
      " |-- turn_upside_down: boolean (nullable = true)\n",
      " |-- time_of_day: string (nullable = true)\n",
      " |-- trade: string (nullable = true)\n",
      " |-- party_species: string (nullable = true)\n",
      " |-- party_type: string (nullable = true)\n",
      " |-- location: string (nullable = true)\n",
      " |-- known_move: string (nullable = true)\n",
      " |-- move_type: string (nullable = true)\n",
      "\n"
     ]
    }
   ],
   "source": [
    "evolutions_final_df = pokemons_df.select('id', 'name').join(evolution_df_all, on = 'name', how = 'left')\n",
    "evolutions_final_df.show(5)\n",
    "evolutions_final_df.printSchema()"
   ]
  },
  {
   "cell_type": "code",
   "execution_count": 68,
   "id": "e360872a-7cc1-4097-a5b9-2064cd4976fd",
   "metadata": {
    "tags": []
   },
   "outputs": [
    {
     "name": "stderr",
     "output_type": "stream",
     "text": [
      "                                                                                \r"
     ]
    }
   ],
   "source": [
    "spark.sql(\"DROP TABLE IF EXISTS pokeapi.tbl_silver_evolutions\")\n",
    "evolutions_final_df.write\\\n",
    "    .option(\"path\", \"s3a://datalake/silver/evolutions/\")\\\n",
    "    .format('parquet')\\\n",
    "    .mode('overwrite')\\\n",
    "    .saveAsTable('pokeapi.tbl_silver_evolutions')"
   ]
  },
  {
   "cell_type": "code",
   "execution_count": 69,
   "id": "9d1c8bf0",
   "metadata": {
    "tags": []
   },
   "outputs": [
    {
     "name": "stdout",
     "output_type": "stream",
     "text": [
      "+---------+----------------------------------------------+-----------+\n",
      "|namespace|tableName                                     |isTemporary|\n",
      "+---------+----------------------------------------------+-----------+\n",
      "|pokeapi  |tbl_bronze_evolutions                         |false      |\n",
      "|pokeapi  |tbl_bronze_pokemons                           |false      |\n",
      "|pokeapi  |tbl_silver_evolutions                         |false      |\n",
      "|pokeapi  |tbl_silver_pokemon_abilities                  |false      |\n",
      "|pokeapi  |tbl_silver_pokemon_forms                      |false      |\n",
      "|pokeapi  |tbl_silver_pokemon_game_indices               |false      |\n",
      "|pokeapi  |tbl_silver_pokemon_held_items                 |false      |\n",
      "|pokeapi  |tbl_silver_pokemon_held_items_version_details |false      |\n",
      "|pokeapi  |tbl_silver_pokemon_moves                      |false      |\n",
      "|pokeapi  |tbl_silver_pokemon_moves_version_group_details|false      |\n",
      "|pokeapi  |tbl_silver_pokemon_past_types                 |false      |\n",
      "|pokeapi  |tbl_silver_pokemon_past_types_types           |false      |\n",
      "|pokeapi  |tbl_silver_pokemon_stats                      |false      |\n",
      "|pokeapi  |tbl_silver_pokemon_types                      |false      |\n",
      "|pokeapi  |tbl_silver_pokemons                           |false      |\n",
      "+---------+----------------------------------------------+-----------+\n",
      "\n"
     ]
    }
   ],
   "source": [
    "spark.sql(\"SHOW TABLES IN pokeapi\").show(truncate = False)"
   ]
  },
  {
   "cell_type": "code",
   "execution_count": 70,
   "id": "d1dad65b-9201-4e58-ad41-1c8cf8a93e46",
   "metadata": {
    "tags": []
   },
   "outputs": [],
   "source": [
    "spark.stop()"
   ]
  }
 ],
 "metadata": {
  "kernelspec": {
   "display_name": "Python 3 (ipykernel)",
   "language": "python",
   "name": "python3"
  },
  "language_info": {
   "codemirror_mode": {
    "name": "ipython",
    "version": 3
   },
   "file_extension": ".py",
   "mimetype": "text/x-python",
   "name": "python",
   "nbconvert_exporter": "python",
   "pygments_lexer": "ipython3",
   "version": "3.10.7"
  }
 },
 "nbformat": 4,
 "nbformat_minor": 5
}
