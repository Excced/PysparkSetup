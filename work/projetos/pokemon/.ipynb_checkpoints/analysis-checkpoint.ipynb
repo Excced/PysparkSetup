{
 "cells": [
  {
   "cell_type": "code",
   "execution_count": 1,
   "id": "1d524948-264c-485e-87d1-c296b0933f55",
   "metadata": {
    "tags": []
   },
   "outputs": [
    {
     "name": "stderr",
     "output_type": "stream",
     "text": [
      "Setting default log level to \"WARN\".\n",
      "To adjust logging level use sc.setLogLevel(newLevel). For SparkR, use setLogLevel(newLevel).\n"
     ]
    },
    {
     "name": "stdout",
     "output_type": "stream",
     "text": [
      "23/04/03 19:43:57 WARN NativeCodeLoader: Unable to load native-hadoop library for your platform... using builtin-java classes where applicable\n",
      "23/04/03 19:43:59 WARN MetricsConfig: Cannot locate configuration: tried hadoop-metrics2-s3a-file-system.properties,hadoop-metrics2.properties\n"
     ]
    },
    {
     "data": {
      "text/html": [
       "\n",
       "            <div>\n",
       "                <p><b>SparkSession - hive</b></p>\n",
       "                \n",
       "        <div>\n",
       "            <p><b>SparkContext</b></p>\n",
       "\n",
       "            <p><a href=\"http://8e0c17c559a2:4040\">Spark UI</a></p>\n",
       "\n",
       "            <dl>\n",
       "              <dt>Version</dt>\n",
       "                <dd><code>v3.3.2</code></dd>\n",
       "              <dt>Master</dt>\n",
       "                <dd><code>spark://spark-master:7077</code></dd>\n",
       "              <dt>AppName</dt>\n",
       "                <dd><code>Análise Pokemons</code></dd>\n",
       "            </dl>\n",
       "        </div>\n",
       "        \n",
       "            </div>\n",
       "        "
      ],
      "text/plain": [
       "<pyspark.sql.session.SparkSession at 0x7f0103000d60>"
      ]
     },
     "execution_count": 1,
     "metadata": {},
     "output_type": "execute_result"
    }
   ],
   "source": [
    "from pyspark.sql import SparkSession\n",
    "\n",
    "if 'spark' in locals() or 'spark' in globals():\n",
    "    spark.stop()\n",
    "\n",
    "spark = SparkSession\\\n",
    "    .builder\\\n",
    "    .appName(\"Análise Pokemons\")\\\n",
    "    .getOrCreate()\n",
    "\n",
    "spark"
   ]
  },
  {
   "cell_type": "code",
   "execution_count": 3,
   "id": "88049d31-a3e5-484d-8601-9526859b4348",
   "metadata": {
    "tags": []
   },
   "outputs": [
    {
     "name": "stderr",
     "output_type": "stream",
     "text": [
      "UsageError: Cell magic `%%sparksql` not found.\n"
     ]
    }
   ],
   "source": [
    "%%sparksql --output grid --limit 1000\n",
    "SELECT * FROM pokeapi.tbl_siver_pokemons"
   ]
  },
  {
   "cell_type": "code",
   "execution_count": 2,
   "id": "838c606e",
   "metadata": {},
   "outputs": [],
   "source": [
    "from pyspark.sql.functions import col, count, count_distinct"
   ]
  },
  {
   "cell_type": "code",
   "execution_count": 3,
   "id": "1425a63a-ddb7-4747-91ac-218d9d328cb0",
   "metadata": {
    "tags": []
   },
   "outputs": [
    {
     "name": "stdout",
     "output_type": "stream",
     "text": [
      "23/03/14 12:21:50 WARN HiveConf: HiveConf of name hive.stats.jdbc.timeout does not exist\n",
      "23/03/14 12:21:50 WARN HiveConf: HiveConf of name hive.stats.retries.wait does not exist\n",
      "23/03/14 12:21:53 WARN ObjectStore: Failed to get database global_temp, returning NoSuchObjectException\n"
     ]
    },
    {
     "name": "stderr",
     "output_type": "stream",
     "text": [
      "[Stage 0:>                                                          (0 + 1) / 1]\r"
     ]
    },
    {
     "name": "stdout",
     "output_type": "stream",
     "text": [
      "+---+----------+------+------+-----+---------------+----------+------------+--------------------+\n",
      "| id|      name|weight|height|order|base_experience|is_default|species_name|         species_url|\n",
      "+---+----------+------+------+-----+---------------+----------+------------+--------------------+\n",
      "|  1| bulbasaur|    69|     7|    1|             64|      true|   bulbasaur|https://pokeapi.c...|\n",
      "|  2|   ivysaur|   130|    10|    2|            142|      true|     ivysaur|https://pokeapi.c...|\n",
      "|  3|  venusaur|  1000|    20|    3|            263|      true|    venusaur|https://pokeapi.c...|\n",
      "|  4|charmander|    85|     6|    5|             62|      true|  charmander|https://pokeapi.c...|\n",
      "|  5|charmeleon|   190|    11|    6|            142|      true|  charmeleon|https://pokeapi.c...|\n",
      "+---+----------+------+------+-----+---------------+----------+------------+--------------------+\n",
      "only showing top 5 rows\n",
      "\n"
     ]
    },
    {
     "name": "stderr",
     "output_type": "stream",
     "text": [
      "                                                                                \r"
     ]
    }
   ],
   "source": [
    "pokemons = spark.read.table('pokeapi.tbl_silver_pokemons')\n",
    "pokemons.show(5)"
   ]
  },
  {
   "cell_type": "code",
   "execution_count": 4,
   "id": "d449a015-f3a7-4a5b-aaa1-fabf99a4565e",
   "metadata": {},
   "outputs": [
    {
     "name": "stdout",
     "output_type": "stream",
     "text": [
      "+----------+---+---------------+-------+----------+--------+-----+------+---------+--------+----------+-------------+-------------+----------+-----+----------------+-----------+-----+-------------+----------+--------+----------+---------+\n",
      "|      name| id|evolution_level|is_baby|evolves_to| trigger|level|gender|hold_item|use_item|beauty_req|happiness_req|affection_req|is_raining|stats|turn_upside_down|time_of_day|trade|party_species|party_type|location|known_move|move_type|\n",
      "+----------+---+---------------+-------+----------+--------+-----+------+---------+--------+----------+-------------+-------------+----------+-----+----------------+-----------+-----+-------------+----------+--------+----------+---------+\n",
      "| bulbasaur|  1|              1|  false|   ivysaur|level-up|   16|  null|     null|    null|      null|         null|         null|     false| null|           false|           | null|         null|      null|    null|      null|     null|\n",
      "|   ivysaur|  2|              2|  false|  venusaur|level-up|   32|  null|     null|    null|      null|         null|         null|     false| null|           false|           | null|         null|      null|    null|      null|     null|\n",
      "|  venusaur|  3|              3|  false|      null|    null| null|  null|     null|    null|      null|         null|         null|      null| null|            null|       null| null|         null|      null|    null|      null|     null|\n",
      "|charmander|  4|              1|  false|charmeleon|level-up|   16|  null|     null|    null|      null|         null|         null|     false| null|           false|           | null|         null|      null|    null|      null|     null|\n",
      "|charmeleon|  5|              2|  false| charizard|level-up|   36|  null|     null|    null|      null|         null|         null|     false| null|           false|           | null|         null|      null|    null|      null|     null|\n",
      "+----------+---+---------------+-------+----------+--------+-----+------+---------+--------+----------+-------------+-------------+----------+-----+----------------+-----------+-----+-------------+----------+--------+----------+---------+\n",
      "only showing top 5 rows\n",
      "\n"
     ]
    }
   ],
   "source": [
    "evolutions = spark.read.table('pokeapi.tbl_silver_evolutions')\n",
    "evolutions.show(5)"
   ]
  },
  {
   "cell_type": "markdown",
   "id": "2a6cc4ba",
   "metadata": {},
   "source": [
    "# Quais são os maiores Pokémon? Exiba os Pokémon e a altura."
   ]
  },
  {
   "cell_type": "code",
   "execution_count": 5,
   "id": "0bca7bb5",
   "metadata": {},
   "outputs": [
    {
     "name": "stdout",
     "output_type": "stream",
     "text": [
      "+----------+------+\n",
      "|   pokemon|altura|\n",
      "+----------+------+\n",
      "| eternatus|   200|\n",
      "|   wailord|   145|\n",
      "|   dondozo|   120|\n",
      "|celesteela|    92|\n",
      "|   steelix|    92|\n",
      "+----------+------+\n",
      "only showing top 5 rows\n",
      "\n"
     ]
    }
   ],
   "source": [
    "pokemons.select(\n",
    "    col('name').alias('pokemon'),\n",
    "    col('height').alias('altura')\n",
    ")\\\n",
    "    .orderBy(col('altura').desc()).show(5)"
   ]
  },
  {
   "cell_type": "code",
   "execution_count": 7,
   "id": "12510fe4",
   "metadata": {},
   "outputs": [
    {
     "name": "stdout",
     "output_type": "stream",
     "text": [
      "+----------+------+\n",
      "|   pokemon|altura|\n",
      "+----------+------+\n",
      "| eternatus|   200|\n",
      "|   wailord|   145|\n",
      "|   dondozo|   120|\n",
      "|   steelix|    92|\n",
      "|celesteela|    92|\n",
      "+----------+------+\n",
      "\n"
     ]
    }
   ],
   "source": [
    "query = \\\n",
    "\"\"\"\n",
    "SELECT name AS pokemon, height AS altura\n",
    "FROM pokeapi.tbl_silver_pokemons\n",
    "ORDER BY height DESC\n",
    "LIMIT 5\n",
    "\"\"\"\n",
    "\n",
    "spark.sql(query).show()"
   ]
  },
  {
   "cell_type": "markdown",
   "id": "3185095b",
   "metadata": {},
   "source": [
    "# Quantos Pokémon possuem mais de um caminho evolutivo, ou seja, mais de uma segunda ou terceira forma? Informe a quantidade, tomando como base o número distinto de Pokémon na sua primeira forma."
   ]
  },
  {
   "cell_type": "code",
   "execution_count": 90,
   "id": "fd06f914",
   "metadata": {},
   "outputs": [
    {
     "name": "stdout",
     "output_type": "stream",
     "text": [
      "O número de Pokémon com mais de um caminho evolutivo é 19.\n"
     ]
    }
   ],
   "source": [
    "resposta = evolutions\\\n",
    "    .groupBy('name')\\\n",
    "    .agg(count_distinct('evolves_to').alias('evolucoes'))\\\n",
    "    .orderBy(col('evolucoes').desc())\\\n",
    "    .where(col('evolucoes') > 1)\\\n",
    "    .count()\n",
    "\n",
    "print(f\"O número de Pokémon com mais de um caminho evolutivo é {resposta}.\")"
   ]
  },
  {
   "cell_type": "code",
   "execution_count": 15,
   "id": "0dedcdac",
   "metadata": {},
   "outputs": [
    {
     "name": "stdout",
     "output_type": "stream",
     "text": [
      "+--------+\n",
      "|resposta|\n",
      "+--------+\n",
      "|      19|\n",
      "+--------+\n",
      "\n"
     ]
    }
   ],
   "source": [
    "query = \\\n",
    "\"\"\"\n",
    "SELECT COUNT(*) AS resposta\n",
    "FROM (\n",
    "    SELECT name, COUNT(DISTINCT evolves_to) AS evolucoes\n",
    "    FROM pokeapi.tbl_silver_evolutions\n",
    "    GROUP BY name\n",
    "    HAVING evolucoes > 1\n",
    "    ORDER BY evolucoes DESC\n",
    ")\n",
    "\"\"\"\n",
    "\n",
    "spark.sql(query).show()"
   ]
  },
  {
   "cell_type": "markdown",
   "id": "f8df03d9",
   "metadata": {},
   "source": [
    "# Quais são os Pokémon do tipo gelo (ice) que mais fornecem experiência ao serem derrotados? Leve em consideração apenas os Pokémon que estão em sua forma padrão. Exiba os Pokémon e a experiência que é fornecida."
   ]
  },
  {
   "cell_type": "code",
   "execution_count": 21,
   "id": "463c81b1",
   "metadata": {},
   "outputs": [
    {
     "name": "stdout",
     "output_type": "stream",
     "text": [
      "+---------+----------------------------------------------+-----------+\n",
      "|namespace|tableName                                     |isTemporary|\n",
      "+---------+----------------------------------------------+-----------+\n",
      "|pokeapi  |tbl_bronze_evolutions                         |false      |\n",
      "|pokeapi  |tbl_bronze_pokemons                           |false      |\n",
      "|pokeapi  |tbl_silver_evolutions                         |false      |\n",
      "|pokeapi  |tbl_silver_pokemon_abilities                  |false      |\n",
      "|pokeapi  |tbl_silver_pokemon_forms                      |false      |\n",
      "|pokeapi  |tbl_silver_pokemon_game_indices               |false      |\n",
      "|pokeapi  |tbl_silver_pokemon_held_items                 |false      |\n",
      "|pokeapi  |tbl_silver_pokemon_held_items_version_details |false      |\n",
      "|pokeapi  |tbl_silver_pokemon_moves                      |false      |\n",
      "|pokeapi  |tbl_silver_pokemon_moves_version_group_details|false      |\n",
      "|pokeapi  |tbl_silver_pokemon_past_types                 |false      |\n",
      "|pokeapi  |tbl_silver_pokemon_past_types_types           |false      |\n",
      "|pokeapi  |tbl_silver_pokemon_stats                      |false      |\n",
      "|pokeapi  |tbl_silver_pokemon_types                      |false      |\n",
      "|pokeapi  |tbl_silver_pokemons                           |false      |\n",
      "+---------+----------------------------------------------+-----------+\n",
      "\n"
     ]
    }
   ],
   "source": [
    "spark.sql('SHOW TABLES IN pokeapi').show(truncate = False)"
   ]
  },
  {
   "cell_type": "code",
   "execution_count": 22,
   "id": "e3f5be77",
   "metadata": {},
   "outputs": [
    {
     "name": "stdout",
     "output_type": "stream",
     "text": [
      "+---+----------+---------------+--------------------+\n",
      "| id|types_slot|types_type_name|      types_type_url|\n",
      "+---+----------+---------------+--------------------+\n",
      "|754|         1|          grass|https://pokeapi.c...|\n",
      "|776|         1|           fire|https://pokeapi.c...|\n",
      "|776|         2|         dragon|https://pokeapi.c...|\n",
      "|769|         1|          ghost|https://pokeapi.c...|\n",
      "|769|         2|         ground|https://pokeapi.c...|\n",
      "+---+----------+---------------+--------------------+\n",
      "only showing top 5 rows\n",
      "\n"
     ]
    }
   ],
   "source": [
    "types = spark.read.table('pokeapi.tbl_silver_pokemon_types')\n",
    "types.show(5)"
   ]
  },
  {
   "cell_type": "code",
   "execution_count": 23,
   "id": "546629f0",
   "metadata": {},
   "outputs": [
    {
     "name": "stderr",
     "output_type": "stream",
     "text": [
      "                                                                                \r"
     ]
    },
    {
     "name": "stdout",
     "output_type": "stream",
     "text": [
      "+---------+---------------+\n",
      "|     name|base_experience|\n",
      "+---------+---------------+\n",
      "|   kyurem|            330|\n",
      "| articuno|            290|\n",
      "|glastrier|            290|\n",
      "|   regice|            290|\n",
      "|vanilluxe|            268|\n",
      "+---------+---------------+\n",
      "only showing top 5 rows\n",
      "\n"
     ]
    }
   ],
   "source": [
    "pokemons\\\n",
    "    .select('id', 'name', 'base_experience')\\\n",
    "    .join(other = types, on = 'id', how = 'left')\\\n",
    "    .where(col('types_type_name') == 'ice')\\\n",
    "    .select('name', 'base_experience')\\\n",
    "    .orderBy(col('base_experience').desc())\\\n",
    "    .show(5)"
   ]
  },
  {
   "cell_type": "code",
   "execution_count": 24,
   "id": "92ea8b88",
   "metadata": {},
   "outputs": [
    {
     "name": "stdout",
     "output_type": "stream",
     "text": [
      "+---------+---------------+\n",
      "|     name|base_experience|\n",
      "+---------+---------------+\n",
      "|   kyurem|            330|\n",
      "| articuno|            290|\n",
      "|   regice|            290|\n",
      "|glastrier|            290|\n",
      "|vanilluxe|            268|\n",
      "+---------+---------------+\n",
      "\n"
     ]
    }
   ],
   "source": [
    "query = \\\n",
    "\"\"\"\n",
    "SELECT p.name, p.base_experience\n",
    "FROM pokeapi.tbl_silver_pokemons AS p\n",
    "LEFT JOIN pokeapi.tbl_silver_pokemon_types AS t\n",
    "ON p.id = t.id\n",
    "WHERE t.types_type_name = 'ice'\n",
    "ORDER BY base_experience DESC\n",
    "LIMIT 5\n",
    "\"\"\"\n",
    "spark.sql(query).show()"
   ]
  },
  {
   "cell_type": "markdown",
   "id": "3e506883",
   "metadata": {},
   "source": [
    "# Encontre o golpe (move) que é mais aprendido por Pokémon pelo método level-up e em qual versão do jogo isso acontece, levando em consideração apenas os Pokémon que estão em sua forma padrão. Em seguida, entre os Pokémon que aprendem esse golpe (por level-up e na versão do jogo encontrada no passo anterior), diga quais são os Pokémon que possuem o maior valor do atributo (stat) ‘attack’. Exiba os Pokémon, a versão do jogo em que acontece de mais Pokémon aprenderem o golpe e qual é o valor do atributo ‘attack’ deles."
   ]
  },
  {
   "cell_type": "code",
   "execution_count": 25,
   "id": "f6b711c6",
   "metadata": {},
   "outputs": [
    {
     "name": "stdout",
     "output_type": "stream",
     "text": [
      "+---------+----------------------------------------------+-----------+\n",
      "|namespace|tableName                                     |isTemporary|\n",
      "+---------+----------------------------------------------+-----------+\n",
      "|pokeapi  |tbl_bronze_evolutions                         |false      |\n",
      "|pokeapi  |tbl_bronze_pokemons                           |false      |\n",
      "|pokeapi  |tbl_silver_evolutions                         |false      |\n",
      "|pokeapi  |tbl_silver_pokemon_abilities                  |false      |\n",
      "|pokeapi  |tbl_silver_pokemon_forms                      |false      |\n",
      "|pokeapi  |tbl_silver_pokemon_game_indices               |false      |\n",
      "|pokeapi  |tbl_silver_pokemon_held_items                 |false      |\n",
      "|pokeapi  |tbl_silver_pokemon_held_items_version_details |false      |\n",
      "|pokeapi  |tbl_silver_pokemon_moves                      |false      |\n",
      "|pokeapi  |tbl_silver_pokemon_moves_version_group_details|false      |\n",
      "|pokeapi  |tbl_silver_pokemon_past_types                 |false      |\n",
      "|pokeapi  |tbl_silver_pokemon_past_types_types           |false      |\n",
      "|pokeapi  |tbl_silver_pokemon_stats                      |false      |\n",
      "|pokeapi  |tbl_silver_pokemon_types                      |false      |\n",
      "|pokeapi  |tbl_silver_pokemons                           |false      |\n",
      "+---------+----------------------------------------------+-----------+\n",
      "\n"
     ]
    }
   ],
   "source": [
    "spark.sql('SHOW TABLES IN pokeapi').show(truncate = False)"
   ]
  },
  {
   "cell_type": "code",
   "execution_count": 27,
   "id": "2cd45a44",
   "metadata": {},
   "outputs": [
    {
     "name": "stdout",
     "output_type": "stream",
     "text": [
      "+---+---------------+--------------------+\n",
      "| id|moves_move_name|      moves_move_url|\n",
      "+---+---------------+--------------------+\n",
      "|151|          pound|https://pokeapi.c...|\n",
      "|151|     mega-punch|https://pokeapi.c...|\n",
      "|151|        pay-day|https://pokeapi.c...|\n",
      "|151|     fire-punch|https://pokeapi.c...|\n",
      "|151|      ice-punch|https://pokeapi.c...|\n",
      "+---+---------------+--------------------+\n",
      "only showing top 5 rows\n",
      "\n"
     ]
    }
   ],
   "source": [
    "moves = spark.read.table('pokeapi.tbl_silver_pokemon_moves')\n",
    "moves.show(5)"
   ]
  },
  {
   "cell_type": "code",
   "execution_count": 33,
   "id": "4fed24ec",
   "metadata": {},
   "outputs": [
    {
     "name": "stdout",
     "output_type": "stream",
     "text": [
      "+---+--------------------------------------------+--------------------------------------------------+-------------------------------------------------+----------------------------------------------+---------------------------------------------+\n",
      "| id|moves_version_group_details_level_learned_at|moves_version_group_details_move_learn_method_name|moves_version_group_details_move_learn_method_url|moves_version_group_details_version_group_name|moves_version_group_details_version_group_url|\n",
      "+---+--------------------------------------------+--------------------------------------------------+-------------------------------------------------+----------------------------------------------+---------------------------------------------+\n",
      "|151|                                           1|                                          level-up|                             https://pokeapi.c...|                                      red-blue|                         https://pokeapi.c...|\n",
      "|151|                                           1|                                          level-up|                             https://pokeapi.c...|                                        yellow|                         https://pokeapi.c...|\n",
      "|151|                                           1|                                          level-up|                             https://pokeapi.c...|                                   gold-silver|                         https://pokeapi.c...|\n",
      "|151|                                           1|                                          level-up|                             https://pokeapi.c...|                                       crystal|                         https://pokeapi.c...|\n",
      "|151|                                           1|                                          level-up|                             https://pokeapi.c...|                                 ruby-sapphire|                         https://pokeapi.c...|\n",
      "+---+--------------------------------------------+--------------------------------------------------+-------------------------------------------------+----------------------------------------------+---------------------------------------------+\n",
      "only showing top 5 rows\n",
      "\n"
     ]
    }
   ],
   "source": [
    "moves_details = spark.read.table('pokeapi.tbl_silver_pokemon_moves_version_group_details')\n",
    "moves_details.show(5)"
   ]
  },
  {
   "cell_type": "code",
   "execution_count": 69,
   "id": "3140e34a",
   "metadata": {},
   "outputs": [
    {
     "name": "stderr",
     "output_type": "stream",
     "text": [
      "                                                                                \r"
     ]
    }
   ],
   "source": [
    "target = moves\\\n",
    "    .join(moves_details, on='id', how='left')\\\n",
    "    .select(\n",
    "        'id',\n",
    "        'moves_move_name',\n",
    "        'moves_version_group_details_level_learned_at',\n",
    "        'moves_version_group_details_move_learn_method_name',\n",
    "        'moves_version_group_details_version_group_name'\n",
    "    )\\\n",
    "    .where(col('moves_version_group_details_move_learn_method_name') == 'level-up')\\\n",
    "    .groupBy('moves_version_group_details_version_group_name','moves_move_name').count()\\\n",
    "    .orderBy(col('count').desc())\\\n",
    "    .limit(1)\\\n",
    "    .collect()\n",
    "target_move = target[0][1]\n",
    "target_vers = target[0][0]"
   ]
  },
  {
   "cell_type": "code",
   "execution_count": 100,
   "id": "a9e8d190",
   "metadata": {},
   "outputs": [
    {
     "name": "stderr",
     "output_type": "stream",
     "text": [
      "[Stage 404:===============================================>       (18 + 3) / 21]\r"
     ]
    },
    {
     "name": "stdout",
     "output_type": "stream",
     "text": [
      "+----------------------------------------------+---------------+-----+\n",
      "|moves_version_group_details_version_group_name|moves_move_name|count|\n",
      "+----------------------------------------------+---------------+-----+\n",
      "|                          ultra-sun-ultra-moon|        protect|13073|\n",
      "+----------------------------------------------+---------------+-----+\n",
      "\n"
     ]
    },
    {
     "name": "stderr",
     "output_type": "stream",
     "text": [
      "                                                                                \r"
     ]
    }
   ],
   "source": [
    "moves\\\n",
    "    .join(moves_details, on='id', how='left')\\\n",
    "    .select(\n",
    "        'id',\n",
    "        'moves_move_name',\n",
    "        'moves_version_group_details_level_learned_at',\n",
    "        'moves_version_group_details_move_learn_method_name',\n",
    "        'moves_version_group_details_version_group_name'\n",
    "    )\\\n",
    "    .where(col('moves_version_group_details_move_learn_method_name') == 'level-up')\\\n",
    "    .groupBy('moves_version_group_details_version_group_name','moves_move_name').count()\\\n",
    "    .orderBy(col('count').desc())\\\n",
    "    .limit(1)\\\n",
    "    .show()"
   ]
  },
  {
   "cell_type": "code",
   "execution_count": 71,
   "id": "579d39e9",
   "metadata": {},
   "outputs": [
    {
     "data": {
      "text/plain": [
       "'ultra-sun-ultra-moon'"
      ]
     },
     "execution_count": 71,
     "metadata": {},
     "output_type": "execute_result"
    }
   ],
   "source": [
    "target_move\n",
    "target_vers"
   ]
  },
  {
   "cell_type": "code",
   "execution_count": 64,
   "id": "d728e2fc",
   "metadata": {},
   "outputs": [
    {
     "name": "stdout",
     "output_type": "stream",
     "text": [
      "+---+---------------+------------+---------------+--------------------+\n",
      "| id|stats_base_stat|stats_effort|stats_stat_name|      stats_stat_url|\n",
      "+---+---------------+------------+---------------+--------------------+\n",
      "|668|             86|           0|             hp|https://pokeapi.c...|\n",
      "|668|             68|           0|         attack|https://pokeapi.c...|\n",
      "|668|             72|           0|        defense|https://pokeapi.c...|\n",
      "|668|            109|           2| special-attack|https://pokeapi.c...|\n",
      "|668|             66|           0|special-defense|https://pokeapi.c...|\n",
      "+---+---------------+------------+---------------+--------------------+\n",
      "only showing top 5 rows\n",
      "\n"
     ]
    }
   ],
   "source": [
    "stats = spark.read.table('pokeapi.tbl_silver_pokemon_stats')\n",
    "stats.show(5)"
   ]
  },
  {
   "cell_type": "code",
   "execution_count": 83,
   "id": "0b067dc7",
   "metadata": {},
   "outputs": [
    {
     "name": "stdout",
     "output_type": "stream",
     "text": [
      "+---+---------------+------------+---------------+--------------------+\n",
      "| id|stats_base_stat|stats_effort|stats_stat_name|      stats_stat_url|\n",
      "+---+---------------+------------+---------------+--------------------+\n",
      "|668|             86|           0|             hp|https://pokeapi.c...|\n",
      "|668|             68|           0|         attack|https://pokeapi.c...|\n",
      "|668|             72|           0|        defense|https://pokeapi.c...|\n",
      "|668|            109|           2| special-attack|https://pokeapi.c...|\n",
      "|668|             66|           0|special-defense|https://pokeapi.c...|\n",
      "|668|            106|           0|          speed|https://pokeapi.c...|\n",
      "+---+---------------+------------+---------------+--------------------+\n",
      "\n"
     ]
    }
   ],
   "source": [
    "stats.where(col('id') == 668).show()"
   ]
  },
  {
   "cell_type": "code",
   "execution_count": 79,
   "id": "955305fc",
   "metadata": {},
   "outputs": [],
   "source": [
    "from pyspark.sql.functions import sum"
   ]
  },
  {
   "cell_type": "code",
   "execution_count": 94,
   "id": "2afc4039",
   "metadata": {},
   "outputs": [
    {
     "name": "stdout",
     "output_type": "stream",
     "text": [
      "+---+-----------+-------------+------------+--------------+-------+---------+-------------------+---------------------+--------------------+----------------------+----------+------------+\n",
      "| id|attack_stat|attack_effort|defense_stat|defense_effort|hp_stat|hp_effort|special-attack_stat|special-attack_effort|special-defense_stat|special-defense_effort|speed_stat|speed_effort|\n",
      "+---+-----------+-------------+------------+--------------+-------+---------+-------------------+---------------------+--------------------+----------------------+----------+------------+\n",
      "|  1|         49|            0|          49|             0|     45|        0|                 65|                    1|                  65|                     0|        45|           0|\n",
      "|  2|         62|            0|          63|             0|     60|        0|                 80|                    1|                  80|                     1|        60|           0|\n",
      "|  3|         82|            0|          83|             0|     80|        0|                100|                    2|                 100|                     1|        80|           0|\n",
      "|  4|         52|            0|          43|             0|     39|        0|                 60|                    0|                  50|                     0|        65|           1|\n",
      "|  5|         64|            0|          58|             0|     58|        0|                 80|                    1|                  65|                     0|        80|           1|\n",
      "+---+-----------+-------------+------------+--------------+-------+---------+-------------------+---------------------+--------------------+----------------------+----------+------------+\n",
      "only showing top 5 rows\n",
      "\n"
     ]
    }
   ],
   "source": [
    "stats_pivot = stats\\\n",
    "    .groupBy('id')\\\n",
    "    .pivot('stats_stat_name')\\\n",
    "    .agg(\n",
    "        sum('stats_base_stat').alias('stat'),\\\n",
    "        sum('stats_effort').alias('effort'))\\\n",
    "    .orderBy('id')\n",
    "\n",
    "stats_pivot.show(5)"
   ]
  },
  {
   "cell_type": "code",
   "execution_count": 99,
   "id": "2cce65c8",
   "metadata": {},
   "outputs": [
    {
     "name": "stdout",
     "output_type": "stream",
     "text": [
      "+---------+-----------+\n",
      "|     name|attack_stat|\n",
      "+---------+-----------+\n",
      "|  kartana|        181|\n",
      "|rampardos|        165|\n",
      "|regigigas|        160|\n",
      "|  slaking|        160|\n",
      "|  groudon|        150|\n",
      "+---------+-----------+\n",
      "only showing top 5 rows\n",
      "\n"
     ]
    }
   ],
   "source": [
    "pokemons\\\n",
    "    .join(moves, on='id', how= 'left')\\\n",
    "    .join(stats_pivot, on='id', how= 'left')\\\n",
    "    .where(col('moves_move_name') == target_move)\\\n",
    "    .select('name','attack_stat')\\\n",
    "    .orderBy(col('attack_stat').desc())\\\n",
    "    .show(5)"
   ]
  },
  {
   "cell_type": "code",
   "execution_count": 26,
   "id": "1f43ed91",
   "metadata": {},
   "outputs": [],
   "source": [
    "spark.stop()"
   ]
  },
  {
   "cell_type": "code",
   "execution_count": 67,
   "id": "6df50983",
   "metadata": {},
   "outputs": [],
   "source": [
    "from pyspark.sql.functions import count, count_distinct"
   ]
  },
  {
   "cell_type": "code",
   "execution_count": null,
   "id": "fd74a5db",
   "metadata": {},
   "outputs": [],
   "source": []
  }
 ],
 "metadata": {
  "kernelspec": {
   "display_name": "Python 3 (ipykernel)",
   "language": "python",
   "name": "python3"
  },
  "language_info": {
   "codemirror_mode": {
    "name": "ipython",
    "version": 3
   },
   "file_extension": ".py",
   "mimetype": "text/x-python",
   "name": "python",
   "nbconvert_exporter": "python",
   "pygments_lexer": "ipython3",
   "version": "3.10.7"
  }
 },
 "nbformat": 4,
 "nbformat_minor": 5
}
