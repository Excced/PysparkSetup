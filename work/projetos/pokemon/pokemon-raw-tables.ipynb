{
 "cells": [
  {
   "cell_type": "code",
   "execution_count": 10,
   "id": "f60dc88f-42fc-41e8-abf6-efcba9ccd2de",
   "metadata": {
    "tags": []
   },
   "outputs": [
    {
     "data": {
      "text/html": [
       "\n",
       "            <div>\n",
       "                <p><b>SparkSession - hive</b></p>\n",
       "                \n",
       "        <div>\n",
       "            <p><b>SparkContext</b></p>\n",
       "\n",
       "            <p><a href=\"http://8e0c17c559a2:4040\">Spark UI</a></p>\n",
       "\n",
       "            <dl>\n",
       "              <dt>Version</dt>\n",
       "                <dd><code>v3.3.2</code></dd>\n",
       "              <dt>Master</dt>\n",
       "                <dd><code>spark://spark-master:7077</code></dd>\n",
       "              <dt>AppName</dt>\n",
       "                <dd><code>Criando tabelas bronze de pokemons</code></dd>\n",
       "            </dl>\n",
       "        </div>\n",
       "        \n",
       "            </div>\n",
       "        "
      ],
      "text/plain": [
       "<pyspark.sql.session.SparkSession at 0x7f16423266e0>"
      ]
     },
     "execution_count": 10,
     "metadata": {},
     "output_type": "execute_result"
    }
   ],
   "source": [
    "import re\n",
    "import json\n",
    "\n",
    "from pyspark.sql import SparkSession\n",
    "from pyspark.sql.types import StructType\n",
    "\n",
    "if 'spark' in locals() or 'spark' in globals():\n",
    "    spark.stop()\n",
    "\n",
    "spark = SparkSession\\\n",
    "    .builder\\\n",
    "    .appName(\"Criando tabelas bronze de pokemons\")\\\n",
    "    .getOrCreate()\n",
    "\n",
    "spark"
   ]
  },
  {
   "cell_type": "code",
   "execution_count": 2,
   "id": "e431fc81-afec-4bcc-8f87-69df16a93c68",
   "metadata": {
    "tags": []
   },
   "outputs": [
    {
     "name": "stderr",
     "output_type": "stream",
     "text": [
      "                                                                                \r"
     ]
    }
   ],
   "source": [
    "df = spark.read.json(\"s3a://datalake/raw/pokemon/*.json\")"
   ]
  },
  {
   "cell_type": "code",
   "execution_count": 3,
   "id": "4b5e9927-3709-47f7-839f-76e7823c0b62",
   "metadata": {
    "tags": []
   },
   "outputs": [
    {
     "name": "stderr",
     "output_type": "stream",
     "text": [
      "                                                                                \r"
     ]
    }
   ],
   "source": [
    "schema_str = df.schema.json()\n",
    "\n",
    "# Remove all hyphens from field name in the schema and substitute for underscores\n",
    "new_schema_str = re.sub(\"\\-+\", \"_\", schema_str)\n",
    "\n",
    "new_schema_json = json.loads(new_schema_str)\n",
    "new_schema_json\n",
    "\n",
    "df = spark.createDataFrame(df.collect(), StructType.fromJson(new_schema_json))"
   ]
  },
  {
   "cell_type": "code",
   "execution_count": 4,
   "id": "47b67904",
   "metadata": {
    "tags": []
   },
   "outputs": [
    {
     "name": "stderr",
     "output_type": "stream",
     "text": [
      "Hive Session ID = d1e13d9f-5612-43bf-b9d0-360dfea9a842\n"
     ]
    },
    {
     "name": "stdout",
     "output_type": "stream",
     "text": [
      "+-------------+\n",
      "|    namespace|\n",
      "+-------------+\n",
      "|      default|\n",
      "|    deltabase|\n",
      "|dundermifflin|\n",
      "|      pokeapi|\n",
      "+-------------+\n",
      "\n"
     ]
    }
   ],
   "source": [
    "spark.sql(\"CREATE DATABASE IF NOT EXISTS pokeapi\")\n",
    "spark.sql(\"SHOW DATABASES\").show()"
   ]
  },
  {
   "cell_type": "code",
   "execution_count": 5,
   "id": "6e33c3dd-ced1-4476-a4de-7fe8ed910290",
   "metadata": {
    "tags": []
   },
   "outputs": [
    {
     "name": "stdout",
     "output_type": "stream",
     "text": [
      "23/04/03 18:57:52 WARN TaskSetManager: Stage 4 contains a task of very large size (7392 KiB). The maximum recommended task size is 1000 KiB.\n"
     ]
    },
    {
     "name": "stderr",
     "output_type": "stream",
     "text": [
      "                                                                                \r"
     ]
    }
   ],
   "source": [
    "spark.sql(\"DROP TABLE IF EXISTS pokeapi.tbl_bronze_pokemons\")\n",
    "df.write\\\n",
    "    .option(\"path\", \"s3a://datalake/bronze/pokemons/\")\\\n",
    "    .format('parquet')\\\n",
    "    .mode('overwrite')\\\n",
    "    .saveAsTable('pokeapi.tbl_bronze_pokemons')"
   ]
  },
  {
   "cell_type": "code",
   "execution_count": 6,
   "id": "94c3de61-8d3f-4dcd-b387-75386baa16d4",
   "metadata": {
    "tags": []
   },
   "outputs": [
    {
     "name": "stderr",
     "output_type": "stream",
     "text": [
      "                                                                                \r"
     ]
    }
   ],
   "source": [
    "df2 = spark.read.json(\"s3a://datalake/raw/evolution/*.json\")"
   ]
  },
  {
   "cell_type": "code",
   "execution_count": 7,
   "id": "c6301425-adff-427f-8d1a-ba9eb426465c",
   "metadata": {
    "tags": []
   },
   "outputs": [
    {
     "name": "stderr",
     "output_type": "stream",
     "text": [
      "                                                                                \r"
     ]
    }
   ],
   "source": [
    "spark.sql(\"DROP TABLE IF EXISTS pokeapi.tbl_bronze_evolutions\")\n",
    "df2.write\\\n",
    "    .option(\"path\", \"s3a://datalake/bronze/evolution/\")\\\n",
    "    .format('parquet')\\\n",
    "    .mode('overwrite')\\\n",
    "    .saveAsTable('pokeapi.tbl_bronze_evolutions')"
   ]
  },
  {
   "cell_type": "code",
   "execution_count": 8,
   "id": "f8d90cb3",
   "metadata": {
    "tags": []
   },
   "outputs": [
    {
     "name": "stdout",
     "output_type": "stream",
     "text": [
      "+---------+---------------------+-----------+\n",
      "|namespace|tableName            |isTemporary|\n",
      "+---------+---------------------+-----------+\n",
      "|pokeapi  |tbl_bronze_evolutions|false      |\n",
      "|pokeapi  |tbl_bronze_pokemons  |false      |\n",
      "+---------+---------------------+-----------+\n",
      "\n"
     ]
    }
   ],
   "source": [
    "spark.sql(\"SHOW TABLES IN pokeapi\").show(truncate = False)"
   ]
  },
  {
   "cell_type": "code",
   "execution_count": 9,
   "id": "4bf4b1aa-0cca-463c-8d79-1e155d11a276",
   "metadata": {
    "tags": []
   },
   "outputs": [],
   "source": [
    "spark.stop()"
   ]
  }
 ],
 "metadata": {
  "kernelspec": {
   "display_name": "Python 3 (ipykernel)",
   "language": "python",
   "name": "python3"
  },
  "language_info": {
   "codemirror_mode": {
    "name": "ipython",
    "version": 3
   },
   "file_extension": ".py",
   "mimetype": "text/x-python",
   "name": "python",
   "nbconvert_exporter": "python",
   "pygments_lexer": "ipython3",
   "version": "3.10.7"
  }
 },
 "nbformat": 4,
 "nbformat_minor": 5
}
