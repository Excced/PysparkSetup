{
 "cells": [
  {
   "cell_type": "code",
   "execution_count": 1,
   "id": "feed33a7-f97f-4ee3-923f-fd1764c7ea86",
   "metadata": {
    "tags": []
   },
   "outputs": [
    {
     "name": "stdout",
     "output_type": "stream",
     "text": [
      "Collecting minio\n",
      "  Downloading minio-7.1.13-py3-none-any.whl (76 kB)\n",
      "\u001b[2K     \u001b[90m━━━━━━━━━━━━━━━━━━━━━━━━━━━━━━━━━━━━━━━━\u001b[0m \u001b[32m76.2/76.2 kB\u001b[0m \u001b[31m4.0 MB/s\u001b[0m eta \u001b[36m0:00:00\u001b[0m\n",
      "\u001b[?25hRequirement already satisfied: certifi in /usr/local/lib/python3.10/dist-packages (from minio) (2022.12.7)\n",
      "Requirement already satisfied: urllib3 in /usr/local/lib/python3.10/dist-packages (from minio) (1.26.14)\n",
      "Installing collected packages: minio\n",
      "Successfully installed minio-7.1.13\n",
      "\u001b[33mWARNING: Running pip as the 'root' user can result in broken permissions and conflicting behaviour with the system package manager. It is recommended to use a virtual environment instead: https://pip.pypa.io/warnings/venv\u001b[0m\u001b[33m\n",
      "\u001b[0m"
     ]
    }
   ],
   "source": [
    "!pip3 install minio"
   ]
  },
  {
   "cell_type": "code",
   "execution_count": 550,
   "id": "c7a028b3-eeb6-4b27-a350-3fedf9c44240",
   "metadata": {
    "tags": []
   },
   "outputs": [],
   "source": [
    "import requests\n",
    "from minio import Minio\n",
    "import os\n",
    "import json\n",
    "import io\n",
    "import re"
   ]
  },
  {
   "cell_type": "code",
   "execution_count": 551,
   "id": "ca3ee445-3064-48b8-967d-c7b3a0bacece",
   "metadata": {
    "tags": []
   },
   "outputs": [],
   "source": [
    "def put_json(minio_client, bucket_name, object_name, d):\n",
    "    \"\"\"\n",
    "    jsonify a dict and write it as object to the bucket\n",
    "    \"\"\"\n",
    "    # prepare data and corresponding data stream\n",
    "    data = json.dumps(d).encode(\"utf-8\")\n",
    "    data_stream = io.BytesIO(data)\n",
    "    data_stream.seek(0)\n",
    "\n",
    "    # put data as object into the bucket\n",
    "    minio_client.put_object(\n",
    "        bucket_name=bucket_name,\n",
    "        object_name=object_name,\n",
    "        data=data_stream, length=len(data),\n",
    "        content_type=\"application/json\"\n",
    "    )"
   ]
  },
  {
   "cell_type": "code",
   "execution_count": 552,
   "id": "75b87f7a-e8b2-405d-a2e0-041d674f15d1",
   "metadata": {
    "tags": []
   },
   "outputs": [],
   "source": [
    "client = Minio(endpoint='minio:9000',\n",
    "               access_key=os.environ['MINIO_ROOT_USER'],\n",
    "               secret_key=os.environ['MINIO_ROOT_PASSWORD'],\n",
    "               secure = False)"
   ]
  },
  {
   "cell_type": "code",
   "execution_count": 521,
   "id": "43bbb892-e3f3-449b-9f62-8bd9c6ce125a",
   "metadata": {
    "tags": []
   },
   "outputs": [
    {
     "name": "stdout",
     "output_type": "stream",
     "text": [
      "Fetching pokemon_id = 01011\r"
     ]
    }
   ],
   "source": [
    "pokemon_id = 1\n",
    "while pokemon_id > 0:\n",
    "    print(f'Fetching pokemon_id = {str(pokemon_id).zfill(5)}', end = '\\r')\n",
    "    url = f\"https://pokeapi.co/api/v2/pokemon/{pokemon_id}/\"\n",
    "    response = requests.get(url)\n",
    "    \n",
    "    if response.text == 'Not Found':\n",
    "        pokemon_id += 1\n",
    "        break\n",
    "\n",
    "    put_json(minio_client = client,\n",
    "             bucket_name = 'datalake',\n",
    "             object_name = f'/raw/pokemon/pokemon_{str(pokemon_id).zfill(5)}.json',\n",
    "             d = response.json())\n",
    "    pokemon_id += 1"
   ]
  },
  {
   "cell_type": "code",
   "execution_count": 537,
   "id": "7c30f9e2-332c-4915-9804-7e93f3bb0ce9",
   "metadata": {
    "tags": []
   },
   "outputs": [
    {
     "name": "stdout",
     "output_type": "stream",
     "text": [
      "Fetching evolution_id = 00600\r"
     ]
    }
   ],
   "source": [
    "evolution_id = 1\n",
    "while evolution_id <= 600:\n",
    "    print(f'Fetching evolution_id = {str(evolution_id).zfill(5)}', end = '\\r')\n",
    "    \n",
    "    url = f\"https://pokeapi.co/api/v2/evolution-chain/{evolution_id}/\"\n",
    "    response = requests.get(url)\n",
    "    \n",
    "    if response.text == 'Not Found':\n",
    "        evolution_id += 1\n",
    "        continue\n",
    "        \n",
    "    put_json(minio_client = client,\n",
    "         bucket_name = 'datalake',\n",
    "         object_name = f'/raw/evolution/evolution_{str(evolution_id).zfill(5)}.json',\n",
    "         d = response.json())\n",
    "    evolution_id += 1"
   ]
  }
 ],
 "metadata": {
  "kernelspec": {
   "display_name": "Python 3 (ipykernel)",
   "language": "python",
   "name": "python3"
  },
  "language_info": {
   "codemirror_mode": {
    "name": "ipython",
    "version": 3
   },
   "file_extension": ".py",
   "mimetype": "text/x-python",
   "name": "python",
   "nbconvert_exporter": "python",
   "pygments_lexer": "ipython3",
   "version": "3.10.7"
  }
 },
 "nbformat": 4,
 "nbformat_minor": 5
}
