{
 "cells": [
  {
   "cell_type": "code",
   "execution_count": 1,
   "id": "dff0df20-e5f6-42ea-a3de-c07d91cd43cd",
   "metadata": {},
   "outputs": [
    {
     "name": "stderr",
     "output_type": "stream",
     "text": [
      "Setting default log level to \"WARN\".\n",
      "To adjust logging level use sc.setLogLevel(newLevel). For SparkR, use setLogLevel(newLevel).\n",
      "24/09/08 15:18:36 WARN NativeCodeLoader: Unable to load native-hadoop library for your platform... using builtin-java classes where applicable\n"
     ]
    }
   ],
   "source": [
    "from pyspark.sql import SparkSession\n",
    "from pyspark.sql.functions import to_timestamp, col\n",
    "import pyspark.pandas as ps\n",
    "spark = SparkSession.builder.master(\"local[2]\").appName(\"Spark\").getOrCreate();"
   ]
  },
  {
   "cell_type": "code",
   "execution_count": 2,
   "id": "af3ab7cb-fd70-47de-90d0-8af30e59d41b",
   "metadata": {},
   "outputs": [],
   "source": [
    "sc = spark.sparkContext\n",
    "\n",
    "sc._jsc.hadoopConfiguration().set(\"fs.s3a.access.key\", \"admin\")\n",
    "sc._jsc.hadoopConfiguration().set(\"fs.s3a.secret.key\", \"password\")\n",
    "sc._jsc.hadoopConfiguration().set(\"fs.s3a.endpoint\", \"http://minio:9000\")\n",
    "sc._jsc.hadoopConfiguration().set(\"fs.s3a.path.style.access\", \"true\")\n",
    "sc._jsc.hadoopConfiguration().set(\"fs.s3a.impl\", \"org.apache.hadoop.fs.s3a.S3AFileSystem\")"
   ]
  },
  {
   "cell_type": "code",
   "execution_count": 27,
   "id": "6071c7d6-8c4b-4be5-84f6-7b7c9cce7128",
   "metadata": {},
   "outputs": [],
   "source": [
    "rootPath = f\"s3a://learning/Job_Posting\"\n",
    "filePrefix = f\".csv\"\n",
    "posting_data = spark.read.option(\"header\",True).csv(\"{rootPath}/postings{filePrefix}\".format(rootPath = rootPath,filePrefix = filePrefix));\n",
    "\n",
    "#Companies Input Data\n",
    "companies_Data = spark.read.option(\"header\",True).csv(\"{rootPath}/companies/companies{filePrefix}\".format(rootPath = rootPath,filePrefix = filePrefix));\n",
    "company_Industries_Data = spark.read.option(\"header\",True).csv(\"{rootPath}/companies/company_industries{filePrefix}\".format(rootPath = rootPath,filePrefix = filePrefix));\n",
    "company_Specialities_Data = spark.read.option(\"header\",True).csv(\"{rootPath}/companies/company_specialities{filePrefix}\".format(rootPath = rootPath,filePrefix = filePrefix));\n",
    "employee_Counts_Data = spark.read.option(\"header\",True).csv(\"{rootPath}/companies/employee_counts{filePrefix}\".format(rootPath = rootPath,filePrefix = filePrefix));\n",
    "\n",
    "#Jobs Input Data\n",
    "benefits_Data = spark.read.option(\"header\",True).csv(\"{rootPath}/jobs/benefits{filePrefix}\".format(rootPath = rootPath,filePrefix = filePrefix));\n",
    "job_Industries_Data = spark.read.option(\"header\",True).csv(\"{rootPath}/jobs/job_industries{filePrefix}\".format(rootPath = rootPath,filePrefix = filePrefix));\n",
    "job_Skills_Data = spark.read.option(\"header\",True).csv(\"{rootPath}/jobs/job_skills{filePrefix}\".format(rootPath = rootPath,filePrefix = filePrefix));\n",
    "salaries_Data = spark.read.option(\"header\",True).csv(\"{rootPath}/jobs/salaries{filePrefix}\".format(rootPath = rootPath,filePrefix = filePrefix));\n",
    "\n",
    "#mapping between data \n",
    "industries_Mapping_Data = spark.read.option(\"header\",True).csv(\"{rootPath}/mappings/industries{filePrefix}\".format(rootPath = rootPath,filePrefix = filePrefix));\n",
    "skills_Mapping_Data = spark.read.option(\"header\",True).csv(\"{rootPath}/mappings/skills{filePrefix}\".format(rootPath = rootPath,filePrefix = filePrefix));"
   ]
  },
  {
   "cell_type": "code",
   "execution_count": 28,
   "id": "bb87d9be-d84c-4ec2-bf89-e30dab59edeb",
   "metadata": {},
   "outputs": [
    {
     "data": {
      "text/plain": [
       "['company_id',\n",
       " 'name',\n",
       " 'description',\n",
       " 'company_size',\n",
       " 'state',\n",
       " 'country',\n",
       " 'city',\n",
       " 'zip_code',\n",
       " 'address',\n",
       " 'url']"
      ]
     },
     "execution_count": 28,
     "metadata": {},
     "output_type": "execute_result"
    }
   ],
   "source": [
    "companies_Data.columns"
   ]
  },
  {
   "cell_type": "code",
   "execution_count": 29,
   "id": "eacb9f3c-81fc-4f67-ade1-56453b42e439",
   "metadata": {},
   "outputs": [],
   "source": [
    "#Cast the primary key properly as there might issue with data types\n",
    "from pyspark.sql.types import IntegerType,BooleanType,DateType\n",
    "from pyspark.sql.functions import col\n",
    "posting_data = posting_data.withColumn('company_id', col('company_id').cast('integer')) \\\n",
    "                               .withColumn('job_id', col('job_id').cast('integer'))"
   ]
  },
  {
   "cell_type": "code",
   "execution_count": 37,
   "id": "c9c33683-690e-445b-a22b-07687b8f6291",
   "metadata": {},
   "outputs": [],
   "source": [
    "#Model the data \n",
    "modeled_Posting_Data = posting_data.join(companies_Data, posting_data.company_id == companies_Data.company_id, \"leftouter\") \\\n",
    "                                    .select(posting_data[\"*\"],companies_Data[\"description\"].alias(\"company_description\"),companies_Data[\"company_size\"],companies_Data[\"state\"])"
   ]
  },
  {
   "cell_type": "code",
   "execution_count": 38,
   "id": "a5b3f7b0-441e-4bc3-8aa7-4adda2a61209",
   "metadata": {},
   "outputs": [
    {
     "name": "stderr",
     "output_type": "stream",
     "text": [
      "                                                                                \r"
     ]
    },
    {
     "data": {
      "text/html": [
       "<div>\n",
       "<style scoped>\n",
       "    .dataframe tbody tr th:only-of-type {\n",
       "        vertical-align: middle;\n",
       "    }\n",
       "\n",
       "    .dataframe tbody tr th {\n",
       "        vertical-align: top;\n",
       "    }\n",
       "\n",
       "    .dataframe thead th {\n",
       "        text-align: right;\n",
       "    }\n",
       "</style>\n",
       "<table border=\"1\" class=\"dataframe\">\n",
       "  <thead>\n",
       "    <tr style=\"text-align: right;\">\n",
       "      <th></th>\n",
       "      <th>job_id</th>\n",
       "      <th>company_name</th>\n",
       "      <th>title</th>\n",
       "      <th>description</th>\n",
       "      <th>max_salary</th>\n",
       "      <th>pay_period</th>\n",
       "      <th>location</th>\n",
       "      <th>company_id</th>\n",
       "      <th>views</th>\n",
       "      <th>med_salary</th>\n",
       "      <th>min_salary</th>\n",
       "      <th>formatted_work_type</th>\n",
       "      <th>applies</th>\n",
       "      <th>original_listed_time</th>\n",
       "      <th>remote_allowed</th>\n",
       "      <th>job_posting_url</th>\n",
       "      <th>application_url</th>\n",
       "      <th>application_type</th>\n",
       "      <th>expiry</th>\n",
       "      <th>closed_time</th>\n",
       "      <th>formatted_experience_level</th>\n",
       "      <th>skills_desc</th>\n",
       "      <th>listed_time</th>\n",
       "      <th>posting_domain</th>\n",
       "      <th>sponsored</th>\n",
       "      <th>work_type</th>\n",
       "      <th>currency</th>\n",
       "      <th>compensation_type</th>\n",
       "      <th>normalized_salary</th>\n",
       "      <th>zip_code</th>\n",
       "      <th>fips</th>\n",
       "      <th>company_description</th>\n",
       "      <th>company_size</th>\n",
       "      <th>state</th>\n",
       "    </tr>\n",
       "  </thead>\n",
       "  <tbody>\n",
       "    <tr>\n",
       "      <th>10</th>\n",
       "      <td>NaN</td>\n",
       "      <td>White Bottle Inc.</td>\n",
       "      <td>Sanitation Supervisor</td>\n",
       "      <td>Location: Stanton, CaliforniaStatus and Classi...</td>\n",
       "      <td>27.0</td>\n",
       "      <td>HOURLY</td>\n",
       "      <td>Stanton, CA</td>\n",
       "      <td>82540802</td>\n",
       "      <td>9.0</td>\n",
       "      <td>None</td>\n",
       "      <td>25.0</td>\n",
       "      <td>Full-time</td>\n",
       "      <td>None</td>\n",
       "      <td>1713460499000.0</td>\n",
       "      <td>None</td>\n",
       "      <td>https://www.linkedin.com/jobs/view/3363439517/...</td>\n",
       "      <td>None</td>\n",
       "      <td>ComplexOnsiteApply</td>\n",
       "      <td>1716052499000.0</td>\n",
       "      <td>None</td>\n",
       "      <td>None</td>\n",
       "      <td>None</td>\n",
       "      <td>1713460499000.0</td>\n",
       "      <td>None</td>\n",
       "      <td>0</td>\n",
       "      <td>FULL_TIME</td>\n",
       "      <td>USD</td>\n",
       "      <td>BASE_SALARY</td>\n",
       "      <td>54080.0</td>\n",
       "      <td>90680</td>\n",
       "      <td>06059</td>\n",
       "      <td>None</td>\n",
       "      <td>2</td>\n",
       "      <td>California</td>\n",
       "    </tr>\n",
       "  </tbody>\n",
       "</table>\n",
       "</div>"
      ],
      "text/plain": [
       "    job_id       company_name                  title                                                                                                                                                                                                                                                                                                                                                                                                                                                                                                                                                                                                                                                                                                                                                                                                                                                                                                                                                                                                                                                                                                                                                                                                                                                                                                                                                                                                                                                                                                                                                                                                                                                                                                                                                                                                                                                                                                                                                                                                                                                                                                                                                                                                                                                                                                                                                                                                                                                                                                                                                                                                                                                                                                                                                                                                                                                                                                                                                                                                                                                                                                                                                                                                                                                                                                                                                                                                                                                                                                                                                                                                                                                                                                                                                                                                                                                                                                                                                                                                                                                                                                                                                                                                                                                                                                                                                                                                                                                                                                                                                                                                                                                                                                                                                                                                                                                                                                                                                                                                                                                                                                                                                                                                                                                                                                                                                                                                                                                                                                                                                                                                                                                                                                                                                                                                                                                                                   description max_salary pay_period     location  company_id views med_salary min_salary formatted_work_type applies original_listed_time remote_allowed                                                        job_posting_url application_url    application_type           expiry closed_time formatted_experience_level skills_desc      listed_time posting_domain sponsored  work_type currency compensation_type normalized_salary zip_code   fips company_description company_size       state\n",
       "10     NaN  White Bottle Inc.  Sanitation Supervisor  Location: Stanton, CaliforniaStatus and Classification: Full-Time and Non-ExemptReports to: Quality AssuranceSchedule: Full time, Monday - Friday (6am - 2:30pm)Pay rate: $25 - $27Job SummaryThe Sanitation Supervisor is responsible for maintaining the cleanliness and food safe environment of the facility and processing machines daily or as scheduled, by assigning cleaning tasks to the sanitation staff. This position supervises the development, implementation, and maintenance of continually improving the sanitation, food safety, pest control programs, and employee safety programs. This includes revising the master sanitation schedule, work instructions, training documentation and compliance audits, as well as observing and enforcing safety rules and company policies; and providing support to the sanitation staff.Key Responsibilities and DutiesComply with the Plant, State and Federal OSHA, EPA, FDA, HACCP, and SQF regulations.Inspecting the manufacturing process to determine sanitation protocols.Designing and implementing sanitation policies and protocols in line with sate health and safety regulations.Coordinating and monitoring cleaning schedules.Creating and distributing work schedules for the sanitation workers.Performing daily inspections of the manufacturing facility and reporting any irregularities.Implementing corrective actions to ensure compliance with regulatory authorities.Providing feedback to company managers and advising on manufacturing changes.Manage operations to maintain the highest rating possible on all annual audits and inspections.Monitoring the preparation and use of cleaning chemicals.Training sanitation workers and organizing refresher workshops for existing staff.Supervisory ResponsibilitiesOverseeing all cleaning workers, implementing company policies related to a clean work environment, performing regular inspections, and maintaining budgets and inventory for the cleaning staff.QualificationsREQUIRED SKILLS AND EXPERIENCEEducation & ExperienceBachelor’s degree in Food Science or similar, Business Administration and/or three years of experience in sanitation supervisor.Minimum 3 years experience in a Supervisor role.Minimum 3 years experience in Food Manufacturing.Minimum 3 to 4 years experience in Sanitation.Knowledge of the HACCP program.Knowledge of OSHA, health department, EPA, city, and county regulations preferred.Excellent computer skills including proficiency in MS Office.Previous experience with the SQF, USDA, FDA standards, or similar agencies.LanguageThe successful candidate must be able to understand all policies, procedures, instructions, rules, and regulations associated with this position which is written in English. In addition, the successful candidate must be able to appropriately respond to these and, where needed, provide reports, presentations, information, or communications in English.Must be fluent in reading, writing, and speaking English; bilingual required (Spanish and English).SkillsTo perform this job successfully, an individual must be punctual, dependable, and able to perform the essential duties and responsibilities satisfactorily and expeditiously.To perform this job successfully, an individual must be able to perform each essential duty satisfactorily.Sound understanding of GMP’s, PC, HACCP, EMP, OSHA, and USDA regulations.Solid knowledge of chemical use in the cleaning and sanitizing process.Ability to apply common sense understanding to carry out instructions furnished in written, oral, or diagram form.Extensive knowledge of the food manufacturing industry.Strong attention to detail.Advanced managerial skills.Detailed knowledge of cleaning chemicals and safety protocols.Excellent analytical and problem-solving skills.Strong written and verbal communication skills.Ability to design and implement training programs.Physical RequirementsWork EnvironmentApproximately 100% of the work is performed on the production floor and warehouse environment.Frequently exposed to a variety of extreme conditions at job sites.Noise level in the work environment and job sites can be loud.Routinely uses standard office equipment such as computers, phones, photocopiers, filing cabinets and fax machines.Required to use Personal Protective Equipment necessary for the various environments.Other DutiesThis job description is not an exhaustive list of all responsibilities, skills, efforts or working conditions associated with the job. It is intended, however, to be an accurate reflection of those principal job elements essential for making decisions related to job performance, employee development and compensation. As such, the incumbent may perform other duties and responsibilities as required. Duties, responsibilities and activities may change at any time with or without notice.About White Bottle, Inc.Founded in 2009, White Bottle, Inc. is a private label manufacturer of nutraceutical supplements for physicians, retailers and distributors. The Company specializes in creating customized, innovative solutions with the best ingredients and high standards for testing. We operate on the premise of developing transparent and cooperative relationships with clients and offering premium products to help clients differentiate themselves.We are an Equal Opportunity Employer; employment with White Bottle, Inc. is governed on the basis of merit, competence and qualifications and will not be influenced in any manner by race, color, religion, gender, national origin/ethnicity, veteran status, disability status, age, sexual orientation, gender identity, marital status, mental or physical disability or any other legally protected status.       27.0     HOURLY  Stanton, CA    82540802   9.0       None       25.0           Full-time    None      1713460499000.0           None  https://www.linkedin.com/jobs/view/3363439517/?trk=jobs_biz_prem_srch            None  ComplexOnsiteApply  1716052499000.0        None                       None        None  1713460499000.0           None         0  FULL_TIME      USD       BASE_SALARY           54080.0    90680  06059                None            2  California"
      ]
     },
     "execution_count": 38,
     "metadata": {},
     "output_type": "execute_result"
    }
   ],
   "source": [
    "modeled_Posting_Data.filter(\"state != null or state != '' \").pandas_api().take([10])"
   ]
  },
  {
   "cell_type": "code",
   "execution_count": null,
   "id": "0ab5287c-5520-4a44-bf57-7ec518112e1d",
   "metadata": {},
   "outputs": [],
   "source": []
  }
 ],
 "metadata": {
  "kernelspec": {
   "display_name": "Python 3 (ipykernel)",
   "language": "python",
   "name": "python3"
  },
  "language_info": {
   "codemirror_mode": {
    "name": "ipython",
    "version": 3
   },
   "file_extension": ".py",
   "mimetype": "text/x-python",
   "name": "python",
   "nbconvert_exporter": "python",
   "pygments_lexer": "ipython3",
   "version": "3.10.12"
  }
 },
 "nbformat": 4,
 "nbformat_minor": 5
}
