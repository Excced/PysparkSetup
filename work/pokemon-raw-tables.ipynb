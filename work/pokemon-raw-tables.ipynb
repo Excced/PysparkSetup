{
 "cells": [
  {
   "cell_type": "code",
   "execution_count": 1,
   "id": "feed33a7-f97f-4ee3-923f-fd1764c7ea86",
   "metadata": {
    "tags": []
   },
   "outputs": [
    {
     "name": "stdout",
     "output_type": "stream",
     "text": [
      "Collecting minio\n",
      "  Downloading minio-7.1.13-py3-none-any.whl (76 kB)\n",
      "\u001b[2K     \u001b[90m━━━━━━━━━━━━━━━━━━━━━━━━━━━━━━━━━━━━━━━━\u001b[0m \u001b[32m76.2/76.2 kB\u001b[0m \u001b[31m7.0 MB/s\u001b[0m eta \u001b[36m0:00:00\u001b[0m\n",
      "\u001b[?25hRequirement already satisfied: certifi in /usr/local/lib/python3.10/dist-packages (from minio) (2022.12.7)\n",
      "Requirement already satisfied: urllib3 in /usr/local/lib/python3.10/dist-packages (from minio) (1.26.14)\n",
      "Installing collected packages: minio\n",
      "Successfully installed minio-7.1.13\n",
      "\u001b[33mWARNING: Running pip as the 'root' user can result in broken permissions and conflicting behaviour with the system package manager. It is recommended to use a virtual environment instead: https://pip.pypa.io/warnings/venv\u001b[0m\u001b[33m\n",
      "\u001b[0m"
     ]
    }
   ],
   "source": [
    "!pip3 install minio"
   ]
  },
  {
   "cell_type": "code",
   "execution_count": 2,
   "id": "c7a028b3-eeb6-4b27-a350-3fedf9c44240",
   "metadata": {
    "tags": []
   },
   "outputs": [],
   "source": [
    "import requests\n",
    "from minio import Minio\n",
    "import os\n",
    "import json\n",
    "import io"
   ]
  },
  {
   "cell_type": "code",
   "execution_count": 3,
   "id": "ca3ee445-3064-48b8-967d-c7b3a0bacece",
   "metadata": {
    "tags": []
   },
   "outputs": [],
   "source": [
    "def put_json(minio_client, bucket_name, object_name, d):\n",
    "    \"\"\"\n",
    "    jsonify a dict and write it as object to the bucket\n",
    "    \"\"\"\n",
    "    # prepare data and corresponding data stream\n",
    "    data = json.dumps(d).encode(\"utf-8\")\n",
    "    data_stream = io.BytesIO(data)\n",
    "    data_stream.seek(0)\n",
    "\n",
    "    # put data as object into the bucket\n",
    "    minio_client.put_object(\n",
    "        bucket_name=bucket_name,\n",
    "        object_name=object_name,\n",
    "        data=data_stream, length=len(data),\n",
    "        content_type=\"application/json\"\n",
    "    )"
   ]
  },
  {
   "cell_type": "code",
   "execution_count": 70,
   "id": "43bbb892-e3f3-449b-9f62-8bd9c6ce125a",
   "metadata": {
    "tags": []
   },
   "outputs": [],
   "source": [
    "client = Minio(endpoint='minio:9000',\n",
    "               access_key=os.environ['MINIO_ROOT_USER'],\n",
    "               secret_key=os.environ['MINIO_ROOT_PASSWORD'],\n",
    "               secure = False)\n",
    "\n",
    "pokemon_id_lst = list(range(1,152))\n",
    "\n",
    "for pokemon_id in pokemon_id_lst:\n",
    "    url = f\"https://pokeapi.co/api/v2/pokemon/{pokemon_id}/\"\n",
    "    response = requests.get(url).json()\n",
    "\n",
    "    put_json(minio_client = client,\n",
    "             bucket_name = 'datalake',\n",
    "             object_name = f'/raw/pokemon/pokemon_{str(pokemon_id).zfill(5)}.json',\n",
    "             d = response)"
   ]
  },
  {
   "cell_type": "code",
   "execution_count": 4,
   "id": "d84858d2-d8e9-4a19-b03b-bc4c37f09693",
   "metadata": {
    "tags": []
   },
   "outputs": [],
   "source": [
    "from pyspark.sql import SparkSession"
   ]
  },
  {
   "cell_type": "code",
   "execution_count": 5,
   "id": "5307a305-cffa-46cf-8307-e9c48da38d2a",
   "metadata": {
    "tags": []
   },
   "outputs": [
    {
     "name": "stderr",
     "output_type": "stream",
     "text": [
      "Setting default log level to \"WARN\".\n",
      "To adjust logging level use sc.setLogLevel(newLevel). For SparkR, use setLogLevel(newLevel).\n"
     ]
    },
    {
     "name": "stdout",
     "output_type": "stream",
     "text": [
      "23/02/24 21:30:26 WARN NativeCodeLoader: Unable to load native-hadoop library for your platform... using builtin-java classes where applicable\n",
      "23/02/24 21:30:28 WARN MetricsConfig: Cannot locate configuration: tried hadoop-metrics2-s3a-file-system.properties,hadoop-metrics2.properties\n"
     ]
    },
    {
     "data": {
      "text/html": [
       "\n",
       "            <div>\n",
       "                <p><b>SparkSession - hive</b></p>\n",
       "                \n",
       "        <div>\n",
       "            <p><b>SparkContext</b></p>\n",
       "\n",
       "            <p><a href=\"http://0accd338dbc2:4040\">Spark UI</a></p>\n",
       "\n",
       "            <dl>\n",
       "              <dt>Version</dt>\n",
       "                <dd><code>v3.3.2</code></dd>\n",
       "              <dt>Master</dt>\n",
       "                <dd><code>spark://spark-master:7077</code></dd>\n",
       "              <dt>AppName</dt>\n",
       "                <dd><code>Criando tabela raw de pokemons</code></dd>\n",
       "            </dl>\n",
       "        </div>\n",
       "        \n",
       "            </div>\n",
       "        "
      ],
      "text/plain": [
       "<pyspark.sql.session.SparkSession at 0x7fd6e0be85e0>"
      ]
     },
     "execution_count": 5,
     "metadata": {},
     "output_type": "execute_result"
    }
   ],
   "source": [
    "if 'spark' in locals() or 'spark' in globals():\n",
    "    spark.stop()\n",
    "\n",
    "spark = SparkSession\\\n",
    "    .builder\\\n",
    "    .appName(\"Criando tabela raw de pokemons\")\\\n",
    "    .getOrCreate()\n",
    "\n",
    "spark"
   ]
  },
  {
   "cell_type": "code",
   "execution_count": 6,
   "id": "c09b417f-8101-491c-969a-c8d4da8a7797",
   "metadata": {
    "tags": []
   },
   "outputs": [
    {
     "name": "stderr",
     "output_type": "stream",
     "text": [
      "                                                                                \r"
     ]
    },
    {
     "name": "stdout",
     "output_type": "stream",
     "text": [
      "+--------------------+---------------+--------------------+--------------------+------+--------------------+---+----------+------------------------+--------------------+----------+-----+--------------------+--------------------+--------------------+--------------------+--------------------+------+\n",
      "|           abilities|base_experience|               forms|        game_indices|height|          held_items| id|is_default|location_area_encounters|               moves|      name|order|          past_types|             species|             sprites|               stats|               types|weight|\n",
      "+--------------------+---------------+--------------------+--------------------+------+--------------------+---+----------+------------------------+--------------------+----------+-----+--------------------+--------------------+--------------------+--------------------+--------------------+------+\n",
      "|[{{synchronize, h...|            300|[{mew, https://po...|[{21, {red, https...|     4|[{{lum-berry, htt...|151|      true|    https://pokeapi.c...|[{{pound, https:/...|       mew|  248|                  []|{mew, https://pok...|{https://raw.gith...|[{100, 3, {hp, ht...|[{1, {psychic, ht...|    40|\n",
      "|[{{pressure, http...|            340|[{mewtwo, https:/...|[{131, {red, http...|    20|                  []|150|      true|    https://pokeapi.c...|[{{mega-punch, ht...|    mewtwo|  245|                  []|{mewtwo, https://...|{https://raw.gith...|[{106, 0, {hp, ht...|[{1, {psychic, ht...|  1220|\n",
      "|[{{natural-cure, ...|            395|[{chansey, https:...|[{40, {red, https...|    11|[{{oval-stone, ht...|113|      true|    https://pokeapi.c...|[{{pound, https:/...|   chansey|  180|                  []|{chansey, https:/...|{https://raw.gith...|[{250, 2, {hp, ht...|[{1, {normal, htt...|   346|\n",
      "|[{{inner-focus, h...|            300|[{dragonite, http...|[{66, {red, https...|    22|[{{dragon-scale, ...|149|      true|    https://pokeapi.c...|[{{mega-punch, ht...| dragonite|  244|                  []|{dragonite, https...|{https://raw.gith...|[{91, 0, {hp, htt...|[{1, {dragon, htt...|  2100|\n",
      "|[{{soundproof, ht...|            161|[{mr-mime, https:...|[{42, {red, https...|    13|[{{leppa-berry, h...|122|      true|    https://pokeapi.c...|[{{pound, https:/...|   mr-mime|  194|[{{generation-v, ...|{mr-mime, https:/...|{https://raw.gith...|[{40, 0, {hp, htt...|[{1, {psychic, ht...|   545|\n",
      "|[{{oblivious, htt...|            172|[{slowbro, https:...|[{8, {red, https:...|    16|[{{kings-rock, ht...| 80|      true|    https://pokeapi.c...|[{{mega-punch, ht...|   slowbro|  127|                  []|{slowbro, https:/...|{https://raw.gith...|[{95, 0, {hp, htt...|[{1, {water, http...|   785|\n",
      "|[{{early-bird, ht...|            172|[{kangaskhan, htt...|[{2, {red, https:...|    22|                  []|115|      true|    https://pokeapi.c...|[{{pound, https:/...|kangaskhan|  184|                  []|{kangaskhan, http...|{https://raw.gith...|[{105, 2, {hp, ht...|[{1, {normal, htt...|   800|\n",
      "|[{{cute-charm, ht...|            113|[{clefairy, https...|[{4, {red, https:...|     6|[{{moon-stone, ht...| 35|      true|    https://pokeapi.c...|[{{pound, https:/...|  clefairy|   64|[{{generation-v, ...|{clefairy, https:...|{https://raw.gith...|[{70, 2, {hp, htt...|[{1, {fairy, http...|    75|\n",
      "|[{{immunity, http...|            189|[{snorlax, https:...|[{132, {red, http...|    21|[{{chesto-berry, ...|143|      true|    https://pokeapi.c...|[{{mega-punch, ht...|   snorlax|  235|                  []|{snorlax, https:/...|{https://raw.gith...|[{160, 2, {hp, ht...|[{1, {normal, htt...|  4600|\n",
      "|[{{cute-charm, ht...|             95|[{jigglypuff, htt...|[{100, {red, http...|     5|[{{moon-stone, ht...| 39|      true|    https://pokeapi.c...|[{{pound, https:/...|jigglypuff|   71|[{{generation-v, ...|{jigglypuff, http...|{https://raw.gith...|[{115, 2, {hp, ht...|[{1, {normal, htt...|    55|\n",
      "|[{{lightning-rod,...|            170|[{rhydon, https:/...|[{1, {red, https:...|    19|                  []|112|      true|    https://pokeapi.c...|[{{mega-punch, ht...|    rhydon|  177|                  []|{rhydon, https://...|{https://raw.gith...|[{105, 0, {hp, ht...|[{1, {ground, htt...|  1200|\n",
      "|[{{own-tempo, htt...|             77|[{lickitung, http...|[{11, {red, https...|    12|[{{lagging-tail, ...|108|      true|    https://pokeapi.c...|[{{mega-punch, ht...| lickitung|  171|                  []|{lickitung, https...|{https://raw.gith...|[{90, 2, {hp, htt...|[{1, {normal, htt...|   655|\n",
      "|[{{oblivious, htt...|             63|[{slowpoke, https...|[{37, {red, https...|    12|[{{kings-rock, ht...| 79|      true|    https://pokeapi.c...|[{{pay-day, https...|  slowpoke|  125|                  []|{slowpoke, https:...|{https://raw.gith...|[{90, 1, {hp, htt...|[{1, {water, http...|   360|\n",
      "|[{{blaze, https:/...|            267|[{charizard, http...|[{180, {red, http...|    17|                  []|  6|      true|    https://pokeapi.c...|[{{mega-punch, ht...| charizard|    7|                  []|{charizard, https...|{https://raw.gith...|[{78, 0, {hp, htt...|[{1, {fire, https...|   905|\n",
      "|[{{cursed-body, h...|            250|[{gengar, https:/...|[{14, {red, https...|    15|[{{spell-tag, htt...| 94|      true|    https://pokeapi.c...|[{{mega-punch, ht...|    gengar|  149|                  []|{gengar, https://...|{https://raw.gith...|[{60, 0, {hp, htt...|[{1, {ghost, http...|   405|\n",
      "|[{{poison-point, ...|            253|[{nidoqueen, http...|[{16, {red, https...|    13|                  []| 31|      true|    https://pokeapi.c...|[{{mega-punch, ht...| nidoqueen|   59|                  []|{nidoqueen, https...|{https://raw.gith...|[{90, 3, {hp, htt...|[{1, {poison, htt...|   600|\n",
      "|[{{poison-point, ...|            253|[{nidoking, https...|[{7, {red, https:...|    14|                  []| 34|      true|    https://pokeapi.c...|[{{mega-punch, ht...|  nidoking|   62|                  []|{nidoking, https:...|{https://raw.gith...|[{81, 0, {hp, htt...|[{1, {poison, htt...|   620|\n",
      "|[{{vital-spirit, ...|             61|[{mankey, https:/...|[{57, {red, https...|     5|[{{payapa-berry, ...| 56|      true|    https://pokeapi.c...|[{{karate-chop, h...|    mankey|   95|                  []|{mankey, https://...|{https://raw.gith...|[{40, 0, {hp, htt...|[{1, {fighting, h...|   280|\n",
      "|[{{cute-charm, ht...|            218|[{wigglytuff, htt...|[{101, {red, http...|    10|[{{moon-stone, ht...| 40|      true|    https://pokeapi.c...|[{{pound, https:/...|wigglytuff|   72|[{{generation-v, ...|{wigglytuff, http...|{https://raw.gith...|[{140, 3, {hp, ht...|[{1, {normal, htt...|   120|\n",
      "|[{{damp, https://...|             64|[{psyduck, https:...|[{47, {red, https...|     8|                  []| 54|      true|    https://pokeapi.c...|[{{mega-punch, ht...|   psyduck|   93|                  []|{psyduck, https:/...|{https://raw.gith...|[{50, 0, {hp, htt...|[{1, {water, http...|   196|\n",
      "+--------------------+---------------+--------------------+--------------------+------+--------------------+---+----------+------------------------+--------------------+----------+-----+--------------------+--------------------+--------------------+--------------------+--------------------+------+\n",
      "only showing top 20 rows\n",
      "\n"
     ]
    }
   ],
   "source": [
    "df = spark.read.json(\"s3a://datalake/raw/pokemon/*.json\")\n",
    "df.show()"
   ]
  },
  {
   "cell_type": "code",
   "execution_count": 17,
   "id": "3fc32330-c166-4545-9703-045b30f1daab",
   "metadata": {
    "tags": []
   },
   "outputs": [
    {
     "name": "stdout",
     "output_type": "stream",
     "text": [
      "23/02/24 21:49:06 WARN HiveConf: HiveConf of name hive.stats.jdbc.timeout does not exist\n",
      "23/02/24 21:49:06 WARN HiveConf: HiveConf of name hive.stats.retries.wait does not exist\n",
      "23/02/24 21:49:08 WARN ObjectStore: Failed to get database pokeapi, returning NoSuchObjectException\n",
      "23/02/24 21:49:08 WARN ObjectStore: Failed to get database pokeapi, returning NoSuchObjectException\n",
      "23/02/24 21:49:08 WARN ObjectStore: Failed to get database global_temp, returning NoSuchObjectException\n",
      "23/02/24 21:49:08 WARN ObjectStore: Failed to get database pokeapi, returning NoSuchObjectException\n"
     ]
    },
    {
     "data": {
      "text/plain": [
       "DataFrame[]"
      ]
     },
     "execution_count": 17,
     "metadata": {},
     "output_type": "execute_result"
    }
   ],
   "source": [
    "spark.sql(\"CREATE DATABASE IF NOT EXISTS pokeapi\")"
   ]
  },
  {
   "cell_type": "code",
   "execution_count": 18,
   "id": "ba7f4b6e-bc5f-4004-8aec-53ac78b151e7",
   "metadata": {
    "tags": []
   },
   "outputs": [
    {
     "name": "stderr",
     "output_type": "stream",
     "text": [
      "                                                                                \r"
     ]
    },
    {
     "name": "stdout",
     "output_type": "stream",
     "text": [
      "23/02/24 21:49:28 WARN HiveExternalCatalog: Could not persist `pokeapi`.`tbl_bronze_pokemon` in a Hive compatible way. Persisting it into Hive metastore in Spark SQL specific format.\n",
      "org.apache.spark.SparkException: Cannot recognize hive type string: struct<back_default:string,back_female:string,back_shiny:string,back_shiny_female:string,front_default:string,front_female:string,front_shiny:string,front_shiny_female:string,other:struct<dream_world:struct<front_default:string,front_female:string>,home:struct<front_default:string,front_female:string,front_shiny:string,front_shiny_female:string>,official-artwork:struct<front_default:string,front_shiny:string>>,versions:struct<generation-i:struct<red-blue:struct<back_default:string,back_gray:string,back_transparent:string,front_default:string,front_gray:string,front_transparent:string>,yellow:struct<back_default:string,back_gray:string,back_transparent:string,front_default:string,front_gray:string,front_transparent:string>>,generation-ii:struct<crystal:struct<back_default:string,back_shiny:string,back_shiny_transparent:string,back_transparent:string,front_default:string,front_shiny:string,front_shiny_transparent:string,front_transparent:string>,gold:struct<back_default:string,back_shiny:string,front_default:string,front_shiny:string,front_transparent:string>,silver:struct<back_default:string,back_shiny:string,front_default:string,front_shiny:string,front_transparent:string>>,generation-iii:struct<emerald:struct<front_default:string,front_shiny:string>,firered-leafgreen:struct<back_default:string,back_shiny:string,front_default:string,front_shiny:string>,ruby-sapphire:struct<back_default:string,back_shiny:string,front_default:string,front_shiny:string>>,generation-iv:struct<diamond-pearl:struct<back_default:string,back_female:string,back_shiny:string,back_shiny_female:string,front_default:string,front_female:string,front_shiny:string,front_shiny_female:string>,heartgold-soulsilver:struct<back_default:string,back_female:string,back_shiny:string,back_shiny_female:string,front_default:string,front_female:string,front_shiny:string,front_shiny_female:string>,platinum:struct<back_default:string,back_female:string,back_shiny:string,back_shiny_female:string,front_default:string,front_female:string,front_shiny:string,front_shiny_female:string>>,generation-v:struct<black-white:struct<animated:struct<back_default:string,back_female:string,back_shiny:string,back_shiny_female:string,front_default:string,front_female:string,front_shiny:string,front_shiny_female:string>,back_default:string,back_female:string,back_shiny:string,back_shiny_female:string,front_default:string,front_female:string,front_shiny:string,front_shiny_female:string>>,generation-vi:struct<omegaruby-alphasapphire:struct<front_default:string,front_female:string,front_shiny:string,front_shiny_female:string>,x-y:struct<front_default:string,front_female:string,front_shiny:string,front_shiny_female:string>>,generation-vii:struct<icons:struct<front_default:string,front_female:string>,ultra-sun-ultra-moon:struct<front_default:string,front_female:string,front_shiny:string,front_shiny_female:string>>,generation-viii:struct<icons:struct<front_default:string,front_female:string>>>>, column: sprites\n",
      "\tat org.apache.spark.sql.errors.QueryExecutionErrors$.cannotRecognizeHiveTypeError(QueryExecutionErrors.scala:1473)\n",
      "\tat org.apache.spark.sql.hive.client.HiveClientImpl$.getSparkSQLDataType(HiveClientImpl.scala:1039)\n",
      "\tat org.apache.spark.sql.hive.client.HiveClientImpl$.$anonfun$verifyColumnDataType$1(HiveClientImpl.scala:1054)\n",
      "\tat scala.collection.Iterator.foreach(Iterator.scala:943)\n",
      "\tat scala.collection.Iterator.foreach$(Iterator.scala:943)\n",
      "\tat scala.collection.AbstractIterator.foreach(Iterator.scala:1431)\n",
      "\tat scala.collection.IterableLike.foreach(IterableLike.scala:74)\n",
      "\tat scala.collection.IterableLike.foreach$(IterableLike.scala:73)\n",
      "\tat org.apache.spark.sql.types.StructType.foreach(StructType.scala:102)\n",
      "\tat org.apache.spark.sql.hive.client.HiveClientImpl$.org$apache$spark$sql$hive$client$HiveClientImpl$$verifyColumnDataType(HiveClientImpl.scala:1054)\n",
      "\tat org.apache.spark.sql.hive.client.HiveClientImpl.$anonfun$createTable$1(HiveClientImpl.scala:564)\n",
      "\tat scala.runtime.java8.JFunction0$mcV$sp.apply(JFunction0$mcV$sp.java:23)\n",
      "\tat org.apache.spark.sql.hive.client.HiveClientImpl.$anonfun$withHiveState$1(HiveClientImpl.scala:298)\n",
      "\tat org.apache.spark.sql.hive.client.HiveClientImpl.liftedTree1$1(HiveClientImpl.scala:229)\n",
      "\tat org.apache.spark.sql.hive.client.HiveClientImpl.retryLocked(HiveClientImpl.scala:228)\n",
      "\tat org.apache.spark.sql.hive.client.HiveClientImpl.withHiveState(HiveClientImpl.scala:278)\n",
      "\tat org.apache.spark.sql.hive.client.HiveClientImpl.createTable(HiveClientImpl.scala:563)\n",
      "\tat org.apache.spark.sql.hive.HiveExternalCatalog.saveTableIntoHive(HiveExternalCatalog.scala:515)\n",
      "\tat org.apache.spark.sql.hive.HiveExternalCatalog.createDataSourceTable(HiveExternalCatalog.scala:404)\n",
      "\tat org.apache.spark.sql.hive.HiveExternalCatalog.$anonfun$createTable$1(HiveExternalCatalog.scala:273)\n",
      "\tat scala.runtime.java8.JFunction0$mcV$sp.apply(JFunction0$mcV$sp.java:23)\n",
      "\tat org.apache.spark.sql.hive.HiveExternalCatalog.withClient(HiveExternalCatalog.scala:101)\n",
      "\tat org.apache.spark.sql.hive.HiveExternalCatalog.createTable(HiveExternalCatalog.scala:244)\n",
      "\tat org.apache.spark.sql.catalyst.catalog.ExternalCatalogWithListener.createTable(ExternalCatalogWithListener.scala:94)\n",
      "\tat org.apache.spark.sql.catalyst.catalog.SessionCatalog.createTable(SessionCatalog.scala:373)\n",
      "\tat org.apache.spark.sql.execution.command.CreateDataSourceTableAsSelectCommand.run(createDataSourceTables.scala:191)\n",
      "\tat org.apache.spark.sql.execution.command.DataWritingCommandExec.sideEffectResult$lzycompute(commands.scala:113)\n",
      "\tat org.apache.spark.sql.execution.command.DataWritingCommandExec.sideEffectResult(commands.scala:111)\n",
      "\tat org.apache.spark.sql.execution.command.DataWritingCommandExec.executeCollect(commands.scala:125)\n",
      "\tat org.apache.spark.sql.execution.QueryExecution$$anonfun$eagerlyExecuteCommands$1.$anonfun$applyOrElse$1(QueryExecution.scala:98)\n",
      "\tat org.apache.spark.sql.execution.SQLExecution$.$anonfun$withNewExecutionId$6(SQLExecution.scala:109)\n",
      "\tat org.apache.spark.sql.execution.SQLExecution$.withSQLConfPropagated(SQLExecution.scala:169)\n",
      "\tat org.apache.spark.sql.execution.SQLExecution$.$anonfun$withNewExecutionId$1(SQLExecution.scala:95)\n",
      "\tat org.apache.spark.sql.SparkSession.withActive(SparkSession.scala:779)\n",
      "\tat org.apache.spark.sql.execution.SQLExecution$.withNewExecutionId(SQLExecution.scala:64)\n",
      "\tat org.apache.spark.sql.execution.QueryExecution$$anonfun$eagerlyExecuteCommands$1.applyOrElse(QueryExecution.scala:98)\n",
      "\tat org.apache.spark.sql.execution.QueryExecution$$anonfun$eagerlyExecuteCommands$1.applyOrElse(QueryExecution.scala:94)\n",
      "\tat org.apache.spark.sql.catalyst.trees.TreeNode.$anonfun$transformDownWithPruning$1(TreeNode.scala:584)\n",
      "\tat org.apache.spark.sql.catalyst.trees.CurrentOrigin$.withOrigin(TreeNode.scala:176)\n",
      "\tat org.apache.spark.sql.catalyst.trees.TreeNode.transformDownWithPruning(TreeNode.scala:584)\n",
      "\tat org.apache.spark.sql.catalyst.plans.logical.LogicalPlan.org$apache$spark$sql$catalyst$plans$logical$AnalysisHelper$$super$transformDownWithPruning(LogicalPlan.scala:30)\n",
      "\tat org.apache.spark.sql.catalyst.plans.logical.AnalysisHelper.transformDownWithPruning(AnalysisHelper.scala:267)\n",
      "\tat org.apache.spark.sql.catalyst.plans.logical.AnalysisHelper.transformDownWithPruning$(AnalysisHelper.scala:263)\n",
      "\tat org.apache.spark.sql.catalyst.plans.logical.LogicalPlan.transformDownWithPruning(LogicalPlan.scala:30)\n",
      "\tat org.apache.spark.sql.catalyst.plans.logical.LogicalPlan.transformDownWithPruning(LogicalPlan.scala:30)\n",
      "\tat org.apache.spark.sql.catalyst.trees.TreeNode.transformDown(TreeNode.scala:560)\n",
      "\tat org.apache.spark.sql.execution.QueryExecution.eagerlyExecuteCommands(QueryExecution.scala:94)\n",
      "\tat org.apache.spark.sql.execution.QueryExecution.commandExecuted$lzycompute(QueryExecution.scala:81)\n",
      "\tat org.apache.spark.sql.execution.QueryExecution.commandExecuted(QueryExecution.scala:79)\n",
      "\tat org.apache.spark.sql.execution.QueryExecution.assertCommandExecuted(QueryExecution.scala:116)\n",
      "\tat org.apache.spark.sql.DataFrameWriter.runCommand(DataFrameWriter.scala:860)\n",
      "\tat org.apache.spark.sql.DataFrameWriter.createTable(DataFrameWriter.scala:701)\n",
      "\tat org.apache.spark.sql.DataFrameWriter.saveAsTable(DataFrameWriter.scala:679)\n",
      "\tat org.apache.spark.sql.DataFrameWriter.saveAsTable(DataFrameWriter.scala:573)\n",
      "\tat java.base/jdk.internal.reflect.NativeMethodAccessorImpl.invoke0(Native Method)\n",
      "\tat java.base/jdk.internal.reflect.NativeMethodAccessorImpl.invoke(NativeMethodAccessorImpl.java:62)\n",
      "\tat java.base/jdk.internal.reflect.DelegatingMethodAccessorImpl.invoke(DelegatingMethodAccessorImpl.java:43)\n",
      "\tat java.base/java.lang.reflect.Method.invoke(Method.java:566)\n",
      "\tat py4j.reflection.MethodInvoker.invoke(MethodInvoker.java:244)\n",
      "\tat py4j.reflection.ReflectionEngine.invoke(ReflectionEngine.java:357)\n",
      "\tat py4j.Gateway.invoke(Gateway.java:282)\n",
      "\tat py4j.commands.AbstractCommand.invokeMethod(AbstractCommand.java:132)\n",
      "\tat py4j.commands.CallCommand.execute(CallCommand.java:79)\n",
      "\tat py4j.ClientServerConnection.waitForCommands(ClientServerConnection.java:182)\n",
      "\tat py4j.ClientServerConnection.run(ClientServerConnection.java:106)\n",
      "\tat java.base/java.lang.Thread.run(Thread.java:829)\n",
      "Caused by: org.apache.spark.sql.catalyst.parser.ParseException: \n",
      "Syntax error at or near '-': extra input '-'(line 1, pos 356)\n",
      "\n",
      "== SQL ==\n",
      "struct<back_default:string,back_female:string,back_shiny:string,back_shiny_female:string,front_default:string,front_female:string,front_shiny:string,front_shiny_female:string,other:struct<dream_world:struct<front_default:string,front_female:string>,home:struct<front_default:string,front_female:string,front_shiny:string,front_shiny_female:string>,official-artwork:struct<front_default:string,front_shiny:string>>,versions:struct<generation-i:struct<red-blue:struct<back_default:string,back_gray:string,back_transparent:string,front_default:string,front_gray:string,front_transparent:string>,yellow:struct<back_default:string,back_gray:string,back_transparent:string,front_default:string,front_gray:string,front_transparent:string>>,generation-ii:struct<crystal:struct<back_default:string,back_shiny:string,back_shiny_transparent:string,back_transparent:string,front_default:string,front_shiny:string,front_shiny_transparent:string,front_transparent:string>,gold:struct<back_default:string,back_shiny:string,front_default:string,front_shiny:string,front_transparent:string>,silver:struct<back_default:string,back_shiny:string,front_default:string,front_shiny:string,front_transparent:string>>,generation-iii:struct<emerald:struct<front_default:string,front_shiny:string>,firered-leafgreen:struct<back_default:string,back_shiny:string,front_default:string,front_shiny:string>,ruby-sapphire:struct<back_default:string,back_shiny:string,front_default:string,front_shiny:string>>,generation-iv:struct<diamond-pearl:struct<back_default:string,back_female:string,back_shiny:string,back_shiny_female:string,front_default:string,front_female:string,front_shiny:string,front_shiny_female:string>,heartgold-soulsilver:struct<back_default:string,back_female:string,back_shiny:string,back_shiny_female:string,front_default:string,front_female:string,front_shiny:string,front_shiny_female:string>,platinum:struct<back_default:string,back_female:string,back_shiny:string,back_shiny_female:string,front_default:string,front_female:string,front_shiny:string,front_shiny_female:string>>,generation-v:struct<black-white:struct<animated:struct<back_default:string,back_female:string,back_shiny:string,back_shiny_female:string,front_default:string,front_female:string,front_shiny:string,front_shiny_female:string>,back_default:string,back_female:string,back_shiny:string,back_shiny_female:string,front_default:string,front_female:string,front_shiny:string,front_shiny_female:string>>,generation-vi:struct<omegaruby-alphasapphire:struct<front_default:string,front_female:string,front_shiny:string,front_shiny_female:string>,x-y:struct<front_default:string,front_female:string,front_shiny:string,front_shiny_female:string>>,generation-vii:struct<icons:struct<front_default:string,front_female:string>,ultra-sun-ultra-moon:struct<front_default:string,front_female:string,front_shiny:string,front_shiny_female:string>>,generation-viii:struct<icons:struct<front_default:string,front_female:string>>>>\n",
      "--------------------------------------------------------------------------------------------------------------------------------------------------------------------------------------------------------------------------------------------------------------------------------------------------------------------------------------------------------------------^^^\n",
      "\n",
      "\tat org.apache.spark.sql.catalyst.parser.ParseException.withCommand(ParseDriver.scala:306)\n",
      "\tat org.apache.spark.sql.catalyst.parser.AbstractSqlParser.parse(ParseDriver.scala:143)\n",
      "\tat org.apache.spark.sql.catalyst.parser.AbstractSqlParser.parseDataType(ParseDriver.scala:41)\n",
      "\tat org.apache.spark.sql.hive.client.HiveClientImpl$.getSparkSQLDataType(HiveClientImpl.scala:1036)\n",
      "\t... 64 more\n",
      "23/02/24 21:49:28 WARN SessionState: METASTORE_FILTER_HOOK will be ignored, since hive.security.authorization.manager is set to instance of HiveAuthorizerFactory.\n",
      "23/02/24 21:49:28 WARN HiveConf: HiveConf of name hive.internal.ss.authz.settings.applied.marker does not exist\n",
      "23/02/24 21:49:28 WARN HiveConf: HiveConf of name hive.stats.jdbc.timeout does not exist\n",
      "23/02/24 21:49:28 WARN HiveConf: HiveConf of name hive.stats.retries.wait does not exist\n"
     ]
    }
   ],
   "source": [
    "df.write.option(\"path\", \"s3a://datalake/bronze/pokemon/\").format('parquet').mode('overwrite').saveAsTable('pokeapi.tbl_bronze_pokemon')"
   ]
  },
  {
   "cell_type": "code",
   "execution_count": 19,
   "id": "0be44227-7cf1-49a9-8cd7-a1d5d2b61a1f",
   "metadata": {
    "tags": []
   },
   "outputs": [
    {
     "data": {
      "text/plain": [
       "[Table(name='tb_sales_final', database='default', description=None, tableType='MANAGED', isTemporary=False),\n",
       " Table(name='tb_sales_test', database='default', description=None, tableType='MANAGED', isTemporary=False)]"
      ]
     },
     "execution_count": 19,
     "metadata": {},
     "output_type": "execute_result"
    }
   ],
   "source": [
    "spark.catalog.listTables()"
   ]
  },
  {
   "cell_type": "code",
   "execution_count": null,
   "id": "38745101-0a01-4f2f-a764-b66575c1f977",
   "metadata": {},
   "outputs": [],
   "source": []
  }
 ],
 "metadata": {
  "kernelspec": {
   "display_name": "Python 3 (ipykernel)",
   "language": "python",
   "name": "python3"
  },
  "language_info": {
   "codemirror_mode": {
    "name": "ipython",
    "version": 3
   },
   "file_extension": ".py",
   "mimetype": "text/x-python",
   "name": "python",
   "nbconvert_exporter": "python",
   "pygments_lexer": "ipython3",
   "version": "3.10.7"
  }
 },
 "nbformat": 4,
 "nbformat_minor": 5
}
