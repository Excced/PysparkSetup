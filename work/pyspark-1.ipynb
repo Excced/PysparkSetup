{
 "cells": [
  {
   "cell_type": "code",
   "execution_count": 7,
   "id": "b78e6c37-df40-4e13-9d48-14f58d87d774",
   "metadata": {},
   "outputs": [
    {
     "name": "stdout",
     "output_type": "stream",
     "text": [
      "23/03/27 21:31:18 INFO SparkUI: Stopped Spark web UI at http://4c2c4e60deae:4040\n",
      "23/03/27 21:31:18 INFO StandaloneSchedulerBackend: Shutting down all executors\n",
      "23/03/27 21:31:18 INFO CoarseGrainedSchedulerBackend$DriverEndpoint: Asking each executor to shut down\n",
      "23/03/27 21:31:18 INFO MapOutputTrackerMasterEndpoint: MapOutputTrackerMasterEndpoint stopped!\n",
      "23/03/27 21:31:18 INFO MemoryStore: MemoryStore cleared\n",
      "23/03/27 21:31:18 INFO BlockManager: BlockManager stopped\n",
      "23/03/27 21:31:18 INFO BlockManagerMaster: BlockManagerMaster stopped\n",
      "23/03/27 21:31:18 INFO OutputCommitCoordinator$OutputCommitCoordinatorEndpoint: OutputCommitCoordinator stopped!\n",
      "23/03/27 21:31:18 INFO SparkContext: Successfully stopped SparkContext\n",
      "23/03/27 21:31:18 INFO SparkContext: Running Spark version 3.3.2\n",
      "23/03/27 21:31:18 INFO ResourceUtils: ==============================================================\n",
      "23/03/27 21:31:18 INFO ResourceUtils: No custom resources configured for spark.driver.\n",
      "23/03/27 21:31:18 INFO ResourceUtils: ==============================================================\n",
      "23/03/27 21:31:18 INFO SparkContext: Submitted application: Testando Metastore 3.0.0\n",
      "23/03/27 21:31:18 INFO ResourceProfile: Default ResourceProfile created, executor resources: Map(cores -> name: cores, amount: 1, script: , vendor: , memory -> name: memory, amount: 1024, script: , vendor: , offHeap -> name: offHeap, amount: 0, script: , vendor: ), task resources: Map(cpus -> name: cpus, amount: 1.0)\n",
      "23/03/27 21:31:18 INFO ResourceProfile: Limiting resource is cpu\n",
      "23/03/27 21:31:18 INFO ResourceProfileManager: Added ResourceProfile id: 0\n",
      "23/03/27 21:31:18 INFO SecurityManager: Changing view acls to: root\n",
      "23/03/27 21:31:18 INFO SecurityManager: Changing modify acls to: root\n",
      "23/03/27 21:31:18 INFO SecurityManager: Changing view acls groups to: \n",
      "23/03/27 21:31:18 INFO SecurityManager: Changing modify acls groups to: \n",
      "23/03/27 21:31:18 INFO SecurityManager: SecurityManager: authentication disabled; ui acls disabled; users  with view permissions: Set(root); groups with view permissions: Set(); users  with modify permissions: Set(root); groups with modify permissions: Set()\n",
      "23/03/27 21:31:18 INFO Utils: Successfully started service 'sparkDriver' on port 44707.\n",
      "23/03/27 21:31:18 INFO SparkEnv: Registering MapOutputTracker\n",
      "23/03/27 21:31:18 INFO SparkEnv: Registering BlockManagerMaster\n",
      "23/03/27 21:31:18 INFO BlockManagerMasterEndpoint: Using org.apache.spark.storage.DefaultTopologyMapper for getting topology information\n",
      "23/03/27 21:31:18 INFO BlockManagerMasterEndpoint: BlockManagerMasterEndpoint up\n",
      "23/03/27 21:31:18 INFO SparkEnv: Registering BlockManagerMasterHeartbeat\n",
      "23/03/27 21:31:18 INFO DiskBlockManager: Created local directory at /tmp/blockmgr-0b904b2f-69f4-4c7d-8c6e-4fe39d6821aa\n",
      "23/03/27 21:31:18 INFO MemoryStore: MemoryStore started with capacity 434.4 MiB\n",
      "23/03/27 21:31:18 INFO SparkEnv: Registering OutputCommitCoordinator\n",
      "23/03/27 21:31:18 INFO Utils: Successfully started service 'SparkUI' on port 4040.\n",
      "23/03/27 21:31:18 INFO StandaloneAppClient$ClientEndpoint: Connecting to master spark://spark-master:7077...\n",
      "23/03/27 21:31:18 INFO TransportClientFactory: Successfully created connection to spark-master/172.22.0.5:7077 after 1 ms (0 ms spent in bootstraps)\n",
      "23/03/27 21:31:18 INFO StandaloneSchedulerBackend: Connected to Spark cluster with app ID app-20230327213118-0002\n",
      "23/03/27 21:31:18 INFO StandaloneAppClient$ClientEndpoint: Executor added: app-20230327213118-0002/0 on worker-20230327212412-172.22.0.8-45319 (172.22.0.8:45319) with 12 core(s)\n",
      "23/03/27 21:31:18 INFO StandaloneSchedulerBackend: Granted executor ID app-20230327213118-0002/0 on hostPort 172.22.0.8:45319 with 12 core(s), 1024.0 MiB RAM\n",
      "23/03/27 21:31:18 INFO Utils: Successfully started service 'org.apache.spark.network.netty.NettyBlockTransferService' on port 44193.\n",
      "23/03/27 21:31:18 INFO NettyBlockTransferService: Server created on 4c2c4e60deae:44193\n",
      "23/03/27 21:31:18 INFO StandaloneAppClient$ClientEndpoint: Executor added: app-20230327213118-0002/1 on worker-20230327212412-172.22.0.7-35777 (172.22.0.7:35777) with 12 core(s)\n",
      "23/03/27 21:31:18 INFO BlockManager: Using org.apache.spark.storage.RandomBlockReplicationPolicy for block replication policy\n",
      "23/03/27 21:31:18 INFO StandaloneSchedulerBackend: Granted executor ID app-20230327213118-0002/1 on hostPort 172.22.0.7:35777 with 12 core(s), 1024.0 MiB RAM\n",
      "23/03/27 21:31:18 INFO BlockManagerMaster: Registering BlockManager BlockManagerId(driver, 4c2c4e60deae, 44193, None)\n",
      "23/03/27 21:31:18 INFO BlockManagerMasterEndpoint: Registering block manager 4c2c4e60deae:44193 with 434.4 MiB RAM, BlockManagerId(driver, 4c2c4e60deae, 44193, None)\n",
      "23/03/27 21:31:18 INFO BlockManagerMaster: Registered BlockManager BlockManagerId(driver, 4c2c4e60deae, 44193, None)\n",
      "23/03/27 21:31:18 INFO BlockManager: Initialized BlockManager: BlockManagerId(driver, 4c2c4e60deae, 44193, None)\n",
      "23/03/27 21:31:18 INFO StandaloneSchedulerBackend: SchedulerBackend is ready for scheduling beginning after reached minRegisteredResourcesRatio: 0.0\n",
      "23/03/27 21:31:18 INFO StandaloneAppClient$ClientEndpoint: Executor updated: app-20230327213118-0002/0 is now RUNNING\n",
      "23/03/27 21:31:18 INFO StandaloneAppClient$ClientEndpoint: Executor updated: app-20230327213118-0002/1 is now RUNNING\n"
     ]
    },
    {
     "data": {
      "text/html": [
       "\n",
       "            <div>\n",
       "                <p><b>SparkSession - hive</b></p>\n",
       "                \n",
       "        <div>\n",
       "            <p><b>SparkContext</b></p>\n",
       "\n",
       "            <p><a href=\"http://4c2c4e60deae:4040\">Spark UI</a></p>\n",
       "\n",
       "            <dl>\n",
       "              <dt>Version</dt>\n",
       "                <dd><code>v3.3.2</code></dd>\n",
       "              <dt>Master</dt>\n",
       "                <dd><code>spark://spark-master:7077</code></dd>\n",
       "              <dt>AppName</dt>\n",
       "                <dd><code>Testando Metastore 3.0.0</code></dd>\n",
       "            </dl>\n",
       "        </div>\n",
       "        \n",
       "            </div>\n",
       "        "
      ],
      "text/plain": [
       "<pyspark.sql.session.SparkSession at 0x7feb3031b370>"
      ]
     },
     "execution_count": 7,
     "metadata": {},
     "output_type": "execute_result"
    }
   ],
   "source": [
    "from pyspark.sql import SparkSession\n",
    "\n",
    "if 'spark' in locals() or 'spark' in globals():\n",
    "    spark.stop()\n",
    "# /usr/local/lib/python3.10/dist-packages/pyspark/jars\n",
    "spark = SparkSession\\\n",
    "    .builder\\\n",
    "    .appName(\"Testando Metastore 3.0.0\")\\\n",
    "    .config(\"spark.sql.hive.metastore.jars\", \"/usr/local/lib/python3.10/dist-packages/pyspark/jars/*\")\\\n",
    "    .enableHiveSupport()\\\n",
    "    .getOrCreate()\n",
    "    \n",
    "spark.sparkContext.setLogLevel(\"WARN\")\n",
    "spark"
   ]
  },
  {
   "cell_type": "code",
   "execution_count": 8,
   "id": "05215d7c",
   "metadata": {},
   "outputs": [
    {
     "name": "stdout",
     "output_type": "stream",
     "text": [
      "+---------+\n",
      "|namespace|\n",
      "+---------+\n",
      "|  default|\n",
      "+---------+\n",
      "\n"
     ]
    }
   ],
   "source": [
    "spark.sql(\"SHOW DATABASES\").show()"
   ]
  },
  {
   "cell_type": "code",
   "execution_count": 11,
   "id": "e86a9f9b",
   "metadata": {},
   "outputs": [
    {
     "name": "stdout",
     "output_type": "stream",
     "text": [
      "+--------------+\n",
      "|     namespace|\n",
      "+--------------+\n",
      "|       default|\n",
      "|new_pyspark_db|\n",
      "+--------------+\n",
      "\n"
     ]
    }
   ],
   "source": [
    "spark.sql(\"CREATE DATABASE if not exists new_pyspark_db\")\n",
    "spark.sql(\"SHOW DATABASES\").show()"
   ]
  },
  {
   "cell_type": "code",
   "execution_count": 12,
   "id": "e82afe76",
   "metadata": {},
   "outputs": [
    {
     "name": "stdout",
     "output_type": "stream",
     "text": [
      "+---------+\n",
      "|namespace|\n",
      "+---------+\n",
      "|  default|\n",
      "+---------+\n",
      "\n"
     ]
    }
   ],
   "source": [
    "spark.sql(\"DROP DATABASE new_pyspark_db\")\n",
    "spark.sql(\"SHOW DATABASES\").show()"
   ]
  },
  {
   "cell_type": "code",
   "execution_count": 14,
   "id": "65bcddb8",
   "metadata": {},
   "outputs": [],
   "source": [
    "spark.stop()"
   ]
  },
  {
   "cell_type": "code",
   "execution_count": null,
   "id": "749a0ed9",
   "metadata": {},
   "outputs": [],
   "source": []
  }
 ],
 "metadata": {
  "kernelspec": {
   "display_name": "Python 3 (ipykernel)",
   "language": "python",
   "name": "python3"
  },
  "language_info": {
   "codemirror_mode": {
    "name": "ipython",
    "version": 3
   },
   "file_extension": ".py",
   "mimetype": "text/x-python",
   "name": "python",
   "nbconvert_exporter": "python",
   "pygments_lexer": "ipython3",
   "version": "3.10.7"
  }
 },
 "nbformat": 4,
 "nbformat_minor": 5
}
