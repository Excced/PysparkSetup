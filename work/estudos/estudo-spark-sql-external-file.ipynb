{
 "cells": [
  {
   "cell_type": "code",
   "execution_count": 3,
   "id": "fbcb2802-f56b-4077-92cf-8fee0dbef936",
   "metadata": {
    "tags": []
   },
   "outputs": [
    {
     "name": "stderr",
     "output_type": "stream",
     "text": [
      "Setting default log level to \"WARN\".\n",
      "To adjust logging level use sc.setLogLevel(newLevel). For SparkR, use setLogLevel(newLevel).\n"
     ]
    },
    {
     "name": "stdout",
     "output_type": "stream",
     "text": [
      "23/05/19 18:02:32 WARN NativeCodeLoader: Unable to load native-hadoop library for your platform... using builtin-java classes where applicable\n"
     ]
    },
    {
     "data": {
      "text/html": [
       "\n",
       "            <div>\n",
       "                <p><b>SparkSession - hive</b></p>\n",
       "                \n",
       "        <div>\n",
       "            <p><b>SparkContext</b></p>\n",
       "\n",
       "            <p><a href=\"http://d5c28177bfc8:4040\">Spark UI</a></p>\n",
       "\n",
       "            <dl>\n",
       "              <dt>Version</dt>\n",
       "                <dd><code>v3.3.2</code></dd>\n",
       "              <dt>Master</dt>\n",
       "                <dd><code>spark://spark-master:7077</code></dd>\n",
       "              <dt>AppName</dt>\n",
       "                <dd><code>Testando</code></dd>\n",
       "            </dl>\n",
       "        </div>\n",
       "        \n",
       "            </div>\n",
       "        "
      ],
      "text/plain": [
       "<pyspark.sql.session.SparkSession at 0x7f6bff31ad40>"
      ]
     },
     "execution_count": 3,
     "metadata": {},
     "output_type": "execute_result"
    }
   ],
   "source": [
    "from pyspark.sql import SparkSession\n",
    "from pyspark.sql.types import *\n",
    "\n",
    "if 'spark' in locals() or 'spark' in globals():\n",
    "    spark.stop()\n",
    "    \n",
    "spark = SparkSession\\\n",
    "    .builder\\\n",
    "    .appName(\"Testando\")\\\n",
    "    .getOrCreate()\n",
    "\n",
    "spark.sparkContext.setLogLevel(\"ERROR\")\n",
    "\n",
    "spark"
   ]
  },
  {
   "cell_type": "code",
   "execution_count": 4,
   "id": "6b176091-4553-437d-abad-b15cedf4ae10",
   "metadata": {
    "tags": []
   },
   "outputs": [
    {
     "name": "stdout",
     "output_type": "stream",
     "text": [
      "The jupyterlab_sql_editor.ipython_magic.sparksql extension is already loaded. To reload it, use:\n",
      "  %reload_ext jupyterlab_sql_editor.ipython_magic.sparksql\n"
     ]
    }
   ],
   "source": [
    "%load_ext jupyterlab_sql_editor.ipython_magic.sparksql"
   ]
  },
  {
   "cell_type": "code",
   "execution_count": 5,
   "id": "1fbe241e-a329-4c21-8bf3-8ece71573939",
   "metadata": {
    "tags": []
   },
   "outputs": [
    {
     "name": "stderr",
     "output_type": "stream",
     "text": [
      "Hive Session ID = f2b0b4c3-5fdc-4e2c-b92c-bdca2dfffd58\n"
     ]
    },
    {
     "data": {
      "application/vnd.jupyter.widget-view+json": {
       "model_id": "cbee038040c04a1094afaff17f62d13b",
       "version_major": 2,
       "version_minor": 0
      },
      "text/plain": [
       "SparkSchemaWidget(nodes=(Node(close_icon='angle-down', close_icon_style='danger', icon='project-diagram', icon…"
      ]
     },
     "metadata": {},
     "output_type": "display_data"
    },
    {
     "data": {
      "application/vnd.jupyter.widget-view+json": {
       "model_id": "d244231852934f43bb57111e5fae060a",
       "version_major": 2,
       "version_minor": 0
      },
      "text/plain": [
       "Output()"
      ]
     },
     "metadata": {},
     "output_type": "display_data"
    },
    {
     "data": {
      "text/html": [
       "<table border='1'>\n",
       "<tr><th>namespace</th><th>tableName</th><th>isTemporary</th></tr>\n",
       "<tr><td>default</td><td>append_test_table</td><td>false</td></tr>\n",
       "<tr><td>default</td><td>exemplo</td><td>false</td></tr>\n",
       "<tr><td>default</td><td>table_stream</td><td>false</td></tr>\n",
       "<tr><td>default</td><td>tb_sales_final</td><td>false</td></tr>\n",
       "<tr><td>default</td><td>tb_sales_test</td><td>false</td></tr>\n",
       "</table>\n"
      ],
      "text/plain": [
       "<IPython.core.display.HTML object>"
      ]
     },
     "metadata": {},
     "output_type": "display_data"
    },
    {
     "data": {
      "text/plain": [
       "Execution time: 2.12 seconds"
      ]
     },
     "metadata": {},
     "output_type": "display_data"
    }
   ],
   "source": [
    "%%sparksql\n",
    "SHOW TABLES IN DEFAULT"
   ]
  },
  {
   "cell_type": "code",
   "execution_count": 17,
   "id": "a1bcbcba-1997-40ca-a23d-75efa9f6165b",
   "metadata": {
    "tags": []
   },
   "outputs": [
    {
     "name": "stdout",
     "output_type": "stream",
     "text": [
      "+------+--------------+----------+----------+--------------+-----------+------------------+-----------+-------------+-------------+--------------+-----------+-------+---------------+---------------+------------+--------------------+-------+--------+--------+--------+----+\n",
      "|Row ID|      Order ID|Order Date| Ship Date|     Ship Mode|Customer ID|     Customer Name|    Segment|      Country|         City|         State|Postal Code| Region|     Product ID|       Category|Sub-Category|        Product Name|  Sales|Quantity|Discount|  Profit|Year|\n",
      "+------+--------------+----------+----------+--------------+-----------+------------------+-----------+-------------+-------------+--------------+-----------+-------+---------------+---------------+------------+--------------------+-------+--------+--------+--------+----+\n",
      "|    13|CA-2017-114412|2017-04-15| 4/20/2017|Standard Class|   AA-10480|      Andrew Allen|   Consumer|United States|      Concord|North Carolina|      28027|  South|OFF-PA-10002365|Office Supplies|       Paper|          Xerox 1967| 15.552|       3|     0.2|  5.4432|2017|\n",
      "|    24|US-2017-156909|2017-07-16| 7/18/2017|  Second Class|   SF-20065|   Sandra Flanagan|   Consumer|United States| Philadelphia|  Pennsylvania|      19140|   East|FUR-CH-10002774|      Furniture|      Chairs|Global Deluxe Sta...| 71.372|       2|     0.3| -1.0196|2017|\n",
      "|    35|CA-2017-107727|2017-10-19|10/23/2017|  Second Class|   MA-17560|      Matt Abelman|Home Office|United States|      Houston|         Texas|      77095|Central|OFF-PA-10000249|Office Supplies|       Paper|   Easy-staple paper| 29.472|       3|     0.2|  9.9468|2017|\n",
      "|    42|CA-2017-120999|2017-09-10| 9/15/2017|Standard Class|   LC-16930|    Linda Cazamias|  Corporate|United States|   Naperville|      Illinois|      60540|Central|TEC-PH-10004093|     Technology|      Phones|  Panasonic Kx-TS550|147.168|       4|     0.2| 16.5564|2017|\n",
      "|    44|CA-2017-139619|2017-09-19| 9/23/2017|Standard Class|   ES-14080|        Erin Smith|  Corporate|United States|    Melbourne|       Florida|      32935|  South|OFF-ST-10003282|Office Supplies|     Storage|Advantus 10-Drawe...| 95.616|       2|     0.2|  9.5616|2017|\n",
      "|    72|CA-2017-114440|2017-09-14| 9/17/2017|  Second Class|   TB-21520|   Tracy Blumstein|   Consumer|United States|      Jackson|      Michigan|      49201|Central|OFF-PA-10004675|Office Supplies|       Paper|\"Telephone Messag...|  19.05|       3|     0.0|   8.763|2017|\n",
      "|    76|US-2017-118038|2017-12-09|12/11/2017|   First Class|   KB-16600|       Ken Brennan|  Corporate|United States|      Houston|         Texas|      77041|Central|OFF-BI-10004182|Office Supplies|     Binders|     Economy Binders|  1.248|       3|     0.8| -1.9344|2017|\n",
      "|    77|US-2017-118038|2017-12-09|12/11/2017|   First Class|   KB-16600|       Ken Brennan|  Corporate|United States|      Houston|         Texas|      77041|Central|FUR-FU-10000260|      Furniture| Furnishings|\"6\"\" Cubicle Wall...|   null|    null|     3.0|     0.6|2017|\n",
      "|    78|US-2017-118038|2017-12-09|12/11/2017|   First Class|   KB-16600|       Ken Brennan|  Corporate|United States|      Houston|         Texas|      77041|Central|OFF-ST-10000615|Office Supplies|     Storage|SimpliFile Person...|  27.24|       3|     0.2|   2.724|2017|\n",
      "|    85|US-2017-119662|2017-11-13|11/16/2017|   First Class|   CS-12400|Christopher Schild|Home Office|United States|      Chicago|      Illinois|      60623|Central|OFF-ST-10003656|Office Supplies|     Storage|Safco Industrial ...|230.376|       3|     0.2|-48.9549|2017|\n",
      "|    86|CA-2017-140088|2017-05-28| 5/30/2017|  Second Class|   PO-18865| Patrick O'Donnell|   Consumer|United States|     Columbia|South Carolina|      29203|  South|FUR-CH-10000863|      Furniture|      Chairs|Novimex Swivel Fa...| 301.96|       2|     0.0| 33.2156|2017|\n",
      "|    87|CA-2017-155558|2017-10-26| 11/2/2017|Standard Class|   PG-18895|     Paul Gonzalez|   Consumer|United States|    Rochester|     Minnesota|      55901|Central|TEC-AC-10001998|     Technology| Accessories|Logitech�LS21 Spe...|  19.99|       1|     0.0|  6.7966|2017|\n",
      "|    88|CA-2017-155558|2017-10-26| 11/2/2017|Standard Class|   PG-18895|     Paul Gonzalez|   Consumer|United States|    Rochester|     Minnesota|      55901|Central|OFF-LA-10000134|Office Supplies|      Labels|           Avery 511|   6.16|       2|     0.0|  2.9568|2017|\n",
      "|    96|US-2017-109484|2017-11-06|11/12/2017|Standard Class|   RB-19705|      Roger Barcio|Home Office|United States|     Portland|        Oregon|      97206|   West|OFF-BI-10004738|Office Supplies|     Binders|Flexible Leather-...|  5.682|       1|     0.7|  -3.788|2017|\n",
      "|    97|CA-2017-161018|2017-11-09|11/11/2017|  Second Class|   PN-18775|    Parhena Norris|Home Office|United States|New York City|      New York|      10009|   East|FUR-FU-10000629|      Furniture| Furnishings|9-3/4 Diameter Ro...|  96.53|       7|     0.0| 40.5426|2017|\n",
      "|    98|CA-2017-157833|2017-06-17| 6/20/2017|   First Class|   KD-16345|  Katherine Ducich|   Consumer|United States|San Francisco|    California|      94122|   West|OFF-BI-10001721|Office Supplies|     Binders|Trimflex Flexible...| 51.312|       3|     0.2| 17.9592|2017|\n",
      "|   107|CA-2017-119004|2017-11-23|11/28/2017|Standard Class|   JM-15250|      Janet Martin|   Consumer|United States|    Charlotte|North Carolina|      28205|  South|TEC-AC-10003499|     Technology| Accessories|Memorex Mini Trav...| 74.112|       8|     0.2| 17.6016|2017|\n",
      "|   108|CA-2017-119004|2017-11-23|11/28/2017|Standard Class|   JM-15250|      Janet Martin|   Consumer|United States|    Charlotte|North Carolina|      28205|  South|TEC-PH-10002844|     Technology|      Phones|Speck Products Ca...| 27.992|       1|     0.2|  2.0994|2017|\n",
      "|   109|CA-2017-119004|2017-11-23|11/28/2017|Standard Class|   JM-15250|      Janet Martin|   Consumer|United States|    Charlotte|North Carolina|      28205|  South|OFF-AR-10000390|Office Supplies|         Art| Newell Chalk Holder|  3.304|       1|     0.2|  1.0738|2017|\n",
      "|   111|CA-2017-146780|2017-12-25|12/30/2017|Standard Class|   CV-12805|     Cynthia Voltz|  Corporate|United States|New York City|      New York|      10035|   East|FUR-FU-10001934|      Furniture| Furnishings|Magnifier Swing A...|  41.96|       2|     0.0| 10.9096|2017|\n",
      "+------+--------------+----------+----------+--------------+-----------+------------------+-----------+-------------+-------------+--------------+-----------+-------+---------------+---------------+------------+--------------------+-------+--------+--------+--------+----+\n",
      "only showing top 20 rows\n",
      "\n"
     ]
    }
   ],
   "source": [
    "with open(r'test-query.sql') as file:\n",
    "    query = file.read()\n",
    "\n",
    "    results = spark.sql(query)\n",
    "    \n",
    "results.show()"
   ]
  },
  {
   "cell_type": "code",
   "execution_count": 20,
   "id": "373c96f1-9abc-43ba-9770-3dfca188ded8",
   "metadata": {
    "tags": []
   },
   "outputs": [],
   "source": [
    "from pyspark.sql.types import *\n",
    "schema = StructType([\n",
    "  StructField('cod_mode_psst_audo', LongType(), True),\n",
    "  StructField('cod_audo_trsc', LongType(), True),\n",
    "  StructField('anomesdia', IntegerType(), True)\n",
    "  ])"
   ]
  },
  {
   "cell_type": "code",
   "execution_count": 23,
   "id": "470cef37-1efd-42e1-9e47-8572d6baf5b8",
   "metadata": {
    "tags": []
   },
   "outputs": [],
   "source": [
    "df = spark.createDataFrame(data = [], schema = schema)\n",
    "df.show()"
   ]
  }
 ],
 "metadata": {
  "kernelspec": {
   "display_name": "Python 3 (ipykernel)",
   "language": "python",
   "name": "python3"
  },
  "language_info": {
   "codemirror_mode": {
    "name": "ipython",
    "version": 3
   },
   "file_extension": ".py",
   "mimetype": "text/x-python",
   "name": "python",
   "nbconvert_exporter": "python",
   "pygments_lexer": "ipython3",
   "version": "3.10.7"
  }
 },
 "nbformat": 4,
 "nbformat_minor": 5
}
