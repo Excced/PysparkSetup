{
 "cells": [
  {
   "cell_type": "code",
   "execution_count": 36,
   "id": "d7725868-ddc9-41f9-ad78-c8050d1a9af2",
   "metadata": {},
   "outputs": [
    {
     "data": {
      "text/html": [
       "\n",
       "            <div>\n",
       "                <p><b>SparkSession - hive</b></p>\n",
       "                \n",
       "        <div>\n",
       "            <p><b>SparkContext</b></p>\n",
       "\n",
       "            <p><a href=\"http://b15d04bfbdec:4040\">Spark UI</a></p>\n",
       "\n",
       "            <dl>\n",
       "              <dt>Version</dt>\n",
       "                <dd><code>v3.3.1</code></dd>\n",
       "              <dt>Master</dt>\n",
       "                <dd><code>local[*]</code></dd>\n",
       "              <dt>AppName</dt>\n",
       "                <dd><code>Teste de Leitura e Escrita com Minio</code></dd>\n",
       "            </dl>\n",
       "        </div>\n",
       "        \n",
       "            </div>\n",
       "        "
      ],
      "text/plain": [
       "<pyspark.sql.session.SparkSession at 0x7fb2e4d890f0>"
      ]
     },
     "execution_count": 36,
     "metadata": {},
     "output_type": "execute_result"
    }
   ],
   "source": [
    "import os\n",
    "from pyspark.sql import SparkSession\n",
    "from pyspark.sql.types import StructType, StringType, DoubleType, IntegerType\n",
    "from pyspark import SparkConf, SparkContext\n",
    "\n",
    "spark = SparkSession.builder.appName(\"Teste de Leitura e Escrita com Minio\").getOrCreate()\n",
    "\n",
    "spark"
   ]
  },
  {
   "cell_type": "code",
   "execution_count": 157,
   "id": "1066094b-2e2c-495d-b50b-e9e32e739edd",
   "metadata": {},
   "outputs": [],
   "source": [
    "data = [\n",
    "    {\n",
    "    \"des_tipo_prso\":\"PROCEDIMENTO COMUM CÍVEL\",\n",
    "    \"num_docm_raiz\":\"07207996\",\n",
    "    \"num_docm_veri\": \"50\",\n",
    "    \"num_prso\": \"999878255655.2020.8.13.15478\",\n",
    "    \"risc_prso\":\"BAIXISSIMO\",\n",
    "    \"risc_prso_2\":\"1\"\n",
    "    }\n",
    "]"
   ]
  },
  {
   "cell_type": "code",
   "execution_count": 158,
   "id": "4c14948f-d070-4d89-87d6-ad6ae33ba7d5",
   "metadata": {},
   "outputs": [
    {
     "name": "stdout",
     "output_type": "stream",
     "text": [
      "+--------------------+-------------+-------------+--------------------+----------+-----------+\n",
      "|       des_tipo_prso|num_docm_raiz|num_docm_veri|            num_prso| risc_prso|risc_prso_2|\n",
      "+--------------------+-------------+-------------+--------------------+----------+-----------+\n",
      "|PROCEDIMENTO COMU...|     07207996|           50|999878255655.2020...|BAIXISSIMO|          1|\n",
      "+--------------------+-------------+-------------+--------------------+----------+-----------+\n",
      "\n"
     ]
    }
   ],
   "source": [
    "df = spark.createDataFrame(data)\n",
    "df.show()"
   ]
  },
  {
   "cell_type": "code",
   "execution_count": 159,
   "id": "6c0b719b-2ed7-42db-a384-52495956815a",
   "metadata": {},
   "outputs": [
    {
     "data": {
      "text/plain": [
       "pyspark.sql.dataframe.DataFrame"
      ]
     },
     "execution_count": 159,
     "metadata": {},
     "output_type": "execute_result"
    }
   ],
   "source": [
    "type(df)"
   ]
  },
  {
   "cell_type": "code",
   "execution_count": 160,
   "id": "e133ebfe-7ce8-488d-b706-0e3fce78d190",
   "metadata": {},
   "outputs": [],
   "source": [
    "from pyspark.sql.functions import col, lit, create_map"
   ]
  },
  {
   "cell_type": "code",
   "execution_count": 161,
   "id": "eb58859b-b519-40ed-92cc-b5443d0866e0",
   "metadata": {},
   "outputs": [
    {
     "name": "stdout",
     "output_type": "stream",
     "text": [
      "+--------------------+--------------------+----------+-----------+-----------------+\n",
      "|       des_tipo_prso|            num_prso| risc_prso|risc_prso_2|num_docm_completo|\n",
      "+--------------------+--------------------+----------+-----------+-----------------+\n",
      "|PROCEDIMENTO COMU...|999878255655.2020...|BAIXISSIMO|          1|        7208046.0|\n",
      "+--------------------+--------------------+----------+-----------+-----------------+\n",
      "\n"
     ]
    }
   ],
   "source": [
    "df = df.withColumn(\"num_docm_completo\", col(\"num_docm_raiz\") + col(\"num_docm_veri\")).drop(\"num_docm_raiz\", \"num_docm_veri\")\n",
    "\n",
    "df.show()"
   ]
  },
  {
   "cell_type": "code",
   "execution_count": 164,
   "id": "1c964c11-70d1-4840-b882-86c2cc759c77",
   "metadata": {},
   "outputs": [
    {
     "data": {
      "text/plain": [
       "['des_tipo_prso', 'num_prso']"
      ]
     },
     "execution_count": 164,
     "metadata": {},
     "output_type": "execute_result"
    }
   ],
   "source": [
    "df.drop('num_docm_completo', *['risc_prso', 'risc_prso_2']).columns"
   ]
  },
  {
   "cell_type": "code",
   "execution_count": 163,
   "id": "88aa7859-2e87-4055-a4c2-ebf0453300c5",
   "metadata": {},
   "outputs": [
    {
     "data": {
      "text/plain": [
       "[Column<'des_tipo_prso'>,\n",
       " Column<'des_tipo_prso'>,\n",
       " Column<'num_prso'>,\n",
       " Column<'num_prso'>]"
      ]
     },
     "execution_count": 163,
     "metadata": {},
     "output_type": "execute_result"
    }
   ],
   "source": [
    "[f(x) for x in df.drop('num_docm_completo', *['risc_prso', 'risc_prso_2']).columns for f in (lit, col) ]"
   ]
  },
  {
   "cell_type": "code",
   "execution_count": 165,
   "id": "0b112e6e-57d5-464c-a65b-7a1083d4a795",
   "metadata": {},
   "outputs": [],
   "source": [
    "def MapBy(dataframe, map_by, map_col_name, drop_these):\n",
    "    cols_to_map = [f(x) for x in df.drop(map_by, *drop_these).columns for f in (lit, col) ]\n",
    "    result_df = df.withColumn(map_col_name, create_map(cols_to_map))\n",
    "    result_df = result_df.select([map_by, map_col_name])\n",
    "    return result_df"
   ]
  },
  {
   "cell_type": "code",
   "execution_count": 166,
   "id": "dc42b201-bb56-4bbb-85ba-c62941e5a3c8",
   "metadata": {},
   "outputs": [
    {
     "name": "stdout",
     "output_type": "stream",
     "text": [
      "+-----------------+-------------------------------------------------------------------------------------+\n",
      "|num_docm_completo|map                                                                                  |\n",
      "+-----------------+-------------------------------------------------------------------------------------+\n",
      "|7208046.0        |{des_tipo_prso -> PROCEDIMENTO COMUM CÍVEL, num_prso -> 999878255655.2020.8.13.15478}|\n",
      "+-----------------+-------------------------------------------------------------------------------------+\n",
      "\n"
     ]
    }
   ],
   "source": [
    "df = MapBy(dataframe = df, map_by = 'num_docm_completo', map_col_name = 'map', drop_these= ['risc_prso', 'risc_prso_2'])\n",
    "df.show(truncate = False)"
   ]
  },
  {
   "cell_type": "code",
   "execution_count": 144,
   "id": "d88fbb29-913e-4798-9e34-089a36dec3d0",
   "metadata": {},
   "outputs": [
    {
     "data": {
      "text/plain": [
       "[Column<'des_tipo_prso'>,\n",
       " Column<'des_tipo_prso'>,\n",
       " Column<'num_prso'>,\n",
       " Column<'num_prso'>,\n",
       " Column<'risc_prso'>,\n",
       " Column<'risc_prso'>,\n",
       " Column<'risc_prso_2'>,\n",
       " Column<'risc_prso_2'>]"
      ]
     },
     "execution_count": 144,
     "metadata": {},
     "output_type": "execute_result"
    }
   ],
   "source": [
    "\n",
    "cols_to_map = [f(x) for x in df.drop('num_docm_completo').columns for f in (lit, col) ]\n",
    "cols_to_map"
   ]
  },
  {
   "cell_type": "code",
   "execution_count": 88,
   "id": "ff888021-b33e-4236-ab3c-50f8164f5b5f",
   "metadata": {},
   "outputs": [
    {
     "name": "stdout",
     "output_type": "stream",
     "text": [
      "+--------------------+--------------------+----------+-----------+-----------------+--------------------+\n",
      "|       des_tipo_prso|            num_prso| risc_prso|risc_prso_2|num_docm_completo|      info_processos|\n",
      "+--------------------+--------------------+----------+-----------+-----------------+--------------------+\n",
      "|PROCEDIMENTO COMU...|999878255655.2020...|BAIXISSIMO|          1|        7208046.0|{des_tipo_prso ->...|\n",
      "+--------------------+--------------------+----------+-----------+-----------------+--------------------+\n",
      "\n"
     ]
    }
   ],
   "source": [
    "df = df.withColumn(\"info_processos\", create_map(cols_to_map))\n",
    "df.show()"
   ]
  },
  {
   "cell_type": "code",
   "execution_count": 78,
   "id": "bb373ccd-e118-462f-b93d-c5bf66903129",
   "metadata": {},
   "outputs": [
    {
     "data": {
      "text/plain": [
       "[Column<'des_tipo_prso'>,\n",
       " Column<'des_tipo_prso'>,\n",
       " Column<'num_prso'>,\n",
       " Column<'num_prso'>,\n",
       " Column<'risc_prso'>,\n",
       " Column<'risc_prso'>,\n",
       " Column<'risc_prso_2'>,\n",
       " Column<'risc_prso_2'>]"
      ]
     },
     "execution_count": 78,
     "metadata": {},
     "output_type": "execute_result"
    }
   ],
   "source": [
    "[\n",
    "    lit(\"des_tipo_prso\"),col(\"des_tipo_prso\"),\n",
    "    lit(\"num_prso\"),col(\"num_prso\"),\n",
    "    lit(\"risc_prso\"),col(\"risc_prso\"),\n",
    "    lit(\"risc_prso_2\"),col(\"risc_prso_2\")\n",
    "]"
   ]
  },
  {
   "cell_type": "code",
   "execution_count": 56,
   "id": "7b4fb201-466b-45b0-a071-47a44677897c",
   "metadata": {},
   "outputs": [
    {
     "ename": "TypeError",
     "evalue": "Invalid argument, not a string or column: (Column<'des_tipo_prso'>, Column<'des_tipo_prso'>) of type <class 'tuple'>. For column literals, use 'lit', 'array', 'struct' or 'create_map' function.",
     "output_type": "error",
     "traceback": [
      "\u001b[0;31m---------------------------------------------------------------------------\u001b[0m",
      "\u001b[0;31mTypeError\u001b[0m                                 Traceback (most recent call last)",
      "Cell \u001b[0;32mIn[59], line 2\u001b[0m\n\u001b[1;32m      1\u001b[0m cols_to_map \u001b[38;5;241m=\u001b[39m [(lit(x), col(x)) \u001b[38;5;28;01mfor\u001b[39;00m x \u001b[38;5;129;01min\u001b[39;00m df\u001b[38;5;241m.\u001b[39mdrop(\u001b[38;5;124m'\u001b[39m\u001b[38;5;124mnum_docm_completo\u001b[39m\u001b[38;5;124m'\u001b[39m)\u001b[38;5;241m.\u001b[39mcolumns]\n\u001b[0;32m----> 2\u001b[0m df \u001b[38;5;241m=\u001b[39m df\u001b[38;5;241m.\u001b[39mwithColumn(\u001b[38;5;124m\"\u001b[39m\u001b[38;5;124minfo_processos\u001b[39m\u001b[38;5;124m\"\u001b[39m, \u001b[43mcreate_map\u001b[49m\u001b[43m(\u001b[49m\u001b[43mcols_to_map\u001b[49m\u001b[43m)\u001b[49m)\n\u001b[1;32m      3\u001b[0m df\u001b[38;5;241m.\u001b[39mshow()\n",
      "File \u001b[0;32m/usr/local/spark/python/pyspark/sql/functions.py:3451\u001b[0m, in \u001b[0;36mcreate_map\u001b[0;34m(*cols)\u001b[0m\n\u001b[1;32m   3449\u001b[0m \u001b[38;5;28;01mif\u001b[39;00m \u001b[38;5;28mlen\u001b[39m(cols) \u001b[38;5;241m==\u001b[39m \u001b[38;5;241m1\u001b[39m \u001b[38;5;129;01mand\u001b[39;00m \u001b[38;5;28misinstance\u001b[39m(cols[\u001b[38;5;241m0\u001b[39m], (\u001b[38;5;28mlist\u001b[39m, \u001b[38;5;28mset\u001b[39m)):\n\u001b[1;32m   3450\u001b[0m     cols \u001b[38;5;241m=\u001b[39m cols[\u001b[38;5;241m0\u001b[39m]  \u001b[38;5;66;03m# type: ignore[assignment]\u001b[39;00m\n\u001b[0;32m-> 3451\u001b[0m \u001b[38;5;28;01mreturn\u001b[39;00m \u001b[43m_invoke_function_over_seq_of_columns\u001b[49m\u001b[43m(\u001b[49m\u001b[38;5;124;43m\"\u001b[39;49m\u001b[38;5;124;43mmap\u001b[39;49m\u001b[38;5;124;43m\"\u001b[39;49m\u001b[43m,\u001b[49m\u001b[43m \u001b[49m\u001b[43mcols\u001b[49m\u001b[43m)\u001b[49m\n",
      "File \u001b[0;32m/usr/local/spark/python/pyspark/sql/functions.py:103\u001b[0m, in \u001b[0;36m_invoke_function_over_seq_of_columns\u001b[0;34m(name, cols)\u001b[0m\n\u001b[1;32m    101\u001b[0m sc \u001b[38;5;241m=\u001b[39m SparkContext\u001b[38;5;241m.\u001b[39m_active_spark_context\n\u001b[1;32m    102\u001b[0m \u001b[38;5;28;01massert\u001b[39;00m sc \u001b[38;5;129;01mis\u001b[39;00m \u001b[38;5;129;01mnot\u001b[39;00m \u001b[38;5;28;01mNone\u001b[39;00m \u001b[38;5;129;01mand\u001b[39;00m sc\u001b[38;5;241m.\u001b[39m_jvm \u001b[38;5;129;01mis\u001b[39;00m \u001b[38;5;129;01mnot\u001b[39;00m \u001b[38;5;28;01mNone\u001b[39;00m\n\u001b[0;32m--> 103\u001b[0m \u001b[38;5;28;01mreturn\u001b[39;00m _invoke_function(name, \u001b[43m_to_seq\u001b[49m\u001b[43m(\u001b[49m\u001b[43msc\u001b[49m\u001b[43m,\u001b[49m\u001b[43m \u001b[49m\u001b[43mcols\u001b[49m\u001b[43m,\u001b[49m\u001b[43m \u001b[49m\u001b[43m_to_java_column\u001b[49m\u001b[43m)\u001b[49m)\n",
      "File \u001b[0;32m/usr/local/spark/python/pyspark/sql/column.py:86\u001b[0m, in \u001b[0;36m_to_seq\u001b[0;34m(sc, cols, converter)\u001b[0m\n\u001b[1;32m     79\u001b[0m \u001b[38;5;124;03m\"\"\"\u001b[39;00m\n\u001b[1;32m     80\u001b[0m \u001b[38;5;124;03mConvert a list of Column (or names) into a JVM Seq of Column.\u001b[39;00m\n\u001b[1;32m     81\u001b[0m \n\u001b[1;32m     82\u001b[0m \u001b[38;5;124;03mAn optional `converter` could be used to convert items in `cols`\u001b[39;00m\n\u001b[1;32m     83\u001b[0m \u001b[38;5;124;03minto JVM Column objects.\u001b[39;00m\n\u001b[1;32m     84\u001b[0m \u001b[38;5;124;03m\"\"\"\u001b[39;00m\n\u001b[1;32m     85\u001b[0m \u001b[38;5;28;01mif\u001b[39;00m converter:\n\u001b[0;32m---> 86\u001b[0m     cols \u001b[38;5;241m=\u001b[39m [converter(c) \u001b[38;5;28;01mfor\u001b[39;00m c \u001b[38;5;129;01min\u001b[39;00m cols]\n\u001b[1;32m     87\u001b[0m \u001b[38;5;28;01massert\u001b[39;00m sc\u001b[38;5;241m.\u001b[39m_jvm \u001b[38;5;129;01mis\u001b[39;00m \u001b[38;5;129;01mnot\u001b[39;00m \u001b[38;5;28;01mNone\u001b[39;00m\n\u001b[1;32m     88\u001b[0m \u001b[38;5;28;01mreturn\u001b[39;00m sc\u001b[38;5;241m.\u001b[39m_jvm\u001b[38;5;241m.\u001b[39mPythonUtils\u001b[38;5;241m.\u001b[39mtoSeq(cols)\n",
      "File \u001b[0;32m/usr/local/spark/python/pyspark/sql/column.py:86\u001b[0m, in \u001b[0;36m<listcomp>\u001b[0;34m(.0)\u001b[0m\n\u001b[1;32m     79\u001b[0m \u001b[38;5;124;03m\"\"\"\u001b[39;00m\n\u001b[1;32m     80\u001b[0m \u001b[38;5;124;03mConvert a list of Column (or names) into a JVM Seq of Column.\u001b[39;00m\n\u001b[1;32m     81\u001b[0m \n\u001b[1;32m     82\u001b[0m \u001b[38;5;124;03mAn optional `converter` could be used to convert items in `cols`\u001b[39;00m\n\u001b[1;32m     83\u001b[0m \u001b[38;5;124;03minto JVM Column objects.\u001b[39;00m\n\u001b[1;32m     84\u001b[0m \u001b[38;5;124;03m\"\"\"\u001b[39;00m\n\u001b[1;32m     85\u001b[0m \u001b[38;5;28;01mif\u001b[39;00m converter:\n\u001b[0;32m---> 86\u001b[0m     cols \u001b[38;5;241m=\u001b[39m [\u001b[43mconverter\u001b[49m\u001b[43m(\u001b[49m\u001b[43mc\u001b[49m\u001b[43m)\u001b[49m \u001b[38;5;28;01mfor\u001b[39;00m c \u001b[38;5;129;01min\u001b[39;00m cols]\n\u001b[1;32m     87\u001b[0m \u001b[38;5;28;01massert\u001b[39;00m sc\u001b[38;5;241m.\u001b[39m_jvm \u001b[38;5;129;01mis\u001b[39;00m \u001b[38;5;129;01mnot\u001b[39;00m \u001b[38;5;28;01mNone\u001b[39;00m\n\u001b[1;32m     88\u001b[0m \u001b[38;5;28;01mreturn\u001b[39;00m sc\u001b[38;5;241m.\u001b[39m_jvm\u001b[38;5;241m.\u001b[39mPythonUtils\u001b[38;5;241m.\u001b[39mtoSeq(cols)\n",
      "File \u001b[0;32m/usr/local/spark/python/pyspark/sql/column.py:65\u001b[0m, in \u001b[0;36m_to_java_column\u001b[0;34m(col)\u001b[0m\n\u001b[1;32m     63\u001b[0m     jcol \u001b[38;5;241m=\u001b[39m _create_column_from_name(col)\n\u001b[1;32m     64\u001b[0m \u001b[38;5;28;01melse\u001b[39;00m:\n\u001b[0;32m---> 65\u001b[0m     \u001b[38;5;28;01mraise\u001b[39;00m \u001b[38;5;167;01mTypeError\u001b[39;00m(\n\u001b[1;32m     66\u001b[0m         \u001b[38;5;124m\"\u001b[39m\u001b[38;5;124mInvalid argument, not a string or column: \u001b[39m\u001b[38;5;124m\"\u001b[39m\n\u001b[1;32m     67\u001b[0m         \u001b[38;5;124m\"\u001b[39m\u001b[38;5;132;01m{0}\u001b[39;00m\u001b[38;5;124m of type \u001b[39m\u001b[38;5;132;01m{1}\u001b[39;00m\u001b[38;5;124m. \u001b[39m\u001b[38;5;124m\"\u001b[39m\n\u001b[1;32m     68\u001b[0m         \u001b[38;5;124m\"\u001b[39m\u001b[38;5;124mFor column literals, use \u001b[39m\u001b[38;5;124m'\u001b[39m\u001b[38;5;124mlit\u001b[39m\u001b[38;5;124m'\u001b[39m\u001b[38;5;124m, \u001b[39m\u001b[38;5;124m'\u001b[39m\u001b[38;5;124marray\u001b[39m\u001b[38;5;124m'\u001b[39m\u001b[38;5;124m, \u001b[39m\u001b[38;5;124m'\u001b[39m\u001b[38;5;124mstruct\u001b[39m\u001b[38;5;124m'\u001b[39m\u001b[38;5;124m or \u001b[39m\u001b[38;5;124m'\u001b[39m\u001b[38;5;124mcreate_map\u001b[39m\u001b[38;5;124m'\u001b[39m\u001b[38;5;124m \u001b[39m\u001b[38;5;124m\"\u001b[39m\n\u001b[1;32m     69\u001b[0m         \u001b[38;5;124m\"\u001b[39m\u001b[38;5;124mfunction.\u001b[39m\u001b[38;5;124m\"\u001b[39m\u001b[38;5;241m.\u001b[39mformat(col, \u001b[38;5;28mtype\u001b[39m(col))\n\u001b[1;32m     70\u001b[0m     )\n\u001b[1;32m     71\u001b[0m \u001b[38;5;28;01mreturn\u001b[39;00m jcol\n",
      "\u001b[0;31mTypeError\u001b[0m: Invalid argument, not a string or column: (Column<'des_tipo_prso'>, Column<'des_tipo_prso'>) of type <class 'tuple'>. For column literals, use 'lit', 'array', 'struct' or 'create_map' function."
     ]
    }
   ],
   "source": [
    "\n",
    "df = df.withColumn(\"info_processos\", create_map([lit(\"des_tipo_prso\"),col(\"des_tipo_prso\"),\n",
    "                                           lit(\"num_prso\"),col(\"num_prso\"),\n",
    "                                          lit(\"risc_prso\"),col(\"risc_prso\"),\n",
    "                                           lit(\"risc_prso_2\"),col(\"risc_prso_2\")]\n",
    "                                          ))\n",
    "df.show()"
   ]
  },
  {
   "cell_type": "code",
   "execution_count": 33,
   "id": "70637b1d-6539-47f0-8071-cf166d85482d",
   "metadata": {},
   "outputs": [
    {
     "name": "stdout",
     "output_type": "stream",
     "text": [
      "+--------------------+--------------------+----------+-----------+-----------------+--------------------+\n",
      "|       des_tipo_prso|            num_prso| risc_prso|risc_prso_2|num_docm_completo|      info_processos|\n",
      "+--------------------+--------------------+----------+-----------+-----------------+--------------------+\n",
      "|PROCEDIMENTO COMU...|999878255655.2020...|BAIXISSIMO|          1|        7208046.0|{des_tipo_prso ->...|\n",
      "+--------------------+--------------------+----------+-----------+-----------------+--------------------+\n",
      "\n"
     ]
    }
   ],
   "source": [
    "df.show()"
   ]
  },
  {
   "cell_type": "code",
   "execution_count": 34,
   "id": "9fd13b30-0405-4907-8a7b-50a821ecd14f",
   "metadata": {},
   "outputs": [
    {
     "name": "stdout",
     "output_type": "stream",
     "text": [
      "+-----------------+--------------------------------------------------------------------------------------------------------------------------------+\n",
      "|num_docm_completo|info_processos                                                                                                                  |\n",
      "+-----------------+--------------------------------------------------------------------------------------------------------------------------------+\n",
      "|7208046.0        |{des_tipo_prso -> PROCEDIMENTO COMUM CÍVEL, num_prso -> 999878255655.2020.8.13.15478, risc_prso -> BAIXISSIMO, risc_prso_2 -> 1}|\n",
      "+-----------------+--------------------------------------------------------------------------------------------------------------------------------+\n",
      "\n"
     ]
    }
   ],
   "source": [
    "df = df.select(\"num_docm_completo\", \"info_processos\")\n",
    "df.show(truncate = False)"
   ]
  },
  {
   "cell_type": "code",
   "execution_count": 35,
   "id": "6d59ad5a-3245-4cb5-82c3-fd9ad482ce76",
   "metadata": {},
   "outputs": [
    {
     "name": "stdout",
     "output_type": "stream",
     "text": [
      "root\n",
      " |-- num_docm_completo: double (nullable = true)\n",
      " |-- info_processos: map (nullable = false)\n",
      " |    |-- key: string\n",
      " |    |-- value: string (valueContainsNull = true)\n",
      "\n"
     ]
    }
   ],
   "source": [
    "df.printSchema()"
   ]
  },
  {
   "cell_type": "code",
   "execution_count": null,
   "id": "d03aa2d8-73c4-4f13-8a1f-34fe4b631000",
   "metadata": {},
   "outputs": [],
   "source": []
  }
 ],
 "metadata": {
  "kernelspec": {
   "display_name": "Python 3 (ipykernel)",
   "language": "python",
   "name": "python3"
  },
  "language_info": {
   "codemirror_mode": {
    "name": "ipython",
    "version": 3
   },
   "file_extension": ".py",
   "mimetype": "text/x-python",
   "name": "python",
   "nbconvert_exporter": "python",
   "pygments_lexer": "ipython3",
   "version": "3.10.7"
  }
 },
 "nbformat": 4,
 "nbformat_minor": 5
}
